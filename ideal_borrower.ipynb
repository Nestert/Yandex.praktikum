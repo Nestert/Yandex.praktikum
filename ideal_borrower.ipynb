{
 "cells": [
  {
   "cell_type": "markdown",
   "metadata": {},
   "source": [
    "# Исследование надёжности заёмщиков\n",
    "\n",
    "Заказчик — кредитный отдел банка. Нужно разобраться, влияет ли семейное положение и количество детей клиента на факт погашения кредита в срок. Входные данные от банка — статистика о платёжеспособности клиентов.\n",
    "\n",
    "Результаты исследования будут учтены при построении модели **кредитного скоринга** — специальной системы, которая оценивает способность потенциального заёмщика вернуть кредит банку."
   ]
  },
  {
   "cell_type": "markdown",
   "metadata": {},
   "source": [
    "## Шаг 1. Откройте файл с данными и изучите общую информацию"
   ]
  },
  {
   "cell_type": "code",
   "execution_count": 1,
   "metadata": {},
   "outputs": [
    {
     "name": "stdout",
     "output_type": "stream",
     "text": [
      "   children  days_employed  dob_years education  education_id  \\\n",
      "0         1   -8437.673028         42    высшее             0   \n",
      "1         1   -4024.803754         36   среднее             1   \n",
      "2         0   -5623.422610         33   Среднее             1   \n",
      "3         3   -4124.747207         32   среднее             1   \n",
      "4         0  340266.072047         53   среднее             1   \n",
      "5         0    -926.185831         27    высшее             0   \n",
      "6         0   -2879.202052         43    высшее             0   \n",
      "7         0    -152.779569         50   СРЕДНЕЕ             1   \n",
      "8         2   -6929.865299         35    ВЫСШЕЕ             0   \n",
      "9         0   -2188.756445         41   среднее             1   \n",
      "\n",
      "      family_status  family_status_id gender income_type  debt   total_income  \\\n",
      "0   женат / замужем                 0      F   сотрудник     0  253875.639453   \n",
      "1   женат / замужем                 0      F   сотрудник     0  112080.014102   \n",
      "2   женат / замужем                 0      M   сотрудник     0  145885.952297   \n",
      "3   женат / замужем                 0      M   сотрудник     0  267628.550329   \n",
      "4  гражданский брак                 1      F   пенсионер     0  158616.077870   \n",
      "5  гражданский брак                 1      M   компаньон     0  255763.565419   \n",
      "6   женат / замужем                 0      F   компаньон     0  240525.971920   \n",
      "7   женат / замужем                 0      M   сотрудник     0  135823.934197   \n",
      "8  гражданский брак                 1      F   сотрудник     0   95856.832424   \n",
      "9   женат / замужем                 0      M   сотрудник     0  144425.938277   \n",
      "\n",
      "                      purpose  \n",
      "0               покупка жилья  \n",
      "1     приобретение автомобиля  \n",
      "2               покупка жилья  \n",
      "3  дополнительное образование  \n",
      "4             сыграть свадьбу  \n",
      "5               покупка жилья  \n",
      "6           операции с жильем  \n",
      "7                 образование  \n",
      "8       на проведение свадьбы  \n",
      "9     покупка жилья для семьи  \n",
      "<class 'pandas.core.frame.DataFrame'>\n",
      "RangeIndex: 21525 entries, 0 to 21524\n",
      "Data columns (total 12 columns):\n",
      "children            21525 non-null int64\n",
      "days_employed       19351 non-null float64\n",
      "dob_years           21525 non-null int64\n",
      "education           21525 non-null object\n",
      "education_id        21525 non-null int64\n",
      "family_status       21525 non-null object\n",
      "family_status_id    21525 non-null int64\n",
      "gender              21525 non-null object\n",
      "income_type         21525 non-null object\n",
      "debt                21525 non-null int64\n",
      "total_income        19351 non-null float64\n",
      "purpose             21525 non-null object\n",
      "dtypes: float64(2), int64(5), object(5)\n",
      "memory usage: 2.0+ MB\n",
      "None\n"
     ]
    },
    {
     "data": {
      "text/plain": [
       "children                                                         1201\n",
       "days_employed                                                       0\n",
       "dob_years                                                       94856\n",
       "education           среднеесреднеесреднеесреднеесреднеесреднеевысш...\n",
       "education_id                                                     1741\n",
       "family_status       гражданский бракженат / замужемНе женат / не з...\n",
       "family_status_id                                                 2120\n",
       "gender              MMFFFMFMFMFFFFFFMMMFFFFFMFFFFFFFMMFMFFMFFMFMFF...\n",
       "income_type         пенсионергосслужащийпенсионергосслужащийпенсио...\n",
       "debt                                                              170\n",
       "total_income                                                        0\n",
       "purpose             сыграть свадьбуобразованиестроительство жилой ...\n",
       "dtype: object"
      ]
     },
     "execution_count": 1,
     "metadata": {},
     "output_type": "execute_result"
    }
   ],
   "source": [
    "import pandas as pd\n",
    "\n",
    "data = pd.read_csv('/datasets/data.csv')\n",
    "\n",
    "print(data.head(10))\n",
    "#print()\n",
    "print(data.info())\n",
    "\n",
    "data[data['days_employed'].isnull()].sum()"
   ]
  },
  {
   "cell_type": "markdown",
   "metadata": {},
   "source": [
    "**Вывод**"
   ]
  },
  {
   "cell_type": "markdown",
   "metadata": {},
   "source": [
    "Пропуск в days_employed, total_income 2174 строк, что может иметь зависимость, так как days_employed это опыт в днях, а total_income - это ежемесячный заработок. и да, судя по sum у нас во всех строках нулевого опыта отсутствует заработок. Так же отрицательные значения в days_employed(Необходимо поменять). Но исходя из вопросов на которые мне следует ответить мне нужны столбцы children(количество детей), family_status(семейное положение), family_status_id(id статус семейного положения), total_income(ежемесячный доход), purpose(цель кредита), debt(имел ли задолженость)"
   ]
  },
  {
   "cell_type": "code",
   "execution_count": 2,
   "metadata": {},
   "outputs": [
    {
     "data": {
      "text/plain": [
       " 0     14149\n",
       " 1      4818\n",
       " 2      2055\n",
       " 3       330\n",
       " 20       76\n",
       "-1        47\n",
       " 4        41\n",
       " 5         9\n",
       "Name: children, dtype: int64"
      ]
     },
     "execution_count": 2,
     "metadata": {},
     "output_type": "execute_result"
    }
   ],
   "source": [
    "data['children'].value_counts()"
   ]
  },
  {
   "cell_type": "markdown",
   "metadata": {},
   "source": [
    "Отрицательные значения в children, а так же 76 людей с 20 детьми(кажется ошибка при записи)."
   ]
  },
  {
   "cell_type": "code",
   "execution_count": 3,
   "metadata": {
    "scrolled": true
   },
   "outputs": [
    {
     "data": {
      "text/plain": [
       "35    617\n",
       "40    609\n",
       "41    607\n",
       "34    603\n",
       "38    598\n",
       "42    597\n",
       "33    581\n",
       "39    573\n",
       "31    560\n",
       "36    555\n",
       "44    547\n",
       "29    545\n",
       "30    540\n",
       "48    538\n",
       "37    537\n",
       "50    514\n",
       "43    513\n",
       "32    510\n",
       "49    508\n",
       "28    503\n",
       "45    497\n",
       "27    493\n",
       "56    487\n",
       "52    484\n",
       "47    480\n",
       "54    479\n",
       "46    475\n",
       "58    461\n",
       "57    460\n",
       "53    459\n",
       "51    448\n",
       "59    444\n",
       "55    443\n",
       "26    408\n",
       "60    377\n",
       "25    357\n",
       "61    355\n",
       "62    352\n",
       "63    269\n",
       "64    265\n",
       "24    264\n",
       "23    254\n",
       "65    194\n",
       "66    183\n",
       "22    183\n",
       "67    167\n",
       "21    111\n",
       "0     101\n",
       "68     99\n",
       "69     85\n",
       "70     65\n",
       "71     58\n",
       "20     51\n",
       "72     33\n",
       "19     14\n",
       "73      8\n",
       "74      6\n",
       "75      1\n",
       "Name: dob_years, dtype: int64"
      ]
     },
     "execution_count": 3,
     "metadata": {},
     "output_type": "execute_result"
    }
   ],
   "source": [
    "data['dob_years'].value_counts().sort_values(ascending=False)"
   ]
  },
  {
   "cell_type": "markdown",
   "metadata": {},
   "source": [
    "101 людей имеют 0 лет. Исключать ли таких из списка? Пока не ясно"
   ]
  },
  {
   "cell_type": "code",
   "execution_count": 4,
   "metadata": {},
   "outputs": [
    {
     "data": {
      "text/plain": [
       "среднее                13750\n",
       "высшее                  4718\n",
       "СРЕДНЕЕ                  772\n",
       "Среднее                  711\n",
       "неоконченное высшее      668\n",
       "ВЫСШЕЕ                   274\n",
       "Высшее                   268\n",
       "начальное                250\n",
       "Неоконченное высшее       47\n",
       "НЕОКОНЧЕННОЕ ВЫСШЕЕ       29\n",
       "НАЧАЛЬНОЕ                 17\n",
       "Начальное                 15\n",
       "ученая степень             4\n",
       "Ученая степень             1\n",
       "УЧЕНАЯ СТЕПЕНЬ             1\n",
       "Name: education, dtype: int64"
      ]
     },
     "execution_count": 4,
     "metadata": {},
     "output_type": "execute_result"
    }
   ],
   "source": [
    "data['education'].value_counts()"
   ]
  },
  {
   "cell_type": "markdown",
   "metadata": {},
   "source": [
    "ошибок нет, но есть дубликаты с uppercase и lowercase"
   ]
  },
  {
   "cell_type": "code",
   "execution_count": 5,
   "metadata": {},
   "outputs": [
    {
     "data": {
      "text/plain": [
       "1    15233\n",
       "0     5260\n",
       "2      744\n",
       "3      282\n",
       "4        6\n",
       "Name: education_id, dtype: int64"
      ]
     },
     "execution_count": 5,
     "metadata": {},
     "output_type": "execute_result"
    }
   ],
   "source": [
    "data['education_id'].value_counts()"
   ]
  },
  {
   "cell_type": "markdown",
   "metadata": {},
   "source": [
    "Судя по education то в education_id всё сходится по количеству id"
   ]
  },
  {
   "cell_type": "code",
   "execution_count": 6,
   "metadata": {},
   "outputs": [
    {
     "data": {
      "text/plain": [
       "женат / замужем          12380\n",
       "гражданский брак          4177\n",
       "Не женат / не замужем     2813\n",
       "в разводе                 1195\n",
       "вдовец / вдова             960\n",
       "Name: family_status, dtype: int64"
      ]
     },
     "execution_count": 6,
     "metadata": {},
     "output_type": "execute_result"
    }
   ],
   "source": [
    "data['family_status'].value_counts()"
   ]
  },
  {
   "cell_type": "markdown",
   "metadata": {},
   "source": [
    "Здесь по первому вгляду всё хорошо, хотя можно перевести в lowercase"
   ]
  },
  {
   "cell_type": "code",
   "execution_count": 7,
   "metadata": {},
   "outputs": [
    {
     "data": {
      "text/plain": [
       "0    12380\n",
       "1     4177\n",
       "4     2813\n",
       "3     1195\n",
       "2      960\n",
       "Name: family_status_id, dtype: int64"
      ]
     },
     "execution_count": 7,
     "metadata": {},
     "output_type": "execute_result"
    }
   ],
   "source": [
    "data['family_status_id'].value_counts()"
   ]
  },
  {
   "cell_type": "markdown",
   "metadata": {},
   "source": [
    "с family_status всё сходится по количеству ID"
   ]
  },
  {
   "cell_type": "code",
   "execution_count": 8,
   "metadata": {},
   "outputs": [
    {
     "data": {
      "text/plain": [
       "F      14236\n",
       "M       7288\n",
       "XNA        1\n",
       "Name: gender, dtype: int64"
      ]
     },
     "execution_count": 8,
     "metadata": {},
     "output_type": "execute_result"
    }
   ],
   "source": [
    "data['gender'].value_counts()"
   ]
  },
  {
   "cell_type": "markdown",
   "metadata": {},
   "source": [
    "не понятные XNA. Попытаюсь посмотреть, что это"
   ]
  },
  {
   "cell_type": "code",
   "execution_count": 9,
   "metadata": {},
   "outputs": [
    {
     "data": {
      "text/html": [
       "<div>\n",
       "<style scoped>\n",
       "    .dataframe tbody tr th:only-of-type {\n",
       "        vertical-align: middle;\n",
       "    }\n",
       "\n",
       "    .dataframe tbody tr th {\n",
       "        vertical-align: top;\n",
       "    }\n",
       "\n",
       "    .dataframe thead th {\n",
       "        text-align: right;\n",
       "    }\n",
       "</style>\n",
       "<table border=\"1\" class=\"dataframe\">\n",
       "  <thead>\n",
       "    <tr style=\"text-align: right;\">\n",
       "      <th></th>\n",
       "      <th>children</th>\n",
       "      <th>days_employed</th>\n",
       "      <th>dob_years</th>\n",
       "      <th>education</th>\n",
       "      <th>education_id</th>\n",
       "      <th>family_status</th>\n",
       "      <th>family_status_id</th>\n",
       "      <th>gender</th>\n",
       "      <th>income_type</th>\n",
       "      <th>debt</th>\n",
       "      <th>total_income</th>\n",
       "      <th>purpose</th>\n",
       "    </tr>\n",
       "  </thead>\n",
       "  <tbody>\n",
       "    <tr>\n",
       "      <td>10701</td>\n",
       "      <td>0</td>\n",
       "      <td>-2358.600502</td>\n",
       "      <td>24</td>\n",
       "      <td>неоконченное высшее</td>\n",
       "      <td>2</td>\n",
       "      <td>гражданский брак</td>\n",
       "      <td>1</td>\n",
       "      <td>XNA</td>\n",
       "      <td>компаньон</td>\n",
       "      <td>0</td>\n",
       "      <td>203905.157261</td>\n",
       "      <td>покупка недвижимости</td>\n",
       "    </tr>\n",
       "  </tbody>\n",
       "</table>\n",
       "</div>"
      ],
      "text/plain": [
       "       children  days_employed  dob_years            education  education_id  \\\n",
       "10701         0   -2358.600502         24  неоконченное высшее             2   \n",
       "\n",
       "          family_status  family_status_id gender income_type  debt  \\\n",
       "10701  гражданский брак                 1    XNA   компаньон     0   \n",
       "\n",
       "        total_income               purpose  \n",
       "10701  203905.157261  покупка недвижимости  "
      ]
     },
     "execution_count": 9,
     "metadata": {},
     "output_type": "execute_result"
    }
   ],
   "source": [
    "gender_xna = data[data['gender'] == 'XNA']\n",
    "gender_xna"
   ]
  },
  {
   "cell_type": "markdown",
   "metadata": {},
   "source": [
    "Просмотр строки ничего не дал, значит дадим ему жить спокойно"
   ]
  },
  {
   "cell_type": "code",
   "execution_count": 10,
   "metadata": {},
   "outputs": [
    {
     "data": {
      "text/plain": [
       "сотрудник          11119\n",
       "компаньон           5085\n",
       "пенсионер           3856\n",
       "госслужащий         1459\n",
       "предприниматель        2\n",
       "безработный            2\n",
       "студент                1\n",
       "в декрете              1\n",
       "Name: income_type, dtype: int64"
      ]
     },
     "execution_count": 10,
     "metadata": {},
     "output_type": "execute_result"
    }
   ],
   "source": [
    "data['income_type'].value_counts()"
   ]
  },
  {
   "cell_type": "markdown",
   "metadata": {},
   "source": [
    "Не знаю, что за работа такая - компаньон, ну и ладно. Тут всё в порядке по первому взгляду"
   ]
  },
  {
   "cell_type": "code",
   "execution_count": 11,
   "metadata": {},
   "outputs": [
    {
     "data": {
      "text/plain": [
       "0    19784\n",
       "1     1741\n",
       "Name: debt, dtype: int64"
      ]
     },
     "execution_count": 11,
     "metadata": {},
     "output_type": "execute_result"
    }
   ],
   "source": [
    "data['debt'].value_counts()"
   ]
  },
  {
   "cell_type": "markdown",
   "metadata": {},
   "source": [
    "без комментариев"
   ]
  },
  {
   "cell_type": "code",
   "execution_count": 12,
   "metadata": {
    "scrolled": true
   },
   "outputs": [
    {
     "data": {
      "text/plain": [
       "свадьба                                   797\n",
       "на проведение свадьбы                     777\n",
       "сыграть свадьбу                           774\n",
       "операции с недвижимостью                  676\n",
       "покупка коммерческой недвижимости         664\n",
       "покупка жилья для сдачи                   653\n",
       "операции с жильем                         653\n",
       "операции с коммерческой недвижимостью     651\n",
       "жилье                                     647\n",
       "покупка жилья                             647\n",
       "покупка жилья для семьи                   641\n",
       "строительство собственной недвижимости    635\n",
       "недвижимость                              634\n",
       "операции со своей недвижимостью           630\n",
       "строительство жилой недвижимости          626\n",
       "покупка недвижимости                      624\n",
       "строительство недвижимости                620\n",
       "покупка своего жилья                      620\n",
       "ремонт жилью                              612\n",
       "покупка жилой недвижимости                607\n",
       "на покупку своего автомобиля              505\n",
       "заняться высшим образованием              496\n",
       "автомобиль                                495\n",
       "сделка с подержанным автомобилем          489\n",
       "свой автомобиль                           480\n",
       "на покупку подержанного автомобиля        479\n",
       "автомобили                                478\n",
       "на покупку автомобиля                     472\n",
       "дополнительное образование                462\n",
       "приобретение автомобиля                   462\n",
       "сделка с автомобилем                      455\n",
       "высшее образование                        453\n",
       "образование                               447\n",
       "получение дополнительного образования     447\n",
       "получение образования                     443\n",
       "профильное образование                    436\n",
       "получение высшего образования             426\n",
       "заняться образованием                     412\n",
       "Name: purpose, dtype: int64"
      ]
     },
     "execution_count": 12,
     "metadata": {},
     "output_type": "execute_result"
    }
   ],
   "source": [
    "data['purpose'].value_counts()"
   ]
  },
  {
   "cell_type": "markdown",
   "metadata": {},
   "source": [
    "Видно, что цели получения кредита похожи, поэтому лемматизация мне будет в помощь"
   ]
  },
  {
   "cell_type": "markdown",
   "metadata": {},
   "source": [
    "Подводя итоги, тут есть пропуски, отрицательные значения, похожие цели на кредит, слова написанные заглавными буквами и прописными. Так же присутствует люди прожившие 0 лет, что интересно"
   ]
  },
  {
   "cell_type": "markdown",
   "metadata": {},
   "source": [
    "## Шаг 2. Предобработка данных"
   ]
  },
  {
   "cell_type": "markdown",
   "metadata": {},
   "source": [
    "### Обработка пропусков"
   ]
  },
  {
   "cell_type": "markdown",
   "metadata": {},
   "source": [
    "Исходя из необходимости столбцов к ответам на вопросы будет рационально удалить столбец days_employed, так как в нем есть пропущенные значения. Что касается пропусков в total_income, то вижу смысл заменить пропуски на 0, так как удалять 10% информации не хочется, а судя по тому что пропуски в days_employed соответствуют пропускам в total_income, то скорее всего у людей нет опыта, и они не имеют заработок. Поэтому заменяю пропуски в total_income на 0"
   ]
  },
  {
   "cell_type": "code",
   "execution_count": 13,
   "metadata": {
    "scrolled": true
   },
   "outputs": [],
   "source": [
    "data.drop('days_employed', axis=1, inplace=True)"
   ]
  },
  {
   "cell_type": "code",
   "execution_count": 14,
   "metadata": {},
   "outputs": [
    {
     "name": "stdout",
     "output_type": "stream",
     "text": [
      "<class 'pandas.core.frame.DataFrame'>\n",
      "RangeIndex: 21525 entries, 0 to 21524\n",
      "Data columns (total 11 columns):\n",
      "children            21525 non-null int64\n",
      "dob_years           21525 non-null int64\n",
      "education           21525 non-null object\n",
      "education_id        21525 non-null int64\n",
      "family_status       21525 non-null object\n",
      "family_status_id    21525 non-null int64\n",
      "gender              21525 non-null object\n",
      "income_type         21525 non-null object\n",
      "debt                21525 non-null int64\n",
      "total_income        21525 non-null float64\n",
      "purpose             21525 non-null object\n",
      "dtypes: float64(1), int64(5), object(5)\n",
      "memory usage: 1.8+ MB\n"
     ]
    }
   ],
   "source": [
    "group = data.groupby(by=['income_type'])['total_income'].median()\n",
    "for i, v in group.items():\n",
    "    data.loc[(data['income_type'] == i) & (data['total_income'].isna()), 'total_income'] = v\n",
    "\n",
    "data.info()"
   ]
  },
  {
   "cell_type": "code",
   "execution_count": 15,
   "metadata": {},
   "outputs": [
    {
     "data": {
      "text/plain": [
       "142594.396847    1105\n",
       "172357.950966     509\n",
       "118514.486412     414\n",
       "150447.935283     147\n",
       "499163.144947       2\n",
       "                 ... \n",
       "133299.194693       1\n",
       "115080.782380       1\n",
       "84896.781597        1\n",
       "153838.839212       1\n",
       "150014.128510       1\n",
       "Name: total_income, Length: 19353, dtype: int64"
      ]
     },
     "execution_count": 15,
     "metadata": {},
     "output_type": "execute_result"
    }
   ],
   "source": [
    "data['total_income'].value_counts()"
   ]
  },
  {
   "cell_type": "markdown",
   "metadata": {},
   "source": [
    "**Вывод**"
   ]
  },
  {
   "cell_type": "markdown",
   "metadata": {},
   "source": [
    "По итогу удалил столбец с  данными по days_employed, и заменил пропуски на 0 в столбце total_income, так как считаю, что если нет стажа, значит то и нет ежемесячного дохода, что конечно же может быть ошибкой, но как мне кажется это лучше, чем удалять 10% данных, которые могут сказаться результате"
   ]
  },
  {
   "cell_type": "markdown",
   "metadata": {},
   "source": [
    "### Замена типа данных"
   ]
  },
  {
   "cell_type": "code",
   "execution_count": 16,
   "metadata": {},
   "outputs": [
    {
     "data": {
      "text/html": [
       "<div>\n",
       "<style scoped>\n",
       "    .dataframe tbody tr th:only-of-type {\n",
       "        vertical-align: middle;\n",
       "    }\n",
       "\n",
       "    .dataframe tbody tr th {\n",
       "        vertical-align: top;\n",
       "    }\n",
       "\n",
       "    .dataframe thead th {\n",
       "        text-align: right;\n",
       "    }\n",
       "</style>\n",
       "<table border=\"1\" class=\"dataframe\">\n",
       "  <thead>\n",
       "    <tr style=\"text-align: right;\">\n",
       "      <th></th>\n",
       "      <th>children</th>\n",
       "      <th>dob_years</th>\n",
       "      <th>education</th>\n",
       "      <th>education_id</th>\n",
       "      <th>family_status</th>\n",
       "      <th>family_status_id</th>\n",
       "      <th>gender</th>\n",
       "      <th>income_type</th>\n",
       "      <th>debt</th>\n",
       "      <th>total_income</th>\n",
       "      <th>purpose</th>\n",
       "    </tr>\n",
       "  </thead>\n",
       "  <tbody>\n",
       "    <tr>\n",
       "      <td>0</td>\n",
       "      <td>1</td>\n",
       "      <td>42</td>\n",
       "      <td>высшее</td>\n",
       "      <td>0</td>\n",
       "      <td>женат / замужем</td>\n",
       "      <td>0</td>\n",
       "      <td>F</td>\n",
       "      <td>сотрудник</td>\n",
       "      <td>0</td>\n",
       "      <td>253875.639453</td>\n",
       "      <td>покупка жилья</td>\n",
       "    </tr>\n",
       "    <tr>\n",
       "      <td>1</td>\n",
       "      <td>1</td>\n",
       "      <td>36</td>\n",
       "      <td>среднее</td>\n",
       "      <td>1</td>\n",
       "      <td>женат / замужем</td>\n",
       "      <td>0</td>\n",
       "      <td>F</td>\n",
       "      <td>сотрудник</td>\n",
       "      <td>0</td>\n",
       "      <td>112080.014102</td>\n",
       "      <td>приобретение автомобиля</td>\n",
       "    </tr>\n",
       "    <tr>\n",
       "      <td>2</td>\n",
       "      <td>0</td>\n",
       "      <td>33</td>\n",
       "      <td>Среднее</td>\n",
       "      <td>1</td>\n",
       "      <td>женат / замужем</td>\n",
       "      <td>0</td>\n",
       "      <td>M</td>\n",
       "      <td>сотрудник</td>\n",
       "      <td>0</td>\n",
       "      <td>145885.952297</td>\n",
       "      <td>покупка жилья</td>\n",
       "    </tr>\n",
       "    <tr>\n",
       "      <td>3</td>\n",
       "      <td>3</td>\n",
       "      <td>32</td>\n",
       "      <td>среднее</td>\n",
       "      <td>1</td>\n",
       "      <td>женат / замужем</td>\n",
       "      <td>0</td>\n",
       "      <td>M</td>\n",
       "      <td>сотрудник</td>\n",
       "      <td>0</td>\n",
       "      <td>267628.550329</td>\n",
       "      <td>дополнительное образование</td>\n",
       "    </tr>\n",
       "    <tr>\n",
       "      <td>4</td>\n",
       "      <td>0</td>\n",
       "      <td>53</td>\n",
       "      <td>среднее</td>\n",
       "      <td>1</td>\n",
       "      <td>гражданский брак</td>\n",
       "      <td>1</td>\n",
       "      <td>F</td>\n",
       "      <td>пенсионер</td>\n",
       "      <td>0</td>\n",
       "      <td>158616.077870</td>\n",
       "      <td>сыграть свадьбу</td>\n",
       "    </tr>\n",
       "    <tr>\n",
       "      <td>5</td>\n",
       "      <td>0</td>\n",
       "      <td>27</td>\n",
       "      <td>высшее</td>\n",
       "      <td>0</td>\n",
       "      <td>гражданский брак</td>\n",
       "      <td>1</td>\n",
       "      <td>M</td>\n",
       "      <td>компаньон</td>\n",
       "      <td>0</td>\n",
       "      <td>255763.565419</td>\n",
       "      <td>покупка жилья</td>\n",
       "    </tr>\n",
       "    <tr>\n",
       "      <td>6</td>\n",
       "      <td>0</td>\n",
       "      <td>43</td>\n",
       "      <td>высшее</td>\n",
       "      <td>0</td>\n",
       "      <td>женат / замужем</td>\n",
       "      <td>0</td>\n",
       "      <td>F</td>\n",
       "      <td>компаньон</td>\n",
       "      <td>0</td>\n",
       "      <td>240525.971920</td>\n",
       "      <td>операции с жильем</td>\n",
       "    </tr>\n",
       "    <tr>\n",
       "      <td>7</td>\n",
       "      <td>0</td>\n",
       "      <td>50</td>\n",
       "      <td>СРЕДНЕЕ</td>\n",
       "      <td>1</td>\n",
       "      <td>женат / замужем</td>\n",
       "      <td>0</td>\n",
       "      <td>M</td>\n",
       "      <td>сотрудник</td>\n",
       "      <td>0</td>\n",
       "      <td>135823.934197</td>\n",
       "      <td>образование</td>\n",
       "    </tr>\n",
       "    <tr>\n",
       "      <td>8</td>\n",
       "      <td>2</td>\n",
       "      <td>35</td>\n",
       "      <td>ВЫСШЕЕ</td>\n",
       "      <td>0</td>\n",
       "      <td>гражданский брак</td>\n",
       "      <td>1</td>\n",
       "      <td>F</td>\n",
       "      <td>сотрудник</td>\n",
       "      <td>0</td>\n",
       "      <td>95856.832424</td>\n",
       "      <td>на проведение свадьбы</td>\n",
       "    </tr>\n",
       "    <tr>\n",
       "      <td>9</td>\n",
       "      <td>0</td>\n",
       "      <td>41</td>\n",
       "      <td>среднее</td>\n",
       "      <td>1</td>\n",
       "      <td>женат / замужем</td>\n",
       "      <td>0</td>\n",
       "      <td>M</td>\n",
       "      <td>сотрудник</td>\n",
       "      <td>0</td>\n",
       "      <td>144425.938277</td>\n",
       "      <td>покупка жилья для семьи</td>\n",
       "    </tr>\n",
       "  </tbody>\n",
       "</table>\n",
       "</div>"
      ],
      "text/plain": [
       "   children  dob_years education  education_id     family_status  \\\n",
       "0         1         42    высшее             0   женат / замужем   \n",
       "1         1         36   среднее             1   женат / замужем   \n",
       "2         0         33   Среднее             1   женат / замужем   \n",
       "3         3         32   среднее             1   женат / замужем   \n",
       "4         0         53   среднее             1  гражданский брак   \n",
       "5         0         27    высшее             0  гражданский брак   \n",
       "6         0         43    высшее             0   женат / замужем   \n",
       "7         0         50   СРЕДНЕЕ             1   женат / замужем   \n",
       "8         2         35    ВЫСШЕЕ             0  гражданский брак   \n",
       "9         0         41   среднее             1   женат / замужем   \n",
       "\n",
       "   family_status_id gender income_type  debt   total_income  \\\n",
       "0                 0      F   сотрудник     0  253875.639453   \n",
       "1                 0      F   сотрудник     0  112080.014102   \n",
       "2                 0      M   сотрудник     0  145885.952297   \n",
       "3                 0      M   сотрудник     0  267628.550329   \n",
       "4                 1      F   пенсионер     0  158616.077870   \n",
       "5                 1      M   компаньон     0  255763.565419   \n",
       "6                 0      F   компаньон     0  240525.971920   \n",
       "7                 0      M   сотрудник     0  135823.934197   \n",
       "8                 1      F   сотрудник     0   95856.832424   \n",
       "9                 0      M   сотрудник     0  144425.938277   \n",
       "\n",
       "                      purpose  \n",
       "0               покупка жилья  \n",
       "1     приобретение автомобиля  \n",
       "2               покупка жилья  \n",
       "3  дополнительное образование  \n",
       "4             сыграть свадьбу  \n",
       "5               покупка жилья  \n",
       "6           операции с жильем  \n",
       "7                 образование  \n",
       "8       на проведение свадьбы  \n",
       "9     покупка жилья для семьи  "
      ]
     },
     "execution_count": 16,
     "metadata": {},
     "output_type": "execute_result"
    }
   ],
   "source": [
    "data.head(10)"
   ]
  },
  {
   "cell_type": "markdown",
   "metadata": {},
   "source": [
    "Решил проверить какие типы данных есть в каждом столбце. Написал функцию и применил её ко всему DataFrame"
   ]
  },
  {
   "cell_type": "code",
   "execution_count": 17,
   "metadata": {
    "scrolled": true
   },
   "outputs": [],
   "source": [
    "def check_type_col(row):\n",
    "    total_income_type = {'int': 0, 'float': 0, 'str': 0}\n",
    "\n",
    "    for i in row:\n",
    "        if type(i) == int:\n",
    "            total_income_type['int'] += 1\n",
    "        if type(i) == str:\n",
    "            total_income_type['str'] += 1\n",
    "        if type(i) == float:\n",
    "            total_income_type['float'] += 1\n",
    "    return total_income_type\n"
   ]
  },
  {
   "cell_type": "code",
   "execution_count": 18,
   "metadata": {},
   "outputs": [
    {
     "name": "stdout",
     "output_type": "stream",
     "text": [
      "Типы данных столбца children {'int': 21525, 'float': 0, 'str': 0}\n",
      "\n",
      "Типы данных столбца dob_years {'int': 21525, 'float': 0, 'str': 0}\n",
      "\n",
      "Типы данных столбца education {'int': 0, 'float': 0, 'str': 21525}\n",
      "\n",
      "Типы данных столбца education_id {'int': 21525, 'float': 0, 'str': 0}\n",
      "\n",
      "Типы данных столбца family_status {'int': 0, 'float': 0, 'str': 21525}\n",
      "\n",
      "Типы данных столбца family_status_id {'int': 21525, 'float': 0, 'str': 0}\n",
      "\n",
      "Типы данных столбца gender {'int': 0, 'float': 0, 'str': 21525}\n",
      "\n",
      "Типы данных столбца income_type {'int': 0, 'float': 0, 'str': 21525}\n",
      "\n",
      "Типы данных столбца debt {'int': 21525, 'float': 0, 'str': 0}\n",
      "\n",
      "Типы данных столбца total_income {'int': 0, 'float': 21525, 'str': 0}\n",
      "\n",
      "Типы данных столбца purpose {'int': 0, 'float': 0, 'str': 21525}\n",
      "\n"
     ]
    }
   ],
   "source": [
    "for col in data:\n",
    "    print('Типы данных столбца', col, check_type_col(data[col]))\n",
    "    print()"
   ]
  },
  {
   "cell_type": "code",
   "execution_count": 19,
   "metadata": {},
   "outputs": [
    {
     "name": "stdout",
     "output_type": "stream",
     "text": [
      "<class 'pandas.core.frame.DataFrame'>\n",
      "RangeIndex: 21525 entries, 0 to 21524\n",
      "Data columns (total 11 columns):\n",
      "children            21525 non-null int64\n",
      "dob_years           21525 non-null int64\n",
      "education           21525 non-null object\n",
      "education_id        21525 non-null int64\n",
      "family_status       21525 non-null object\n",
      "family_status_id    21525 non-null int64\n",
      "gender              21525 non-null object\n",
      "income_type         21525 non-null object\n",
      "debt                21525 non-null int64\n",
      "total_income        21525 non-null float64\n",
      "purpose             21525 non-null object\n",
      "dtypes: float64(1), int64(5), object(5)\n",
      "memory usage: 1.8+ MB\n"
     ]
    }
   ],
   "source": [
    "data.info()"
   ]
  },
  {
   "cell_type": "markdown",
   "metadata": {},
   "source": [
    "Исходя из вывода, видно что с типами данных всё в порядке, так что будем двигаться дальше."
   ]
  },
  {
   "cell_type": "markdown",
   "metadata": {},
   "source": [
    "**Вывод**"
   ]
  },
  {
   "cell_type": "markdown",
   "metadata": {},
   "source": [
    "Странная история: одним вечером у меня почему-то после замены на 0 типы данных в столбце total_income стали разниться, и я их поменял. На другой день утром у меня стало всё нормально, но я всё равно написал функцию для проверки типов данных, и проверил такие ли типы данных нам нужны."
   ]
  },
  {
   "cell_type": "markdown",
   "metadata": {},
   "source": [
    "### Обработка дубликатов"
   ]
  },
  {
   "cell_type": "markdown",
   "metadata": {},
   "source": [
    "В этой части я бы поработал со столбцами education, children и dob_years(что под сомнением, но посмотрел бы на людей с возрастом 0)"
   ]
  },
  {
   "cell_type": "markdown",
   "metadata": {},
   "source": [
    "Начнем с education и сделаем все категории с нижним регистром"
   ]
  },
  {
   "cell_type": "code",
   "execution_count": 20,
   "metadata": {},
   "outputs": [
    {
     "data": {
      "text/plain": [
       "среднее                15233\n",
       "высшее                  5260\n",
       "неоконченное высшее      744\n",
       "начальное                282\n",
       "ученая степень             6\n",
       "Name: education, dtype: int64"
      ]
     },
     "execution_count": 20,
     "metadata": {},
     "output_type": "execute_result"
    }
   ],
   "source": [
    "data['education'] = data['education'].str.lower()\n",
    "data['education'].value_counts()"
   ]
  },
  {
   "cell_type": "code",
   "execution_count": 21,
   "metadata": {},
   "outputs": [
    {
     "data": {
      "text/plain": [
       " 0     14149\n",
       " 1      4818\n",
       " 2      2055\n",
       " 3       330\n",
       " 20       76\n",
       "-1        47\n",
       " 4        41\n",
       " 5         9\n",
       "Name: children, dtype: int64"
      ]
     },
     "execution_count": 21,
     "metadata": {},
     "output_type": "execute_result"
    }
   ],
   "source": [
    "data['children'].value_counts()"
   ]
  },
  {
   "cell_type": "markdown",
   "metadata": {},
   "source": [
    "Судя по категориям с детьми у нас есть 47 с детьми -1, что неправильно, и 76 людей с 20-ю! детьми. Сделаю положительные значение, и поменяю значения 20 на 2, так как выглядит явной ошибкой, как будто случайно поставили 0."
   ]
  },
  {
   "cell_type": "code",
   "execution_count": 22,
   "metadata": {},
   "outputs": [
    {
     "data": {
      "text/plain": [
       "0    14149\n",
       "1     4865\n",
       "2     2131\n",
       "3      330\n",
       "4       41\n",
       "5        9\n",
       "Name: children, dtype: int64"
      ]
     },
     "execution_count": 22,
     "metadata": {},
     "output_type": "execute_result"
    }
   ],
   "source": [
    "data['children'] = abs(data['children'])\n",
    "data.loc[data['children'] == 20, 'children'] = 2\n",
    "data['children'].value_counts()"
   ]
  },
  {
   "cell_type": "markdown",
   "metadata": {},
   "source": [
    "Выглядит красиво. Остается посмотреть что там с dob_years"
   ]
  },
  {
   "cell_type": "code",
   "execution_count": 23,
   "metadata": {},
   "outputs": [
    {
     "name": "stdout",
     "output_type": "stream",
     "text": [
      "101\n",
      "93\n"
     ]
    }
   ],
   "source": [
    "sort_by_dob_years = data[data['dob_years'] == 0]\n",
    "count = 0\n",
    "\n",
    "for i in sort_by_dob_years['debt']:\n",
    "    if i == 0:\n",
    "        count += 1 \n",
    "print(len(sort_by_dob_years['debt']))        \n",
    "print(count)"
   ]
  },
  {
   "cell_type": "code",
   "execution_count": 24,
   "metadata": {},
   "outputs": [
    {
     "data": {
      "text/plain": [
       "debt\n",
       "0    93\n",
       "1     8\n",
       "Name: debt, dtype: int64"
      ]
     },
     "execution_count": 24,
     "metadata": {},
     "output_type": "execute_result"
    }
   ],
   "source": [
    "data[data['dob_years'] == 0].groupby('debt').debt.count()"
   ]
  },
  {
   "cell_type": "code",
   "execution_count": 25,
   "metadata": {},
   "outputs": [
    {
     "name": "stdout",
     "output_type": "stream",
     "text": [
      "101\n",
      "72\n"
     ]
    }
   ],
   "source": [
    "count = 0\n",
    "\n",
    "for i in sort_by_dob_years['gender']:\n",
    "    if i == 'F':\n",
    "        count += 1 \n",
    "print(len(sort_by_dob_years['gender']))        \n",
    "print(count)"
   ]
  },
  {
   "cell_type": "code",
   "execution_count": 26,
   "metadata": {},
   "outputs": [],
   "source": [
    "data = data.drop_duplicates().reset_index(drop=True)"
   ]
  },
  {
   "cell_type": "code",
   "execution_count": 27,
   "metadata": {},
   "outputs": [
    {
     "name": "stdout",
     "output_type": "stream",
     "text": [
      "<class 'pandas.core.frame.DataFrame'>\n",
      "RangeIndex: 21454 entries, 0 to 21453\n",
      "Data columns (total 11 columns):\n",
      "children            21454 non-null int64\n",
      "dob_years           21454 non-null int64\n",
      "education           21454 non-null object\n",
      "education_id        21454 non-null int64\n",
      "family_status       21454 non-null object\n",
      "family_status_id    21454 non-null int64\n",
      "gender              21454 non-null object\n",
      "income_type         21454 non-null object\n",
      "debt                21454 non-null int64\n",
      "total_income        21454 non-null float64\n",
      "purpose             21454 non-null object\n",
      "dtypes: float64(1), int64(5), object(5)\n",
      "memory usage: 1.8+ MB\n"
     ]
    }
   ],
   "source": [
    "data.info()"
   ]
  },
  {
   "cell_type": "code",
   "execution_count": 28,
   "metadata": {},
   "outputs": [
    {
     "data": {
      "text/plain": [
       "0"
      ]
     },
     "execution_count": 28,
     "metadata": {},
     "output_type": "execute_result"
    }
   ],
   "source": [
    "data.duplicated().sum()"
   ]
  },
  {
   "cell_type": "markdown",
   "metadata": {},
   "source": [
    "Поанализировал зависимость столбца dob_years с людьми, у которых 0 лет жизни, с другими столбцами, и особо ничего не ясно. 101 из 21525 не сыграет большой роли, поэтому я бы ничего с этим не делал."
   ]
  },
  {
   "cell_type": "markdown",
   "metadata": {},
   "source": [
    "**Вывод**"
   ]
  },
  {
   "cell_type": "markdown",
   "metadata": {},
   "source": [
    "Исходя из дубликатов здесь сделали нижний регист в столбце education, и поменял данные в children"
   ]
  },
  {
   "cell_type": "markdown",
   "metadata": {},
   "source": [
    "### Лемматизация"
   ]
  },
  {
   "cell_type": "markdown",
   "metadata": {},
   "source": [
    "Нам необходимо сделать лемматизацию столбца purpose, а для этого нужно просмотреть данные, чтобы определить, какие данные нам нужны."
   ]
  },
  {
   "cell_type": "code",
   "execution_count": 29,
   "metadata": {
    "scrolled": false
   },
   "outputs": [
    {
     "data": {
      "text/plain": [
       "свадьба                                   791\n",
       "на проведение свадьбы                     768\n",
       "сыграть свадьбу                           765\n",
       "операции с недвижимостью                  675\n",
       "покупка коммерческой недвижимости         661\n",
       "операции с жильем                         652\n",
       "покупка жилья для сдачи                   651\n",
       "операции с коммерческой недвижимостью     650\n",
       "жилье                                     646\n",
       "покупка жилья                             646\n",
       "покупка жилья для семьи                   638\n",
       "строительство собственной недвижимости    635\n",
       "недвижимость                              633\n",
       "операции со своей недвижимостью           627\n",
       "строительство жилой недвижимости          624\n",
       "покупка недвижимости                      621\n",
       "покупка своего жилья                      620\n",
       "строительство недвижимости                619\n",
       "ремонт жилью                              607\n",
       "покупка жилой недвижимости                606\n",
       "на покупку своего автомобиля              505\n",
       "заняться высшим образованием              496\n",
       "автомобиль                                494\n",
       "сделка с подержанным автомобилем          486\n",
       "свой автомобиль                           478\n",
       "на покупку подержанного автомобиля        478\n",
       "автомобили                                478\n",
       "на покупку автомобиля                     471\n",
       "приобретение автомобиля                   461\n",
       "дополнительное образование                460\n",
       "сделка с автомобилем                      455\n",
       "высшее образование                        452\n",
       "образование                               447\n",
       "получение дополнительного образования     446\n",
       "получение образования                     442\n",
       "профильное образование                    436\n",
       "получение высшего образования             426\n",
       "заняться образованием                     408\n",
       "Name: purpose, dtype: int64"
      ]
     },
     "execution_count": 29,
     "metadata": {},
     "output_type": "execute_result"
    }
   ],
   "source": [
    "data['purpose'].value_counts()"
   ]
  },
  {
   "cell_type": "markdown",
   "metadata": {},
   "source": [
    "Пробегу по столбцу и проверю самые частые леммы из слов, которые есть, чтобы в последующем разделить их на группы."
   ]
  },
  {
   "cell_type": "code",
   "execution_count": 30,
   "metadata": {},
   "outputs": [
    {
     "name": "stdout",
     "output_type": "stream",
     "text": [
      "Counter({'автомобиль': 972, 'свадьба': 791, 'на проведение свадьба': 768, 'сыграть свадьба': 765, 'операция с недвижимость': 675, 'покупка коммерческий недвижимость': 661, 'операция с жилье': 652, 'покупка жилье для сдача': 651, 'операция с коммерческий недвижимость': 650, 'покупка жилье': 646, 'жилье': 646, 'покупка жилье для семья': 638, 'строительство собственный недвижимость': 635, 'недвижимость': 633, 'операция со свой недвижимость': 627, 'строительство жилой недвижимость': 624, 'покупка недвижимость': 621, 'покупка свой жилье': 620, 'строительство недвижимость': 619, 'ремонт жилье': 607, 'покупка жилой недвижимость': 606, 'на покупка свой автомобиль': 505, 'заниматься высокий образование': 496, 'сделка с подержанный автомобиль': 486, 'на покупка подержать автомобиль': 478, 'свой автомобиль': 478, 'на покупка автомобиль': 471, 'приобретение автомобиль': 461, 'дополнительный образование': 460, 'сделка с автомобиль': 455, 'высокий образование': 452, 'образование': 447, 'получение дополнительный образование': 446, 'получение образование': 442, 'профильный образование': 436, 'получение высокий образование': 426, 'заниматься образование': 408})\n"
     ]
    }
   ],
   "source": [
    "from pymystem3 import Mystem\n",
    "from collections import Counter\n",
    "lemmas_list = []\n",
    "m = Mystem()\n",
    "for purpose in data['purpose']:\n",
    "    lemmas = ''.join(m.lemmatize(purpose)).strip()\n",
    "    lemmas_list.append(lemmas)\n",
    "print(Counter(lemmas_list))"
   ]
  },
  {
   "cell_type": "markdown",
   "metadata": {},
   "source": [
    "Я бы разделил все данные на : свадьба, образование, автомобиль, недвижимость. Ну и для неопределившихся другое"
   ]
  },
  {
   "cell_type": "markdown",
   "metadata": {},
   "source": [
    "**Вывод**"
   ]
  },
  {
   "cell_type": "markdown",
   "metadata": {},
   "source": [
    "Я сделаю 5 групп, и запишу их в отдельный столбец"
   ]
  },
  {
   "cell_type": "markdown",
   "metadata": {},
   "source": [
    "### Категоризация данных"
   ]
  },
  {
   "cell_type": "markdown",
   "metadata": {},
   "source": [
    "Для этого напишем функцию, и потом применим её к новому столбцу"
   ]
  },
  {
   "cell_type": "code",
   "execution_count": 31,
   "metadata": {},
   "outputs": [],
   "source": [
    "m = Mystem() \n",
    "\n",
    "def create_category_purpose(row):\n",
    "    lem_purpose = m.lemmatize(row['purpose'])\n",
    "    \n",
    "    if 'автомобиль' in lem_purpose:\n",
    "        return 'автомобиль'\n",
    "    if ('жилье' in lem_purpose) or ('недвижимость' in lem_purpose ):\n",
    "        return 'недвижимость'\n",
    "    \n",
    "    if 'свадьба' in lem_purpose:\n",
    "        return 'свадьба'\n",
    "    \n",
    "    if 'образование' in lem_purpose:\n",
    "        return 'образование'\n",
    "    return 'другое'"
   ]
  },
  {
   "cell_type": "code",
   "execution_count": 32,
   "metadata": {},
   "outputs": [],
   "source": [
    "data['purpose_category'] = data.apply(create_category_purpose, axis=1)"
   ]
  },
  {
   "cell_type": "code",
   "execution_count": 33,
   "metadata": {},
   "outputs": [
    {
     "data": {
      "text/plain": [
       "недвижимость    10811\n",
       "автомобиль       4306\n",
       "образование      4013\n",
       "свадьба          2324\n",
       "Name: purpose_category, dtype: int64"
      ]
     },
     "execution_count": 33,
     "metadata": {},
     "output_type": "execute_result"
    }
   ],
   "source": [
    "data['purpose_category'].value_counts()"
   ]
  },
  {
   "cell_type": "markdown",
   "metadata": {},
   "source": [
    "Выглядит здорово. Значит других категорих и нет совсем. Хотя возможно есть разница между коммерческой недвижимостью и недвижимостью для физ. лиц, но пока опустим этот момент."
   ]
  },
  {
   "cell_type": "code",
   "execution_count": 34,
   "metadata": {
    "scrolled": true
   },
   "outputs": [
    {
     "data": {
      "text/html": [
       "<div>\n",
       "<style scoped>\n",
       "    .dataframe tbody tr th:only-of-type {\n",
       "        vertical-align: middle;\n",
       "    }\n",
       "\n",
       "    .dataframe tbody tr th {\n",
       "        vertical-align: top;\n",
       "    }\n",
       "\n",
       "    .dataframe thead th {\n",
       "        text-align: right;\n",
       "    }\n",
       "</style>\n",
       "<table border=\"1\" class=\"dataframe\">\n",
       "  <thead>\n",
       "    <tr style=\"text-align: right;\">\n",
       "      <th></th>\n",
       "      <th>children</th>\n",
       "      <th>dob_years</th>\n",
       "      <th>education</th>\n",
       "      <th>education_id</th>\n",
       "      <th>family_status</th>\n",
       "      <th>family_status_id</th>\n",
       "      <th>gender</th>\n",
       "      <th>income_type</th>\n",
       "      <th>debt</th>\n",
       "      <th>total_income</th>\n",
       "      <th>purpose</th>\n",
       "      <th>purpose_category</th>\n",
       "    </tr>\n",
       "  </thead>\n",
       "  <tbody>\n",
       "    <tr>\n",
       "      <td>0</td>\n",
       "      <td>1</td>\n",
       "      <td>42</td>\n",
       "      <td>высшее</td>\n",
       "      <td>0</td>\n",
       "      <td>женат / замужем</td>\n",
       "      <td>0</td>\n",
       "      <td>F</td>\n",
       "      <td>сотрудник</td>\n",
       "      <td>0</td>\n",
       "      <td>253875.639453</td>\n",
       "      <td>покупка жилья</td>\n",
       "      <td>недвижимость</td>\n",
       "    </tr>\n",
       "    <tr>\n",
       "      <td>1</td>\n",
       "      <td>1</td>\n",
       "      <td>36</td>\n",
       "      <td>среднее</td>\n",
       "      <td>1</td>\n",
       "      <td>женат / замужем</td>\n",
       "      <td>0</td>\n",
       "      <td>F</td>\n",
       "      <td>сотрудник</td>\n",
       "      <td>0</td>\n",
       "      <td>112080.014102</td>\n",
       "      <td>приобретение автомобиля</td>\n",
       "      <td>автомобиль</td>\n",
       "    </tr>\n",
       "    <tr>\n",
       "      <td>2</td>\n",
       "      <td>0</td>\n",
       "      <td>33</td>\n",
       "      <td>среднее</td>\n",
       "      <td>1</td>\n",
       "      <td>женат / замужем</td>\n",
       "      <td>0</td>\n",
       "      <td>M</td>\n",
       "      <td>сотрудник</td>\n",
       "      <td>0</td>\n",
       "      <td>145885.952297</td>\n",
       "      <td>покупка жилья</td>\n",
       "      <td>недвижимость</td>\n",
       "    </tr>\n",
       "    <tr>\n",
       "      <td>3</td>\n",
       "      <td>3</td>\n",
       "      <td>32</td>\n",
       "      <td>среднее</td>\n",
       "      <td>1</td>\n",
       "      <td>женат / замужем</td>\n",
       "      <td>0</td>\n",
       "      <td>M</td>\n",
       "      <td>сотрудник</td>\n",
       "      <td>0</td>\n",
       "      <td>267628.550329</td>\n",
       "      <td>дополнительное образование</td>\n",
       "      <td>образование</td>\n",
       "    </tr>\n",
       "    <tr>\n",
       "      <td>4</td>\n",
       "      <td>0</td>\n",
       "      <td>53</td>\n",
       "      <td>среднее</td>\n",
       "      <td>1</td>\n",
       "      <td>гражданский брак</td>\n",
       "      <td>1</td>\n",
       "      <td>F</td>\n",
       "      <td>пенсионер</td>\n",
       "      <td>0</td>\n",
       "      <td>158616.077870</td>\n",
       "      <td>сыграть свадьбу</td>\n",
       "      <td>свадьба</td>\n",
       "    </tr>\n",
       "    <tr>\n",
       "      <td>5</td>\n",
       "      <td>0</td>\n",
       "      <td>27</td>\n",
       "      <td>высшее</td>\n",
       "      <td>0</td>\n",
       "      <td>гражданский брак</td>\n",
       "      <td>1</td>\n",
       "      <td>M</td>\n",
       "      <td>компаньон</td>\n",
       "      <td>0</td>\n",
       "      <td>255763.565419</td>\n",
       "      <td>покупка жилья</td>\n",
       "      <td>недвижимость</td>\n",
       "    </tr>\n",
       "    <tr>\n",
       "      <td>6</td>\n",
       "      <td>0</td>\n",
       "      <td>43</td>\n",
       "      <td>высшее</td>\n",
       "      <td>0</td>\n",
       "      <td>женат / замужем</td>\n",
       "      <td>0</td>\n",
       "      <td>F</td>\n",
       "      <td>компаньон</td>\n",
       "      <td>0</td>\n",
       "      <td>240525.971920</td>\n",
       "      <td>операции с жильем</td>\n",
       "      <td>недвижимость</td>\n",
       "    </tr>\n",
       "    <tr>\n",
       "      <td>7</td>\n",
       "      <td>0</td>\n",
       "      <td>50</td>\n",
       "      <td>среднее</td>\n",
       "      <td>1</td>\n",
       "      <td>женат / замужем</td>\n",
       "      <td>0</td>\n",
       "      <td>M</td>\n",
       "      <td>сотрудник</td>\n",
       "      <td>0</td>\n",
       "      <td>135823.934197</td>\n",
       "      <td>образование</td>\n",
       "      <td>образование</td>\n",
       "    </tr>\n",
       "    <tr>\n",
       "      <td>8</td>\n",
       "      <td>2</td>\n",
       "      <td>35</td>\n",
       "      <td>высшее</td>\n",
       "      <td>0</td>\n",
       "      <td>гражданский брак</td>\n",
       "      <td>1</td>\n",
       "      <td>F</td>\n",
       "      <td>сотрудник</td>\n",
       "      <td>0</td>\n",
       "      <td>95856.832424</td>\n",
       "      <td>на проведение свадьбы</td>\n",
       "      <td>свадьба</td>\n",
       "    </tr>\n",
       "    <tr>\n",
       "      <td>9</td>\n",
       "      <td>0</td>\n",
       "      <td>41</td>\n",
       "      <td>среднее</td>\n",
       "      <td>1</td>\n",
       "      <td>женат / замужем</td>\n",
       "      <td>0</td>\n",
       "      <td>M</td>\n",
       "      <td>сотрудник</td>\n",
       "      <td>0</td>\n",
       "      <td>144425.938277</td>\n",
       "      <td>покупка жилья для семьи</td>\n",
       "      <td>недвижимость</td>\n",
       "    </tr>\n",
       "  </tbody>\n",
       "</table>\n",
       "</div>"
      ],
      "text/plain": [
       "   children  dob_years education  education_id     family_status  \\\n",
       "0         1         42    высшее             0   женат / замужем   \n",
       "1         1         36   среднее             1   женат / замужем   \n",
       "2         0         33   среднее             1   женат / замужем   \n",
       "3         3         32   среднее             1   женат / замужем   \n",
       "4         0         53   среднее             1  гражданский брак   \n",
       "5         0         27    высшее             0  гражданский брак   \n",
       "6         0         43    высшее             0   женат / замужем   \n",
       "7         0         50   среднее             1   женат / замужем   \n",
       "8         2         35    высшее             0  гражданский брак   \n",
       "9         0         41   среднее             1   женат / замужем   \n",
       "\n",
       "   family_status_id gender income_type  debt   total_income  \\\n",
       "0                 0      F   сотрудник     0  253875.639453   \n",
       "1                 0      F   сотрудник     0  112080.014102   \n",
       "2                 0      M   сотрудник     0  145885.952297   \n",
       "3                 0      M   сотрудник     0  267628.550329   \n",
       "4                 1      F   пенсионер     0  158616.077870   \n",
       "5                 1      M   компаньон     0  255763.565419   \n",
       "6                 0      F   компаньон     0  240525.971920   \n",
       "7                 0      M   сотрудник     0  135823.934197   \n",
       "8                 1      F   сотрудник     0   95856.832424   \n",
       "9                 0      M   сотрудник     0  144425.938277   \n",
       "\n",
       "                      purpose purpose_category  \n",
       "0               покупка жилья     недвижимость  \n",
       "1     приобретение автомобиля       автомобиль  \n",
       "2               покупка жилья     недвижимость  \n",
       "3  дополнительное образование      образование  \n",
       "4             сыграть свадьбу          свадьба  \n",
       "5               покупка жилья     недвижимость  \n",
       "6           операции с жильем     недвижимость  \n",
       "7                 образование      образование  \n",
       "8       на проведение свадьбы          свадьба  \n",
       "9     покупка жилья для семьи     недвижимость  "
      ]
     },
     "execution_count": 34,
     "metadata": {},
     "output_type": "execute_result"
    }
   ],
   "source": [
    "data.head(10)"
   ]
  },
  {
   "cell_type": "markdown",
   "metadata": {},
   "source": [
    "Так же для ответа на вопрос \"Есть ли зависимость между уровнем дохода и возвратом кредита в срок\" , нам нужно разнести людей на группые по уровням дохода. Исходя из общих данных я бы их разнес на категории:"
   ]
  },
  {
   "cell_type": "markdown",
   "metadata": {},
   "source": [
    "низкий доход, средний доход, высокий доход"
   ]
  },
  {
   "cell_type": "markdown",
   "metadata": {},
   "source": [
    "Низкий доход буду считать тех людей, кто зарабатывает до 40% медианы, средних от 40 до 70% медианы, и высокие доходы все остальные."
   ]
  },
  {
   "cell_type": "code",
   "execution_count": 39,
   "metadata": {},
   "outputs": [],
   "source": [
    "median = data['total_income'].median() \n",
    "\n",
    "def create_total_income_group(row):\n",
    "    total_income = row['total_income']\n",
    "    \n",
    "    if total_income < median * 0.4:\n",
    "        return 'низкий доход'\n",
    "    if median * 0.4 <= total_income < median * 0.85:\n",
    "        return 'средний доход'\n",
    "    if total_income >= median * 0.8:\n",
    "        return 'высокий доход'\n",
    "\n",
    "    "
   ]
  },
  {
   "cell_type": "code",
   "execution_count": 40,
   "metadata": {},
   "outputs": [],
   "source": [
    "data['category_of_total_income'] = data.apply(create_total_income_group, axis=1)"
   ]
  },
  {
   "cell_type": "code",
   "execution_count": 41,
   "metadata": {},
   "outputs": [
    {
     "data": {
      "text/plain": [
       "высокий доход    14104\n",
       "средний доход     6679\n",
       "низкий доход       671\n",
       "Name: category_of_total_income, dtype: int64"
      ]
     },
     "execution_count": 41,
     "metadata": {},
     "output_type": "execute_result"
    }
   ],
   "source": [
    "data['category_of_total_income'].value_counts()"
   ]
  },
  {
   "cell_type": "markdown",
   "metadata": {},
   "source": [
    "оказывается тут все богатые!"
   ]
  },
  {
   "cell_type": "code",
   "execution_count": 42,
   "metadata": {},
   "outputs": [
    {
     "data": {
      "text/html": [
       "<div>\n",
       "<style scoped>\n",
       "    .dataframe tbody tr th:only-of-type {\n",
       "        vertical-align: middle;\n",
       "    }\n",
       "\n",
       "    .dataframe tbody tr th {\n",
       "        vertical-align: top;\n",
       "    }\n",
       "\n",
       "    .dataframe thead th {\n",
       "        text-align: right;\n",
       "    }\n",
       "</style>\n",
       "<table border=\"1\" class=\"dataframe\">\n",
       "  <thead>\n",
       "    <tr style=\"text-align: right;\">\n",
       "      <th></th>\n",
       "      <th>children</th>\n",
       "      <th>dob_years</th>\n",
       "      <th>education</th>\n",
       "      <th>education_id</th>\n",
       "      <th>family_status</th>\n",
       "      <th>family_status_id</th>\n",
       "      <th>gender</th>\n",
       "      <th>income_type</th>\n",
       "      <th>debt</th>\n",
       "      <th>total_income</th>\n",
       "      <th>purpose</th>\n",
       "      <th>purpose_category</th>\n",
       "      <th>category_of_total_income</th>\n",
       "    </tr>\n",
       "  </thead>\n",
       "  <tbody>\n",
       "    <tr>\n",
       "      <td>0</td>\n",
       "      <td>1</td>\n",
       "      <td>42</td>\n",
       "      <td>высшее</td>\n",
       "      <td>0</td>\n",
       "      <td>женат / замужем</td>\n",
       "      <td>0</td>\n",
       "      <td>F</td>\n",
       "      <td>сотрудник</td>\n",
       "      <td>0</td>\n",
       "      <td>253875.639453</td>\n",
       "      <td>покупка жилья</td>\n",
       "      <td>недвижимость</td>\n",
       "      <td>высокий доход</td>\n",
       "    </tr>\n",
       "    <tr>\n",
       "      <td>1</td>\n",
       "      <td>1</td>\n",
       "      <td>36</td>\n",
       "      <td>среднее</td>\n",
       "      <td>1</td>\n",
       "      <td>женат / замужем</td>\n",
       "      <td>0</td>\n",
       "      <td>F</td>\n",
       "      <td>сотрудник</td>\n",
       "      <td>0</td>\n",
       "      <td>112080.014102</td>\n",
       "      <td>приобретение автомобиля</td>\n",
       "      <td>автомобиль</td>\n",
       "      <td>средний доход</td>\n",
       "    </tr>\n",
       "    <tr>\n",
       "      <td>2</td>\n",
       "      <td>0</td>\n",
       "      <td>33</td>\n",
       "      <td>среднее</td>\n",
       "      <td>1</td>\n",
       "      <td>женат / замужем</td>\n",
       "      <td>0</td>\n",
       "      <td>M</td>\n",
       "      <td>сотрудник</td>\n",
       "      <td>0</td>\n",
       "      <td>145885.952297</td>\n",
       "      <td>покупка жилья</td>\n",
       "      <td>недвижимость</td>\n",
       "      <td>высокий доход</td>\n",
       "    </tr>\n",
       "    <tr>\n",
       "      <td>3</td>\n",
       "      <td>3</td>\n",
       "      <td>32</td>\n",
       "      <td>среднее</td>\n",
       "      <td>1</td>\n",
       "      <td>женат / замужем</td>\n",
       "      <td>0</td>\n",
       "      <td>M</td>\n",
       "      <td>сотрудник</td>\n",
       "      <td>0</td>\n",
       "      <td>267628.550329</td>\n",
       "      <td>дополнительное образование</td>\n",
       "      <td>образование</td>\n",
       "      <td>высокий доход</td>\n",
       "    </tr>\n",
       "    <tr>\n",
       "      <td>4</td>\n",
       "      <td>0</td>\n",
       "      <td>53</td>\n",
       "      <td>среднее</td>\n",
       "      <td>1</td>\n",
       "      <td>гражданский брак</td>\n",
       "      <td>1</td>\n",
       "      <td>F</td>\n",
       "      <td>пенсионер</td>\n",
       "      <td>0</td>\n",
       "      <td>158616.077870</td>\n",
       "      <td>сыграть свадьбу</td>\n",
       "      <td>свадьба</td>\n",
       "      <td>высокий доход</td>\n",
       "    </tr>\n",
       "    <tr>\n",
       "      <td>5</td>\n",
       "      <td>0</td>\n",
       "      <td>27</td>\n",
       "      <td>высшее</td>\n",
       "      <td>0</td>\n",
       "      <td>гражданский брак</td>\n",
       "      <td>1</td>\n",
       "      <td>M</td>\n",
       "      <td>компаньон</td>\n",
       "      <td>0</td>\n",
       "      <td>255763.565419</td>\n",
       "      <td>покупка жилья</td>\n",
       "      <td>недвижимость</td>\n",
       "      <td>высокий доход</td>\n",
       "    </tr>\n",
       "    <tr>\n",
       "      <td>6</td>\n",
       "      <td>0</td>\n",
       "      <td>43</td>\n",
       "      <td>высшее</td>\n",
       "      <td>0</td>\n",
       "      <td>женат / замужем</td>\n",
       "      <td>0</td>\n",
       "      <td>F</td>\n",
       "      <td>компаньон</td>\n",
       "      <td>0</td>\n",
       "      <td>240525.971920</td>\n",
       "      <td>операции с жильем</td>\n",
       "      <td>недвижимость</td>\n",
       "      <td>высокий доход</td>\n",
       "    </tr>\n",
       "    <tr>\n",
       "      <td>7</td>\n",
       "      <td>0</td>\n",
       "      <td>50</td>\n",
       "      <td>среднее</td>\n",
       "      <td>1</td>\n",
       "      <td>женат / замужем</td>\n",
       "      <td>0</td>\n",
       "      <td>M</td>\n",
       "      <td>сотрудник</td>\n",
       "      <td>0</td>\n",
       "      <td>135823.934197</td>\n",
       "      <td>образование</td>\n",
       "      <td>образование</td>\n",
       "      <td>высокий доход</td>\n",
       "    </tr>\n",
       "    <tr>\n",
       "      <td>8</td>\n",
       "      <td>2</td>\n",
       "      <td>35</td>\n",
       "      <td>высшее</td>\n",
       "      <td>0</td>\n",
       "      <td>гражданский брак</td>\n",
       "      <td>1</td>\n",
       "      <td>F</td>\n",
       "      <td>сотрудник</td>\n",
       "      <td>0</td>\n",
       "      <td>95856.832424</td>\n",
       "      <td>на проведение свадьбы</td>\n",
       "      <td>свадьба</td>\n",
       "      <td>средний доход</td>\n",
       "    </tr>\n",
       "    <tr>\n",
       "      <td>9</td>\n",
       "      <td>0</td>\n",
       "      <td>41</td>\n",
       "      <td>среднее</td>\n",
       "      <td>1</td>\n",
       "      <td>женат / замужем</td>\n",
       "      <td>0</td>\n",
       "      <td>M</td>\n",
       "      <td>сотрудник</td>\n",
       "      <td>0</td>\n",
       "      <td>144425.938277</td>\n",
       "      <td>покупка жилья для семьи</td>\n",
       "      <td>недвижимость</td>\n",
       "      <td>высокий доход</td>\n",
       "    </tr>\n",
       "  </tbody>\n",
       "</table>\n",
       "</div>"
      ],
      "text/plain": [
       "   children  dob_years education  education_id     family_status  \\\n",
       "0         1         42    высшее             0   женат / замужем   \n",
       "1         1         36   среднее             1   женат / замужем   \n",
       "2         0         33   среднее             1   женат / замужем   \n",
       "3         3         32   среднее             1   женат / замужем   \n",
       "4         0         53   среднее             1  гражданский брак   \n",
       "5         0         27    высшее             0  гражданский брак   \n",
       "6         0         43    высшее             0   женат / замужем   \n",
       "7         0         50   среднее             1   женат / замужем   \n",
       "8         2         35    высшее             0  гражданский брак   \n",
       "9         0         41   среднее             1   женат / замужем   \n",
       "\n",
       "   family_status_id gender income_type  debt   total_income  \\\n",
       "0                 0      F   сотрудник     0  253875.639453   \n",
       "1                 0      F   сотрудник     0  112080.014102   \n",
       "2                 0      M   сотрудник     0  145885.952297   \n",
       "3                 0      M   сотрудник     0  267628.550329   \n",
       "4                 1      F   пенсионер     0  158616.077870   \n",
       "5                 1      M   компаньон     0  255763.565419   \n",
       "6                 0      F   компаньон     0  240525.971920   \n",
       "7                 0      M   сотрудник     0  135823.934197   \n",
       "8                 1      F   сотрудник     0   95856.832424   \n",
       "9                 0      M   сотрудник     0  144425.938277   \n",
       "\n",
       "                      purpose purpose_category category_of_total_income  \n",
       "0               покупка жилья     недвижимость            высокий доход  \n",
       "1     приобретение автомобиля       автомобиль            средний доход  \n",
       "2               покупка жилья     недвижимость            высокий доход  \n",
       "3  дополнительное образование      образование            высокий доход  \n",
       "4             сыграть свадьбу          свадьба            высокий доход  \n",
       "5               покупка жилья     недвижимость            высокий доход  \n",
       "6           операции с жильем     недвижимость            высокий доход  \n",
       "7                 образование      образование            высокий доход  \n",
       "8       на проведение свадьбы          свадьба            средний доход  \n",
       "9     покупка жилья для семьи     недвижимость            высокий доход  "
      ]
     },
     "execution_count": 42,
     "metadata": {},
     "output_type": "execute_result"
    }
   ],
   "source": [
    "data.head(10)"
   ]
  },
  {
   "cell_type": "markdown",
   "metadata": {},
   "source": [
    "**Вывод**"
   ]
  },
  {
   "cell_type": "markdown",
   "metadata": {},
   "source": []
  },
  {
   "cell_type": "markdown",
   "metadata": {},
   "source": [
    "## Шаг 3. Ответьте на вопросы"
   ]
  },
  {
   "cell_type": "markdown",
   "metadata": {},
   "source": [
    "- Есть ли зависимость между наличием детей и возвратом кредита в срок?"
   ]
  },
  {
   "cell_type": "markdown",
   "metadata": {},
   "source": [
    "Добавил новую сторчку для сводной таблицы"
   ]
  },
  {
   "cell_type": "code",
   "execution_count": 43,
   "metadata": {},
   "outputs": [],
   "source": [
    "def create_debt(row):\n",
    "    if row['debt'] == 1:\n",
    "        return 'задолженность'\n",
    "    elif row['debt'] == 0:\n",
    "        return 'нет задолженности'\n",
    "    return 'другое'"
   ]
  },
  {
   "cell_type": "code",
   "execution_count": 44,
   "metadata": {},
   "outputs": [],
   "source": [
    "data['debt_status'] = data.apply(create_debt, axis=1)"
   ]
  },
  {
   "cell_type": "code",
   "execution_count": 45,
   "metadata": {},
   "outputs": [
    {
     "data": {
      "text/html": [
       "<div>\n",
       "<style scoped>\n",
       "    .dataframe tbody tr th:only-of-type {\n",
       "        vertical-align: middle;\n",
       "    }\n",
       "\n",
       "    .dataframe tbody tr th {\n",
       "        vertical-align: top;\n",
       "    }\n",
       "\n",
       "    .dataframe thead th {\n",
       "        text-align: right;\n",
       "    }\n",
       "</style>\n",
       "<table border=\"1\" class=\"dataframe\">\n",
       "  <thead>\n",
       "    <tr style=\"text-align: right;\">\n",
       "      <th>children</th>\n",
       "      <th>0</th>\n",
       "      <th>1</th>\n",
       "      <th>2</th>\n",
       "      <th>3</th>\n",
       "      <th>4</th>\n",
       "      <th>5</th>\n",
       "    </tr>\n",
       "    <tr>\n",
       "      <th>debt_status</th>\n",
       "      <th></th>\n",
       "      <th></th>\n",
       "      <th></th>\n",
       "      <th></th>\n",
       "      <th></th>\n",
       "      <th></th>\n",
       "    </tr>\n",
       "  </thead>\n",
       "  <tbody>\n",
       "    <tr>\n",
       "      <td>нет задолженности</td>\n",
       "      <td>13028.0</td>\n",
       "      <td>4410.0</td>\n",
       "      <td>1926.0</td>\n",
       "      <td>303.0</td>\n",
       "      <td>37.0</td>\n",
       "      <td>9.0</td>\n",
       "    </tr>\n",
       "    <tr>\n",
       "      <td>задолженность</td>\n",
       "      <td>1063.0</td>\n",
       "      <td>445.0</td>\n",
       "      <td>202.0</td>\n",
       "      <td>27.0</td>\n",
       "      <td>4.0</td>\n",
       "      <td>NaN</td>\n",
       "    </tr>\n",
       "  </tbody>\n",
       "</table>\n",
       "</div>"
      ],
      "text/plain": [
       "children                 0       1       2      3     4    5\n",
       "debt_status                                                 \n",
       "нет задолженности  13028.0  4410.0  1926.0  303.0  37.0  9.0\n",
       "задолженность       1063.0   445.0   202.0   27.0   4.0  NaN"
      ]
     },
     "metadata": {},
     "output_type": "display_data"
    }
   ],
   "source": [
    "table_child = data.pivot_table(\n",
    "    index='debt_status',\n",
    "    columns=['children'],\n",
    "    values='debt',\n",
    "    aggfunc='count')\n",
    "display(table_child.sort_index(ascending=False))"
   ]
  },
  {
   "cell_type": "markdown",
   "metadata": {},
   "source": [
    "У кого 5 детей, тот не имеет задолженностей! Посчитаю что там с процентами в остальных"
   ]
  },
  {
   "cell_type": "code",
   "execution_count": 46,
   "metadata": {},
   "outputs": [
    {
     "name": "stdout",
     "output_type": "stream",
     "text": [
      "процент задолженников среди 0 детей 7.543822297920659\n",
      "процент задолженников среди 1 детей 9.165808444902163\n",
      "процент задолженников среди 2 детей 9.492481203007518\n",
      "процент задолженников среди 3 детей 8.181818181818182\n",
      "процент задолженников среди 4 детей 9.75609756097561\n",
      "процент задолженников среди 5 детей nan\n"
     ]
    }
   ],
   "source": [
    "for i in table_child:\n",
    "    print(\"процент задолженников среди\", i, 'детей', (table_child[i][0] / table_child[i].sum()) * 100)"
   ]
  },
  {
   "cell_type": "code",
   "execution_count": 47,
   "metadata": {},
   "outputs": [
    {
     "data": {
      "text/plain": [
       "<matplotlib.axes._subplots.AxesSubplot at 0x7fcd7491c750>"
      ]
     },
     "execution_count": 47,
     "metadata": {},
     "output_type": "execute_result"
    },
    {
     "data": {
      "image/png": "[encoded data removed]",
      "text/plain": [
       "<Figure size 432x288 with 1 Axes>"
      ]
     },
     "metadata": {
      "needs_background": "light"
     },
     "output_type": "display_data"
    }
   ],
   "source": [
    "import seaborn as sns\n",
    "sns.barplot(x=\"children\", y=\"debt\", data=data)"
   ]
  },
  {
   "cell_type": "markdown",
   "metadata": {},
   "source": [
    "**Вывод**"
   ]
  },
  {
   "cell_type": "markdown",
   "metadata": {},
   "source": [
    "Исходя из процентов я не вижу особой разницы между задолженностью и детьми. Но первый и второй ребенок явно тяжело для семьи."
   ]
  },
  {
   "cell_type": "markdown",
   "metadata": {},
   "source": [
    "- Есть ли зависимость между семейным положением и возвратом кредита в срок?"
   ]
  },
  {
   "cell_type": "code",
   "execution_count": 48,
   "metadata": {},
   "outputs": [
    {
     "data": {
      "text/html": [
       "<div>\n",
       "<style scoped>\n",
       "    .dataframe tbody tr th:only-of-type {\n",
       "        vertical-align: middle;\n",
       "    }\n",
       "\n",
       "    .dataframe tbody tr th {\n",
       "        vertical-align: top;\n",
       "    }\n",
       "\n",
       "    .dataframe thead th {\n",
       "        text-align: right;\n",
       "    }\n",
       "</style>\n",
       "<table border=\"1\" class=\"dataframe\">\n",
       "  <thead>\n",
       "    <tr style=\"text-align: right;\">\n",
       "      <th>family_status</th>\n",
       "      <th>Не женат / не замужем</th>\n",
       "      <th>в разводе</th>\n",
       "      <th>вдовец / вдова</th>\n",
       "      <th>гражданский брак</th>\n",
       "      <th>женат / замужем</th>\n",
       "    </tr>\n",
       "    <tr>\n",
       "      <th>debt_status</th>\n",
       "      <th></th>\n",
       "      <th></th>\n",
       "      <th></th>\n",
       "      <th></th>\n",
       "      <th></th>\n",
       "    </tr>\n",
       "  </thead>\n",
       "  <tbody>\n",
       "    <tr>\n",
       "      <td>нет задолженности</td>\n",
       "      <td>2536</td>\n",
       "      <td>1110</td>\n",
       "      <td>896</td>\n",
       "      <td>3763</td>\n",
       "      <td>11408</td>\n",
       "    </tr>\n",
       "    <tr>\n",
       "      <td>задолженность</td>\n",
       "      <td>274</td>\n",
       "      <td>85</td>\n",
       "      <td>63</td>\n",
       "      <td>388</td>\n",
       "      <td>931</td>\n",
       "    </tr>\n",
       "  </tbody>\n",
       "</table>\n",
       "</div>"
      ],
      "text/plain": [
       "family_status      Не женат / не замужем  в разводе  вдовец / вдова  \\\n",
       "debt_status                                                           \n",
       "нет задолженности                   2536       1110             896   \n",
       "задолженность                        274         85              63   \n",
       "\n",
       "family_status      гражданский брак  женат / замужем  \n",
       "debt_status                                           \n",
       "нет задолженности              3763            11408  \n",
       "задолженность                   388              931  "
      ]
     },
     "metadata": {},
     "output_type": "display_data"
    }
   ],
   "source": [
    "table_family_status = data.pivot_table(\n",
    "    index='debt_status',\n",
    "    columns=['family_status'],\n",
    "    values='debt',\n",
    "    aggfunc='count')\n",
    "display(table_family_status.sort_index(ascending=False))"
   ]
  },
  {
   "cell_type": "code",
   "execution_count": 49,
   "metadata": {},
   "outputs": [
    {
     "name": "stdout",
     "output_type": "stream",
     "text": [
      "процент задолженников среди Не женат / не замужем 9.750889679715302\n",
      "процент задолженников среди в разводе 7.112970711297072\n",
      "процент задолженников среди вдовец / вдова 6.569343065693431\n",
      "процент задолженников среди гражданский брак 9.347145266200915\n",
      "процент задолженников среди женат / замужем 7.5451819434313965\n"
     ]
    }
   ],
   "source": [
    "for i in table_family_status:\n",
    "    print(\"процент задолженников среди\", i, (table_family_status[i][0] / table_family_status[i].sum()) * 100)"
   ]
  },
  {
   "cell_type": "code",
   "execution_count": 50,
   "metadata": {},
   "outputs": [
    {
     "data": {
      "text/plain": [
       "<matplotlib.axes._subplots.AxesSubplot at 0x7fcd72d97690>"
      ]
     },
     "execution_count": 50,
     "metadata": {},
     "output_type": "execute_result"
    },
    {
     "data": {
      "image/png": "[encoded data removed]",
      "text/plain": [
       "<Figure size 432x288 with 1 Axes>"
      ]
     },
     "metadata": {
      "needs_background": "light"
     },
     "output_type": "display_data"
    }
   ],
   "source": [
    "sns.barplot(x=\"family_status\", y=\"debt\", data=data)"
   ]
  },
  {
   "cell_type": "markdown",
   "metadata": {},
   "source": [
    "**Вывод**"
   ]
  },
  {
   "cell_type": "markdown",
   "metadata": {},
   "source": [
    "График не совсем читаемый, ибо название категорий длинноватые, но исходя из цифр опять же не вижу особой разницы между семейным положением людей. Но стоит отметить, что люди, которые не имеют отношений меньше просрачивают платеж по кредиту."
   ]
  },
  {
   "cell_type": "markdown",
   "metadata": {},
   "source": [
    "- Есть ли зависимость между уровнем дохода и возвратом кредита в срок?"
   ]
  },
  {
   "cell_type": "code",
   "execution_count": 51,
   "metadata": {},
   "outputs": [
    {
     "data": {
      "text/html": [
       "<div>\n",
       "<style scoped>\n",
       "    .dataframe tbody tr th:only-of-type {\n",
       "        vertical-align: middle;\n",
       "    }\n",
       "\n",
       "    .dataframe tbody tr th {\n",
       "        vertical-align: top;\n",
       "    }\n",
       "\n",
       "    .dataframe thead th {\n",
       "        text-align: right;\n",
       "    }\n",
       "</style>\n",
       "<table border=\"1\" class=\"dataframe\">\n",
       "  <thead>\n",
       "    <tr style=\"text-align: right;\">\n",
       "      <th>category_of_total_income</th>\n",
       "      <th>высокий доход</th>\n",
       "      <th>низкий доход</th>\n",
       "      <th>средний доход</th>\n",
       "    </tr>\n",
       "    <tr>\n",
       "      <th>debt_status</th>\n",
       "      <th></th>\n",
       "      <th></th>\n",
       "      <th></th>\n",
       "    </tr>\n",
       "  </thead>\n",
       "  <tbody>\n",
       "    <tr>\n",
       "      <td>нет задолженности</td>\n",
       "      <td>12965</td>\n",
       "      <td>629</td>\n",
       "      <td>6119</td>\n",
       "    </tr>\n",
       "    <tr>\n",
       "      <td>задолженность</td>\n",
       "      <td>1139</td>\n",
       "      <td>42</td>\n",
       "      <td>560</td>\n",
       "    </tr>\n",
       "  </tbody>\n",
       "</table>\n",
       "</div>"
      ],
      "text/plain": [
       "category_of_total_income  высокий доход  низкий доход  средний доход\n",
       "debt_status                                                         \n",
       "нет задолженности                 12965           629           6119\n",
       "задолженность                      1139            42            560"
      ]
     },
     "metadata": {},
     "output_type": "display_data"
    }
   ],
   "source": [
    "table_total_income = data.pivot_table(\n",
    "    index='debt_status',\n",
    "    columns=['category_of_total_income'],\n",
    "    values='debt',\n",
    "    aggfunc='count')\n",
    "display(table_total_income.sort_index(ascending=False))"
   ]
  },
  {
   "cell_type": "code",
   "execution_count": 52,
   "metadata": {},
   "outputs": [
    {
     "name": "stdout",
     "output_type": "stream",
     "text": [
      "процент задолженников среди: высокий доход 8.075723199092456\n",
      "процент задолженников среди: низкий доход 6.259314456035768\n",
      "процент задолженников среди: средний доход 8.384488695912562\n"
     ]
    }
   ],
   "source": [
    "for i in table_total_income:\n",
    "    print(\"процент задолженников среди:\", i, (table_total_income[i][0] / table_total_income[i].sum()) * 100)"
   ]
  },
  {
   "cell_type": "code",
   "execution_count": 53,
   "metadata": {},
   "outputs": [
    {
     "data": {
      "text/plain": [
       "<matplotlib.axes._subplots.AxesSubplot at 0x7fcd72647d90>"
      ]
     },
     "execution_count": 53,
     "metadata": {},
     "output_type": "execute_result"
    },
    {
     "data": {
      "image/png": "[encoded data removed]",
      "text/plain": [
       "<Figure size 432x288 with 1 Axes>"
      ]
     },
     "metadata": {
      "needs_background": "light"
     },
     "output_type": "display_data"
    }
   ],
   "source": [
    "sns.barplot(x=\"category_of_total_income\", y=\"debt\", data=data)"
   ]
  },
  {
   "cell_type": "markdown",
   "metadata": {},
   "source": [
    "**Вывод**"
   ]
  },
  {
   "cell_type": "markdown",
   "metadata": {},
   "source": [
    "И снова разницы нет. Буквально 0.5% разницы между самым большим и самым малым. Но люди с меньшим доходом менее часто имеют задолженность по кредиту."
   ]
  },
  {
   "cell_type": "markdown",
   "metadata": {},
   "source": [
    "- Как разные цели кредита влияют на его возврат в срок?"
   ]
  },
  {
   "cell_type": "code",
   "execution_count": 55,
   "metadata": {},
   "outputs": [
    {
     "data": {
      "text/html": [
       "<div>\n",
       "<style scoped>\n",
       "    .dataframe tbody tr th:only-of-type {\n",
       "        vertical-align: middle;\n",
       "    }\n",
       "\n",
       "    .dataframe tbody tr th {\n",
       "        vertical-align: top;\n",
       "    }\n",
       "\n",
       "    .dataframe thead th {\n",
       "        text-align: right;\n",
       "    }\n",
       "</style>\n",
       "<table border=\"1\" class=\"dataframe\">\n",
       "  <thead>\n",
       "    <tr style=\"text-align: right;\">\n",
       "      <th>purpose_category</th>\n",
       "      <th>автомобиль</th>\n",
       "      <th>недвижимость</th>\n",
       "      <th>образование</th>\n",
       "      <th>свадьба</th>\n",
       "    </tr>\n",
       "    <tr>\n",
       "      <th>debt_status</th>\n",
       "      <th></th>\n",
       "      <th></th>\n",
       "      <th></th>\n",
       "      <th></th>\n",
       "    </tr>\n",
       "  </thead>\n",
       "  <tbody>\n",
       "    <tr>\n",
       "      <td>нет задолженности</td>\n",
       "      <td>3903</td>\n",
       "      <td>10029</td>\n",
       "      <td>3643</td>\n",
       "      <td>2138</td>\n",
       "    </tr>\n",
       "    <tr>\n",
       "      <td>задолженность</td>\n",
       "      <td>403</td>\n",
       "      <td>782</td>\n",
       "      <td>370</td>\n",
       "      <td>186</td>\n",
       "    </tr>\n",
       "  </tbody>\n",
       "</table>\n",
       "</div>"
      ],
      "text/plain": [
       "purpose_category   автомобиль  недвижимость  образование  свадьба\n",
       "debt_status                                                      \n",
       "нет задолженности        3903         10029         3643     2138\n",
       "задолженность             403           782          370      186"
      ]
     },
     "metadata": {},
     "output_type": "display_data"
    }
   ],
   "source": [
    "table_purpose = data.pivot_table(\n",
    "    index='debt_status',\n",
    "    columns=['purpose_category'],\n",
    "    values='debt',\n",
    "    aggfunc='count')\n",
    "display(table_purpose.sort_index(ascending=False))"
   ]
  },
  {
   "cell_type": "code",
   "execution_count": 56,
   "metadata": {},
   "outputs": [
    {
     "name": "stdout",
     "output_type": "stream",
     "text": [
      "процент задолженников среди: автомобиль 9.359033906177427\n",
      "процент задолженников среди: недвижимость 7.233373415965221\n",
      "процент задолженников среди: образование 9.22003488661849\n",
      "процент задолженников среди: свадьба 8.00344234079174\n"
     ]
    }
   ],
   "source": [
    "for i in table_purpose:\n",
    "    print(\"процент задолженников среди:\", i, (table_purpose[i][0] / table_purpose[i].sum()) * 100)"
   ]
  },
  {
   "cell_type": "code",
   "execution_count": 57,
   "metadata": {},
   "outputs": [
    {
     "data": {
      "text/plain": [
       "<matplotlib.axes._subplots.AxesSubplot at 0x7fcd72623210>"
      ]
     },
     "execution_count": 57,
     "metadata": {},
     "output_type": "execute_result"
    },
    {
     "data": {
      "image/png": "[encoded data removed]",
      "text/plain": [
       "<Figure size 432x288 with 1 Axes>"
      ]
     },
     "metadata": {
      "needs_background": "light"
     },
     "output_type": "display_data"
    }
   ],
   "source": [
    "sns.barplot(x=\"purpose_category\", y=\"debt\", data=data)"
   ]
  },
  {
   "cell_type": "markdown",
   "metadata": {},
   "source": [
    "**Вывод**"
   ]
  },
  {
   "cell_type": "markdown",
   "metadata": {},
   "source": [
    "Зависимость не такая большая, но люди с заемами на недвижимость меньше всего имеют задолженность по кредиту, в то время как люди берущие кредит на автомобиль имеют больший процент задолженности по кредитам."
   ]
  },
  {
   "cell_type": "markdown",
   "metadata": {},
   "source": [
    "## Шаг 4. Общий вывод"
   ]
  },
  {
   "cell_type": "markdown",
   "metadata": {},
   "source": [
    "Исходя из вопросов самые большие разницы в семейном положении, где вдовцы меньше всего просрачивают платеж по кредиту, а самые большой процент должников у не женатых/не замужних людей. Что касается количества детей, то люди без детей меньше всего просрачивают кредиты. Ну и интересная разница между целью кредита, где люди с целью на недвижимость меньше всего просрачивают кредиты, но автомобилисты среди этих людей на 2% хуже возвращают кредиты."
   ]
  }
 ],
 "metadata": {
  "ExecuteTimeLog": [
   {
    "duration": 1131,
    "start_time": "2021-12-21T17:28:15.651Z"
   },
   {
    "duration": 15,
    "start_time": "2021-12-21T17:34:22.578Z"
   },
   {
    "duration": 28,
    "start_time": "2021-12-21T17:35:40.812Z"
   },
   {
    "duration": 483,
    "start_time": "2021-12-21T17:37:45.947Z"
   },
   {
    "duration": 11,
    "start_time": "2021-12-21T17:38:23.540Z"
   },
   {
    "duration": 15,
    "start_time": "2021-12-21T17:38:43.571Z"
   },
   {
    "duration": 16,
    "start_time": "2021-12-21T17:39:58.304Z"
   },
   {
    "duration": 16,
    "start_time": "2021-12-21T17:40:05.174Z"
   },
   {
    "duration": 15,
    "start_time": "2021-12-21T17:40:18.941Z"
   },
   {
    "duration": 27,
    "start_time": "2021-12-21T17:42:19.587Z"
   },
   {
    "duration": 40,
    "start_time": "2021-12-21T17:42:33.656Z"
   },
   {
    "duration": 14,
    "start_time": "2021-12-21T17:42:47.888Z"
   },
   {
    "duration": 13,
    "start_time": "2021-12-21T17:44:05.498Z"
   },
   {
    "duration": 24,
    "start_time": "2021-12-21T17:44:17.092Z"
   },
   {
    "duration": 133,
    "start_time": "2021-12-21T17:51:42.396Z"
   },
   {
    "duration": 123,
    "start_time": "2021-12-21T17:51:56.729Z"
   },
   {
    "duration": 27,
    "start_time": "2021-12-21T17:52:25.461Z"
   },
   {
    "duration": 20,
    "start_time": "2021-12-21T17:52:34.236Z"
   },
   {
    "duration": 13,
    "start_time": "2021-12-21T17:52:46.792Z"
   },
   {
    "duration": 14,
    "start_time": "2021-12-21T17:53:59.243Z"
   },
   {
    "duration": 32,
    "start_time": "2021-12-21T17:56:50.300Z"
   },
   {
    "duration": 14,
    "start_time": "2021-12-21T17:57:03.592Z"
   },
   {
    "duration": 118,
    "start_time": "2021-12-21T17:58:17.643Z"
   },
   {
    "duration": 562,
    "start_time": "2021-12-21T18:00:19.418Z"
   },
   {
    "duration": 868,
    "start_time": "2021-12-21T18:00:25.919Z"
   },
   {
    "duration": 24,
    "start_time": "2021-12-21T18:00:29.772Z"
   },
   {
    "duration": 82,
    "start_time": "2021-12-21T18:01:32.684Z"
   },
   {
    "duration": 66,
    "start_time": "2021-12-21T18:01:40.236Z"
   },
   {
    "duration": 78,
    "start_time": "2021-12-21T18:02:40.732Z"
   },
   {
    "duration": 72,
    "start_time": "2021-12-21T18:02:53.010Z"
   },
   {
    "duration": 82,
    "start_time": "2021-12-21T18:03:01.930Z"
   },
   {
    "duration": 73,
    "start_time": "2021-12-21T18:03:09.557Z"
   },
   {
    "duration": 74,
    "start_time": "2021-12-21T18:04:54.962Z"
   },
   {
    "duration": 104,
    "start_time": "2021-12-21T18:05:16.028Z"
   },
   {
    "duration": 110,
    "start_time": "2021-12-21T18:05:42.261Z"
   },
   {
    "duration": 114,
    "start_time": "2021-12-21T18:06:15.329Z"
   },
   {
    "duration": 9,
    "start_time": "2021-12-21T18:08:26.353Z"
   },
   {
    "duration": 406,
    "start_time": "2021-12-21T18:09:10.167Z"
   },
   {
    "duration": 369,
    "start_time": "2021-12-21T18:09:15.245Z"
   },
   {
    "duration": 443,
    "start_time": "2021-12-21T18:09:19.923Z"
   },
   {
    "duration": 14,
    "start_time": "2021-12-21T18:09:25.460Z"
   },
   {
    "duration": 8,
    "start_time": "2021-12-21T18:09:37.136Z"
   },
   {
    "duration": 9,
    "start_time": "2021-12-21T18:10:03.098Z"
   },
   {
    "duration": 13,
    "start_time": "2021-12-21T18:11:28.962Z"
   },
   {
    "duration": 12,
    "start_time": "2021-12-21T18:11:34.705Z"
   },
   {
    "duration": 370,
    "start_time": "2021-12-21T18:11:44.341Z"
   },
   {
    "duration": 10,
    "start_time": "2021-12-21T18:11:51.418Z"
   },
   {
    "duration": 358,
    "start_time": "2021-12-21T18:12:11.763Z"
   },
   {
    "duration": 9,
    "start_time": "2021-12-21T18:12:19.701Z"
   },
   {
    "duration": 10,
    "start_time": "2021-12-21T18:12:23.281Z"
   },
   {
    "duration": 464,
    "start_time": "2021-12-21T18:13:00.194Z"
   },
   {
    "duration": 423,
    "start_time": "2021-12-21T18:13:17.463Z"
   },
   {
    "duration": 411,
    "start_time": "2021-12-21T18:13:24.353Z"
   },
   {
    "duration": 43,
    "start_time": "2021-12-21T18:13:29.126Z"
   },
   {
    "duration": 18,
    "start_time": "2021-12-21T18:14:08.851Z"
   },
   {
    "duration": 24,
    "start_time": "2021-12-21T18:14:18.970Z"
   },
   {
    "duration": 17,
    "start_time": "2021-12-21T18:14:25.010Z"
   },
   {
    "duration": 28,
    "start_time": "2021-12-21T18:14:58.810Z"
   },
   {
    "duration": 29,
    "start_time": "2021-12-21T18:15:05.858Z"
   },
   {
    "duration": 40,
    "start_time": "2021-12-21T18:15:35.219Z"
   },
   {
    "duration": 18,
    "start_time": "2021-12-21T18:15:40.753Z"
   },
   {
    "duration": 21,
    "start_time": "2021-12-21T18:16:15.615Z"
   },
   {
    "duration": 9,
    "start_time": "2021-12-21T18:17:10.998Z"
   },
   {
    "duration": 15,
    "start_time": "2021-12-21T18:19:11.073Z"
   },
   {
    "duration": 7,
    "start_time": "2021-12-21T18:20:39.078Z"
   },
   {
    "duration": 9,
    "start_time": "2021-12-21T18:22:28.772Z"
   },
   {
    "duration": 8,
    "start_time": "2021-12-21T18:23:55.229Z"
   },
   {
    "duration": 10,
    "start_time": "2021-12-21T18:24:48.938Z"
   },
   {
    "duration": 18,
    "start_time": "2021-12-21T18:26:13.719Z"
   },
   {
    "duration": 11,
    "start_time": "2021-12-21T18:28:30.380Z"
   },
   {
    "duration": 9,
    "start_time": "2021-12-21T18:30:49.272Z"
   },
   {
    "duration": 10,
    "start_time": "2021-12-21T18:31:25.004Z"
   },
   {
    "duration": 25,
    "start_time": "2021-12-21T19:38:53.766Z"
   },
   {
    "duration": 34,
    "start_time": "2021-12-21T19:40:39.962Z"
   },
   {
    "duration": 424,
    "start_time": "2021-12-21T20:16:58.903Z"
   },
   {
    "duration": 374,
    "start_time": "2021-12-21T20:17:13.439Z"
   },
   {
    "duration": 373,
    "start_time": "2021-12-21T20:17:42.724Z"
   },
   {
    "duration": 2409,
    "start_time": "2021-12-21T20:18:03.199Z"
   },
   {
    "duration": 393,
    "start_time": "2021-12-21T20:19:07.365Z"
   },
   {
    "duration": 421,
    "start_time": "2021-12-21T20:19:19.808Z"
   },
   {
    "duration": 30,
    "start_time": "2021-12-21T20:20:50.491Z"
   },
   {
    "duration": 23,
    "start_time": "2021-12-21T20:22:08.777Z"
   },
   {
    "duration": 22,
    "start_time": "2021-12-21T20:38:24.475Z"
   },
   {
    "duration": 22,
    "start_time": "2021-12-21T20:38:53.181Z"
   },
   {
    "duration": 945,
    "start_time": "2021-12-21T20:39:09.667Z"
   },
   {
    "duration": 8,
    "start_time": "2021-12-21T20:39:14.674Z"
   },
   {
    "duration": 14,
    "start_time": "2021-12-21T20:39:16.487Z"
   },
   {
    "duration": 11,
    "start_time": "2021-12-21T20:39:17.940Z"
   },
   {
    "duration": 10,
    "start_time": "2021-12-21T20:39:18.992Z"
   },
   {
    "duration": 11,
    "start_time": "2021-12-21T20:39:19.726Z"
   },
   {
    "duration": 10,
    "start_time": "2021-12-21T20:39:20.286Z"
   },
   {
    "duration": 10,
    "start_time": "2021-12-21T20:39:20.907Z"
   },
   {
    "duration": 20,
    "start_time": "2021-12-21T20:39:23.319Z"
   },
   {
    "duration": 12,
    "start_time": "2021-12-21T20:39:24.815Z"
   },
   {
    "duration": 9,
    "start_time": "2021-12-21T20:39:26.604Z"
   },
   {
    "duration": 10,
    "start_time": "2021-12-21T20:39:33.214Z"
   },
   {
    "duration": 32,
    "start_time": "2021-12-21T20:39:48.513Z"
   },
   {
    "duration": 23,
    "start_time": "2021-12-21T20:39:54.560Z"
   },
   {
    "duration": 28,
    "start_time": "2021-12-21T20:40:03.361Z"
   },
   {
    "duration": 47,
    "start_time": "2021-12-21T20:40:10.074Z"
   },
   {
    "duration": 46,
    "start_time": "2021-12-21T20:40:15.494Z"
   },
   {
    "duration": 20,
    "start_time": "2021-12-21T20:41:17.504Z"
   },
   {
    "duration": 23,
    "start_time": "2021-12-21T20:41:34.556Z"
   },
   {
    "duration": 639,
    "start_time": "2021-12-21T20:47:21.433Z"
   },
   {
    "duration": 714,
    "start_time": "2021-12-21T20:48:18.014Z"
   },
   {
    "duration": 6,
    "start_time": "2021-12-21T20:49:13.435Z"
   },
   {
    "duration": 7,
    "start_time": "2021-12-21T20:49:36.878Z"
   },
   {
    "duration": 8,
    "start_time": "2021-12-21T20:51:19.436Z"
   },
   {
    "duration": 33,
    "start_time": "2021-12-21T20:51:48.543Z"
   },
   {
    "duration": 386,
    "start_time": "2021-12-21T20:52:06.840Z"
   },
   {
    "duration": 30,
    "start_time": "2021-12-21T20:52:46.103Z"
   },
   {
    "duration": 21,
    "start_time": "2021-12-21T20:53:15.821Z"
   },
   {
    "duration": 32,
    "start_time": "2021-12-21T20:53:18.936Z"
   },
   {
    "duration": 26,
    "start_time": "2021-12-21T20:53:20.318Z"
   },
   {
    "duration": 24,
    "start_time": "2021-12-21T20:53:34.063Z"
   },
   {
    "duration": 34,
    "start_time": "2021-12-21T20:53:37.549Z"
   },
   {
    "duration": 27,
    "start_time": "2021-12-21T20:53:39.380Z"
   },
   {
    "duration": 470,
    "start_time": "2021-12-21T20:53:53.018Z"
   },
   {
    "duration": 27,
    "start_time": "2021-12-21T20:54:10.761Z"
   },
   {
    "duration": 27,
    "start_time": "2021-12-21T20:54:26.057Z"
   },
   {
    "duration": 26,
    "start_time": "2021-12-21T20:54:31.546Z"
   },
   {
    "duration": 27,
    "start_time": "2021-12-21T20:54:37.535Z"
   },
   {
    "duration": 26,
    "start_time": "2021-12-21T20:54:43.145Z"
   },
   {
    "duration": 25,
    "start_time": "2021-12-21T20:54:48.085Z"
   },
   {
    "duration": 26,
    "start_time": "2021-12-21T20:54:53.571Z"
   },
   {
    "duration": 26,
    "start_time": "2021-12-21T20:54:59.217Z"
   },
   {
    "duration": 27,
    "start_time": "2021-12-21T20:55:05.467Z"
   },
   {
    "duration": 25,
    "start_time": "2021-12-21T20:55:12.150Z"
   },
   {
    "duration": 26,
    "start_time": "2021-12-21T20:55:16.531Z"
   },
   {
    "duration": 27,
    "start_time": "2021-12-21T20:55:20.619Z"
   },
   {
    "duration": 26,
    "start_time": "2021-12-21T20:55:27.789Z"
   },
   {
    "duration": 10,
    "start_time": "2021-12-21T20:57:37.235Z"
   },
   {
    "duration": 24,
    "start_time": "2021-12-21T20:57:39.662Z"
   },
   {
    "duration": 25,
    "start_time": "2021-12-21T20:57:53.486Z"
   },
   {
    "duration": 12,
    "start_time": "2021-12-21T20:58:03.949Z"
   },
   {
    "duration": 26,
    "start_time": "2021-12-21T20:58:05.804Z"
   },
   {
    "duration": 9,
    "start_time": "2021-12-21T20:59:10.193Z"
   },
   {
    "duration": 8,
    "start_time": "2021-12-21T20:59:18.354Z"
   },
   {
    "duration": 563,
    "start_time": "2021-12-22T06:31:53.520Z"
   },
   {
    "duration": 946,
    "start_time": "2021-12-22T06:31:57.490Z"
   },
   {
    "duration": 1329,
    "start_time": "2021-12-22T06:36:42.247Z"
   },
   {
    "duration": 11,
    "start_time": "2021-12-22T06:36:45.584Z"
   },
   {
    "duration": 11,
    "start_time": "2021-12-22T06:36:46.625Z"
   },
   {
    "duration": 22,
    "start_time": "2021-12-22T06:36:47.933Z"
   },
   {
    "duration": 9,
    "start_time": "2021-12-22T06:36:48.725Z"
   },
   {
    "duration": 13,
    "start_time": "2021-12-22T06:36:49.632Z"
   },
   {
    "duration": 8,
    "start_time": "2021-12-22T06:36:50.532Z"
   },
   {
    "duration": 11,
    "start_time": "2021-12-22T06:36:51.055Z"
   },
   {
    "duration": 26,
    "start_time": "2021-12-22T06:36:51.590Z"
   },
   {
    "duration": 10,
    "start_time": "2021-12-22T06:36:52.498Z"
   },
   {
    "duration": 9,
    "start_time": "2021-12-22T06:36:53.134Z"
   },
   {
    "duration": 12,
    "start_time": "2021-12-22T06:36:54.043Z"
   },
   {
    "duration": 34,
    "start_time": "2021-12-22T06:37:29.004Z"
   },
   {
    "duration": 17,
    "start_time": "2021-12-22T06:37:51.872Z"
   },
   {
    "duration": 92,
    "start_time": "2021-12-22T06:39:28.450Z"
   },
   {
    "duration": 6,
    "start_time": "2021-12-22T06:39:33.355Z"
   },
   {
    "duration": 191,
    "start_time": "2021-12-22T06:40:45.806Z"
   },
   {
    "duration": 189,
    "start_time": "2021-12-22T06:40:57.928Z"
   },
   {
    "duration": 14,
    "start_time": "2021-12-22T06:41:39.443Z"
   },
   {
    "duration": 891,
    "start_time": "2021-12-22T06:42:12.732Z"
   },
   {
    "duration": 10,
    "start_time": "2021-12-22T06:42:15.697Z"
   },
   {
    "duration": 8,
    "start_time": "2021-12-22T06:42:17.120Z"
   },
   {
    "duration": 8,
    "start_time": "2021-12-22T06:42:20.920Z"
   },
   {
    "duration": 10,
    "start_time": "2021-12-22T06:42:23.014Z"
   },
   {
    "duration": 9,
    "start_time": "2021-12-22T06:42:24.525Z"
   },
   {
    "duration": 11,
    "start_time": "2021-12-22T06:42:26.165Z"
   },
   {
    "duration": 11,
    "start_time": "2021-12-22T06:42:27.642Z"
   },
   {
    "duration": 10,
    "start_time": "2021-12-22T06:42:28.738Z"
   },
   {
    "duration": 20,
    "start_time": "2021-12-22T06:42:29.896Z"
   },
   {
    "duration": 10,
    "start_time": "2021-12-22T06:42:31.019Z"
   },
   {
    "duration": 8,
    "start_time": "2021-12-22T06:42:31.875Z"
   },
   {
    "duration": 10,
    "start_time": "2021-12-22T06:42:32.632Z"
   },
   {
    "duration": 17,
    "start_time": "2021-12-22T06:42:35.890Z"
   },
   {
    "duration": 14,
    "start_time": "2021-12-22T06:42:39.354Z"
   },
   {
    "duration": 6,
    "start_time": "2021-12-22T06:42:46.663Z"
   },
   {
    "duration": 190,
    "start_time": "2021-12-22T06:42:47.484Z"
   },
   {
    "duration": 8,
    "start_time": "2021-12-22T06:43:53.240Z"
   },
   {
    "duration": 7,
    "start_time": "2021-12-22T06:44:13.762Z"
   },
   {
    "duration": 919,
    "start_time": "2021-12-22T06:47:56.057Z"
   },
   {
    "duration": 12,
    "start_time": "2021-12-22T06:47:58.604Z"
   },
   {
    "duration": 11,
    "start_time": "2021-12-22T06:47:59.901Z"
   },
   {
    "duration": 10,
    "start_time": "2021-12-22T06:48:00.763Z"
   },
   {
    "duration": 10,
    "start_time": "2021-12-22T06:48:01.544Z"
   },
   {
    "duration": 9,
    "start_time": "2021-12-22T06:48:02.304Z"
   },
   {
    "duration": 8,
    "start_time": "2021-12-22T06:48:03.100Z"
   },
   {
    "duration": 15,
    "start_time": "2021-12-22T06:48:03.950Z"
   },
   {
    "duration": 21,
    "start_time": "2021-12-22T06:48:05.169Z"
   },
   {
    "duration": 10,
    "start_time": "2021-12-22T06:48:06.163Z"
   },
   {
    "duration": 9,
    "start_time": "2021-12-22T06:48:07.692Z"
   },
   {
    "duration": 11,
    "start_time": "2021-12-22T06:48:11.986Z"
   },
   {
    "duration": 17,
    "start_time": "2021-12-22T06:48:21.940Z"
   },
   {
    "duration": 14,
    "start_time": "2021-12-22T06:48:31.283Z"
   },
   {
    "duration": 21,
    "start_time": "2021-12-22T06:48:53.151Z"
   },
   {
    "duration": 1192,
    "start_time": "2021-12-22T06:55:49.227Z"
   },
   {
    "duration": 10,
    "start_time": "2021-12-22T06:55:51.429Z"
   },
   {
    "duration": 10,
    "start_time": "2021-12-22T06:55:53.489Z"
   },
   {
    "duration": 10,
    "start_time": "2021-12-22T06:55:54.962Z"
   },
   {
    "duration": 8,
    "start_time": "2021-12-22T06:55:56.020Z"
   },
   {
    "duration": 9,
    "start_time": "2021-12-22T06:55:56.738Z"
   },
   {
    "duration": 11,
    "start_time": "2021-12-22T06:55:57.536Z"
   },
   {
    "duration": 14,
    "start_time": "2021-12-22T06:55:58.008Z"
   },
   {
    "duration": 30,
    "start_time": "2021-12-22T06:55:58.710Z"
   },
   {
    "duration": 10,
    "start_time": "2021-12-22T06:55:59.669Z"
   },
   {
    "duration": 7,
    "start_time": "2021-12-22T06:56:00.695Z"
   },
   {
    "duration": 10,
    "start_time": "2021-12-22T06:56:01.359Z"
   },
   {
    "duration": 17,
    "start_time": "2021-12-22T06:56:03.988Z"
   },
   {
    "duration": 20,
    "start_time": "2021-12-22T06:56:11.848Z"
   },
   {
    "duration": 5,
    "start_time": "2021-12-22T06:56:14.356Z"
   },
   {
    "duration": 180,
    "start_time": "2021-12-22T06:56:14.811Z"
   },
   {
    "duration": 389,
    "start_time": "2021-12-22T07:12:53.545Z"
   },
   {
    "duration": 4,
    "start_time": "2021-12-22T07:13:18.040Z"
   },
   {
    "duration": 21,
    "start_time": "2021-12-22T07:13:25.141Z"
   },
   {
    "duration": 19,
    "start_time": "2021-12-22T07:14:10.039Z"
   },
   {
    "duration": 9,
    "start_time": "2021-12-22T07:15:16.799Z"
   },
   {
    "duration": 10,
    "start_time": "2021-12-22T07:15:25.678Z"
   },
   {
    "duration": 9,
    "start_time": "2021-12-22T07:15:29.215Z"
   },
   {
    "duration": 784,
    "start_time": "2021-12-22T13:03:42.702Z"
   },
   {
    "duration": 8,
    "start_time": "2021-12-22T13:03:44.832Z"
   },
   {
    "duration": 7,
    "start_time": "2021-12-22T13:03:45.201Z"
   },
   {
    "duration": 7,
    "start_time": "2021-12-22T13:03:45.512Z"
   },
   {
    "duration": 7,
    "start_time": "2021-12-22T13:03:45.858Z"
   },
   {
    "duration": 8,
    "start_time": "2021-12-22T13:03:46.239Z"
   },
   {
    "duration": 6,
    "start_time": "2021-12-22T13:03:46.560Z"
   },
   {
    "duration": 7,
    "start_time": "2021-12-22T13:03:46.901Z"
   },
   {
    "duration": 14,
    "start_time": "2021-12-22T13:03:47.233Z"
   },
   {
    "duration": 10,
    "start_time": "2021-12-22T13:03:47.584Z"
   },
   {
    "duration": 6,
    "start_time": "2021-12-22T13:03:47.942Z"
   },
   {
    "duration": 8,
    "start_time": "2021-12-22T13:03:48.296Z"
   },
   {
    "duration": 13,
    "start_time": "2021-12-22T13:03:50.614Z"
   },
   {
    "duration": 13,
    "start_time": "2021-12-22T13:03:52.764Z"
   },
   {
    "duration": 3,
    "start_time": "2021-12-22T13:03:54.480Z"
   },
   {
    "duration": 115,
    "start_time": "2021-12-22T13:03:55.666Z"
   },
   {
    "duration": 13,
    "start_time": "2021-12-22T13:04:00.074Z"
   },
   {
    "duration": 6,
    "start_time": "2021-12-22T13:04:04.229Z"
   },
   {
    "duration": 430,
    "start_time": "2021-12-22T13:05:33.658Z"
   },
   {
    "duration": 3,
    "start_time": "2021-12-22T13:05:42.173Z"
   },
   {
    "duration": 5,
    "start_time": "2021-12-22T13:05:51.672Z"
   },
   {
    "duration": 13,
    "start_time": "2021-12-22T13:08:32.561Z"
   },
   {
    "duration": 5,
    "start_time": "2021-12-22T13:08:57.307Z"
   },
   {
    "duration": 8,
    "start_time": "2021-12-22T13:09:03.026Z"
   },
   {
    "duration": 6,
    "start_time": "2021-12-22T13:09:10.413Z"
   },
   {
    "duration": 5,
    "start_time": "2021-12-22T13:09:13.054Z"
   },
   {
    "duration": 5,
    "start_time": "2021-12-22T13:09:20.152Z"
   },
   {
    "duration": 6,
    "start_time": "2021-12-22T13:09:23.906Z"
   },
   {
    "duration": 6,
    "start_time": "2021-12-22T13:09:31.107Z"
   },
   {
    "duration": 4,
    "start_time": "2021-12-22T13:09:42.170Z"
   },
   {
    "duration": 688,
    "start_time": "2021-12-22T13:11:31.827Z"
   },
   {
    "duration": 7,
    "start_time": "2021-12-22T13:11:33.637Z"
   },
   {
    "duration": 6,
    "start_time": "2021-12-22T13:11:34.028Z"
   },
   {
    "duration": 8,
    "start_time": "2021-12-22T13:11:35.301Z"
   },
   {
    "duration": 7,
    "start_time": "2021-12-22T13:11:35.311Z"
   },
   {
    "duration": 10,
    "start_time": "2021-12-22T13:11:35.320Z"
   },
   {
    "duration": 5,
    "start_time": "2021-12-22T13:11:35.495Z"
   },
   {
    "duration": 8,
    "start_time": "2021-12-22T13:11:35.883Z"
   },
   {
    "duration": 18,
    "start_time": "2021-12-22T13:11:36.507Z"
   },
   {
    "duration": 8,
    "start_time": "2021-12-22T13:11:37.201Z"
   },
   {
    "duration": 6,
    "start_time": "2021-12-22T13:11:37.757Z"
   },
   {
    "duration": 9,
    "start_time": "2021-12-22T13:11:38.523Z"
   },
   {
    "duration": 14,
    "start_time": "2021-12-22T13:11:41.087Z"
   },
   {
    "duration": 14,
    "start_time": "2021-12-22T13:11:43.166Z"
   },
   {
    "duration": 3,
    "start_time": "2021-12-22T13:11:45.287Z"
   },
   {
    "duration": 114,
    "start_time": "2021-12-22T13:11:45.292Z"
   },
   {
    "duration": 14,
    "start_time": "2021-12-22T13:11:47.697Z"
   },
   {
    "duration": 6,
    "start_time": "2021-12-22T13:11:49.529Z"
   },
   {
    "duration": 8,
    "start_time": "2021-12-22T13:11:53.023Z"
   },
   {
    "duration": 5,
    "start_time": "2021-12-22T13:12:05.967Z"
   },
   {
    "duration": 5,
    "start_time": "2021-12-22T13:12:29.113Z"
   },
   {
    "duration": 5,
    "start_time": "2021-12-22T13:12:34.055Z"
   },
   {
    "duration": 5,
    "start_time": "2021-12-22T13:12:47.759Z"
   },
   {
    "duration": 6,
    "start_time": "2021-12-22T13:12:54.688Z"
   },
   {
    "duration": 778,
    "start_time": "2021-12-22T19:36:13.038Z"
   },
   {
    "duration": 9,
    "start_time": "2021-12-22T19:36:14.625Z"
   },
   {
    "duration": 9,
    "start_time": "2021-12-22T19:36:15.458Z"
   },
   {
    "duration": 10,
    "start_time": "2021-12-22T19:36:16.402Z"
   },
   {
    "duration": 8,
    "start_time": "2021-12-22T19:36:26.546Z"
   },
   {
    "duration": 11,
    "start_time": "2021-12-22T19:36:27.352Z"
   },
   {
    "duration": 8,
    "start_time": "2021-12-22T19:36:28.488Z"
   },
   {
    "duration": 11,
    "start_time": "2021-12-22T19:36:29.183Z"
   },
   {
    "duration": 20,
    "start_time": "2021-12-22T19:36:30.376Z"
   },
   {
    "duration": 12,
    "start_time": "2021-12-22T19:36:31.005Z"
   },
   {
    "duration": 8,
    "start_time": "2021-12-22T19:36:31.642Z"
   },
   {
    "duration": 9,
    "start_time": "2021-12-22T19:36:32.340Z"
   },
   {
    "duration": 14,
    "start_time": "2021-12-22T19:42:27.825Z"
   },
   {
    "duration": 17,
    "start_time": "2021-12-22T19:43:47.601Z"
   },
   {
    "duration": 4,
    "start_time": "2021-12-22T19:43:55.409Z"
   },
   {
    "duration": 100,
    "start_time": "2021-12-22T19:43:56.717Z"
   },
   {
    "duration": 409,
    "start_time": "2021-12-22T19:51:32.982Z"
   },
   {
    "duration": 447,
    "start_time": "2021-12-22T19:53:21.019Z"
   },
   {
    "duration": 14,
    "start_time": "2021-12-22T19:53:57.321Z"
   },
   {
    "duration": 21,
    "start_time": "2021-12-22T19:54:04.204Z"
   },
   {
    "duration": 20,
    "start_time": "2021-12-22T19:54:16.044Z"
   },
   {
    "duration": 18,
    "start_time": "2021-12-22T20:07:49.161Z"
   },
   {
    "duration": 7,
    "start_time": "2021-12-22T20:09:17.873Z"
   },
   {
    "duration": 9,
    "start_time": "2021-12-22T20:11:22.902Z"
   },
   {
    "duration": 10,
    "start_time": "2021-12-22T20:12:42.557Z"
   },
   {
    "duration": 10,
    "start_time": "2021-12-22T20:12:48.953Z"
   },
   {
    "duration": 11,
    "start_time": "2021-12-22T20:13:29.245Z"
   },
   {
    "duration": 10,
    "start_time": "2021-12-22T20:13:34.427Z"
   },
   {
    "duration": 9,
    "start_time": "2021-12-22T20:13:57.079Z"
   },
   {
    "duration": 10,
    "start_time": "2021-12-22T20:14:01.261Z"
   },
   {
    "duration": 7,
    "start_time": "2021-12-22T20:45:42.891Z"
   },
   {
    "duration": 5,
    "start_time": "2021-12-22T20:46:25.234Z"
   },
   {
    "duration": 12,
    "start_time": "2021-12-22T20:46:34.092Z"
   },
   {
    "duration": 10,
    "start_time": "2021-12-22T20:47:51.410Z"
   },
   {
    "duration": 10,
    "start_time": "2021-12-22T20:48:03.839Z"
   },
   {
    "duration": 9,
    "start_time": "2021-12-22T20:48:21.045Z"
   },
   {
    "duration": 9,
    "start_time": "2021-12-22T20:48:33.263Z"
   },
   {
    "duration": 7,
    "start_time": "2021-12-22T20:48:52.459Z"
   },
   {
    "duration": 372,
    "start_time": "2021-12-22T20:48:56.420Z"
   },
   {
    "duration": 24,
    "start_time": "2021-12-22T20:49:16.754Z"
   },
   {
    "duration": 35,
    "start_time": "2021-12-22T20:49:50.930Z"
   },
   {
    "duration": 11,
    "start_time": "2021-12-22T20:51:28.720Z"
   },
   {
    "duration": 12,
    "start_time": "2021-12-22T20:51:35.897Z"
   },
   {
    "duration": 324,
    "start_time": "2021-12-22T20:52:51.515Z"
   },
   {
    "duration": 5,
    "start_time": "2021-12-22T20:52:57.541Z"
   },
   {
    "duration": 5,
    "start_time": "2021-12-22T20:53:05.600Z"
   },
   {
    "duration": 7,
    "start_time": "2021-12-22T20:53:55.789Z"
   },
   {
    "duration": 27,
    "start_time": "2021-12-22T20:54:35.804Z"
   },
   {
    "duration": 19,
    "start_time": "2021-12-22T20:54:49.864Z"
   },
   {
    "duration": 4,
    "start_time": "2021-12-22T20:57:38.602Z"
   },
   {
    "duration": 4,
    "start_time": "2021-12-22T20:57:45.349Z"
   },
   {
    "duration": 4,
    "start_time": "2021-12-22T20:58:10.116Z"
   },
   {
    "duration": 4,
    "start_time": "2021-12-22T20:58:31.398Z"
   },
   {
    "duration": 730,
    "start_time": "2021-12-23T19:31:22.111Z"
   },
   {
    "duration": 5,
    "start_time": "2021-12-23T19:31:35.574Z"
   },
   {
    "duration": 6,
    "start_time": "2021-12-23T19:31:45.275Z"
   },
   {
    "duration": 8,
    "start_time": "2021-12-23T19:31:46.759Z"
   },
   {
    "duration": 7,
    "start_time": "2021-12-23T19:31:52.787Z"
   },
   {
    "duration": 5,
    "start_time": "2021-12-23T19:31:58.432Z"
   },
   {
    "duration": 6,
    "start_time": "2021-12-23T19:32:03.643Z"
   },
   {
    "duration": 5,
    "start_time": "2021-12-23T19:32:08.680Z"
   },
   {
    "duration": 7,
    "start_time": "2021-12-23T19:32:16.124Z"
   },
   {
    "duration": 12,
    "start_time": "2021-12-23T19:32:21.301Z"
   },
   {
    "duration": 7,
    "start_time": "2021-12-23T19:32:22.362Z"
   },
   {
    "duration": 9,
    "start_time": "2021-12-23T19:32:26.540Z"
   },
   {
    "duration": 7,
    "start_time": "2021-12-23T19:32:33.006Z"
   },
   {
    "duration": 7,
    "start_time": "2021-12-23T19:32:41.165Z"
   },
   {
    "duration": 14,
    "start_time": "2021-12-23T19:33:01.479Z"
   },
   {
    "duration": 14,
    "start_time": "2021-12-23T19:33:15.182Z"
   },
   {
    "duration": 4,
    "start_time": "2021-12-23T19:33:16.400Z"
   },
   {
    "duration": 98,
    "start_time": "2021-12-23T19:33:17.066Z"
   },
   {
    "duration": 15,
    "start_time": "2021-12-23T19:33:41.680Z"
   },
   {
    "duration": 5,
    "start_time": "2021-12-23T19:33:47.846Z"
   },
   {
    "duration": 9,
    "start_time": "2021-12-23T19:33:54.751Z"
   },
   {
    "duration": 19,
    "start_time": "2021-12-23T19:42:15.024Z"
   },
   {
    "duration": 27,
    "start_time": "2021-12-23T19:42:33.192Z"
   },
   {
    "duration": 22,
    "start_time": "2021-12-23T19:42:50.695Z"
   },
   {
    "duration": 25,
    "start_time": "2021-12-23T19:42:54.852Z"
   },
   {
    "duration": 7,
    "start_time": "2021-12-23T19:46:10.812Z"
   },
   {
    "duration": 7,
    "start_time": "2021-12-23T19:48:36.521Z"
   },
   {
    "duration": 160,
    "start_time": "2021-12-23T20:16:57.513Z"
   },
   {
    "duration": 8,
    "start_time": "2021-12-23T20:42:16.325Z"
   },
   {
    "duration": 3963,
    "start_time": "2021-12-23T20:42:32.731Z"
   },
   {
    "duration": 12,
    "start_time": "2021-12-23T20:42:42.205Z"
   },
   {
    "duration": 6,
    "start_time": "2021-12-23T20:43:22.466Z"
   },
   {
    "duration": 658,
    "start_time": "2021-12-23T20:43:46.832Z"
   },
   {
    "duration": 5,
    "start_time": "2021-12-23T20:43:47.930Z"
   },
   {
    "duration": 6,
    "start_time": "2021-12-23T20:43:48.914Z"
   },
   {
    "duration": 7,
    "start_time": "2021-12-23T20:43:49.283Z"
   },
   {
    "duration": 6,
    "start_time": "2021-12-23T20:43:49.639Z"
   },
   {
    "duration": 8,
    "start_time": "2021-12-23T20:43:49.985Z"
   },
   {
    "duration": 5,
    "start_time": "2021-12-23T20:43:50.308Z"
   },
   {
    "duration": 7,
    "start_time": "2021-12-23T20:43:50.627Z"
   },
   {
    "duration": 12,
    "start_time": "2021-12-23T20:43:50.961Z"
   },
   {
    "duration": 10,
    "start_time": "2021-12-23T20:43:51.301Z"
   },
   {
    "duration": 7,
    "start_time": "2021-12-23T20:43:51.636Z"
   },
   {
    "duration": 7,
    "start_time": "2021-12-23T20:43:51.962Z"
   },
   {
    "duration": 13,
    "start_time": "2021-12-23T20:43:53.029Z"
   },
   {
    "duration": 11,
    "start_time": "2021-12-23T20:43:53.741Z"
   },
   {
    "duration": 4,
    "start_time": "2021-12-23T20:43:54.079Z"
   },
   {
    "duration": 92,
    "start_time": "2021-12-23T20:43:54.252Z"
   },
   {
    "duration": 16,
    "start_time": "2021-12-23T20:43:55.544Z"
   },
   {
    "duration": 7,
    "start_time": "2021-12-23T20:43:55.949Z"
   },
   {
    "duration": 9,
    "start_time": "2021-12-23T20:43:56.318Z"
   },
   {
    "duration": 5,
    "start_time": "2021-12-23T20:43:56.715Z"
   },
   {
    "duration": 4,
    "start_time": "2021-12-23T20:43:56.896Z"
   },
   {
    "duration": 7,
    "start_time": "2021-12-23T20:43:58.692Z"
   },
   {
    "duration": 8,
    "start_time": "2021-12-23T20:44:05.716Z"
   },
   {
    "duration": 4301,
    "start_time": "2021-12-23T20:44:08.953Z"
   },
   {
    "duration": 7,
    "start_time": "2021-12-23T20:44:13.256Z"
   },
   {
    "duration": 24,
    "start_time": "2021-12-23T20:45:57.669Z"
   },
   {
    "duration": 4149,
    "start_time": "2021-12-23T20:45:58.550Z"
   },
   {
    "duration": 7,
    "start_time": "2021-12-23T20:46:02.701Z"
   },
   {
    "duration": 125,
    "start_time": "2021-12-23T20:52:19.547Z"
   },
   {
    "duration": 13,
    "start_time": "2021-12-23T20:52:31.791Z"
   },
   {
    "duration": 610,
    "start_time": "2021-12-25T09:33:08.438Z"
   },
   {
    "duration": 6,
    "start_time": "2021-12-25T09:33:10.015Z"
   },
   {
    "duration": 6,
    "start_time": "2021-12-25T09:33:10.775Z"
   },
   {
    "duration": 7,
    "start_time": "2021-12-25T09:33:11.503Z"
   },
   {
    "duration": 6,
    "start_time": "2021-12-25T09:33:11.864Z"
   },
   {
    "duration": 8,
    "start_time": "2021-12-25T09:33:12.263Z"
   },
   {
    "duration": 7,
    "start_time": "2021-12-25T09:33:18.263Z"
   },
   {
    "duration": 8,
    "start_time": "2021-12-25T09:33:19.577Z"
   },
   {
    "duration": 13,
    "start_time": "2021-12-25T09:33:20.577Z"
   },
   {
    "duration": 8,
    "start_time": "2021-12-25T09:33:21.449Z"
   },
   {
    "duration": 7,
    "start_time": "2021-12-25T09:33:22.297Z"
   },
   {
    "duration": 8,
    "start_time": "2021-12-25T09:33:23.010Z"
   },
   {
    "duration": 15,
    "start_time": "2021-12-25T09:33:26.536Z"
   },
   {
    "duration": 12,
    "start_time": "2021-12-25T09:33:28.200Z"
   },
   {
    "duration": 3,
    "start_time": "2021-12-25T09:33:28.829Z"
   },
   {
    "duration": 104,
    "start_time": "2021-12-25T09:33:29.187Z"
   },
   {
    "duration": 18,
    "start_time": "2021-12-25T09:33:32.125Z"
   },
   {
    "duration": 9,
    "start_time": "2021-12-25T09:33:35.335Z"
   },
   {
    "duration": 14,
    "start_time": "2021-12-25T09:33:36.270Z"
   },
   {
    "duration": 8,
    "start_time": "2021-12-25T09:33:36.824Z"
   },
   {
    "duration": 5,
    "start_time": "2021-12-25T09:33:37.157Z"
   },
   {
    "duration": 8,
    "start_time": "2021-12-25T09:33:47.687Z"
   },
   {
    "duration": 244,
    "start_time": "2021-12-25T09:33:48.507Z"
   },
   {
    "duration": 172,
    "start_time": "2021-12-25T09:33:59.226Z"
   },
   {
    "duration": 3909,
    "start_time": "2021-12-25T09:34:15.585Z"
   },
   {
    "duration": 4008,
    "start_time": "2021-12-25T09:34:19.574Z"
   },
   {
    "duration": 980,
    "start_time": "2021-12-25T09:35:06.805Z"
   },
   {
    "duration": 628,
    "start_time": "2021-12-25T09:35:23.102Z"
   },
   {
    "duration": 6,
    "start_time": "2021-12-25T09:35:24.786Z"
   },
   {
    "duration": 7,
    "start_time": "2021-12-25T09:35:25.565Z"
   },
   {
    "duration": 8,
    "start_time": "2021-12-25T09:35:26.298Z"
   },
   {
    "duration": 6,
    "start_time": "2021-12-25T09:35:26.685Z"
   },
   {
    "duration": 7,
    "start_time": "2021-12-25T09:35:27.056Z"
   },
   {
    "duration": 5,
    "start_time": "2021-12-25T09:35:27.426Z"
   },
   {
    "duration": 7,
    "start_time": "2021-12-25T09:35:27.776Z"
   },
   {
    "duration": 21,
    "start_time": "2021-12-25T09:35:28.149Z"
   },
   {
    "duration": 16,
    "start_time": "2021-12-25T09:35:28.516Z"
   },
   {
    "duration": 10,
    "start_time": "2021-12-25T09:35:28.890Z"
   },
   {
    "duration": 12,
    "start_time": "2021-12-25T09:35:29.270Z"
   },
   {
    "duration": 23,
    "start_time": "2021-12-25T09:35:30.526Z"
   },
   {
    "duration": 21,
    "start_time": "2021-12-25T09:35:31.264Z"
   },
   {
    "duration": 4,
    "start_time": "2021-12-25T09:35:32.169Z"
   },
   {
    "duration": 101,
    "start_time": "2021-12-25T09:35:32.622Z"
   },
   {
    "duration": 17,
    "start_time": "2021-12-25T09:35:34.620Z"
   },
   {
    "duration": 6,
    "start_time": "2021-12-25T09:35:35.496Z"
   },
   {
    "duration": 9,
    "start_time": "2021-12-25T09:35:36.392Z"
   },
   {
    "duration": 5,
    "start_time": "2021-12-25T09:35:37.150Z"
   },
   {
    "duration": 5,
    "start_time": "2021-12-25T09:35:37.516Z"
   },
   {
    "duration": 9,
    "start_time": "2021-12-25T09:35:39.709Z"
   },
   {
    "duration": 3568,
    "start_time": "2021-12-25T09:35:43.574Z"
   },
   {
    "duration": 22,
    "start_time": "2021-12-25T09:40:01.368Z"
   },
   {
    "duration": 4132,
    "start_time": "2021-12-25T09:40:02.592Z"
   },
   {
    "duration": 9,
    "start_time": "2021-12-25T09:40:06.726Z"
   },
   {
    "duration": 14,
    "start_time": "2021-12-25T09:40:14.202Z"
   },
   {
    "duration": 692,
    "start_time": "2021-12-26T13:18:07.797Z"
   },
   {
    "duration": 8,
    "start_time": "2021-12-26T13:18:11.625Z"
   },
   {
    "duration": 6,
    "start_time": "2021-12-26T13:18:13.773Z"
   },
   {
    "duration": 8,
    "start_time": "2021-12-26T13:18:15.100Z"
   },
   {
    "duration": 6,
    "start_time": "2021-12-26T13:18:16.123Z"
   },
   {
    "duration": 9,
    "start_time": "2021-12-26T13:18:17.273Z"
   },
   {
    "duration": 6,
    "start_time": "2021-12-26T13:18:18.376Z"
   },
   {
    "duration": 8,
    "start_time": "2021-12-26T13:18:19.405Z"
   },
   {
    "duration": 18,
    "start_time": "2021-12-26T13:18:20.756Z"
   },
   {
    "duration": 8,
    "start_time": "2021-12-26T13:18:21.839Z"
   },
   {
    "duration": 6,
    "start_time": "2021-12-26T13:18:22.874Z"
   },
   {
    "duration": 8,
    "start_time": "2021-12-26T13:18:23.746Z"
   },
   {
    "duration": 15,
    "start_time": "2021-12-26T13:18:28.392Z"
   },
   {
    "duration": 13,
    "start_time": "2021-12-26T13:18:41.069Z"
   },
   {
    "duration": 4,
    "start_time": "2021-12-26T13:18:43.208Z"
   },
   {
    "duration": 101,
    "start_time": "2021-12-26T13:18:43.890Z"
   },
   {
    "duration": 19,
    "start_time": "2021-12-26T13:18:57.728Z"
   },
   {
    "duration": 7,
    "start_time": "2021-12-26T13:19:00.154Z"
   },
   {
    "duration": 10,
    "start_time": "2021-12-26T13:20:28.252Z"
   },
   {
    "duration": 6,
    "start_time": "2021-12-26T13:20:47.474Z"
   },
   {
    "duration": 4,
    "start_time": "2021-12-26T13:20:48.811Z"
   },
   {
    "duration": 9,
    "start_time": "2021-12-26T13:20:55.293Z"
   },
   {
    "duration": 3715,
    "start_time": "2021-12-26T13:20:56.174Z"
   },
   {
    "duration": 151,
    "start_time": "2021-12-26T13:22:29.195Z"
   },
   {
    "duration": 3700,
    "start_time": "2021-12-26T13:22:31.070Z"
   },
   {
    "duration": 3657,
    "start_time": "2021-12-26T13:22:36.636Z"
   },
   {
    "duration": 23,
    "start_time": "2021-12-26T13:23:06.754Z"
   },
   {
    "duration": 4594,
    "start_time": "2021-12-26T13:23:07.428Z"
   },
   {
    "duration": 9,
    "start_time": "2021-12-26T13:23:12.025Z"
   },
   {
    "duration": 14,
    "start_time": "2021-12-26T13:23:14.764Z"
   },
   {
    "duration": 5,
    "start_time": "2021-12-26T13:35:21.216Z"
   },
   {
    "duration": 5,
    "start_time": "2021-12-26T13:35:30.468Z"
   },
   {
    "duration": 6,
    "start_time": "2021-12-26T13:43:12.057Z"
   },
   {
    "duration": 4,
    "start_time": "2021-12-26T13:44:02.446Z"
   },
   {
    "duration": 925,
    "start_time": "2021-12-26T14:08:49.220Z"
   },
   {
    "duration": 253,
    "start_time": "2021-12-26T14:09:20.750Z"
   },
   {
    "duration": 257,
    "start_time": "2021-12-26T14:09:58.981Z"
   },
   {
    "duration": 266,
    "start_time": "2021-12-26T14:10:14.570Z"
   },
   {
    "duration": 256,
    "start_time": "2021-12-26T14:10:18.972Z"
   },
   {
    "duration": 268,
    "start_time": "2021-12-26T14:10:37.559Z"
   },
   {
    "duration": 281,
    "start_time": "2021-12-26T14:10:53.741Z"
   },
   {
    "duration": 82,
    "start_time": "2021-12-26T14:32:44.315Z"
   },
   {
    "duration": 7,
    "start_time": "2021-12-26T14:32:45.239Z"
   },
   {
    "duration": 7,
    "start_time": "2021-12-26T14:32:46.013Z"
   },
   {
    "duration": 8,
    "start_time": "2021-12-26T14:32:46.564Z"
   },
   {
    "duration": 6,
    "start_time": "2021-12-26T14:32:46.892Z"
   },
   {
    "duration": 7,
    "start_time": "2021-12-26T14:32:47.213Z"
   },
   {
    "duration": 6,
    "start_time": "2021-12-26T14:32:47.567Z"
   },
   {
    "duration": 8,
    "start_time": "2021-12-26T14:32:47.885Z"
   },
   {
    "duration": 12,
    "start_time": "2021-12-26T14:32:48.209Z"
   },
   {
    "duration": 8,
    "start_time": "2021-12-26T14:32:48.557Z"
   },
   {
    "duration": 6,
    "start_time": "2021-12-26T14:32:48.891Z"
   },
   {
    "duration": 7,
    "start_time": "2021-12-26T14:32:49.249Z"
   },
   {
    "duration": 16,
    "start_time": "2021-12-26T14:32:50.289Z"
   },
   {
    "duration": 12,
    "start_time": "2021-12-26T14:32:50.978Z"
   },
   {
    "duration": 4,
    "start_time": "2021-12-26T14:32:51.327Z"
   },
   {
    "duration": 98,
    "start_time": "2021-12-26T14:32:51.497Z"
   },
   {
    "duration": 17,
    "start_time": "2021-12-26T14:32:52.732Z"
   },
   {
    "duration": 6,
    "start_time": "2021-12-26T14:32:53.123Z"
   },
   {
    "duration": 12,
    "start_time": "2021-12-26T14:32:53.480Z"
   },
   {
    "duration": 7,
    "start_time": "2021-12-26T14:32:53.892Z"
   },
   {
    "duration": 5,
    "start_time": "2021-12-26T14:32:54.083Z"
   },
   {
    "duration": 8,
    "start_time": "2021-12-26T14:32:55.174Z"
   },
   {
    "duration": 3839,
    "start_time": "2021-12-26T14:32:55.565Z"
   },
   {
    "duration": 23,
    "start_time": "2021-12-26T14:32:59.407Z"
   },
   {
    "duration": 4570,
    "start_time": "2021-12-26T14:32:59.432Z"
   },
   {
    "duration": 8,
    "start_time": "2021-12-26T14:33:04.004Z"
   },
   {
    "duration": 14,
    "start_time": "2021-12-26T14:33:04.014Z"
   },
   {
    "duration": 85,
    "start_time": "2021-12-26T14:38:19.483Z"
   },
   {
    "duration": 8,
    "start_time": "2021-12-26T14:41:23.662Z"
   },
   {
    "duration": 246,
    "start_time": "2021-12-26T14:41:56.948Z"
   },
   {
    "duration": 8,
    "start_time": "2021-12-26T14:42:13.786Z"
   },
   {
    "duration": 12,
    "start_time": "2021-12-26T14:43:27.570Z"
   },
   {
    "duration": 5,
    "start_time": "2021-12-26T14:45:13.707Z"
   },
   {
    "duration": 242,
    "start_time": "2021-12-26T14:45:15.200Z"
   },
   {
    "duration": 8,
    "start_time": "2021-12-26T14:45:24.425Z"
   },
   {
    "duration": 5,
    "start_time": "2021-12-26T14:45:42.036Z"
   },
   {
    "duration": 246,
    "start_time": "2021-12-26T14:45:45.844Z"
   },
   {
    "duration": 11,
    "start_time": "2021-12-26T14:45:46.663Z"
   },
   {
    "duration": 5,
    "start_time": "2021-12-26T14:45:59.268Z"
   },
   {
    "duration": 267,
    "start_time": "2021-12-26T14:45:59.776Z"
   },
   {
    "duration": 8,
    "start_time": "2021-12-26T14:46:00.175Z"
   },
   {
    "duration": 6,
    "start_time": "2021-12-26T14:46:07.580Z"
   },
   {
    "duration": 370,
    "start_time": "2021-12-26T14:46:07.836Z"
   },
   {
    "duration": 11,
    "start_time": "2021-12-26T14:46:08.208Z"
   },
   {
    "duration": 6,
    "start_time": "2021-12-26T14:46:14.672Z"
   },
   {
    "duration": 235,
    "start_time": "2021-12-26T14:46:14.912Z"
   },
   {
    "duration": 7,
    "start_time": "2021-12-26T14:46:15.297Z"
   },
   {
    "duration": 5,
    "start_time": "2021-12-26T14:48:32.130Z"
   },
   {
    "duration": 235,
    "start_time": "2021-12-26T14:48:32.554Z"
   },
   {
    "duration": 11,
    "start_time": "2021-12-26T14:48:33.141Z"
   },
   {
    "duration": 5,
    "start_time": "2021-12-26T14:48:33.696Z"
   },
   {
    "duration": 12,
    "start_time": "2021-12-26T14:48:42.216Z"
   },
   {
    "duration": 14,
    "start_time": "2021-12-26T14:48:47.702Z"
   },
   {
    "duration": 648,
    "start_time": "2021-12-26T16:29:46.893Z"
   },
   {
    "duration": 6,
    "start_time": "2021-12-26T16:29:48.415Z"
   },
   {
    "duration": 7,
    "start_time": "2021-12-26T16:29:51.324Z"
   },
   {
    "duration": 8,
    "start_time": "2021-12-26T16:29:51.951Z"
   },
   {
    "duration": 6,
    "start_time": "2021-12-26T16:29:52.321Z"
   },
   {
    "duration": 7,
    "start_time": "2021-12-26T16:29:52.657Z"
   },
   {
    "duration": 5,
    "start_time": "2021-12-26T16:29:53.076Z"
   },
   {
    "duration": 7,
    "start_time": "2021-12-26T16:29:53.800Z"
   },
   {
    "duration": 14,
    "start_time": "2021-12-26T16:29:54.835Z"
   },
   {
    "duration": 7,
    "start_time": "2021-12-26T16:29:55.834Z"
   },
   {
    "duration": 7,
    "start_time": "2021-12-26T16:29:56.795Z"
   },
   {
    "duration": 8,
    "start_time": "2021-12-26T16:29:57.275Z"
   },
   {
    "duration": 14,
    "start_time": "2021-12-26T16:29:58.825Z"
   },
   {
    "duration": 12,
    "start_time": "2021-12-26T16:29:59.728Z"
   },
   {
    "duration": 5,
    "start_time": "2021-12-26T16:30:00.346Z"
   },
   {
    "duration": 178,
    "start_time": "2021-12-26T16:30:00.771Z"
   },
   {
    "duration": 17,
    "start_time": "2021-12-26T16:30:03.402Z"
   },
   {
    "duration": 6,
    "start_time": "2021-12-26T16:30:03.979Z"
   },
   {
    "duration": 10,
    "start_time": "2021-12-26T16:30:04.379Z"
   },
   {
    "duration": 7,
    "start_time": "2021-12-26T16:30:04.811Z"
   },
   {
    "duration": 5,
    "start_time": "2021-12-26T16:30:05.009Z"
   },
   {
    "duration": 9,
    "start_time": "2021-12-26T16:30:06.592Z"
   },
   {
    "duration": 3756,
    "start_time": "2021-12-26T16:30:06.988Z"
   },
   {
    "duration": 25,
    "start_time": "2021-12-26T16:30:10.746Z"
   },
   {
    "duration": 4445,
    "start_time": "2021-12-26T16:30:10.773Z"
   },
   {
    "duration": 8,
    "start_time": "2021-12-26T16:30:15.220Z"
   },
   {
    "duration": 17,
    "start_time": "2021-12-26T16:30:15.230Z"
   },
   {
    "duration": 15,
    "start_time": "2021-12-26T16:30:15.250Z"
   },
   {
    "duration": 407,
    "start_time": "2021-12-26T16:30:15.268Z"
   },
   {
    "duration": 8,
    "start_time": "2021-12-26T16:30:15.677Z"
   },
   {
    "duration": 14,
    "start_time": "2021-12-26T16:30:17.105Z"
   },
   {
    "duration": 8,
    "start_time": "2021-12-26T16:30:31.488Z"
   },
   {
    "duration": 15,
    "start_time": "2021-12-26T16:30:33.321Z"
   },
   {
    "duration": 682,
    "start_time": "2021-12-26T16:50:53.444Z"
   },
   {
    "duration": 7,
    "start_time": "2021-12-26T16:50:54.405Z"
   },
   {
    "duration": 6,
    "start_time": "2021-12-26T16:50:54.757Z"
   },
   {
    "duration": 9,
    "start_time": "2021-12-26T16:50:55.067Z"
   },
   {
    "duration": 6,
    "start_time": "2021-12-26T16:50:55.395Z"
   },
   {
    "duration": 7,
    "start_time": "2021-12-26T16:50:55.747Z"
   },
   {
    "duration": 5,
    "start_time": "2021-12-26T16:50:56.104Z"
   },
   {
    "duration": 7,
    "start_time": "2021-12-26T16:50:56.488Z"
   },
   {
    "duration": 14,
    "start_time": "2021-12-26T16:50:56.864Z"
   },
   {
    "duration": 7,
    "start_time": "2021-12-26T16:50:57.268Z"
   },
   {
    "duration": 9,
    "start_time": "2021-12-26T16:50:57.648Z"
   },
   {
    "duration": 9,
    "start_time": "2021-12-26T16:50:58.026Z"
   },
   {
    "duration": 14,
    "start_time": "2021-12-26T16:50:59.182Z"
   },
   {
    "duration": 12,
    "start_time": "2021-12-26T16:51:00.314Z"
   },
   {
    "duration": 4,
    "start_time": "2021-12-26T16:51:01.194Z"
   },
   {
    "duration": 107,
    "start_time": "2021-12-26T16:51:01.906Z"
   },
   {
    "duration": 17,
    "start_time": "2021-12-26T16:51:04.620Z"
   },
   {
    "duration": 7,
    "start_time": "2021-12-26T16:51:05.484Z"
   },
   {
    "duration": 10,
    "start_time": "2021-12-26T16:51:05.848Z"
   },
   {
    "duration": 6,
    "start_time": "2021-12-26T16:51:06.239Z"
   },
   {
    "duration": 5,
    "start_time": "2021-12-26T16:51:06.435Z"
   },
   {
    "duration": 8,
    "start_time": "2021-12-26T16:51:08.258Z"
   },
   {
    "duration": 3609,
    "start_time": "2021-12-26T16:51:09.084Z"
   },
   {
    "duration": 17,
    "start_time": "2021-12-26T16:51:12.696Z"
   },
   {
    "duration": 4392,
    "start_time": "2021-12-26T16:51:12.715Z"
   },
   {
    "duration": 9,
    "start_time": "2021-12-26T16:51:17.109Z"
   },
   {
    "duration": 14,
    "start_time": "2021-12-26T16:51:17.119Z"
   },
   {
    "duration": 8,
    "start_time": "2021-12-26T16:51:26.389Z"
   },
   {
    "duration": 3569,
    "start_time": "2021-12-26T16:51:30.261Z"
   },
   {
    "duration": 17,
    "start_time": "2021-12-26T16:51:37.663Z"
   },
   {
    "duration": 4302,
    "start_time": "2021-12-26T16:51:38.871Z"
   },
   {
    "duration": 8,
    "start_time": "2021-12-26T16:51:43.175Z"
   },
   {
    "duration": 3424,
    "start_time": "2021-12-26T16:51:48.261Z"
   },
   {
    "duration": 8,
    "start_time": "2021-12-26T16:51:52.295Z"
   },
   {
    "duration": 8,
    "start_time": "2021-12-26T16:51:54.589Z"
   },
   {
    "duration": 13,
    "start_time": "2021-12-26T16:51:56.647Z"
   },
   {
    "duration": 5,
    "start_time": "2021-12-26T16:52:05.159Z"
   },
   {
    "duration": 241,
    "start_time": "2021-12-26T16:52:06.748Z"
   },
   {
    "duration": 7,
    "start_time": "2021-12-26T16:52:07.928Z"
   },
   {
    "duration": 5,
    "start_time": "2021-12-26T16:52:34.331Z"
   },
   {
    "duration": 267,
    "start_time": "2021-12-26T16:52:34.711Z"
   },
   {
    "duration": 9,
    "start_time": "2021-12-26T16:52:35.299Z"
   },
   {
    "duration": 5,
    "start_time": "2021-12-26T16:52:41.304Z"
   },
   {
    "duration": 233,
    "start_time": "2021-12-26T16:52:41.704Z"
   },
   {
    "duration": 8,
    "start_time": "2021-12-26T16:52:42.659Z"
   },
   {
    "duration": 5,
    "start_time": "2021-12-26T16:52:53.757Z"
   },
   {
    "duration": 251,
    "start_time": "2021-12-26T16:52:54.150Z"
   },
   {
    "duration": 8,
    "start_time": "2021-12-26T16:52:54.567Z"
   },
   {
    "duration": 5,
    "start_time": "2021-12-26T16:53:03.355Z"
   },
   {
    "duration": 293,
    "start_time": "2021-12-26T16:53:04.638Z"
   },
   {
    "duration": 8,
    "start_time": "2021-12-26T16:53:05.584Z"
   },
   {
    "duration": 8,
    "start_time": "2021-12-26T16:53:11.355Z"
   },
   {
    "duration": 13,
    "start_time": "2021-12-26T16:53:11.896Z"
   },
   {
    "duration": 405,
    "start_time": "2021-12-26T17:14:07.213Z"
   },
   {
    "duration": 307,
    "start_time": "2021-12-26T17:16:00.143Z"
   },
   {
    "duration": 269,
    "start_time": "2021-12-26T17:16:36.927Z"
   },
   {
    "duration": 260,
    "start_time": "2021-12-26T17:17:33.602Z"
   },
   {
    "duration": 295,
    "start_time": "2021-12-26T17:17:41.349Z"
   },
   {
    "duration": 3,
    "start_time": "2021-12-26T17:22:16.658Z"
   },
   {
    "duration": 248,
    "start_time": "2021-12-26T17:22:28.474Z"
   },
   {
    "duration": 13,
    "start_time": "2021-12-26T17:22:41.076Z"
   },
   {
    "duration": 641,
    "start_time": "2021-12-26T17:22:54.904Z"
   },
   {
    "duration": 22,
    "start_time": "2021-12-26T17:22:55.547Z"
   },
   {
    "duration": 24,
    "start_time": "2021-12-26T17:23:11.380Z"
   },
   {
    "duration": 369,
    "start_time": "2021-12-26T17:39:46.330Z"
   },
   {
    "duration": 463,
    "start_time": "2021-12-26T17:40:05.828Z"
   },
   {
    "duration": 299,
    "start_time": "2021-12-26T17:40:11.516Z"
   },
   {
    "duration": 6,
    "start_time": "2021-12-26T17:40:31.576Z"
   },
   {
    "duration": 84,
    "start_time": "2021-12-26T17:40:49.407Z"
   },
   {
    "duration": 5,
    "start_time": "2021-12-26T17:40:53.794Z"
   },
   {
    "duration": 5,
    "start_time": "2021-12-26T17:41:17.845Z"
   },
   {
    "duration": 5,
    "start_time": "2021-12-26T17:41:25.788Z"
   },
   {
    "duration": 5,
    "start_time": "2021-12-26T17:41:34.155Z"
   },
   {
    "duration": 5,
    "start_time": "2021-12-26T17:41:42.059Z"
   },
   {
    "duration": 86,
    "start_time": "2021-12-26T17:42:58.213Z"
   },
   {
    "duration": 3,
    "start_time": "2021-12-26T17:42:58.577Z"
   },
   {
    "duration": 4,
    "start_time": "2021-12-26T17:43:02.688Z"
   },
   {
    "duration": 369,
    "start_time": "2021-12-26T17:43:03.080Z"
   },
   {
    "duration": 37,
    "start_time": "2021-12-26T17:43:04.850Z"
   },
   {
    "duration": 8,
    "start_time": "2021-12-26T17:44:30.340Z"
   },
   {
    "duration": 21,
    "start_time": "2021-12-26T18:02:33.606Z"
   },
   {
    "duration": 291,
    "start_time": "2021-12-26T18:03:03.420Z"
   },
   {
    "duration": 6,
    "start_time": "2021-12-26T18:03:14.702Z"
   },
   {
    "duration": 881,
    "start_time": "2021-12-26T18:08:06.991Z"
   },
   {
    "duration": 262,
    "start_time": "2021-12-26T18:08:22.697Z"
   },
   {
    "duration": 308,
    "start_time": "2021-12-26T18:08:47.569Z"
   },
   {
    "duration": 611,
    "start_time": "2021-12-26T18:09:04.175Z"
   },
   {
    "duration": 622,
    "start_time": "2021-12-26T18:09:52.440Z"
   },
   {
    "duration": 982,
    "start_time": "2021-12-26T18:10:39.210Z"
   },
   {
    "duration": 30,
    "start_time": "2021-12-26T18:18:55.177Z"
   },
   {
    "duration": 29,
    "start_time": "2021-12-26T18:19:12.009Z"
   },
   {
    "duration": 6759,
    "start_time": "2021-12-26T18:19:30.857Z"
   },
   {
    "duration": 6920,
    "start_time": "2021-12-26T18:20:04.587Z"
   },
   {
    "duration": 7482,
    "start_time": "2021-12-26T18:20:23.799Z"
   },
   {
    "duration": 6,
    "start_time": "2021-12-26T18:21:04.839Z"
   },
   {
    "duration": 579,
    "start_time": "2021-12-26T18:21:30.213Z"
   },
   {
    "duration": 22,
    "start_time": "2021-12-26T18:23:25.823Z"
   },
   {
    "duration": 6,
    "start_time": "2021-12-26T18:23:27.604Z"
   },
   {
    "duration": 643,
    "start_time": "2021-12-26T18:23:50.112Z"
   },
   {
    "duration": 17,
    "start_time": "2021-12-26T18:25:46.906Z"
   },
   {
    "duration": 6,
    "start_time": "2021-12-26T18:26:01.517Z"
   },
   {
    "duration": 10,
    "start_time": "2021-12-26T18:26:28.856Z"
   },
   {
    "duration": 6,
    "start_time": "2021-12-26T18:26:39.811Z"
   },
   {
    "duration": 5,
    "start_time": "2021-12-26T18:26:48.701Z"
   },
   {
    "duration": 293,
    "start_time": "2021-12-26T18:33:56.411Z"
   },
   {
    "duration": 698,
    "start_time": "2021-12-26T18:34:02.078Z"
   },
   {
    "duration": 779,
    "start_time": "2021-12-26T18:38:21.856Z"
   },
   {
    "duration": 10,
    "start_time": "2021-12-26T18:38:24.755Z"
   },
   {
    "duration": 8,
    "start_time": "2021-12-26T18:38:26.438Z"
   },
   {
    "duration": 16,
    "start_time": "2021-12-26T18:38:27.957Z"
   },
   {
    "duration": 8,
    "start_time": "2021-12-26T18:38:29.683Z"
   },
   {
    "duration": 8,
    "start_time": "2021-12-26T18:38:30.589Z"
   },
   {
    "duration": 6,
    "start_time": "2021-12-26T18:38:31.557Z"
   },
   {
    "duration": 13,
    "start_time": "2021-12-26T18:38:32.264Z"
   },
   {
    "duration": 14,
    "start_time": "2021-12-26T18:38:32.793Z"
   },
   {
    "duration": 7,
    "start_time": "2021-12-26T18:38:33.196Z"
   },
   {
    "duration": 13,
    "start_time": "2021-12-26T18:38:34.159Z"
   },
   {
    "duration": 10,
    "start_time": "2021-12-26T18:38:35.511Z"
   },
   {
    "duration": 26,
    "start_time": "2021-12-26T18:38:38.265Z"
   },
   {
    "duration": 12,
    "start_time": "2021-12-26T18:38:40.903Z"
   },
   {
    "duration": 4,
    "start_time": "2021-12-26T18:38:42.014Z"
   },
   {
    "duration": 117,
    "start_time": "2021-12-26T18:38:42.418Z"
   },
   {
    "duration": 40,
    "start_time": "2021-12-26T18:38:57.249Z"
   },
   {
    "duration": 7,
    "start_time": "2021-12-26T18:38:58.506Z"
   },
   {
    "duration": 7,
    "start_time": "2021-12-26T18:39:37.703Z"
   },
   {
    "duration": 11,
    "start_time": "2021-12-26T18:39:39.040Z"
   },
   {
    "duration": 7,
    "start_time": "2021-12-26T18:39:40.065Z"
   },
   {
    "duration": 5,
    "start_time": "2021-12-26T18:39:40.835Z"
   },
   {
    "duration": 13,
    "start_time": "2021-12-26T18:39:43.372Z"
   },
   {
    "duration": 3941,
    "start_time": "2021-12-26T18:39:45.408Z"
   },
   {
    "duration": 26,
    "start_time": "2021-12-26T18:39:55.104Z"
   },
   {
    "duration": 4887,
    "start_time": "2021-12-26T18:39:56.593Z"
   },
   {
    "duration": 10,
    "start_time": "2021-12-26T18:40:01.483Z"
   },
   {
    "duration": 26,
    "start_time": "2021-12-26T18:40:01.495Z"
   },
   {
    "duration": 5,
    "start_time": "2021-12-26T18:40:01.524Z"
   },
   {
    "duration": 306,
    "start_time": "2021-12-26T18:40:07.801Z"
   },
   {
    "duration": 7,
    "start_time": "2021-12-26T18:42:04.578Z"
   },
   {
    "duration": 285,
    "start_time": "2021-12-26T18:42:05.479Z"
   },
   {
    "duration": 9,
    "start_time": "2021-12-26T18:42:06.354Z"
   },
   {
    "duration": 16,
    "start_time": "2021-12-26T18:42:07.780Z"
   },
   {
    "duration": 3,
    "start_time": "2021-12-26T18:42:21.674Z"
   },
   {
    "duration": 384,
    "start_time": "2021-12-26T18:42:22.236Z"
   },
   {
    "duration": 32,
    "start_time": "2021-12-26T18:42:22.947Z"
   },
   {
    "duration": 11,
    "start_time": "2021-12-26T18:42:25.474Z"
   },
   {
    "duration": 1268,
    "start_time": "2021-12-26T18:42:31.377Z"
   },
   {
    "duration": 22,
    "start_time": "2021-12-26T18:43:44.189Z"
   },
   {
    "duration": 362,
    "start_time": "2021-12-26T18:43:45.483Z"
   },
   {
    "duration": 22,
    "start_time": "2021-12-26T18:43:56.525Z"
   },
   {
    "duration": 10,
    "start_time": "2021-12-26T18:43:57.721Z"
   },
   {
    "duration": 773,
    "start_time": "2021-12-26T18:43:58.337Z"
   },
   {
    "duration": 25,
    "start_time": "2021-12-26T18:44:17.937Z"
   },
   {
    "duration": 6,
    "start_time": "2021-12-26T18:44:22.692Z"
   },
   {
    "duration": 8,
    "start_time": "2021-12-26T18:44:28.390Z"
   },
   {
    "duration": 676,
    "start_time": "2021-12-26T18:44:29.121Z"
   },
   {
    "duration": 21,
    "start_time": "2021-12-26T18:45:08.390Z"
   },
   {
    "duration": 4,
    "start_time": "2021-12-26T18:45:12.134Z"
   },
   {
    "duration": 579,
    "start_time": "2021-12-26T18:45:14.122Z"
   },
   {
    "duration": 29,
    "start_time": "2021-12-26T18:45:23.056Z"
   },
   {
    "duration": 7,
    "start_time": "2021-12-26T18:45:24.390Z"
   },
   {
    "duration": 717,
    "start_time": "2021-12-26T18:45:25.846Z"
   },
   {
    "duration": 999,
    "start_time": "2021-12-27T17:03:17.428Z"
   },
   {
    "duration": 8,
    "start_time": "2021-12-27T17:03:18.430Z"
   },
   {
    "duration": 27,
    "start_time": "2021-12-27T17:03:18.442Z"
   },
   {
    "duration": 11,
    "start_time": "2021-12-27T17:03:18.472Z"
   },
   {
    "duration": 22,
    "start_time": "2021-12-27T17:03:18.486Z"
   },
   {
    "duration": 10,
    "start_time": "2021-12-27T17:03:18.510Z"
   },
   {
    "duration": 41,
    "start_time": "2021-12-27T17:03:18.522Z"
   },
   {
    "duration": 11,
    "start_time": "2021-12-27T17:03:18.565Z"
   },
   {
    "duration": 29,
    "start_time": "2021-12-27T17:03:18.583Z"
   },
   {
    "duration": 48,
    "start_time": "2021-12-27T17:03:18.616Z"
   },
   {
    "duration": 8,
    "start_time": "2021-12-27T17:03:18.666Z"
   },
   {
    "duration": 13,
    "start_time": "2021-12-27T17:03:18.676Z"
   },
   {
    "duration": 22,
    "start_time": "2021-12-27T17:03:18.692Z"
   },
   {
    "duration": 61,
    "start_time": "2021-12-27T17:03:18.717Z"
   },
   {
    "duration": 8,
    "start_time": "2021-12-27T17:03:18.781Z"
   },
   {
    "duration": 192,
    "start_time": "2021-12-27T17:03:18.791Z"
   },
   {
    "duration": 28,
    "start_time": "2021-12-27T17:03:18.985Z"
   },
   {
    "duration": 8,
    "start_time": "2021-12-27T17:03:19.017Z"
   },
   {
    "duration": 45,
    "start_time": "2021-12-27T17:03:19.028Z"
   },
   {
    "duration": 8,
    "start_time": "2021-12-27T17:03:19.076Z"
   },
   {
    "duration": 5,
    "start_time": "2021-12-27T17:03:19.087Z"
   },
   {
    "duration": 12,
    "start_time": "2021-12-27T17:03:19.094Z"
   },
   {
    "duration": 4607,
    "start_time": "2021-12-27T17:03:19.109Z"
   },
   {
    "duration": 44,
    "start_time": "2021-12-27T17:03:23.719Z"
   },
   {
    "duration": 5839,
    "start_time": "2021-12-27T17:03:23.765Z"
   },
   {
    "duration": 16,
    "start_time": "2021-12-27T17:03:29.608Z"
   },
   {
    "duration": 37,
    "start_time": "2021-12-27T17:03:29.630Z"
   },
   {
    "duration": 7,
    "start_time": "2021-12-27T17:03:29.670Z"
   },
   {
    "duration": 433,
    "start_time": "2021-12-27T17:03:29.679Z"
   },
   {
    "duration": 10,
    "start_time": "2021-12-27T17:03:30.114Z"
   },
   {
    "duration": 40,
    "start_time": "2021-12-27T17:03:30.127Z"
   },
   {
    "duration": 8,
    "start_time": "2021-12-27T17:03:30.170Z"
   },
   {
    "duration": 609,
    "start_time": "2021-12-27T17:03:30.181Z"
   },
   {
    "duration": 39,
    "start_time": "2021-12-27T17:03:30.793Z"
   },
   {
    "duration": 32,
    "start_time": "2021-12-27T17:03:30.834Z"
   },
   {
    "duration": 1802,
    "start_time": "2021-12-27T17:03:30.869Z"
   },
   {
    "duration": 31,
    "start_time": "2021-12-27T17:03:32.674Z"
   },
   {
    "duration": 9,
    "start_time": "2021-12-27T17:03:32.707Z"
   },
   {
    "duration": 1075,
    "start_time": "2021-12-27T17:03:32.718Z"
   },
   {
    "duration": 31,
    "start_time": "2021-12-27T17:03:33.796Z"
   },
   {
    "duration": 6,
    "start_time": "2021-12-27T17:03:33.830Z"
   },
   {
    "duration": 867,
    "start_time": "2021-12-27T17:03:33.864Z"
   },
   {
    "duration": 43,
    "start_time": "2021-12-27T17:03:34.733Z"
   },
   {
    "duration": 8,
    "start_time": "2021-12-27T17:03:34.778Z"
   },
   {
    "duration": 1013,
    "start_time": "2021-12-27T17:03:34.789Z"
   },
   {
    "duration": 905,
    "start_time": "2021-12-27T17:43:08.173Z"
   },
   {
    "duration": 9,
    "start_time": "2021-12-27T17:43:09.081Z"
   },
   {
    "duration": 27,
    "start_time": "2021-12-27T17:43:09.093Z"
   },
   {
    "duration": 17,
    "start_time": "2021-12-27T17:43:09.123Z"
   },
   {
    "duration": 36,
    "start_time": "2021-12-27T17:43:09.142Z"
   },
   {
    "duration": 23,
    "start_time": "2021-12-27T17:43:09.181Z"
   },
   {
    "duration": 31,
    "start_time": "2021-12-27T17:43:09.207Z"
   },
   {
    "duration": 31,
    "start_time": "2021-12-27T17:43:09.243Z"
   },
   {
    "duration": 27,
    "start_time": "2021-12-27T17:43:09.277Z"
   },
   {
    "duration": 17,
    "start_time": "2021-12-27T17:43:09.307Z"
   },
   {
    "duration": 16,
    "start_time": "2021-12-27T17:43:09.326Z"
   },
   {
    "duration": 22,
    "start_time": "2021-12-27T17:43:09.344Z"
   },
   {
    "duration": 22,
    "start_time": "2021-12-27T17:43:09.369Z"
   },
   {
    "duration": 22,
    "start_time": "2021-12-27T17:43:09.395Z"
   },
   {
    "duration": 42,
    "start_time": "2021-12-27T17:43:09.421Z"
   },
   {
    "duration": 197,
    "start_time": "2021-12-27T17:43:09.466Z"
   },
   {
    "duration": 16,
    "start_time": "2021-12-27T17:43:09.665Z"
   },
   {
    "duration": 24,
    "start_time": "2021-12-27T17:43:09.685Z"
   },
   {
    "duration": 51,
    "start_time": "2021-12-27T17:43:09.712Z"
   },
   {
    "duration": 16,
    "start_time": "2021-12-27T17:43:09.766Z"
   },
   {
    "duration": 9,
    "start_time": "2021-12-27T17:43:09.785Z"
   },
   {
    "duration": 7,
    "start_time": "2021-12-27T17:43:09.797Z"
   },
   {
    "duration": 58,
    "start_time": "2021-12-27T17:43:09.812Z"
   },
   {
    "duration": 4571,
    "start_time": "2021-12-27T17:43:09.874Z"
   },
   {
    "duration": 44,
    "start_time": "2021-12-27T17:43:14.449Z"
   },
   {
    "duration": 5896,
    "start_time": "2021-12-27T17:43:14.496Z"
   },
   {
    "duration": 11,
    "start_time": "2021-12-27T17:43:20.395Z"
   },
   {
    "duration": 22,
    "start_time": "2021-12-27T17:43:20.409Z"
   },
   {
    "duration": 32,
    "start_time": "2021-12-27T17:43:20.434Z"
   },
   {
    "duration": 426,
    "start_time": "2021-12-27T17:43:20.469Z"
   },
   {
    "duration": 10,
    "start_time": "2021-12-27T17:43:20.898Z"
   },
   {
    "duration": 36,
    "start_time": "2021-12-27T17:43:20.910Z"
   },
   {
    "duration": 15,
    "start_time": "2021-12-27T17:43:20.948Z"
   },
   {
    "duration": 701,
    "start_time": "2021-12-27T17:43:20.966Z"
   },
   {
    "duration": 40,
    "start_time": "2021-12-27T17:43:21.669Z"
   },
   {
    "duration": 11,
    "start_time": "2021-12-27T17:43:21.712Z"
   },
   {
    "duration": 1797,
    "start_time": "2021-12-27T17:43:21.725Z"
   },
   {
    "duration": 51,
    "start_time": "2021-12-27T17:43:23.525Z"
   },
   {
    "duration": 8,
    "start_time": "2021-12-27T17:43:23.579Z"
   },
   {
    "duration": 1063,
    "start_time": "2021-12-27T17:43:23.589Z"
   },
   {
    "duration": 35,
    "start_time": "2021-12-27T17:43:24.654Z"
   },
   {
    "duration": 7,
    "start_time": "2021-12-27T17:43:24.692Z"
   },
   {
    "duration": 873,
    "start_time": "2021-12-27T17:43:24.702Z"
   },
   {
    "duration": 34,
    "start_time": "2021-12-27T17:43:25.578Z"
   },
   {
    "duration": 9,
    "start_time": "2021-12-27T17:43:25.615Z"
   },
   {
    "duration": 1010,
    "start_time": "2021-12-27T17:43:25.627Z"
   },
   {
    "duration": 27,
    "start_time": "2021-12-27T17:44:45.900Z"
   },
   {
    "duration": 15,
    "start_time": "2021-12-27T17:44:52.694Z"
   },
   {
    "duration": 11,
    "start_time": "2021-12-27T17:45:16.220Z"
   },
   {
    "duration": 318,
    "start_time": "2021-12-27T18:47:08.729Z"
   },
   {
    "duration": 925,
    "start_time": "2021-12-27T18:47:16.094Z"
   },
   {
    "duration": 8,
    "start_time": "2021-12-27T18:47:19.814Z"
   },
   {
    "duration": 9,
    "start_time": "2021-12-27T18:47:20.231Z"
   },
   {
    "duration": 9,
    "start_time": "2021-12-27T18:47:20.584Z"
   },
   {
    "duration": 8,
    "start_time": "2021-12-27T18:47:21.168Z"
   },
   {
    "duration": 10,
    "start_time": "2021-12-27T18:47:21.557Z"
   },
   {
    "duration": 8,
    "start_time": "2021-12-27T18:47:22.231Z"
   },
   {
    "duration": 9,
    "start_time": "2021-12-27T18:47:22.607Z"
   },
   {
    "duration": 18,
    "start_time": "2021-12-27T18:47:23.120Z"
   },
   {
    "duration": 10,
    "start_time": "2021-12-27T18:47:23.685Z"
   },
   {
    "duration": 7,
    "start_time": "2021-12-27T18:47:24.069Z"
   },
   {
    "duration": 10,
    "start_time": "2021-12-27T18:47:24.656Z"
   },
   {
    "duration": 25,
    "start_time": "2021-12-27T18:47:26.864Z"
   },
   {
    "duration": 19,
    "start_time": "2021-12-27T18:47:28.468Z"
   },
   {
    "duration": 6,
    "start_time": "2021-12-27T18:47:29.333Z"
   },
   {
    "duration": 177,
    "start_time": "2021-12-27T18:47:29.548Z"
   },
   {
    "duration": 16,
    "start_time": "2021-12-27T18:47:31.264Z"
   },
   {
    "duration": 325,
    "start_time": "2021-12-27T18:52:26.933Z"
   },
   {
    "duration": 859,
    "start_time": "2021-12-27T18:53:00.539Z"
   },
   {
    "duration": 8,
    "start_time": "2021-12-27T18:53:02.585Z"
   },
   {
    "duration": 10,
    "start_time": "2021-12-27T18:53:03.096Z"
   },
   {
    "duration": 10,
    "start_time": "2021-12-27T18:53:03.436Z"
   },
   {
    "duration": 8,
    "start_time": "2021-12-27T18:53:03.777Z"
   },
   {
    "duration": 10,
    "start_time": "2021-12-27T18:53:04.139Z"
   },
   {
    "duration": 8,
    "start_time": "2021-12-27T18:53:04.548Z"
   },
   {
    "duration": 10,
    "start_time": "2021-12-27T18:53:04.922Z"
   },
   {
    "duration": 21,
    "start_time": "2021-12-27T18:53:05.287Z"
   },
   {
    "duration": 14,
    "start_time": "2021-12-27T18:53:05.705Z"
   },
   {
    "duration": 9,
    "start_time": "2021-12-27T18:53:06.080Z"
   },
   {
    "duration": 11,
    "start_time": "2021-12-27T18:53:06.495Z"
   },
   {
    "duration": 338,
    "start_time": "2021-12-27T18:53:08.808Z"
   },
   {
    "duration": 340,
    "start_time": "2021-12-27T18:53:18.273Z"
   },
   {
    "duration": 325,
    "start_time": "2021-12-27T18:53:51.504Z"
   },
   {
    "duration": 864,
    "start_time": "2021-12-27T18:53:58.525Z"
   },
   {
    "duration": 8,
    "start_time": "2021-12-27T18:53:59.622Z"
   },
   {
    "duration": 8,
    "start_time": "2021-12-27T18:54:00.407Z"
   },
   {
    "duration": 12,
    "start_time": "2021-12-27T18:54:00.986Z"
   },
   {
    "duration": 10,
    "start_time": "2021-12-27T18:54:01.580Z"
   },
   {
    "duration": 10,
    "start_time": "2021-12-27T18:54:02.123Z"
   },
   {
    "duration": 8,
    "start_time": "2021-12-27T18:54:02.691Z"
   },
   {
    "duration": 10,
    "start_time": "2021-12-27T18:54:03.228Z"
   },
   {
    "duration": 20,
    "start_time": "2021-12-27T18:54:03.789Z"
   },
   {
    "duration": 10,
    "start_time": "2021-12-27T18:54:04.346Z"
   },
   {
    "duration": 10,
    "start_time": "2021-12-27T18:54:04.886Z"
   },
   {
    "duration": 12,
    "start_time": "2021-12-27T18:54:05.473Z"
   },
   {
    "duration": 28,
    "start_time": "2021-12-27T18:54:08.083Z"
   },
   {
    "duration": 11,
    "start_time": "2021-12-27T18:54:41.539Z"
   },
   {
    "duration": 5,
    "start_time": "2021-12-27T18:54:52.184Z"
   },
   {
    "duration": 6,
    "start_time": "2021-12-27T18:54:56.276Z"
   },
   {
    "duration": 7,
    "start_time": "2021-12-27T18:55:01.454Z"
   },
   {
    "duration": 17,
    "start_time": "2021-12-27T18:55:06.828Z"
   },
   {
    "duration": 18,
    "start_time": "2021-12-27T18:55:09.724Z"
   },
   {
    "duration": 28,
    "start_time": "2021-12-27T18:55:15.629Z"
   },
   {
    "duration": 437,
    "start_time": "2021-12-27T18:55:26.002Z"
   },
   {
    "duration": 23,
    "start_time": "2021-12-27T18:55:30.767Z"
   },
   {
    "duration": 21,
    "start_time": "2021-12-27T18:55:32.379Z"
   },
   {
    "duration": 23,
    "start_time": "2021-12-27T18:55:34.327Z"
   },
   {
    "duration": 9,
    "start_time": "2021-12-27T18:56:42.338Z"
   },
   {
    "duration": 13,
    "start_time": "2021-12-27T18:57:02.329Z"
   },
   {
    "duration": 23,
    "start_time": "2021-12-27T18:57:09.291Z"
   },
   {
    "duration": 22,
    "start_time": "2021-12-27T18:57:11.367Z"
   },
   {
    "duration": 25,
    "start_time": "2021-12-27T18:57:36.675Z"
   },
   {
    "duration": 14,
    "start_time": "2021-12-27T18:57:40.844Z"
   },
   {
    "duration": 278,
    "start_time": "2021-12-27T19:04:18.181Z"
   },
   {
    "duration": 16,
    "start_time": "2021-12-27T19:04:34.728Z"
   },
   {
    "duration": 332,
    "start_time": "2021-12-27T19:08:48.496Z"
   },
   {
    "duration": 20,
    "start_time": "2021-12-27T19:08:52.278Z"
   },
   {
    "duration": 31,
    "start_time": "2021-12-27T19:09:04.802Z"
   },
   {
    "duration": 14,
    "start_time": "2021-12-27T19:09:14.080Z"
   },
   {
    "duration": 24,
    "start_time": "2021-12-27T19:11:55.979Z"
   },
   {
    "duration": 22,
    "start_time": "2021-12-27T19:12:09.972Z"
   },
   {
    "duration": 37,
    "start_time": "2021-12-27T19:14:14.544Z"
   },
   {
    "duration": 52,
    "start_time": "2021-12-27T19:14:26.868Z"
   },
   {
    "duration": 23,
    "start_time": "2021-12-27T19:14:37.633Z"
   },
   {
    "duration": 282,
    "start_time": "2021-12-27T19:20:00.514Z"
   },
   {
    "duration": 311,
    "start_time": "2021-12-27T19:20:32.393Z"
   },
   {
    "duration": 20,
    "start_time": "2021-12-27T19:20:40.863Z"
   },
   {
    "duration": 23,
    "start_time": "2021-12-27T19:20:57.207Z"
   },
   {
    "duration": 19,
    "start_time": "2021-12-27T19:23:27.252Z"
   },
   {
    "duration": 9,
    "start_time": "2021-12-27T19:23:36.234Z"
   },
   {
    "duration": 11,
    "start_time": "2021-12-27T19:24:16.868Z"
   },
   {
    "duration": 12,
    "start_time": "2021-12-27T19:24:23.269Z"
   },
   {
    "duration": 7249,
    "start_time": "2021-12-27T19:24:37.289Z"
   },
   {
    "duration": 12,
    "start_time": "2021-12-27T19:24:50.629Z"
   },
   {
    "duration": 20,
    "start_time": "2021-12-27T19:25:11.182Z"
   },
   {
    "duration": 1692,
    "start_time": "2021-12-27T19:25:48.043Z"
   },
   {
    "duration": 262,
    "start_time": "2021-12-27T19:25:52.835Z"
   },
   {
    "duration": 254,
    "start_time": "2021-12-27T19:26:14.000Z"
   },
   {
    "duration": 1022,
    "start_time": "2021-12-27T19:26:31.936Z"
   },
   {
    "duration": 12,
    "start_time": "2021-12-27T19:26:50.361Z"
   },
   {
    "duration": 137,
    "start_time": "2021-12-27T19:27:13.186Z"
   },
   {
    "duration": 16,
    "start_time": "2021-12-27T19:27:26.432Z"
   },
   {
    "duration": 122,
    "start_time": "2021-12-27T19:27:34.287Z"
   },
   {
    "duration": 126,
    "start_time": "2021-12-27T19:27:37.191Z"
   },
   {
    "duration": 827,
    "start_time": "2021-12-27T19:27:47.130Z"
   },
   {
    "duration": 9,
    "start_time": "2021-12-27T19:27:49.283Z"
   },
   {
    "duration": 8,
    "start_time": "2021-12-27T19:27:50.623Z"
   },
   {
    "duration": 12,
    "start_time": "2021-12-27T19:27:51.230Z"
   },
   {
    "duration": 8,
    "start_time": "2021-12-27T19:27:51.639Z"
   },
   {
    "duration": 10,
    "start_time": "2021-12-27T19:27:52.211Z"
   },
   {
    "duration": 8,
    "start_time": "2021-12-27T19:27:52.641Z"
   },
   {
    "duration": 9,
    "start_time": "2021-12-27T19:27:53.202Z"
   },
   {
    "duration": 19,
    "start_time": "2021-12-27T19:27:53.571Z"
   },
   {
    "duration": 10,
    "start_time": "2021-12-27T19:27:53.956Z"
   },
   {
    "duration": 9,
    "start_time": "2021-12-27T19:27:54.535Z"
   },
   {
    "duration": 11,
    "start_time": "2021-12-27T19:27:55.134Z"
   },
   {
    "duration": 134,
    "start_time": "2021-12-27T19:27:57.176Z"
   },
   {
    "duration": 133,
    "start_time": "2021-12-27T19:28:30.777Z"
   },
   {
    "duration": 151,
    "start_time": "2021-12-27T19:29:56.567Z"
   },
   {
    "duration": 367,
    "start_time": "2021-12-27T19:30:08.496Z"
   },
   {
    "duration": 872,
    "start_time": "2021-12-27T19:30:18.376Z"
   },
   {
    "duration": 9,
    "start_time": "2021-12-27T19:30:19.479Z"
   },
   {
    "duration": 8,
    "start_time": "2021-12-27T19:30:20.209Z"
   },
   {
    "duration": 10,
    "start_time": "2021-12-27T19:30:20.622Z"
   },
   {
    "duration": 8,
    "start_time": "2021-12-27T19:30:21.270Z"
   },
   {
    "duration": 11,
    "start_time": "2021-12-27T19:30:21.777Z"
   },
   {
    "duration": 7,
    "start_time": "2021-12-27T19:30:22.638Z"
   },
   {
    "duration": 10,
    "start_time": "2021-12-27T19:30:22.990Z"
   },
   {
    "duration": 20,
    "start_time": "2021-12-27T19:30:23.344Z"
   },
   {
    "duration": 10,
    "start_time": "2021-12-27T19:30:23.776Z"
   },
   {
    "duration": 11,
    "start_time": "2021-12-27T19:30:24.285Z"
   },
   {
    "duration": 10,
    "start_time": "2021-12-27T19:30:24.843Z"
   },
   {
    "duration": 144,
    "start_time": "2021-12-27T19:30:31.262Z"
   },
   {
    "duration": 354,
    "start_time": "2021-12-27T19:30:53.769Z"
   },
   {
    "duration": 5,
    "start_time": "2021-12-27T19:30:57.221Z"
   },
   {
    "duration": 172,
    "start_time": "2021-12-27T19:30:57.816Z"
   },
   {
    "duration": 16,
    "start_time": "2021-12-27T19:31:48.595Z"
   },
   {
    "duration": 19,
    "start_time": "2021-12-27T19:31:58.040Z"
   },
   {
    "duration": 825,
    "start_time": "2021-12-27T19:32:12.146Z"
   },
   {
    "duration": 8,
    "start_time": "2021-12-27T19:32:12.973Z"
   },
   {
    "duration": 9,
    "start_time": "2021-12-27T19:32:13.358Z"
   },
   {
    "duration": 10,
    "start_time": "2021-12-27T19:32:13.758Z"
   },
   {
    "duration": 7,
    "start_time": "2021-12-27T19:32:14.108Z"
   },
   {
    "duration": 9,
    "start_time": "2021-12-27T19:32:14.513Z"
   },
   {
    "duration": 9,
    "start_time": "2021-12-27T19:32:14.873Z"
   },
   {
    "duration": 10,
    "start_time": "2021-12-27T19:32:15.235Z"
   },
   {
    "duration": 21,
    "start_time": "2021-12-27T19:32:15.659Z"
   },
   {
    "duration": 11,
    "start_time": "2021-12-27T19:32:16.054Z"
   },
   {
    "duration": 8,
    "start_time": "2021-12-27T19:32:16.462Z"
   },
   {
    "duration": 11,
    "start_time": "2021-12-27T19:32:16.824Z"
   },
   {
    "duration": 145,
    "start_time": "2021-12-27T19:32:21.522Z"
   },
   {
    "duration": 345,
    "start_time": "2021-12-27T19:32:40.476Z"
   },
   {
    "duration": 265,
    "start_time": "2021-12-27T19:32:47.353Z"
   },
   {
    "duration": 23,
    "start_time": "2021-12-27T19:33:04.990Z"
   },
   {
    "duration": 896,
    "start_time": "2021-12-27T19:33:29.011Z"
   },
   {
    "duration": 35,
    "start_time": "2021-12-27T19:33:37.407Z"
   },
   {
    "duration": 5,
    "start_time": "2021-12-27T19:34:04.833Z"
   },
   {
    "duration": 10,
    "start_time": "2021-12-27T19:34:33.022Z"
   },
   {
    "duration": 865,
    "start_time": "2021-12-27T19:41:05.813Z"
   },
   {
    "duration": 50,
    "start_time": "2021-12-27T19:41:12.992Z"
   },
   {
    "duration": 12,
    "start_time": "2021-12-27T19:42:25.282Z"
   },
   {
    "duration": 10,
    "start_time": "2021-12-27T19:43:21.884Z"
   },
   {
    "duration": 10,
    "start_time": "2021-12-27T19:43:24.078Z"
   },
   {
    "duration": 10,
    "start_time": "2021-12-27T19:46:13.917Z"
   },
   {
    "duration": 8,
    "start_time": "2021-12-27T19:46:24.375Z"
   },
   {
    "duration": 891,
    "start_time": "2021-12-27T19:48:48.506Z"
   },
   {
    "duration": 347,
    "start_time": "2021-12-27T19:48:52.225Z"
   },
   {
    "duration": 868,
    "start_time": "2021-12-27T19:50:23.411Z"
   },
   {
    "duration": 352,
    "start_time": "2021-12-27T19:50:26.526Z"
   },
   {
    "duration": 1058,
    "start_time": "2021-12-27T19:51:19.947Z"
   },
   {
    "duration": 8,
    "start_time": "2021-12-27T19:51:23.944Z"
   },
   {
    "duration": 348,
    "start_time": "2021-12-27T19:51:27.981Z"
   },
   {
    "duration": 262,
    "start_time": "2021-12-27T19:51:38.753Z"
   },
   {
    "duration": 262,
    "start_time": "2021-12-27T19:52:32.456Z"
   },
   {
    "duration": 310,
    "start_time": "2021-12-27T19:54:05.992Z"
   },
   {
    "duration": 11,
    "start_time": "2021-12-27T19:54:38.463Z"
   },
   {
    "duration": 257,
    "start_time": "2021-12-27T19:55:19.508Z"
   },
   {
    "duration": 257,
    "start_time": "2021-12-27T19:55:36.608Z"
   },
   {
    "duration": 295,
    "start_time": "2021-12-27T19:55:44.899Z"
   },
   {
    "duration": 50,
    "start_time": "2021-12-27T19:55:58.856Z"
   },
   {
    "duration": 12,
    "start_time": "2021-12-27T19:56:04.035Z"
   },
   {
    "duration": 18,
    "start_time": "2021-12-27T19:58:25.063Z"
   },
   {
    "duration": 18,
    "start_time": "2021-12-27T20:00:09.429Z"
   },
   {
    "duration": 6,
    "start_time": "2021-12-27T20:00:12.394Z"
   },
   {
    "duration": 159,
    "start_time": "2021-12-27T20:00:13.270Z"
   },
   {
    "duration": 14,
    "start_time": "2021-12-27T20:00:18.953Z"
   },
   {
    "duration": 911,
    "start_time": "2021-12-27T20:00:49.880Z"
   },
   {
    "duration": 8,
    "start_time": "2021-12-27T20:00:53.250Z"
   },
   {
    "duration": 77,
    "start_time": "2021-12-27T20:00:54.720Z"
   },
   {
    "duration": 13,
    "start_time": "2021-12-27T20:00:56.336Z"
   },
   {
    "duration": 19,
    "start_time": "2021-12-27T20:06:34.208Z"
   },
   {
    "duration": 5,
    "start_time": "2021-12-27T20:06:36.207Z"
   },
   {
    "duration": 213,
    "start_time": "2021-12-27T20:06:37.631Z"
   },
   {
    "duration": 16,
    "start_time": "2021-12-27T20:06:42.537Z"
   },
   {
    "duration": 34,
    "start_time": "2021-12-27T20:06:48.936Z"
   },
   {
    "duration": 9,
    "start_time": "2021-12-27T20:06:51.703Z"
   },
   {
    "duration": 14,
    "start_time": "2021-12-27T20:06:53.523Z"
   },
   {
    "duration": 10,
    "start_time": "2021-12-27T20:06:55.818Z"
   },
   {
    "duration": 6,
    "start_time": "2021-12-27T20:07:00.686Z"
   },
   {
    "duration": 10,
    "start_time": "2021-12-27T20:11:10.506Z"
   },
   {
    "duration": 13,
    "start_time": "2021-12-27T20:11:49.720Z"
   },
   {
    "duration": 22,
    "start_time": "2021-12-27T20:12:36.280Z"
   },
   {
    "duration": 8,
    "start_time": "2021-12-27T20:13:06.402Z"
   },
   {
    "duration": 12,
    "start_time": "2021-12-27T20:13:13.521Z"
   },
   {
    "duration": 18,
    "start_time": "2021-12-27T20:13:18.014Z"
   },
   {
    "duration": 8,
    "start_time": "2021-12-27T20:13:21.908Z"
   },
   {
    "duration": 14,
    "start_time": "2021-12-27T20:13:24.423Z"
   },
   {
    "duration": 10,
    "start_time": "2021-12-27T20:13:27.910Z"
   },
   {
    "duration": 13,
    "start_time": "2021-12-27T20:13:29.850Z"
   },
   {
    "duration": 18,
    "start_time": "2021-12-27T20:13:31.783Z"
   },
   {
    "duration": 9,
    "start_time": "2021-12-27T20:13:34.244Z"
   },
   {
    "duration": 8,
    "start_time": "2021-12-27T20:13:51.245Z"
   },
   {
    "duration": 23,
    "start_time": "2021-12-27T20:14:56.811Z"
   },
   {
    "duration": 180,
    "start_time": "2021-12-27T20:16:38.408Z"
   },
   {
    "duration": 11,
    "start_time": "2021-12-27T20:18:21.526Z"
   },
   {
    "duration": 12,
    "start_time": "2021-12-27T20:18:48.529Z"
   },
   {
    "duration": 79,
    "start_time": "2021-12-27T20:23:09.055Z"
   },
   {
    "duration": 23,
    "start_time": "2021-12-27T20:23:37.951Z"
   },
   {
    "duration": 20,
    "start_time": "2021-12-27T20:23:44.188Z"
   },
   {
    "duration": 21,
    "start_time": "2021-12-27T20:23:56.251Z"
   },
   {
    "duration": 25,
    "start_time": "2021-12-27T20:24:49.068Z"
   },
   {
    "duration": 15,
    "start_time": "2021-12-27T20:25:01.175Z"
   },
   {
    "duration": 21,
    "start_time": "2021-12-27T20:27:20.818Z"
   },
   {
    "duration": 338,
    "start_time": "2021-12-27T20:27:26.386Z"
   },
   {
    "duration": 23,
    "start_time": "2021-12-27T20:27:32.723Z"
   },
   {
    "duration": 828,
    "start_time": "2021-12-27T20:28:17.759Z"
   },
   {
    "duration": 8,
    "start_time": "2021-12-27T20:28:21.412Z"
   },
   {
    "duration": 10,
    "start_time": "2021-12-27T20:28:22.324Z"
   },
   {
    "duration": 12,
    "start_time": "2021-12-27T20:28:22.676Z"
   },
   {
    "duration": 9,
    "start_time": "2021-12-27T20:28:23.050Z"
   },
   {
    "duration": 10,
    "start_time": "2021-12-27T20:28:23.435Z"
   },
   {
    "duration": 8,
    "start_time": "2021-12-27T20:28:23.806Z"
   },
   {
    "duration": 13,
    "start_time": "2021-12-27T20:28:24.178Z"
   },
   {
    "duration": 26,
    "start_time": "2021-12-27T20:28:24.544Z"
   },
   {
    "duration": 11,
    "start_time": "2021-12-27T20:28:24.883Z"
   },
   {
    "duration": 8,
    "start_time": "2021-12-27T20:28:25.217Z"
   },
   {
    "duration": 11,
    "start_time": "2021-12-27T20:28:25.580Z"
   },
   {
    "duration": 8,
    "start_time": "2021-12-27T20:28:26.887Z"
   },
   {
    "duration": 50,
    "start_time": "2021-12-27T20:28:27.069Z"
   },
   {
    "duration": 11,
    "start_time": "2021-12-27T20:28:27.270Z"
   },
   {
    "duration": 20,
    "start_time": "2021-12-27T20:28:30.050Z"
   },
   {
    "duration": 5,
    "start_time": "2021-12-27T20:28:30.488Z"
   },
   {
    "duration": 168,
    "start_time": "2021-12-27T20:28:30.927Z"
   },
   {
    "duration": 13,
    "start_time": "2021-12-27T20:28:31.847Z"
   },
   {
    "duration": 25,
    "start_time": "2021-12-27T20:28:34.951Z"
   },
   {
    "duration": 8,
    "start_time": "2021-12-27T20:28:36.007Z"
   },
   {
    "duration": 12,
    "start_time": "2021-12-27T20:28:36.581Z"
   },
   {
    "duration": 8,
    "start_time": "2021-12-27T20:28:37.177Z"
   },
   {
    "duration": 9,
    "start_time": "2021-12-27T20:28:37.467Z"
   },
   {
    "duration": 6,
    "start_time": "2021-12-27T20:28:38.524Z"
   },
   {
    "duration": 27,
    "start_time": "2021-12-27T20:28:38.983Z"
   },
   {
    "duration": 15,
    "start_time": "2021-12-27T20:28:39.374Z"
   },
   {
    "duration": 21,
    "start_time": "2021-12-27T20:28:39.733Z"
   },
   {
    "duration": 10,
    "start_time": "2021-12-27T20:28:44.986Z"
   },
   {
    "duration": 4603,
    "start_time": "2021-12-27T20:28:45.691Z"
   },
   {
    "duration": 28,
    "start_time": "2021-12-27T20:28:52.606Z"
   },
   {
    "duration": 5575,
    "start_time": "2021-12-27T20:28:53.113Z"
   },
   {
    "duration": 10,
    "start_time": "2021-12-27T20:28:59.192Z"
   },
   {
    "duration": 20,
    "start_time": "2021-12-27T20:29:01.260Z"
   },
   {
    "duration": 7,
    "start_time": "2021-12-27T20:29:03.110Z"
   },
   {
    "duration": 432,
    "start_time": "2021-12-27T20:29:03.318Z"
   },
   {
    "duration": 9,
    "start_time": "2021-12-27T20:29:03.753Z"
   },
   {
    "duration": 21,
    "start_time": "2021-12-27T20:29:05.099Z"
   },
   {
    "duration": 6,
    "start_time": "2021-12-27T20:29:30.349Z"
   },
   {
    "duration": 426,
    "start_time": "2021-12-27T20:29:31.439Z"
   },
   {
    "duration": 10,
    "start_time": "2021-12-27T20:29:31.868Z"
   },
   {
    "duration": 20,
    "start_time": "2021-12-27T20:29:34.445Z"
   },
   {
    "duration": 4,
    "start_time": "2021-12-27T20:29:37.718Z"
   },
   {
    "duration": 837,
    "start_time": "2021-12-27T20:29:38.185Z"
   },
   {
    "duration": 36,
    "start_time": "2021-12-27T20:29:39.024Z"
   },
   {
    "duration": 9,
    "start_time": "2021-12-27T20:29:40.555Z"
   },
   {
    "duration": 1809,
    "start_time": "2021-12-27T20:29:41.683Z"
   },
   {
    "duration": 30,
    "start_time": "2021-12-27T20:29:54.449Z"
   },
   {
    "duration": 9,
    "start_time": "2021-12-27T20:29:55.364Z"
   },
   {
    "duration": 989,
    "start_time": "2021-12-27T20:29:56.798Z"
   },
   {
    "duration": 28,
    "start_time": "2021-12-27T20:30:03.847Z"
   },
   {
    "duration": 8,
    "start_time": "2021-12-27T20:30:04.600Z"
   },
   {
    "duration": 759,
    "start_time": "2021-12-27T20:30:05.021Z"
   },
   {
    "duration": 87,
    "start_time": "2021-12-27T20:31:05.628Z"
   },
   {
    "duration": 31,
    "start_time": "2021-12-27T20:31:12.531Z"
   },
   {
    "duration": 8,
    "start_time": "2021-12-27T20:31:13.279Z"
   },
   {
    "duration": 1052,
    "start_time": "2021-12-27T20:31:14.049Z"
   },
   {
    "duration": 1518,
    "start_time": "2021-12-28T06:34:52.327Z"
   }
  ],
  "kernelspec": {
   "display_name": "Python 3 (ipykernel)",
   "language": "python",
   "name": "python3"
  },
  "language_info": {
   "codemirror_mode": {
    "name": "ipython",
    "version": 3
   },
   "file_extension": ".py",
   "mimetype": "text/x-python",
   "name": "python",
   "nbconvert_exporter": "python",
   "pygments_lexer": "ipython3",
   "version": "3.9.5"
  },
  "toc": {
   "base_numbering": 1,
   "nav_menu": {},
   "number_sections": true,
   "sideBar": true,
   "skip_h1_title": true,
   "title_cell": "Table of Contents",
   "title_sidebar": "Contents",
   "toc_cell": false,
   "toc_position": {
    "height": "calc(100% - 180px)",
    "left": "10px",
    "top": "150px",
    "width": "165px"
   },
   "toc_section_display": true,
   "toc_window_display": true
  }
 },
 "nbformat": 4,
 "nbformat_minor": 2
}
