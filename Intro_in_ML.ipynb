{
 "cells": [
  {
   "cell_type": "markdown",
   "metadata": {},
   "source": [
    "# Рекомендация тарифов"
   ]
  },
  {
   "cell_type": "markdown",
   "metadata": {},
   "source": [
    "В вашем распоряжении данные о поведении клиентов, которые уже перешли на эти тарифы (из проекта курса «Статистический анализ данных»). Нужно построить модель для задачи классификации, которая выберет подходящий тариф. Предобработка данных не понадобится — вы её уже сделали.\n",
    "\n",
    "Постройте модель с максимально большим значением *accuracy*. Чтобы сдать проект успешно, нужно довести долю правильных ответов по крайней мере до 0.75. Проверьте *accuracy* на тестовой выборке самостоятельно."
   ]
  },
  {
   "cell_type": "code",
   "execution_count": 1,
   "metadata": {},
   "outputs": [],
   "source": [
    "import pandas as pd\n",
    "import numpy as np\n",
    "from sklearn.tree import DecisionTreeClassifier\n",
    "from sklearn.ensemble import RandomForestClassifier\n",
    "from sklearn.linear_model import LogisticRegression\n",
    "from sklearn.metrics import accuracy_score\n",
    "from sklearn.model_selection import train_test_split, GridSearchCV, RandomizedSearchCV\n",
    "from sklearn.dummy import DummyClassifier"
   ]
  },
  {
   "cell_type": "code",
   "execution_count": 2,
   "metadata": {},
   "outputs": [],
   "source": [
    "df = pd.read_csv('/datasets/users_behavior.csv')"
   ]
  },
  {
   "cell_type": "code",
   "execution_count": 3,
   "metadata": {},
   "outputs": [
    {
     "data": {
      "text/html": [
       "<div>\n",
       "<style scoped>\n",
       "    .dataframe tbody tr th:only-of-type {\n",
       "        vertical-align: middle;\n",
       "    }\n",
       "\n",
       "    .dataframe tbody tr th {\n",
       "        vertical-align: top;\n",
       "    }\n",
       "\n",
       "    .dataframe thead th {\n",
       "        text-align: right;\n",
       "    }\n",
       "</style>\n",
       "<table border=\"1\" class=\"dataframe\">\n",
       "  <thead>\n",
       "    <tr style=\"text-align: right;\">\n",
       "      <th></th>\n",
       "      <th>calls</th>\n",
       "      <th>minutes</th>\n",
       "      <th>messages</th>\n",
       "      <th>mb_used</th>\n",
       "      <th>is_ultra</th>\n",
       "    </tr>\n",
       "  </thead>\n",
       "  <tbody>\n",
       "    <tr>\n",
       "      <th>0</th>\n",
       "      <td>40.0</td>\n",
       "      <td>311.90</td>\n",
       "      <td>83.0</td>\n",
       "      <td>19915.42</td>\n",
       "      <td>0</td>\n",
       "    </tr>\n",
       "    <tr>\n",
       "      <th>1</th>\n",
       "      <td>85.0</td>\n",
       "      <td>516.75</td>\n",
       "      <td>56.0</td>\n",
       "      <td>22696.96</td>\n",
       "      <td>0</td>\n",
       "    </tr>\n",
       "    <tr>\n",
       "      <th>2</th>\n",
       "      <td>77.0</td>\n",
       "      <td>467.66</td>\n",
       "      <td>86.0</td>\n",
       "      <td>21060.45</td>\n",
       "      <td>0</td>\n",
       "    </tr>\n",
       "    <tr>\n",
       "      <th>3</th>\n",
       "      <td>106.0</td>\n",
       "      <td>745.53</td>\n",
       "      <td>81.0</td>\n",
       "      <td>8437.39</td>\n",
       "      <td>1</td>\n",
       "    </tr>\n",
       "    <tr>\n",
       "      <th>4</th>\n",
       "      <td>66.0</td>\n",
       "      <td>418.74</td>\n",
       "      <td>1.0</td>\n",
       "      <td>14502.75</td>\n",
       "      <td>0</td>\n",
       "    </tr>\n",
       "  </tbody>\n",
       "</table>\n",
       "</div>"
      ],
      "text/plain": [
       "   calls  minutes  messages   mb_used  is_ultra\n",
       "0   40.0   311.90      83.0  19915.42         0\n",
       "1   85.0   516.75      56.0  22696.96         0\n",
       "2   77.0   467.66      86.0  21060.45         0\n",
       "3  106.0   745.53      81.0   8437.39         1\n",
       "4   66.0   418.74       1.0  14502.75         0"
      ]
     },
     "execution_count": 3,
     "metadata": {},
     "output_type": "execute_result"
    }
   ],
   "source": [
    "df.head()"
   ]
  },
  {
   "cell_type": "markdown",
   "metadata": {},
   "source": [
    "## Разбейте данные на выборки"
   ]
  },
  {
   "cell_type": "markdown",
   "metadata": {},
   "source": [
    "Из-за того что у нас нет тестовой выборки, сначала разделим данные на 60-40% и 40% поделим на пополам"
   ]
  },
  {
   "cell_type": "code",
   "execution_count": 4,
   "metadata": {},
   "outputs": [],
   "source": [
    "features = df.drop('is_ultra', axis=1)\n",
    "target = df['is_ultra']"
   ]
  },
  {
   "cell_type": "code",
   "execution_count": 5,
   "metadata": {},
   "outputs": [
    {
     "data": {
      "text/plain": [
       "0    2229\n",
       "1     985\n",
       "Name: is_ultra, dtype: int64"
      ]
     },
     "execution_count": 5,
     "metadata": {},
     "output_type": "execute_result"
    }
   ],
   "source": [
    "target.value_counts()"
   ]
  },
  {
   "cell_type": "code",
   "execution_count": 6,
   "metadata": {},
   "outputs": [],
   "source": [
    "features_train, features_valid_test, target_train, target_valid_test = train_test_split(\n",
    "    features, target, test_size=0.4, random_state=12345)"
   ]
  },
  {
   "cell_type": "code",
   "execution_count": 7,
   "metadata": {},
   "outputs": [],
   "source": [
    "features_valid, features_test, target_valid, target_test = train_test_split(\n",
    "    features_valid_test, target_valid_test, test_size=0.5, random_state=12345)"
   ]
  },
  {
   "cell_type": "markdown",
   "metadata": {},
   "source": [
    "## Исследуйте модели"
   ]
  },
  {
   "cell_type": "markdown",
   "metadata": {},
   "source": [
    "Если у нас задача обучения модели на классификацию, то будем исследовать 3 модели: классификацию по линейной регрессии, классификацию по дереву решений, и классификацию по случайному лесу решений. Начнем с дерева решений"
   ]
  },
  {
   "cell_type": "code",
   "execution_count": 8,
   "metadata": {},
   "outputs": [
    {
     "data": {
      "text/plain": [
       "(1928, 4)"
      ]
     },
     "execution_count": 8,
     "metadata": {},
     "output_type": "execute_result"
    }
   ],
   "source": [
    "features_train.shape"
   ]
  },
  {
   "cell_type": "code",
   "execution_count": 9,
   "metadata": {},
   "outputs": [
    {
     "data": {
      "text/plain": [
       "(1286, 4)"
      ]
     },
     "execution_count": 9,
     "metadata": {},
     "output_type": "execute_result"
    }
   ],
   "source": [
    "features_valid_test.shape"
   ]
  },
  {
   "cell_type": "code",
   "execution_count": 10,
   "metadata": {},
   "outputs": [
    {
     "data": {
      "text/plain": [
       "(643, 4)"
      ]
     },
     "execution_count": 10,
     "metadata": {},
     "output_type": "execute_result"
    }
   ],
   "source": [
    "features_valid.shape"
   ]
  },
  {
   "cell_type": "markdown",
   "metadata": {},
   "source": [
    "###  Дерево решений"
   ]
  },
  {
   "cell_type": "markdown",
   "metadata": {},
   "source": [
    "Подберем гиперпараметр по максимальной глубине дерева"
   ]
  },
  {
   "cell_type": "code",
   "execution_count": 11,
   "metadata": {},
   "outputs": [
    {
     "name": "stdout",
     "output_type": "stream",
     "text": [
      "max_depth = 1 : 0.7542768273716952\n",
      "max_depth = 2 : 0.7822706065318819\n",
      "max_depth = 3 : 0.7853810264385692\n",
      "max_depth = 4 : 0.7791601866251944\n",
      "max_depth = 5 : 0.7791601866251944\n",
      "max_depth = 6 : 0.7838258164852255\n",
      "max_depth = 7 : 0.7822706065318819\n",
      "max_depth = 8 : 0.7791601866251944\n",
      "max_depth = 9 : 0.7822706065318819\n"
     ]
    }
   ],
   "source": [
    "for depth in range(1, 10):\n",
    "    model = DecisionTreeClassifier(random_state=12345, max_depth=depth)\n",
    "    \n",
    "    model.fit(features_train, target_train)\n",
    "    \n",
    "    predictions_valid = model.predict(features_valid)\n",
    "    \n",
    "    print(\"max_depth =\", depth, \": \", end='')\n",
    "    print(accuracy_score(target_valid, predictions_valid)) "
   ]
  },
  {
   "cell_type": "markdown",
   "metadata": {},
   "source": [
    "Хоть и на обучающейся выборке чем больше глубина тем лучше результат, но мне кажется на тестовой выборке точность будет меньше, так как модель будет переобучаться. Поэтому максимальную глубину я бы выбрал 3"
   ]
  },
  {
   "cell_type": "markdown",
   "metadata": {},
   "source": [
    "Попробую использовать GreedSeacrhCV для дерева решений, а для случайного леса попробую RandomizedSearchCV"
   ]
  },
  {
   "cell_type": "code",
   "execution_count": 12,
   "metadata": {},
   "outputs": [
    {
     "data": {
      "text/plain": [
       "GridSearchCV(cv=5, estimator=DecisionTreeClassifier(random_state=12345),\n",
       "             n_jobs=-1, param_grid={'max_depth': range(1, 10)},\n",
       "             scoring='accuracy')"
      ]
     },
     "execution_count": 12,
     "metadata": {},
     "output_type": "execute_result"
    }
   ],
   "source": [
    "model = DecisionTreeClassifier(random_state=12345)\n",
    "    \n",
    "\n",
    "param_dict = {'max_depth': range(1, 10)}\n",
    "\n",
    "grid = GridSearchCV(model, param_dict, cv = 5, scoring='accuracy', n_jobs = -1)\n",
    "\n",
    "grid.fit(features_train, target_train)\n"
   ]
  },
  {
   "cell_type": "code",
   "execution_count": 13,
   "metadata": {},
   "outputs": [
    {
     "data": {
      "text/plain": [
       "DecisionTreeClassifier(max_depth=3, random_state=12345)"
      ]
     },
     "execution_count": 13,
     "metadata": {},
     "output_type": "execute_result"
    }
   ],
   "source": [
    "grid.best_estimator_"
   ]
  },
  {
   "cell_type": "code",
   "execution_count": 14,
   "metadata": {},
   "outputs": [
    {
     "data": {
      "text/plain": [
       "0.8018706681919119"
      ]
     },
     "execution_count": 14,
     "metadata": {},
     "output_type": "execute_result"
    }
   ],
   "source": [
    "grid.best_score_"
   ]
  },
  {
   "cell_type": "markdown",
   "metadata": {},
   "source": [
    "Ну и GridSearcgCV показал тот же результат"
   ]
  },
  {
   "cell_type": "markdown",
   "metadata": {},
   "source": [
    "### Случайный лес"
   ]
  },
  {
   "cell_type": "markdown",
   "metadata": {},
   "source": [
    "Подберем гиперпараметры по максимальной глубине леса и количеству деревьев"
   ]
  },
  {
   "cell_type": "code",
   "execution_count": 15,
   "metadata": {},
   "outputs": [
    {
     "name": "stdout",
     "output_type": "stream",
     "text": [
      "accuracy наилучшей модели на валидационной выборке: 0.8087091757387247 Количество деревьев: 40 Максимальная глубина: 10\n"
     ]
    }
   ],
   "source": [
    "best_model = None\n",
    "best_result = 0\n",
    "best_est = 0\n",
    "best_depth = 0\n",
    "for est in range(10, 101, 10):\n",
    "    for depth in range (1, 11):\n",
    "        model = RandomForestClassifier(random_state=12345, n_estimators=est, max_depth=depth)\n",
    "        model.fit(features_train, target_train) \n",
    "        predictions_valid = model.predict(features_valid)\n",
    "        result = accuracy_score(target_valid, predictions_valid) \n",
    "        if result > best_result:\n",
    "            best_model = model\n",
    "            best_result = result\n",
    "            best_est = est\n",
    "            best_depth = depth\n",
    "\n",
    "print(\"accuracy наилучшей модели на валидационной выборке:\", best_result, \"Количество деревьев:\", best_est, \"Максимальная глубина:\", depth)"
   ]
  },
  {
   "cell_type": "code",
   "execution_count": 16,
   "metadata": {},
   "outputs": [
    {
     "data": {
      "text/plain": [
       "RandomizedSearchCV(cv=5, estimator=RandomForestClassifier(random_state=12345),\n",
       "                   n_jobs=-1,\n",
       "                   param_distributions={'max_depth': range(1, 10),\n",
       "                                        'n_estimators': range(10, 201, 10)},\n",
       "                   scoring='accuracy')"
      ]
     },
     "execution_count": 16,
     "metadata": {},
     "output_type": "execute_result"
    }
   ],
   "source": [
    "model = RandomForestClassifier(random_state=12345)\n",
    "    \n",
    "\n",
    "param_dict = {'max_depth': range(1, 10),\n",
    "             'n_estimators': range(10, 201, 10)}\n",
    "\n",
    "grid = RandomizedSearchCV(model, param_dict, cv = 5, scoring='accuracy', n_jobs = -1)\n",
    "\n",
    "grid.fit(features_train, target_train)\n"
   ]
  },
  {
   "cell_type": "code",
   "execution_count": 17,
   "metadata": {},
   "outputs": [
    {
     "data": {
      "text/plain": [
       "RandomForestClassifier(max_depth=9, n_estimators=50, random_state=12345)"
      ]
     },
     "execution_count": 17,
     "metadata": {},
     "output_type": "execute_result"
    }
   ],
   "source": [
    "grid.best_estimator_"
   ]
  },
  {
   "cell_type": "code",
   "execution_count": 19,
   "metadata": {},
   "outputs": [
    {
     "data": {
      "text/plain": [
       "0.8195087813740664"
      ]
     },
     "execution_count": 19,
     "metadata": {},
     "output_type": "execute_result"
    }
   ],
   "source": [
    "grid.best_score_"
   ]
  },
  {
   "cell_type": "markdown",
   "metadata": {},
   "source": [
    "Результат даже лучше получился, чем в прошлый раз"
   ]
  },
  {
   "cell_type": "markdown",
   "metadata": {},
   "source": [
    "### Логистическая регрессия"
   ]
  },
  {
   "cell_type": "code",
   "execution_count": 20,
   "metadata": {},
   "outputs": [],
   "source": [
    "model = LogisticRegression(random_state=12345)\n",
    "\n",
    "model.fit(features_train, target_train)\n",
    "\n",
    "result = model.score(features_valid, target_valid)"
   ]
  },
  {
   "cell_type": "code",
   "execution_count": 21,
   "metadata": {},
   "outputs": [
    {
     "data": {
      "text/plain": [
       "0.7107309486780715"
      ]
     },
     "execution_count": 21,
     "metadata": {},
     "output_type": "execute_result"
    }
   ],
   "source": [
    "result"
   ]
  },
  {
   "cell_type": "markdown",
   "metadata": {},
   "source": [
    "Исходя из решений получается что больший accuracy является у случайного леса решений, при гиппер параметрах количества деревьев - 40, и максимальной глубины 10"
   ]
  },
  {
   "cell_type": "markdown",
   "metadata": {},
   "source": [
    "## Проверьте модель на тестовой выборке"
   ]
  },
  {
   "cell_type": "markdown",
   "metadata": {},
   "source": [
    "Проверим на тестовой выборке случайный лес"
   ]
  },
  {
   "cell_type": "code",
   "execution_count": 22,
   "metadata": {},
   "outputs": [
    {
     "data": {
      "text/plain": [
       "0.8009331259720062"
      ]
     },
     "execution_count": 22,
     "metadata": {},
     "output_type": "execute_result"
    }
   ],
   "source": [
    "model_rand = RandomForestClassifier(random_state=12345, n_estimators=40, max_depth=10)\n",
    "model_rand.fit(features_train, target_train) \n",
    "predictions_test_rand = model_rand.predict(features_test)\n",
    "\n",
    "accuracy_score(target_test, predictions_test_rand) "
   ]
  },
  {
   "cell_type": "markdown",
   "metadata": {},
   "source": [
    "Проверим на тестовой выборке дерево решений"
   ]
  },
  {
   "cell_type": "code",
   "execution_count": 23,
   "metadata": {},
   "outputs": [
    {
     "data": {
      "text/plain": [
       "0.7791601866251944"
      ]
     },
     "execution_count": 23,
     "metadata": {},
     "output_type": "execute_result"
    }
   ],
   "source": [
    "model_tree = DecisionTreeClassifier(random_state=12345, max_depth=3)\n",
    "model_tree.fit(features_train, target_train) \n",
    "predictions_test_tree = model_tree.predict(features_test)\n",
    "\n",
    "accuracy_score(target_test, predictions_test_tree) "
   ]
  },
  {
   "cell_type": "markdown",
   "metadata": {},
   "source": [
    "Проверим на тестовой выборке логическую регрессию"
   ]
  },
  {
   "cell_type": "code",
   "execution_count": 24,
   "metadata": {
    "scrolled": true
   },
   "outputs": [
    {
     "data": {
      "text/plain": [
       "0.6842923794712286"
      ]
     },
     "execution_count": 24,
     "metadata": {},
     "output_type": "execute_result"
    }
   ],
   "source": [
    "model_log = LogisticRegression(random_state=12345)\n",
    "\n",
    "model_log.fit(features_train, target_train)\n",
    "\n",
    "model_log.score(features_test, target_test)"
   ]
  },
  {
   "cell_type": "markdown",
   "metadata": {},
   "source": [
    "И даже на тестовой выборке случайный лес работает лучше всего для данной выборке "
   ]
  },
  {
   "cell_type": "markdown",
   "metadata": {},
   "source": [
    "## (бонус) Проверьте модели на адекватность"
   ]
  },
  {
   "cell_type": "markdown",
   "metadata": {},
   "source": [
    "Для проверки на адекватность буду использовать DummyClassifier"
   ]
  },
  {
   "cell_type": "code",
   "execution_count": 30,
   "metadata": {},
   "outputs": [
    {
     "data": {
      "text/plain": [
       "0.6924273858921162"
      ]
     },
     "execution_count": 30,
     "metadata": {},
     "output_type": "execute_result"
    }
   ],
   "source": [
    "dummy_clf = DummyClassifier(strategy=\"most_frequent\", random_state=0)\n",
    "dummy_clf.fit(features_train, target_train)\n",
    "dummy_clf.score(features_train, target_train)"
   ]
  }
 ],
 "metadata": {
  "ExecuteTimeLog": [
   {
    "duration": 989,
    "start_time": "2022-02-21T12:54:32.555Z"
   },
   {
    "duration": 17,
    "start_time": "2022-02-21T12:54:59.589Z"
   },
   {
    "duration": 24,
    "start_time": "2022-02-21T12:55:00.051Z"
   },
   {
    "duration": 595,
    "start_time": "2022-02-21T12:57:43.353Z"
   },
   {
    "duration": 7,
    "start_time": "2022-02-21T13:00:30.769Z"
   },
   {
    "duration": 7,
    "start_time": "2022-02-21T13:00:38.536Z"
   },
   {
    "duration": 42,
    "start_time": "2022-02-21T13:05:36.029Z"
   },
   {
    "duration": 48,
    "start_time": "2022-02-21T13:05:48.479Z"
   },
   {
    "duration": 91,
    "start_time": "2022-02-21T13:07:26.237Z"
   },
   {
    "duration": 17275,
    "start_time": "2022-02-21T13:22:58.593Z"
   },
   {
    "duration": 21987,
    "start_time": "2022-02-21T13:23:21.307Z"
   },
   {
    "duration": 21342,
    "start_time": "2022-02-21T13:24:12.923Z"
   },
   {
    "duration": 21062,
    "start_time": "2022-02-21T13:25:06.279Z"
   },
   {
    "duration": 4,
    "start_time": "2022-02-21T13:36:18.023Z"
   },
   {
    "duration": 4,
    "start_time": "2022-02-21T13:36:20.058Z"
   },
   {
    "duration": 22,
    "start_time": "2022-02-21T13:37:45.512Z"
   },
   {
    "duration": 7,
    "start_time": "2022-02-21T13:37:58.874Z"
   },
   {
    "duration": 1175,
    "start_time": "2022-02-22T10:48:58.923Z"
   },
   {
    "duration": 23,
    "start_time": "2022-02-22T10:49:01.151Z"
   },
   {
    "duration": 18,
    "start_time": "2022-02-22T10:49:01.381Z"
   },
   {
    "duration": 5,
    "start_time": "2022-02-22T10:49:06.226Z"
   },
   {
    "duration": 6,
    "start_time": "2022-02-22T10:49:06.882Z"
   },
   {
    "duration": 6,
    "start_time": "2022-02-22T10:49:08.617Z"
   },
   {
    "duration": 63,
    "start_time": "2022-02-22T10:50:04.902Z"
   },
   {
    "duration": 13830,
    "start_time": "2022-02-22T10:50:22.406Z"
   },
   {
    "duration": 15,
    "start_time": "2022-02-22T10:50:46.121Z"
   },
   {
    "duration": 5,
    "start_time": "2022-02-22T10:50:47.983Z"
   },
   {
    "duration": 138,
    "start_time": "2022-02-22T11:01:10.320Z"
   },
   {
    "duration": 4,
    "start_time": "2022-02-22T11:01:11.157Z"
   },
   {
    "duration": 80,
    "start_time": "2022-02-22T11:03:44.055Z"
   },
   {
    "duration": 4,
    "start_time": "2022-02-22T11:03:44.294Z"
   },
   {
    "duration": 133,
    "start_time": "2022-02-22T11:03:48.236Z"
   },
   {
    "duration": 4,
    "start_time": "2022-02-22T11:03:48.660Z"
   },
   {
    "duration": 132,
    "start_time": "2022-02-22T11:05:04.388Z"
   },
   {
    "duration": 8,
    "start_time": "2022-02-22T11:05:29.939Z"
   },
   {
    "duration": 5,
    "start_time": "2022-02-22T11:05:36.003Z"
   },
   {
    "duration": 9,
    "start_time": "2022-02-22T11:05:40.597Z"
   },
   {
    "duration": 130,
    "start_time": "2022-02-22T11:05:52.783Z"
   },
   {
    "duration": 10,
    "start_time": "2022-02-22T11:05:54.020Z"
   },
   {
    "duration": 16,
    "start_time": "2022-02-22T11:07:06.933Z"
   },
   {
    "duration": 185,
    "start_time": "2022-02-22T11:36:57.314Z"
   },
   {
    "duration": 128,
    "start_time": "2022-02-22T11:37:03.268Z"
   },
   {
    "duration": 10,
    "start_time": "2022-02-22T11:37:23.999Z"
   },
   {
    "duration": 17,
    "start_time": "2022-02-22T11:37:35.834Z"
   },
   {
    "duration": 6,
    "start_time": "2022-02-22T11:39:53.825Z"
   },
   {
    "duration": 380,
    "start_time": "2022-02-22T11:40:02.594Z"
   },
   {
    "duration": 6,
    "start_time": "2022-02-22T11:40:06.446Z"
   },
   {
    "duration": 10,
    "start_time": "2022-02-22T11:40:34.800Z"
   },
   {
    "duration": 342,
    "start_time": "2022-02-22T11:40:51.176Z"
   },
   {
    "duration": 290,
    "start_time": "2022-02-22T11:40:59.954Z"
   },
   {
    "duration": 245,
    "start_time": "2022-02-22T11:41:05.842Z"
   },
   {
    "duration": 3,
    "start_time": "2022-02-22T11:41:11.366Z"
   },
   {
    "duration": 6,
    "start_time": "2022-02-22T11:41:21.144Z"
   },
   {
    "duration": 3,
    "start_time": "2022-02-22T11:41:23.328Z"
   },
   {
    "duration": 6,
    "start_time": "2022-02-22T11:41:26.144Z"
   },
   {
    "duration": 4,
    "start_time": "2022-02-22T11:51:56.406Z"
   },
   {
    "duration": 4,
    "start_time": "2022-02-22T11:51:59.816Z"
   },
   {
    "duration": 4,
    "start_time": "2022-02-22T11:52:06.185Z"
   },
   {
    "duration": 6,
    "start_time": "2022-02-22T11:52:10.348Z"
   },
   {
    "duration": 4,
    "start_time": "2022-02-22T11:53:28.715Z"
   },
   {
    "duration": 5,
    "start_time": "2022-02-22T11:53:31.327Z"
   },
   {
    "duration": 295,
    "start_time": "2022-02-22T11:53:37.765Z"
   },
   {
    "duration": 3,
    "start_time": "2022-02-22T11:54:58.430Z"
   },
   {
    "duration": 4,
    "start_time": "2022-02-22T11:55:18.515Z"
   },
   {
    "duration": 3,
    "start_time": "2022-02-22T11:55:35.969Z"
   },
   {
    "duration": 9,
    "start_time": "2022-02-22T11:55:42.080Z"
   },
   {
    "duration": 314,
    "start_time": "2022-02-22T11:57:45.011Z"
   },
   {
    "duration": 1118,
    "start_time": "2022-02-22T11:58:00.757Z"
   },
   {
    "duration": 15,
    "start_time": "2022-02-22T11:58:01.877Z"
   },
   {
    "duration": 30,
    "start_time": "2022-02-22T11:58:01.894Z"
   },
   {
    "duration": 4,
    "start_time": "2022-02-22T11:58:04.663Z"
   },
   {
    "duration": 5,
    "start_time": "2022-02-22T11:58:04.911Z"
   },
   {
    "duration": 6,
    "start_time": "2022-02-22T11:58:05.416Z"
   },
   {
    "duration": 140,
    "start_time": "2022-02-22T11:58:12.992Z"
   },
   {
    "duration": 10,
    "start_time": "2022-02-22T11:58:14.800Z"
   },
   {
    "duration": 17,
    "start_time": "2022-02-22T11:58:16.748Z"
   },
   {
    "duration": 7,
    "start_time": "2022-02-22T11:58:19.120Z"
   },
   {
    "duration": 4,
    "start_time": "2022-02-22T11:58:23.143Z"
   },
   {
    "duration": 3,
    "start_time": "2022-02-22T11:58:26.004Z"
   },
   {
    "duration": 5,
    "start_time": "2022-02-22T11:58:57.728Z"
   },
   {
    "duration": 5,
    "start_time": "2022-02-22T11:59:57.437Z"
   },
   {
    "duration": 7,
    "start_time": "2022-02-22T12:02:37.506Z"
   },
   {
    "duration": 260,
    "start_time": "2022-02-22T14:02:43.504Z"
   },
   {
    "duration": 1055,
    "start_time": "2022-02-22T14:02:48.907Z"
   },
   {
    "duration": 13,
    "start_time": "2022-02-22T14:02:52.040Z"
   },
   {
    "duration": 16,
    "start_time": "2022-02-22T14:02:52.376Z"
   },
   {
    "duration": 3,
    "start_time": "2022-02-22T14:02:55.412Z"
   },
   {
    "duration": 6,
    "start_time": "2022-02-22T14:02:55.572Z"
   },
   {
    "duration": 6,
    "start_time": "2022-02-22T14:02:56.148Z"
   },
   {
    "duration": 6,
    "start_time": "2022-02-22T14:02:56.541Z"
   },
   {
    "duration": 3,
    "start_time": "2022-02-22T14:02:59.935Z"
   },
   {
    "duration": 5,
    "start_time": "2022-02-22T14:03:10.407Z"
   },
   {
    "duration": 6,
    "start_time": "2022-02-22T14:03:20.815Z"
   },
   {
    "duration": 3,
    "start_time": "2022-02-22T14:38:42.554Z"
   },
   {
    "duration": 256,
    "start_time": "2022-02-22T14:44:15.914Z"
   },
   {
    "duration": 3,
    "start_time": "2022-02-22T14:45:10.798Z"
   },
   {
    "duration": 210,
    "start_time": "2022-02-22T14:47:11.523Z"
   },
   {
    "duration": 181,
    "start_time": "2022-02-22T14:47:36.546Z"
   },
   {
    "duration": 268,
    "start_time": "2022-02-22T15:15:00.832Z"
   },
   {
    "duration": 4,
    "start_time": "2022-02-22T15:15:15.102Z"
   },
   {
    "duration": 8489,
    "start_time": "2022-02-22T15:20:22.495Z"
   },
   {
    "duration": 4,
    "start_time": "2022-02-22T15:20:47.830Z"
   },
   {
    "duration": 4,
    "start_time": "2022-02-22T15:21:24.536Z"
   },
   {
    "duration": 255,
    "start_time": "2022-02-22T15:23:38.159Z"
   },
   {
    "duration": 4,
    "start_time": "2022-02-22T15:23:39.296Z"
   },
   {
    "duration": 5,
    "start_time": "2022-02-22T15:23:39.823Z"
   },
   {
    "duration": 3,
    "start_time": "2022-02-22T15:31:09.751Z"
   },
   {
    "duration": 6,
    "start_time": "2022-02-22T15:31:25.717Z"
   },
   {
    "duration": 92,
    "start_time": "2022-03-21T08:12:47.047Z"
   },
   {
    "duration": 1205,
    "start_time": "2022-03-28T13:19:02.314Z"
   },
   {
    "duration": 26,
    "start_time": "2022-03-28T13:19:04.629Z"
   },
   {
    "duration": 18,
    "start_time": "2022-03-28T13:19:05.233Z"
   },
   {
    "duration": 4,
    "start_time": "2022-03-28T13:19:08.248Z"
   },
   {
    "duration": 5,
    "start_time": "2022-03-28T13:19:08.587Z"
   },
   {
    "duration": 6,
    "start_time": "2022-03-28T13:19:09.523Z"
   },
   {
    "duration": 5,
    "start_time": "2022-03-28T13:19:10.410Z"
   },
   {
    "duration": 4,
    "start_time": "2022-03-28T13:19:13.772Z"
   },
   {
    "duration": 4,
    "start_time": "2022-03-28T13:19:14.189Z"
   },
   {
    "duration": 3,
    "start_time": "2022-03-28T13:19:14.509Z"
   },
   {
    "duration": 63,
    "start_time": "2022-03-28T13:19:18.960Z"
   },
   {
    "duration": 281,
    "start_time": "2022-03-28T13:19:23.742Z"
   },
   {
    "duration": 4,
    "start_time": "2022-03-28T13:19:30.754Z"
   },
   {
    "duration": 6,
    "start_time": "2022-03-28T13:19:32.243Z"
   },
   {
    "duration": 12230,
    "start_time": "2022-03-28T13:19:47.887Z"
   },
   {
    "duration": 11288,
    "start_time": "2022-03-28T13:20:00.119Z"
   },
   {
    "duration": 4,
    "start_time": "2022-03-28T13:20:11.409Z"
   },
   {
    "duration": 17,
    "start_time": "2022-03-28T13:20:11.415Z"
   },
   {
    "duration": 3,
    "start_time": "2022-03-28T13:20:22.463Z"
   },
   {
    "duration": 22,
    "start_time": "2022-03-28T13:20:23.916Z"
   },
   {
    "duration": 4,
    "start_time": "2022-03-28T13:20:26.392Z"
   },
   {
    "duration": 136,
    "start_time": "2022-03-28T13:20:29.228Z"
   },
   {
    "duration": 10,
    "start_time": "2022-03-28T13:20:30.463Z"
   },
   {
    "duration": 23,
    "start_time": "2022-03-28T13:20:32.081Z"
   },
   {
    "duration": 6,
    "start_time": "2022-03-28T13:20:41.739Z"
   },
   {
    "duration": 4,
    "start_time": "2022-03-28T13:20:42.131Z"
   },
   {
    "duration": 2,
    "start_time": "2022-03-28T13:20:42.498Z"
   },
   {
    "duration": 4,
    "start_time": "2022-03-28T13:20:43.246Z"
   },
   {
    "duration": 5,
    "start_time": "2022-03-28T13:20:44.472Z"
   },
   {
    "duration": 7,
    "start_time": "2022-03-28T13:22:04.477Z"
   }
  ],
  "kernelspec": {
   "display_name": "Python 3 (ipykernel)",
   "language": "python",
   "name": "python3"
  },
  "language_info": {
   "codemirror_mode": {
    "name": "ipython",
    "version": 3
   },
   "file_extension": ".py",
   "mimetype": "text/x-python",
   "name": "python",
   "nbconvert_exporter": "python",
   "pygments_lexer": "ipython3",
   "version": "3.9.5"
  },
  "toc": {
   "base_numbering": 1,
   "nav_menu": {},
   "number_sections": true,
   "sideBar": true,
   "skip_h1_title": true,
   "title_cell": "Table of Contents",
   "title_sidebar": "Contents",
   "toc_cell": false,
   "toc_position": {},
   "toc_section_display": true,
   "toc_window_display": false
  }
 },
 "nbformat": 4,
 "nbformat_minor": 2
}
