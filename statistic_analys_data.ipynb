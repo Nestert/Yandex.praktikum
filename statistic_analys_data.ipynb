{
 "cells": [
  {
   "cell_type": "markdown",
   "metadata": {},
   "source": [
    "# Описание проекта\n",
    "Вы аналитик компании «Мегалайн» — федерального оператора сотовой связи. Клиентам предлагают два тарифных плана: «Смарт» и «Ультра». Чтобы скорректировать рекламный бюджет, коммерческий департамент хочет понять, какой тариф приносит больше денег.\n",
    "Вам предстоит сделать предварительный анализ тарифов на небольшой выборке клиентов. В вашем распоряжении данные 500 пользователей «Мегалайна»: кто они, откуда, каким тарифом пользуются, сколько звонков и сообщений каждый отправил за 2018 год. Нужно проанализировать поведение клиентов и сделать вывод — какой тариф лучше."
   ]
  },
  {
   "cell_type": "markdown",
   "metadata": {},
   "source": [
    "## Шаг 1. Откройте файл с данными и изучите общую информацию"
   ]
  },
  {
   "cell_type": "code",
   "execution_count": 1,
   "metadata": {},
   "outputs": [],
   "source": [
    "import pandas as pd\n",
    "import math\n",
    "import matplotlib.pyplot as plt\n",
    "import seaborn as sns\n",
    "import numpy as np\n",
    "from scipy import stats as st\n",
    "\n",
    "data_calls = pd.read_csv('/datasets/calls.csv')\n",
    "data_internet = pd.read_csv('/datasets/internet.csv')\n",
    "data_messages = pd.read_csv('/datasets/messages.csv')\n",
    "data_tariffs = pd.read_csv('/datasets/tariffs.csv')\n",
    "data_users = pd.read_csv('/datasets/users.csv')\n"
   ]
  },
  {
   "cell_type": "code",
   "execution_count": 2,
   "metadata": {},
   "outputs": [
    {
     "name": "stdout",
     "output_type": "stream",
     "text": [
      "<class 'pandas.core.frame.DataFrame'>\n",
      "RangeIndex: 202607 entries, 0 to 202606\n",
      "Data columns (total 4 columns):\n",
      "id           202607 non-null object\n",
      "call_date    202607 non-null object\n",
      "duration     202607 non-null float64\n",
      "user_id      202607 non-null int64\n",
      "dtypes: float64(1), int64(1), object(2)\n",
      "memory usage: 6.2+ MB\n"
     ]
    },
    {
     "data": {
      "text/html": [
       "<div>\n",
       "<style scoped>\n",
       "    .dataframe tbody tr th:only-of-type {\n",
       "        vertical-align: middle;\n",
       "    }\n",
       "\n",
       "    .dataframe tbody tr th {\n",
       "        vertical-align: top;\n",
       "    }\n",
       "\n",
       "    .dataframe thead th {\n",
       "        text-align: right;\n",
       "    }\n",
       "</style>\n",
       "<table border=\"1\" class=\"dataframe\">\n",
       "  <thead>\n",
       "    <tr style=\"text-align: right;\">\n",
       "      <th></th>\n",
       "      <th>id</th>\n",
       "      <th>call_date</th>\n",
       "      <th>duration</th>\n",
       "      <th>user_id</th>\n",
       "    </tr>\n",
       "  </thead>\n",
       "  <tbody>\n",
       "    <tr>\n",
       "      <td>0</td>\n",
       "      <td>1000_0</td>\n",
       "      <td>2018-07-25</td>\n",
       "      <td>0.00</td>\n",
       "      <td>1000</td>\n",
       "    </tr>\n",
       "    <tr>\n",
       "      <td>1</td>\n",
       "      <td>1000_1</td>\n",
       "      <td>2018-08-17</td>\n",
       "      <td>0.00</td>\n",
       "      <td>1000</td>\n",
       "    </tr>\n",
       "    <tr>\n",
       "      <td>2</td>\n",
       "      <td>1000_2</td>\n",
       "      <td>2018-06-11</td>\n",
       "      <td>2.85</td>\n",
       "      <td>1000</td>\n",
       "    </tr>\n",
       "    <tr>\n",
       "      <td>3</td>\n",
       "      <td>1000_3</td>\n",
       "      <td>2018-09-21</td>\n",
       "      <td>13.80</td>\n",
       "      <td>1000</td>\n",
       "    </tr>\n",
       "    <tr>\n",
       "      <td>4</td>\n",
       "      <td>1000_4</td>\n",
       "      <td>2018-12-15</td>\n",
       "      <td>5.18</td>\n",
       "      <td>1000</td>\n",
       "    </tr>\n",
       "  </tbody>\n",
       "</table>\n",
       "</div>"
      ],
      "text/plain": [
       "       id   call_date  duration  user_id\n",
       "0  1000_0  2018-07-25      0.00     1000\n",
       "1  1000_1  2018-08-17      0.00     1000\n",
       "2  1000_2  2018-06-11      2.85     1000\n",
       "3  1000_3  2018-09-21     13.80     1000\n",
       "4  1000_4  2018-12-15      5.18     1000"
      ]
     },
     "execution_count": 2,
     "metadata": {},
     "output_type": "execute_result"
    }
   ],
   "source": [
    "data_calls.info()\n",
    "data_calls.head()"
   ]
  },
  {
   "cell_type": "markdown",
   "metadata": {},
   "source": [
    "Перевести call_date в дату. duration первести int с округлением в большую сторону"
   ]
  },
  {
   "cell_type": "code",
   "execution_count": 3,
   "metadata": {},
   "outputs": [
    {
     "name": "stdout",
     "output_type": "stream",
     "text": [
      "<class 'pandas.core.frame.DataFrame'>\n",
      "RangeIndex: 149396 entries, 0 to 149395\n",
      "Data columns (total 5 columns):\n",
      "Unnamed: 0      149396 non-null int64\n",
      "id              149396 non-null object\n",
      "mb_used         149396 non-null float64\n",
      "session_date    149396 non-null object\n",
      "user_id         149396 non-null int64\n",
      "dtypes: float64(1), int64(2), object(2)\n",
      "memory usage: 5.7+ MB\n"
     ]
    },
    {
     "data": {
      "text/html": [
       "<div>\n",
       "<style scoped>\n",
       "    .dataframe tbody tr th:only-of-type {\n",
       "        vertical-align: middle;\n",
       "    }\n",
       "\n",
       "    .dataframe tbody tr th {\n",
       "        vertical-align: top;\n",
       "    }\n",
       "\n",
       "    .dataframe thead th {\n",
       "        text-align: right;\n",
       "    }\n",
       "</style>\n",
       "<table border=\"1\" class=\"dataframe\">\n",
       "  <thead>\n",
       "    <tr style=\"text-align: right;\">\n",
       "      <th></th>\n",
       "      <th>Unnamed: 0</th>\n",
       "      <th>id</th>\n",
       "      <th>mb_used</th>\n",
       "      <th>session_date</th>\n",
       "      <th>user_id</th>\n",
       "    </tr>\n",
       "  </thead>\n",
       "  <tbody>\n",
       "    <tr>\n",
       "      <td>0</td>\n",
       "      <td>0</td>\n",
       "      <td>1000_0</td>\n",
       "      <td>112.95</td>\n",
       "      <td>2018-11-25</td>\n",
       "      <td>1000</td>\n",
       "    </tr>\n",
       "    <tr>\n",
       "      <td>1</td>\n",
       "      <td>1</td>\n",
       "      <td>1000_1</td>\n",
       "      <td>1052.81</td>\n",
       "      <td>2018-09-07</td>\n",
       "      <td>1000</td>\n",
       "    </tr>\n",
       "    <tr>\n",
       "      <td>2</td>\n",
       "      <td>2</td>\n",
       "      <td>1000_2</td>\n",
       "      <td>1197.26</td>\n",
       "      <td>2018-06-25</td>\n",
       "      <td>1000</td>\n",
       "    </tr>\n",
       "    <tr>\n",
       "      <td>3</td>\n",
       "      <td>3</td>\n",
       "      <td>1000_3</td>\n",
       "      <td>550.27</td>\n",
       "      <td>2018-08-22</td>\n",
       "      <td>1000</td>\n",
       "    </tr>\n",
       "    <tr>\n",
       "      <td>4</td>\n",
       "      <td>4</td>\n",
       "      <td>1000_4</td>\n",
       "      <td>302.56</td>\n",
       "      <td>2018-09-24</td>\n",
       "      <td>1000</td>\n",
       "    </tr>\n",
       "  </tbody>\n",
       "</table>\n",
       "</div>"
      ],
      "text/plain": [
       "   Unnamed: 0      id  mb_used session_date  user_id\n",
       "0           0  1000_0   112.95   2018-11-25     1000\n",
       "1           1  1000_1  1052.81   2018-09-07     1000\n",
       "2           2  1000_2  1197.26   2018-06-25     1000\n",
       "3           3  1000_3   550.27   2018-08-22     1000\n",
       "4           4  1000_4   302.56   2018-09-24     1000"
      ]
     },
     "execution_count": 3,
     "metadata": {},
     "output_type": "execute_result"
    }
   ],
   "source": [
    "data_internet.info()\n",
    "data_internet.head()"
   ]
  },
  {
   "cell_type": "markdown",
   "metadata": {},
   "source": [
    "session_date перевести в дату. mb_used перевести в количество гигабайт. Если больше 1024, то будет уже 2 гигабайта."
   ]
  },
  {
   "cell_type": "code",
   "execution_count": 4,
   "metadata": {},
   "outputs": [
    {
     "name": "stdout",
     "output_type": "stream",
     "text": [
      "<class 'pandas.core.frame.DataFrame'>\n",
      "RangeIndex: 123036 entries, 0 to 123035\n",
      "Data columns (total 3 columns):\n",
      "id              123036 non-null object\n",
      "message_date    123036 non-null object\n",
      "user_id         123036 non-null int64\n",
      "dtypes: int64(1), object(2)\n",
      "memory usage: 2.8+ MB\n"
     ]
    },
    {
     "data": {
      "text/html": [
       "<div>\n",
       "<style scoped>\n",
       "    .dataframe tbody tr th:only-of-type {\n",
       "        vertical-align: middle;\n",
       "    }\n",
       "\n",
       "    .dataframe tbody tr th {\n",
       "        vertical-align: top;\n",
       "    }\n",
       "\n",
       "    .dataframe thead th {\n",
       "        text-align: right;\n",
       "    }\n",
       "</style>\n",
       "<table border=\"1\" class=\"dataframe\">\n",
       "  <thead>\n",
       "    <tr style=\"text-align: right;\">\n",
       "      <th></th>\n",
       "      <th>id</th>\n",
       "      <th>message_date</th>\n",
       "      <th>user_id</th>\n",
       "    </tr>\n",
       "  </thead>\n",
       "  <tbody>\n",
       "    <tr>\n",
       "      <td>0</td>\n",
       "      <td>1000_0</td>\n",
       "      <td>2018-06-27</td>\n",
       "      <td>1000</td>\n",
       "    </tr>\n",
       "    <tr>\n",
       "      <td>1</td>\n",
       "      <td>1000_1</td>\n",
       "      <td>2018-10-08</td>\n",
       "      <td>1000</td>\n",
       "    </tr>\n",
       "    <tr>\n",
       "      <td>2</td>\n",
       "      <td>1000_2</td>\n",
       "      <td>2018-08-04</td>\n",
       "      <td>1000</td>\n",
       "    </tr>\n",
       "    <tr>\n",
       "      <td>3</td>\n",
       "      <td>1000_3</td>\n",
       "      <td>2018-06-16</td>\n",
       "      <td>1000</td>\n",
       "    </tr>\n",
       "    <tr>\n",
       "      <td>4</td>\n",
       "      <td>1000_4</td>\n",
       "      <td>2018-12-05</td>\n",
       "      <td>1000</td>\n",
       "    </tr>\n",
       "  </tbody>\n",
       "</table>\n",
       "</div>"
      ],
      "text/plain": [
       "       id message_date  user_id\n",
       "0  1000_0   2018-06-27     1000\n",
       "1  1000_1   2018-10-08     1000\n",
       "2  1000_2   2018-08-04     1000\n",
       "3  1000_3   2018-06-16     1000\n",
       "4  1000_4   2018-12-05     1000"
      ]
     },
     "execution_count": 4,
     "metadata": {},
     "output_type": "execute_result"
    }
   ],
   "source": [
    "data_messages.info()\n",
    "data_messages.head()"
   ]
  },
  {
   "cell_type": "markdown",
   "metadata": {},
   "source": [
    "Перевести message_date в дату"
   ]
  },
  {
   "cell_type": "code",
   "execution_count": 5,
   "metadata": {},
   "outputs": [
    {
     "name": "stdout",
     "output_type": "stream",
     "text": [
      "<class 'pandas.core.frame.DataFrame'>\n",
      "RangeIndex: 2 entries, 0 to 1\n",
      "Data columns (total 8 columns):\n",
      "messages_included        2 non-null int64\n",
      "mb_per_month_included    2 non-null int64\n",
      "minutes_included         2 non-null int64\n",
      "rub_monthly_fee          2 non-null int64\n",
      "rub_per_gb               2 non-null int64\n",
      "rub_per_message          2 non-null int64\n",
      "rub_per_minute           2 non-null int64\n",
      "tariff_name              2 non-null object\n",
      "dtypes: int64(7), object(1)\n",
      "memory usage: 256.0+ bytes\n"
     ]
    },
    {
     "data": {
      "text/html": [
       "<div>\n",
       "<style scoped>\n",
       "    .dataframe tbody tr th:only-of-type {\n",
       "        vertical-align: middle;\n",
       "    }\n",
       "\n",
       "    .dataframe tbody tr th {\n",
       "        vertical-align: top;\n",
       "    }\n",
       "\n",
       "    .dataframe thead th {\n",
       "        text-align: right;\n",
       "    }\n",
       "</style>\n",
       "<table border=\"1\" class=\"dataframe\">\n",
       "  <thead>\n",
       "    <tr style=\"text-align: right;\">\n",
       "      <th></th>\n",
       "      <th>messages_included</th>\n",
       "      <th>mb_per_month_included</th>\n",
       "      <th>minutes_included</th>\n",
       "      <th>rub_monthly_fee</th>\n",
       "      <th>rub_per_gb</th>\n",
       "      <th>rub_per_message</th>\n",
       "      <th>rub_per_minute</th>\n",
       "      <th>tariff_name</th>\n",
       "    </tr>\n",
       "  </thead>\n",
       "  <tbody>\n",
       "    <tr>\n",
       "      <td>0</td>\n",
       "      <td>50</td>\n",
       "      <td>15360</td>\n",
       "      <td>500</td>\n",
       "      <td>550</td>\n",
       "      <td>200</td>\n",
       "      <td>3</td>\n",
       "      <td>3</td>\n",
       "      <td>smart</td>\n",
       "    </tr>\n",
       "    <tr>\n",
       "      <td>1</td>\n",
       "      <td>1000</td>\n",
       "      <td>30720</td>\n",
       "      <td>3000</td>\n",
       "      <td>1950</td>\n",
       "      <td>150</td>\n",
       "      <td>1</td>\n",
       "      <td>1</td>\n",
       "      <td>ultra</td>\n",
       "    </tr>\n",
       "  </tbody>\n",
       "</table>\n",
       "</div>"
      ],
      "text/plain": [
       "   messages_included  mb_per_month_included  minutes_included  \\\n",
       "0                 50                  15360               500   \n",
       "1               1000                  30720              3000   \n",
       "\n",
       "   rub_monthly_fee  rub_per_gb  rub_per_message  rub_per_minute tariff_name  \n",
       "0              550         200                3               3       smart  \n",
       "1             1950         150                1               1       ultra  "
      ]
     },
     "execution_count": 5,
     "metadata": {},
     "output_type": "execute_result"
    }
   ],
   "source": [
    "data_tariffs.info()\n",
    "data_tariffs.head()"
   ]
  },
  {
   "cell_type": "code",
   "execution_count": 6,
   "metadata": {},
   "outputs": [
    {
     "name": "stdout",
     "output_type": "stream",
     "text": [
      "<class 'pandas.core.frame.DataFrame'>\n",
      "RangeIndex: 500 entries, 0 to 499\n",
      "Data columns (total 8 columns):\n",
      "user_id       500 non-null int64\n",
      "age           500 non-null int64\n",
      "churn_date    38 non-null object\n",
      "city          500 non-null object\n",
      "first_name    500 non-null object\n",
      "last_name     500 non-null object\n",
      "reg_date      500 non-null object\n",
      "tariff        500 non-null object\n",
      "dtypes: int64(2), object(6)\n",
      "memory usage: 31.4+ KB\n"
     ]
    },
    {
     "data": {
      "text/html": [
       "<div>\n",
       "<style scoped>\n",
       "    .dataframe tbody tr th:only-of-type {\n",
       "        vertical-align: middle;\n",
       "    }\n",
       "\n",
       "    .dataframe tbody tr th {\n",
       "        vertical-align: top;\n",
       "    }\n",
       "\n",
       "    .dataframe thead th {\n",
       "        text-align: right;\n",
       "    }\n",
       "</style>\n",
       "<table border=\"1\" class=\"dataframe\">\n",
       "  <thead>\n",
       "    <tr style=\"text-align: right;\">\n",
       "      <th></th>\n",
       "      <th>user_id</th>\n",
       "      <th>age</th>\n",
       "      <th>churn_date</th>\n",
       "      <th>city</th>\n",
       "      <th>first_name</th>\n",
       "      <th>last_name</th>\n",
       "      <th>reg_date</th>\n",
       "      <th>tariff</th>\n",
       "    </tr>\n",
       "  </thead>\n",
       "  <tbody>\n",
       "    <tr>\n",
       "      <td>0</td>\n",
       "      <td>1000</td>\n",
       "      <td>52</td>\n",
       "      <td>NaN</td>\n",
       "      <td>Краснодар</td>\n",
       "      <td>Рафаил</td>\n",
       "      <td>Верещагин</td>\n",
       "      <td>2018-05-25</td>\n",
       "      <td>ultra</td>\n",
       "    </tr>\n",
       "    <tr>\n",
       "      <td>1</td>\n",
       "      <td>1001</td>\n",
       "      <td>41</td>\n",
       "      <td>NaN</td>\n",
       "      <td>Москва</td>\n",
       "      <td>Иван</td>\n",
       "      <td>Ежов</td>\n",
       "      <td>2018-11-01</td>\n",
       "      <td>smart</td>\n",
       "    </tr>\n",
       "    <tr>\n",
       "      <td>2</td>\n",
       "      <td>1002</td>\n",
       "      <td>59</td>\n",
       "      <td>NaN</td>\n",
       "      <td>Стерлитамак</td>\n",
       "      <td>Евгений</td>\n",
       "      <td>Абрамович</td>\n",
       "      <td>2018-06-17</td>\n",
       "      <td>smart</td>\n",
       "    </tr>\n",
       "    <tr>\n",
       "      <td>3</td>\n",
       "      <td>1003</td>\n",
       "      <td>23</td>\n",
       "      <td>NaN</td>\n",
       "      <td>Москва</td>\n",
       "      <td>Белла</td>\n",
       "      <td>Белякова</td>\n",
       "      <td>2018-08-17</td>\n",
       "      <td>ultra</td>\n",
       "    </tr>\n",
       "    <tr>\n",
       "      <td>4</td>\n",
       "      <td>1004</td>\n",
       "      <td>68</td>\n",
       "      <td>NaN</td>\n",
       "      <td>Новокузнецк</td>\n",
       "      <td>Татьяна</td>\n",
       "      <td>Авдеенко</td>\n",
       "      <td>2018-05-14</td>\n",
       "      <td>ultra</td>\n",
       "    </tr>\n",
       "  </tbody>\n",
       "</table>\n",
       "</div>"
      ],
      "text/plain": [
       "   user_id  age churn_date         city first_name  last_name    reg_date  \\\n",
       "0     1000   52        NaN    Краснодар     Рафаил  Верещагин  2018-05-25   \n",
       "1     1001   41        NaN       Москва       Иван       Ежов  2018-11-01   \n",
       "2     1002   59        NaN  Стерлитамак    Евгений  Абрамович  2018-06-17   \n",
       "3     1003   23        NaN       Москва      Белла   Белякова  2018-08-17   \n",
       "4     1004   68        NaN  Новокузнецк    Татьяна   Авдеенко  2018-05-14   \n",
       "\n",
       "  tariff  \n",
       "0  ultra  \n",
       "1  smart  \n",
       "2  smart  \n",
       "3  ultra  \n",
       "4  ultra  "
      ]
     },
     "execution_count": 6,
     "metadata": {},
     "output_type": "execute_result"
    }
   ],
   "source": [
    "data_users.info()\n",
    "data_users.head()"
   ]
  },
  {
   "cell_type": "code",
   "execution_count": 7,
   "metadata": {},
   "outputs": [
    {
     "data": {
      "text/plain": [
       "smart    351\n",
       "ultra    149\n",
       "Name: tariff, dtype: int64"
      ]
     },
     "execution_count": 7,
     "metadata": {},
     "output_type": "execute_result"
    }
   ],
   "source": [
    "data_users['tariff'].value_counts()"
   ]
  },
  {
   "cell_type": "code",
   "execution_count": 8,
   "metadata": {
    "scrolled": true
   },
   "outputs": [
    {
     "data": {
      "text/plain": [
       "53    14\n",
       "42    14\n",
       "63    13\n",
       "71    13\n",
       "64    13\n",
       "73    12\n",
       "21    12\n",
       "40    12\n",
       "39    11\n",
       "47    11\n",
       "29    11\n",
       "26    11\n",
       "37    11\n",
       "41    10\n",
       "36    10\n",
       "58    10\n",
       "45    10\n",
       "70    10\n",
       "52    10\n",
       "51     9\n",
       "27     9\n",
       "48     9\n",
       "50     9\n",
       "28     9\n",
       "30     9\n",
       "24     9\n",
       "20     9\n",
       "19     9\n",
       "56     9\n",
       "23     9\n",
       "68     9\n",
       "66     9\n",
       "65     9\n",
       "69     8\n",
       "62     8\n",
       "60     8\n",
       "44     8\n",
       "55     8\n",
       "25     7\n",
       "43     7\n",
       "67     7\n",
       "35     7\n",
       "74     7\n",
       "32     7\n",
       "31     7\n",
       "46     7\n",
       "75     6\n",
       "54     6\n",
       "59     6\n",
       "18     6\n",
       "33     5\n",
       "34     5\n",
       "38     5\n",
       "22     5\n",
       "72     5\n",
       "49     4\n",
       "57     4\n",
       "61     3\n",
       "Name: age, dtype: int64"
      ]
     },
     "execution_count": 8,
     "metadata": {},
     "output_type": "execute_result"
    }
   ],
   "source": [
    "data_users['age'].value_counts()"
   ]
  },
  {
   "cell_type": "code",
   "execution_count": 9,
   "metadata": {},
   "outputs": [
    {
     "data": {
      "text/plain": [
       "Москва             99\n",
       "Санкт-Петербург    39\n",
       "Новосибирск        16\n",
       "Омск               14\n",
       "Казань             14\n",
       "                   ..\n",
       "Иваново             1\n",
       "Химки               1\n",
       "Архангельск         1\n",
       "Подольск            1\n",
       "Нижневартовск       1\n",
       "Name: city, Length: 76, dtype: int64"
      ]
     },
     "execution_count": 9,
     "metadata": {},
     "output_type": "execute_result"
    }
   ],
   "source": [
    "data_users['city'].value_counts()"
   ]
  },
  {
   "cell_type": "markdown",
   "metadata": {},
   "source": [
    "churn_date и reg_date перевести в дату"
   ]
  },
  {
   "cell_type": "markdown",
   "metadata": {},
   "source": [
    "## Шаг 2. Подготовьте данные"
   ]
  },
  {
   "cell_type": "markdown",
   "metadata": {},
   "source": [
    "Перевод колонок в дату"
   ]
  },
  {
   "cell_type": "code",
   "execution_count": 10,
   "metadata": {},
   "outputs": [],
   "source": [
    "data_calls['call_date'] = pd.to_datetime(data_calls['call_date'], format='%Y-%m-%d')\n",
    "data_internet['session_date'] = pd.to_datetime(data_internet['session_date'], format='%Y-%m-%d')\n",
    "data_messages['message_date'] = pd.to_datetime(data_messages['message_date'], format='%Y-%m-%d')\n",
    "data_users['reg_date'] = pd.to_datetime(data_users['reg_date'], format='%Y-%m-%d')\n",
    "\n",
    "\n",
    "data_calls['month'] = data_calls['call_date'].dt.month\n",
    "data_internet['month'] = data_internet['session_date'].dt.month\n",
    "data_messages['month'] = data_messages['message_date'].dt.month\n",
    "data_users['month'] = data_users['reg_date'].dt.month"
   ]
  },
  {
   "cell_type": "markdown",
   "metadata": {},
   "source": [
    "Округление гигабайт в большую сторону, а так же округление duration в большую сторону "
   ]
  },
  {
   "cell_type": "code",
   "execution_count": 11,
   "metadata": {},
   "outputs": [],
   "source": [
    "def mb(data):\n",
    "    return math.ceil(data['mb_used'] / 1024)\n",
    " \n",
    "data_internet['mb_used'] = data_internet.apply(mb, axis=1)\n",
    "data_calls['duration'] = data_calls['duration'].apply(lambda x: math.ceil(x))"
   ]
  },
  {
   "cell_type": "code",
   "execution_count": 12,
   "metadata": {
    "scrolled": true
   },
   "outputs": [
    {
     "name": "stdout",
     "output_type": "stream",
     "text": [
      "<class 'pandas.core.frame.DataFrame'>\n",
      "RangeIndex: 202607 entries, 0 to 202606\n",
      "Data columns (total 5 columns):\n",
      "id           202607 non-null object\n",
      "call_date    202607 non-null datetime64[ns]\n",
      "duration     202607 non-null int64\n",
      "user_id      202607 non-null int64\n",
      "month        202607 non-null int64\n",
      "dtypes: datetime64[ns](1), int64(3), object(1)\n",
      "memory usage: 7.7+ MB\n"
     ]
    },
    {
     "data": {
      "text/plain": [
       "0     39613\n",
       "7     11510\n",
       "6     11457\n",
       "5     11411\n",
       "8     11272\n",
       "9     10973\n",
       "4     10918\n",
       "3     10362\n",
       "10    10186\n",
       "11     9385\n",
       "2      9194\n",
       "12     8448\n",
       "1      8402\n",
       "13     7486\n",
       "14     6554\n",
       "15     5505\n",
       "16     4551\n",
       "17     3671\n",
       "18     2984\n",
       "19     2411\n",
       "20     1806\n",
       "21     1304\n",
       "22      975\n",
       "23      720\n",
       "24      468\n",
       "25      363\n",
       "26      257\n",
       "27      151\n",
       "28      104\n",
       "29       56\n",
       "30       39\n",
       "31       30\n",
       "32       17\n",
       "33       10\n",
       "35        5\n",
       "34        3\n",
       "36        2\n",
       "37        2\n",
       "38        2\n",
       "Name: duration, dtype: int64"
      ]
     },
     "execution_count": 12,
     "metadata": {},
     "output_type": "execute_result"
    }
   ],
   "source": [
    "data_calls.info()\n",
    "data_calls['duration'].value_counts()"
   ]
  },
  {
   "cell_type": "markdown",
   "metadata": {},
   "source": [
    "Хочу объединить данные в одную общую таблицу по пользователям и месяцам и у них. Перед этим сделаю сводные таблицы для них"
   ]
  },
  {
   "cell_type": "markdown",
   "metadata": {},
   "source": [
    "Сводная таблица для звонков"
   ]
  },
  {
   "cell_type": "code",
   "execution_count": 13,
   "metadata": {},
   "outputs": [
    {
     "data": {
      "text/html": [
       "<div>\n",
       "<style scoped>\n",
       "    .dataframe tbody tr th:only-of-type {\n",
       "        vertical-align: middle;\n",
       "    }\n",
       "\n",
       "    .dataframe tbody tr th {\n",
       "        vertical-align: top;\n",
       "    }\n",
       "\n",
       "    .dataframe thead th {\n",
       "        text-align: right;\n",
       "    }\n",
       "</style>\n",
       "<table border=\"1\" class=\"dataframe\">\n",
       "  <thead>\n",
       "    <tr style=\"text-align: right;\">\n",
       "      <th></th>\n",
       "      <th>user_id</th>\n",
       "      <th>month</th>\n",
       "      <th>duration_call</th>\n",
       "    </tr>\n",
       "  </thead>\n",
       "  <tbody>\n",
       "    <tr>\n",
       "      <td>0</td>\n",
       "      <td>1000</td>\n",
       "      <td>5</td>\n",
       "      <td>159</td>\n",
       "    </tr>\n",
       "    <tr>\n",
       "      <td>1</td>\n",
       "      <td>1000</td>\n",
       "      <td>6</td>\n",
       "      <td>172</td>\n",
       "    </tr>\n",
       "    <tr>\n",
       "      <td>2</td>\n",
       "      <td>1000</td>\n",
       "      <td>7</td>\n",
       "      <td>340</td>\n",
       "    </tr>\n",
       "    <tr>\n",
       "      <td>3</td>\n",
       "      <td>1000</td>\n",
       "      <td>8</td>\n",
       "      <td>408</td>\n",
       "    </tr>\n",
       "    <tr>\n",
       "      <td>4</td>\n",
       "      <td>1000</td>\n",
       "      <td>9</td>\n",
       "      <td>466</td>\n",
       "    </tr>\n",
       "  </tbody>\n",
       "</table>\n",
       "</div>"
      ],
      "text/plain": [
       "   user_id  month  duration_call\n",
       "0     1000      5            159\n",
       "1     1000      6            172\n",
       "2     1000      7            340\n",
       "3     1000      8            408\n",
       "4     1000      9            466"
      ]
     },
     "execution_count": 13,
     "metadata": {},
     "output_type": "execute_result"
    }
   ],
   "source": [
    "calls_per_month = data_calls.pivot_table(index=['user_id', 'month'], \n",
    "                                         values='duration', \n",
    "                                         aggfunc='sum').reset_index()\n",
    "\n",
    "calls_per_month.columns = ['user_id', 'month', 'duration_call']\n",
    "calls_per_month.head()"
   ]
  },
  {
   "cell_type": "markdown",
   "metadata": {},
   "source": [
    "Сводная таблица для гигабайт в месяц"
   ]
  },
  {
   "cell_type": "code",
   "execution_count": 14,
   "metadata": {},
   "outputs": [
    {
     "data": {
      "text/html": [
       "<div>\n",
       "<style scoped>\n",
       "    .dataframe tbody tr th:only-of-type {\n",
       "        vertical-align: middle;\n",
       "    }\n",
       "\n",
       "    .dataframe tbody tr th {\n",
       "        vertical-align: top;\n",
       "    }\n",
       "\n",
       "    .dataframe thead th {\n",
       "        text-align: right;\n",
       "    }\n",
       "</style>\n",
       "<table border=\"1\" class=\"dataframe\">\n",
       "  <thead>\n",
       "    <tr style=\"text-align: right;\">\n",
       "      <th></th>\n",
       "      <th>user_id</th>\n",
       "      <th>month</th>\n",
       "      <th>mb_sum</th>\n",
       "    </tr>\n",
       "  </thead>\n",
       "  <tbody>\n",
       "    <tr>\n",
       "      <td>0</td>\n",
       "      <td>1000</td>\n",
       "      <td>5</td>\n",
       "      <td>4</td>\n",
       "    </tr>\n",
       "    <tr>\n",
       "      <td>1</td>\n",
       "      <td>1000</td>\n",
       "      <td>6</td>\n",
       "      <td>49</td>\n",
       "    </tr>\n",
       "    <tr>\n",
       "      <td>2</td>\n",
       "      <td>1000</td>\n",
       "      <td>7</td>\n",
       "      <td>28</td>\n",
       "    </tr>\n",
       "    <tr>\n",
       "      <td>3</td>\n",
       "      <td>1000</td>\n",
       "      <td>8</td>\n",
       "      <td>27</td>\n",
       "    </tr>\n",
       "    <tr>\n",
       "      <td>4</td>\n",
       "      <td>1000</td>\n",
       "      <td>9</td>\n",
       "      <td>26</td>\n",
       "    </tr>\n",
       "  </tbody>\n",
       "</table>\n",
       "</div>"
      ],
      "text/plain": [
       "   user_id  month  mb_sum\n",
       "0     1000      5       4\n",
       "1     1000      6      49\n",
       "2     1000      7      28\n",
       "3     1000      8      27\n",
       "4     1000      9      26"
      ]
     },
     "execution_count": 14,
     "metadata": {},
     "output_type": "execute_result"
    }
   ],
   "source": [
    "internet_per_month = data_internet.pivot_table(index=['user_id', 'month'], \n",
    "                                         values='mb_used', \n",
    "                                         aggfunc='sum').reset_index()\n",
    "\n",
    "internet_per_month.columns = ['user_id', 'month', 'mb_sum']\n",
    "internet_per_month.head()"
   ]
  },
  {
   "cell_type": "markdown",
   "metadata": {},
   "source": [
    "Сводная таблица для сообщений в месяц"
   ]
  },
  {
   "cell_type": "code",
   "execution_count": 15,
   "metadata": {
    "scrolled": true
   },
   "outputs": [
    {
     "data": {
      "text/html": [
       "<div>\n",
       "<style scoped>\n",
       "    .dataframe tbody tr th:only-of-type {\n",
       "        vertical-align: middle;\n",
       "    }\n",
       "\n",
       "    .dataframe tbody tr th {\n",
       "        vertical-align: top;\n",
       "    }\n",
       "\n",
       "    .dataframe thead th {\n",
       "        text-align: right;\n",
       "    }\n",
       "</style>\n",
       "<table border=\"1\" class=\"dataframe\">\n",
       "  <thead>\n",
       "    <tr style=\"text-align: right;\">\n",
       "      <th></th>\n",
       "      <th>user_id</th>\n",
       "      <th>month</th>\n",
       "      <th>masseges_sum</th>\n",
       "    </tr>\n",
       "  </thead>\n",
       "  <tbody>\n",
       "    <tr>\n",
       "      <td>0</td>\n",
       "      <td>1000</td>\n",
       "      <td>5</td>\n",
       "      <td>22</td>\n",
       "    </tr>\n",
       "    <tr>\n",
       "      <td>1</td>\n",
       "      <td>1000</td>\n",
       "      <td>6</td>\n",
       "      <td>60</td>\n",
       "    </tr>\n",
       "    <tr>\n",
       "      <td>2</td>\n",
       "      <td>1000</td>\n",
       "      <td>7</td>\n",
       "      <td>75</td>\n",
       "    </tr>\n",
       "    <tr>\n",
       "      <td>3</td>\n",
       "      <td>1000</td>\n",
       "      <td>8</td>\n",
       "      <td>81</td>\n",
       "    </tr>\n",
       "    <tr>\n",
       "      <td>4</td>\n",
       "      <td>1000</td>\n",
       "      <td>9</td>\n",
       "      <td>57</td>\n",
       "    </tr>\n",
       "  </tbody>\n",
       "</table>\n",
       "</div>"
      ],
      "text/plain": [
       "   user_id  month  masseges_sum\n",
       "0     1000      5            22\n",
       "1     1000      6            60\n",
       "2     1000      7            75\n",
       "3     1000      8            81\n",
       "4     1000      9            57"
      ]
     },
     "execution_count": 15,
     "metadata": {},
     "output_type": "execute_result"
    }
   ],
   "source": [
    "data_messages['count'] = 1\n",
    "masseges_per_month = data_messages.pivot_table(index=['user_id', 'month'],\n",
    "                                              values='count',\n",
    "                                              aggfunc='sum').reset_index()\n",
    "\n",
    "masseges_per_month.columns = ['user_id', 'month', 'masseges_sum']\n",
    "masseges_per_month.head()"
   ]
  },
  {
   "cell_type": "code",
   "execution_count": 16,
   "metadata": {},
   "outputs": [
    {
     "name": "stdout",
     "output_type": "stream",
     "text": [
      "<class 'pandas.core.frame.DataFrame'>\n",
      "RangeIndex: 2717 entries, 0 to 2716\n",
      "Data columns (total 3 columns):\n",
      "user_id         2717 non-null int64\n",
      "month           2717 non-null int64\n",
      "masseges_sum    2717 non-null int64\n",
      "dtypes: int64(3)\n",
      "memory usage: 63.8 KB\n"
     ]
    }
   ],
   "source": [
    "masseges_per_month.info()"
   ]
  },
  {
   "cell_type": "code",
   "execution_count": 17,
   "metadata": {},
   "outputs": [
    {
     "data": {
      "text/html": [
       "<div>\n",
       "<style scoped>\n",
       "    .dataframe tbody tr th:only-of-type {\n",
       "        vertical-align: middle;\n",
       "    }\n",
       "\n",
       "    .dataframe tbody tr th {\n",
       "        vertical-align: top;\n",
       "    }\n",
       "\n",
       "    .dataframe thead th {\n",
       "        text-align: right;\n",
       "    }\n",
       "</style>\n",
       "<table border=\"1\" class=\"dataframe\">\n",
       "  <thead>\n",
       "    <tr style=\"text-align: right;\">\n",
       "      <th></th>\n",
       "      <th>user_id</th>\n",
       "      <th>month</th>\n",
       "      <th>duration_call</th>\n",
       "      <th>mb_sum</th>\n",
       "      <th>masseges_sum</th>\n",
       "      <th>tariff</th>\n",
       "      <th>city</th>\n",
       "    </tr>\n",
       "  </thead>\n",
       "  <tbody>\n",
       "    <tr>\n",
       "      <td>0</td>\n",
       "      <td>1000</td>\n",
       "      <td>5</td>\n",
       "      <td>159</td>\n",
       "      <td>4.0</td>\n",
       "      <td>22.0</td>\n",
       "      <td>ultra</td>\n",
       "      <td>Краснодар</td>\n",
       "    </tr>\n",
       "    <tr>\n",
       "      <td>1</td>\n",
       "      <td>1000</td>\n",
       "      <td>6</td>\n",
       "      <td>172</td>\n",
       "      <td>49.0</td>\n",
       "      <td>60.0</td>\n",
       "      <td>ultra</td>\n",
       "      <td>Краснодар</td>\n",
       "    </tr>\n",
       "    <tr>\n",
       "      <td>2</td>\n",
       "      <td>1000</td>\n",
       "      <td>7</td>\n",
       "      <td>340</td>\n",
       "      <td>28.0</td>\n",
       "      <td>75.0</td>\n",
       "      <td>ultra</td>\n",
       "      <td>Краснодар</td>\n",
       "    </tr>\n",
       "    <tr>\n",
       "      <td>3</td>\n",
       "      <td>1000</td>\n",
       "      <td>8</td>\n",
       "      <td>408</td>\n",
       "      <td>27.0</td>\n",
       "      <td>81.0</td>\n",
       "      <td>ultra</td>\n",
       "      <td>Краснодар</td>\n",
       "    </tr>\n",
       "    <tr>\n",
       "      <td>4</td>\n",
       "      <td>1000</td>\n",
       "      <td>9</td>\n",
       "      <td>466</td>\n",
       "      <td>26.0</td>\n",
       "      <td>57.0</td>\n",
       "      <td>ultra</td>\n",
       "      <td>Краснодар</td>\n",
       "    </tr>\n",
       "  </tbody>\n",
       "</table>\n",
       "</div>"
      ],
      "text/plain": [
       "   user_id  month  duration_call  mb_sum  masseges_sum tariff       city\n",
       "0     1000      5            159     4.0          22.0  ultra  Краснодар\n",
       "1     1000      6            172    49.0          60.0  ultra  Краснодар\n",
       "2     1000      7            340    28.0          75.0  ultra  Краснодар\n",
       "3     1000      8            408    27.0          81.0  ultra  Краснодар\n",
       "4     1000      9            466    26.0          57.0  ultra  Краснодар"
      ]
     },
     "execution_count": 17,
     "metadata": {},
     "output_type": "execute_result"
    }
   ],
   "source": [
    "user_fil = data_users[['user_id', 'tariff', 'city']]\n",
    "data = (calls_per_month.merge(internet_per_month, how='left', on=['user_id', 'month'])\n",
    "       .merge(masseges_per_month, how='left', on=['user_id', 'month'])\n",
    "       .merge(user_fil, on='user_id', how='left')\n",
    "       )\n",
    "\n",
    "data.head()"
   ]
  },
  {
   "cell_type": "code",
   "execution_count": 18,
   "metadata": {},
   "outputs": [
    {
     "data": {
      "text/plain": [
       "smart    2223\n",
       "ultra     951\n",
       "Name: tariff, dtype: int64"
      ]
     },
     "execution_count": 18,
     "metadata": {},
     "output_type": "execute_result"
    }
   ],
   "source": [
    "data['tariff'].value_counts()"
   ]
  },
  {
   "cell_type": "code",
   "execution_count": 19,
   "metadata": {},
   "outputs": [
    {
     "name": "stdout",
     "output_type": "stream",
     "text": [
      "<class 'pandas.core.frame.DataFrame'>\n",
      "Int64Index: 3174 entries, 0 to 3173\n",
      "Data columns (total 7 columns):\n",
      "user_id          3174 non-null int64\n",
      "month            3174 non-null int64\n",
      "duration_call    3174 non-null int64\n",
      "mb_sum           3163 non-null float64\n",
      "masseges_sum     2678 non-null float64\n",
      "tariff           3174 non-null object\n",
      "city             3174 non-null object\n",
      "dtypes: float64(2), int64(3), object(2)\n",
      "memory usage: 198.4+ KB\n"
     ]
    }
   ],
   "source": [
    "data.info()"
   ]
  },
  {
   "cell_type": "code",
   "execution_count": 20,
   "metadata": {},
   "outputs": [
    {
     "data": {
      "text/html": [
       "<div>\n",
       "<style scoped>\n",
       "    .dataframe tbody tr th:only-of-type {\n",
       "        vertical-align: middle;\n",
       "    }\n",
       "\n",
       "    .dataframe tbody tr th {\n",
       "        vertical-align: top;\n",
       "    }\n",
       "\n",
       "    .dataframe thead th {\n",
       "        text-align: right;\n",
       "    }\n",
       "</style>\n",
       "<table border=\"1\" class=\"dataframe\">\n",
       "  <thead>\n",
       "    <tr style=\"text-align: right;\">\n",
       "      <th></th>\n",
       "      <th>user_id</th>\n",
       "      <th>month</th>\n",
       "      <th>duration_call</th>\n",
       "      <th>mb_sum</th>\n",
       "      <th>masseges_sum</th>\n",
       "      <th>tariff</th>\n",
       "      <th>city</th>\n",
       "    </tr>\n",
       "  </thead>\n",
       "  <tbody>\n",
       "    <tr>\n",
       "      <td>1697</td>\n",
       "      <td>1273</td>\n",
       "      <td>5</td>\n",
       "      <td>220</td>\n",
       "      <td>NaN</td>\n",
       "      <td>21.0</td>\n",
       "      <td>ultra</td>\n",
       "      <td>Курган</td>\n",
       "    </tr>\n",
       "    <tr>\n",
       "      <td>1698</td>\n",
       "      <td>1273</td>\n",
       "      <td>6</td>\n",
       "      <td>230</td>\n",
       "      <td>NaN</td>\n",
       "      <td>38.0</td>\n",
       "      <td>ultra</td>\n",
       "      <td>Курган</td>\n",
       "    </tr>\n",
       "    <tr>\n",
       "      <td>1699</td>\n",
       "      <td>1273</td>\n",
       "      <td>7</td>\n",
       "      <td>253</td>\n",
       "      <td>NaN</td>\n",
       "      <td>37.0</td>\n",
       "      <td>ultra</td>\n",
       "      <td>Курган</td>\n",
       "    </tr>\n",
       "    <tr>\n",
       "      <td>1700</td>\n",
       "      <td>1273</td>\n",
       "      <td>8</td>\n",
       "      <td>253</td>\n",
       "      <td>NaN</td>\n",
       "      <td>41.0</td>\n",
       "      <td>ultra</td>\n",
       "      <td>Курган</td>\n",
       "    </tr>\n",
       "    <tr>\n",
       "      <td>1701</td>\n",
       "      <td>1273</td>\n",
       "      <td>9</td>\n",
       "      <td>223</td>\n",
       "      <td>NaN</td>\n",
       "      <td>32.0</td>\n",
       "      <td>ultra</td>\n",
       "      <td>Курган</td>\n",
       "    </tr>\n",
       "    <tr>\n",
       "      <td>1702</td>\n",
       "      <td>1273</td>\n",
       "      <td>10</td>\n",
       "      <td>315</td>\n",
       "      <td>NaN</td>\n",
       "      <td>35.0</td>\n",
       "      <td>ultra</td>\n",
       "      <td>Курган</td>\n",
       "    </tr>\n",
       "    <tr>\n",
       "      <td>1703</td>\n",
       "      <td>1273</td>\n",
       "      <td>11</td>\n",
       "      <td>272</td>\n",
       "      <td>NaN</td>\n",
       "      <td>29.0</td>\n",
       "      <td>ultra</td>\n",
       "      <td>Курган</td>\n",
       "    </tr>\n",
       "    <tr>\n",
       "      <td>1704</td>\n",
       "      <td>1273</td>\n",
       "      <td>12</td>\n",
       "      <td>260</td>\n",
       "      <td>NaN</td>\n",
       "      <td>39.0</td>\n",
       "      <td>ultra</td>\n",
       "      <td>Курган</td>\n",
       "    </tr>\n",
       "    <tr>\n",
       "      <td>2358</td>\n",
       "      <td>1377</td>\n",
       "      <td>2</td>\n",
       "      <td>179</td>\n",
       "      <td>NaN</td>\n",
       "      <td>2.0</td>\n",
       "      <td>ultra</td>\n",
       "      <td>Брянск</td>\n",
       "    </tr>\n",
       "    <tr>\n",
       "      <td>2471</td>\n",
       "      <td>1392</td>\n",
       "      <td>2</td>\n",
       "      <td>13</td>\n",
       "      <td>NaN</td>\n",
       "      <td>3.0</td>\n",
       "      <td>ultra</td>\n",
       "      <td>Челябинск</td>\n",
       "    </tr>\n",
       "    <tr>\n",
       "      <td>2829</td>\n",
       "      <td>1446</td>\n",
       "      <td>8</td>\n",
       "      <td>50</td>\n",
       "      <td>NaN</td>\n",
       "      <td>1.0</td>\n",
       "      <td>smart</td>\n",
       "      <td>Липецк</td>\n",
       "    </tr>\n",
       "  </tbody>\n",
       "</table>\n",
       "</div>"
      ],
      "text/plain": [
       "      user_id  month  duration_call  mb_sum  masseges_sum tariff       city\n",
       "1697     1273      5            220     NaN          21.0  ultra     Курган\n",
       "1698     1273      6            230     NaN          38.0  ultra     Курган\n",
       "1699     1273      7            253     NaN          37.0  ultra     Курган\n",
       "1700     1273      8            253     NaN          41.0  ultra     Курган\n",
       "1701     1273      9            223     NaN          32.0  ultra     Курган\n",
       "1702     1273     10            315     NaN          35.0  ultra     Курган\n",
       "1703     1273     11            272     NaN          29.0  ultra     Курган\n",
       "1704     1273     12            260     NaN          39.0  ultra     Курган\n",
       "2358     1377      2            179     NaN           2.0  ultra     Брянск\n",
       "2471     1392      2             13     NaN           3.0  ultra  Челябинск\n",
       "2829     1446      8             50     NaN           1.0  smart     Липецк"
      ]
     },
     "execution_count": 20,
     "metadata": {},
     "output_type": "execute_result"
    }
   ],
   "source": [
    "data.query('mb_sum.isna()')"
   ]
  },
  {
   "cell_type": "markdown",
   "metadata": {},
   "source": [
    "Перед тем как помесячную выручку для пользователей по месяцам я бы хотел заполнить пропуски в некоторых месяцах на 0, так как очевидно, что они не используются"
   ]
  },
  {
   "cell_type": "code",
   "execution_count": 21,
   "metadata": {},
   "outputs": [],
   "source": [
    "data['mb_sum'] = data['mb_sum'].fillna(value=0)\n",
    "data['masseges_sum'] = data['masseges_sum'].fillna(value=0)\n"
   ]
  },
  {
   "cell_type": "markdown",
   "metadata": {},
   "source": [
    "Так же после объеденения таблиц поменялся тип данных. Для дальшейних вычислений поменяю типы "
   ]
  },
  {
   "cell_type": "code",
   "execution_count": 22,
   "metadata": {},
   "outputs": [],
   "source": [
    "data['mb_sum'] = data['mb_sum'].astype('int')\n",
    "data['masseges_sum'] = data['masseges_sum'].astype('int')"
   ]
  },
  {
   "cell_type": "code",
   "execution_count": 23,
   "metadata": {},
   "outputs": [
    {
     "name": "stdout",
     "output_type": "stream",
     "text": [
      "<class 'pandas.core.frame.DataFrame'>\n",
      "Int64Index: 3174 entries, 0 to 3173\n",
      "Data columns (total 7 columns):\n",
      "user_id          3174 non-null int64\n",
      "month            3174 non-null int64\n",
      "duration_call    3174 non-null int64\n",
      "mb_sum           3174 non-null int64\n",
      "masseges_sum     3174 non-null int64\n",
      "tariff           3174 non-null object\n",
      "city             3174 non-null object\n",
      "dtypes: int64(5), object(2)\n",
      "memory usage: 198.4+ KB\n"
     ]
    }
   ],
   "source": [
    "data.info()"
   ]
  },
  {
   "cell_type": "markdown",
   "metadata": {},
   "source": [
    "Теперь посчитаем помесячную выгоду для каждого пользователя"
   ]
  },
  {
   "cell_type": "code",
   "execution_count": 24,
   "metadata": {},
   "outputs": [
    {
     "data": {
      "text/html": [
       "<div>\n",
       "<style scoped>\n",
       "    .dataframe tbody tr th:only-of-type {\n",
       "        vertical-align: middle;\n",
       "    }\n",
       "\n",
       "    .dataframe tbody tr th {\n",
       "        vertical-align: top;\n",
       "    }\n",
       "\n",
       "    .dataframe thead th {\n",
       "        text-align: right;\n",
       "    }\n",
       "</style>\n",
       "<table border=\"1\" class=\"dataframe\">\n",
       "  <thead>\n",
       "    <tr style=\"text-align: right;\">\n",
       "      <th></th>\n",
       "      <th>messages_included</th>\n",
       "      <th>mb_per_month_included</th>\n",
       "      <th>minutes_included</th>\n",
       "      <th>rub_monthly_fee</th>\n",
       "      <th>rub_per_gb</th>\n",
       "      <th>rub_per_message</th>\n",
       "      <th>rub_per_minute</th>\n",
       "      <th>tariff_name</th>\n",
       "    </tr>\n",
       "  </thead>\n",
       "  <tbody>\n",
       "    <tr>\n",
       "      <td>0</td>\n",
       "      <td>50</td>\n",
       "      <td>15360</td>\n",
       "      <td>500</td>\n",
       "      <td>550</td>\n",
       "      <td>200</td>\n",
       "      <td>3</td>\n",
       "      <td>3</td>\n",
       "      <td>smart</td>\n",
       "    </tr>\n",
       "    <tr>\n",
       "      <td>1</td>\n",
       "      <td>1000</td>\n",
       "      <td>30720</td>\n",
       "      <td>3000</td>\n",
       "      <td>1950</td>\n",
       "      <td>150</td>\n",
       "      <td>1</td>\n",
       "      <td>1</td>\n",
       "      <td>ultra</td>\n",
       "    </tr>\n",
       "  </tbody>\n",
       "</table>\n",
       "</div>"
      ],
      "text/plain": [
       "   messages_included  mb_per_month_included  minutes_included  \\\n",
       "0                 50                  15360               500   \n",
       "1               1000                  30720              3000   \n",
       "\n",
       "   rub_monthly_fee  rub_per_gb  rub_per_message  rub_per_minute tariff_name  \n",
       "0              550         200                3               3       smart  \n",
       "1             1950         150                1               1       ultra  "
      ]
     },
     "execution_count": 24,
     "metadata": {},
     "output_type": "execute_result"
    }
   ],
   "source": [
    "data_tariffs"
   ]
  },
  {
   "cell_type": "code",
   "execution_count": 25,
   "metadata": {},
   "outputs": [
    {
     "data": {
      "text/html": [
       "<div>\n",
       "<style scoped>\n",
       "    .dataframe tbody tr th:only-of-type {\n",
       "        vertical-align: middle;\n",
       "    }\n",
       "\n",
       "    .dataframe tbody tr th {\n",
       "        vertical-align: top;\n",
       "    }\n",
       "\n",
       "    .dataframe thead th {\n",
       "        text-align: right;\n",
       "    }\n",
       "</style>\n",
       "<table border=\"1\" class=\"dataframe\">\n",
       "  <thead>\n",
       "    <tr style=\"text-align: right;\">\n",
       "      <th></th>\n",
       "      <th>messages_included</th>\n",
       "      <th>mb_per_month_included</th>\n",
       "      <th>minutes_included</th>\n",
       "      <th>rub_monthly_fee</th>\n",
       "      <th>rub_per_gb</th>\n",
       "      <th>rub_per_message</th>\n",
       "      <th>rub_per_minute</th>\n",
       "      <th>tariff_name</th>\n",
       "    </tr>\n",
       "  </thead>\n",
       "  <tbody>\n",
       "    <tr>\n",
       "      <td>0</td>\n",
       "      <td>50</td>\n",
       "      <td>15</td>\n",
       "      <td>500</td>\n",
       "      <td>550</td>\n",
       "      <td>200</td>\n",
       "      <td>3</td>\n",
       "      <td>3</td>\n",
       "      <td>smart</td>\n",
       "    </tr>\n",
       "    <tr>\n",
       "      <td>1</td>\n",
       "      <td>1000</td>\n",
       "      <td>30</td>\n",
       "      <td>3000</td>\n",
       "      <td>1950</td>\n",
       "      <td>150</td>\n",
       "      <td>1</td>\n",
       "      <td>1</td>\n",
       "      <td>ultra</td>\n",
       "    </tr>\n",
       "  </tbody>\n",
       "</table>\n",
       "</div>"
      ],
      "text/plain": [
       "   messages_included  mb_per_month_included  minutes_included  \\\n",
       "0                 50                     15               500   \n",
       "1               1000                     30              3000   \n",
       "\n",
       "   rub_monthly_fee  rub_per_gb  rub_per_message  rub_per_minute tariff_name  \n",
       "0              550         200                3               3       smart  \n",
       "1             1950         150                1               1       ultra  "
      ]
     },
     "execution_count": 25,
     "metadata": {},
     "output_type": "execute_result"
    }
   ],
   "source": [
    "data_tariffs['mb_per_month_included'] = data_tariffs['mb_per_month_included'] / 1024\n",
    "data_tariffs['mb_per_month_included'] = data_tariffs['mb_per_month_included'].astype('int')\n",
    "data_tariffs"
   ]
  },
  {
   "cell_type": "code",
   "execution_count": 26,
   "metadata": {},
   "outputs": [
    {
     "data": {
      "text/plain": [
       "messages_included         1000\n",
       "mb_per_month_included       30\n",
       "minutes_included          3000\n",
       "rub_monthly_fee           1950\n",
       "rub_per_gb                 150\n",
       "rub_per_message              1\n",
       "rub_per_minute               1\n",
       "tariff_name              ultra\n",
       "Name: 1, dtype: object"
      ]
     },
     "execution_count": 26,
     "metadata": {},
     "output_type": "execute_result"
    }
   ],
   "source": [
    "data_tariffs.loc[1]"
   ]
  },
  {
   "cell_type": "code",
   "execution_count": 27,
   "metadata": {},
   "outputs": [
    {
     "data": {
      "text/html": [
       "<div>\n",
       "<style scoped>\n",
       "    .dataframe tbody tr th:only-of-type {\n",
       "        vertical-align: middle;\n",
       "    }\n",
       "\n",
       "    .dataframe tbody tr th {\n",
       "        vertical-align: top;\n",
       "    }\n",
       "\n",
       "    .dataframe thead th {\n",
       "        text-align: right;\n",
       "    }\n",
       "</style>\n",
       "<table border=\"1\" class=\"dataframe\">\n",
       "  <thead>\n",
       "    <tr style=\"text-align: right;\">\n",
       "      <th></th>\n",
       "      <th>user_id</th>\n",
       "      <th>month</th>\n",
       "      <th>duration_call</th>\n",
       "      <th>mb_sum</th>\n",
       "      <th>masseges_sum</th>\n",
       "      <th>tariff</th>\n",
       "      <th>city</th>\n",
       "      <th>income</th>\n",
       "    </tr>\n",
       "  </thead>\n",
       "  <tbody>\n",
       "    <tr>\n",
       "      <td>0</td>\n",
       "      <td>1000</td>\n",
       "      <td>5</td>\n",
       "      <td>159</td>\n",
       "      <td>4</td>\n",
       "      <td>22</td>\n",
       "      <td>ultra</td>\n",
       "      <td>Краснодар</td>\n",
       "      <td>1950</td>\n",
       "    </tr>\n",
       "    <tr>\n",
       "      <td>1</td>\n",
       "      <td>1000</td>\n",
       "      <td>6</td>\n",
       "      <td>172</td>\n",
       "      <td>49</td>\n",
       "      <td>60</td>\n",
       "      <td>ultra</td>\n",
       "      <td>Краснодар</td>\n",
       "      <td>4800</td>\n",
       "    </tr>\n",
       "    <tr>\n",
       "      <td>2</td>\n",
       "      <td>1000</td>\n",
       "      <td>7</td>\n",
       "      <td>340</td>\n",
       "      <td>28</td>\n",
       "      <td>75</td>\n",
       "      <td>ultra</td>\n",
       "      <td>Краснодар</td>\n",
       "      <td>1950</td>\n",
       "    </tr>\n",
       "    <tr>\n",
       "      <td>3</td>\n",
       "      <td>1000</td>\n",
       "      <td>8</td>\n",
       "      <td>408</td>\n",
       "      <td>27</td>\n",
       "      <td>81</td>\n",
       "      <td>ultra</td>\n",
       "      <td>Краснодар</td>\n",
       "      <td>1950</td>\n",
       "    </tr>\n",
       "    <tr>\n",
       "      <td>4</td>\n",
       "      <td>1000</td>\n",
       "      <td>9</td>\n",
       "      <td>466</td>\n",
       "      <td>26</td>\n",
       "      <td>57</td>\n",
       "      <td>ultra</td>\n",
       "      <td>Краснодар</td>\n",
       "      <td>1950</td>\n",
       "    </tr>\n",
       "  </tbody>\n",
       "</table>\n",
       "</div>"
      ],
      "text/plain": [
       "   user_id  month  duration_call  mb_sum  masseges_sum tariff       city  \\\n",
       "0     1000      5            159       4            22  ultra  Краснодар   \n",
       "1     1000      6            172      49            60  ultra  Краснодар   \n",
       "2     1000      7            340      28            75  ultra  Краснодар   \n",
       "3     1000      8            408      27            81  ultra  Краснодар   \n",
       "4     1000      9            466      26            57  ultra  Краснодар   \n",
       "\n",
       "   income  \n",
       "0    1950  \n",
       "1    4800  \n",
       "2    1950  \n",
       "3    1950  \n",
       "4    1950  "
      ]
     },
     "execution_count": 27,
     "metadata": {},
     "output_type": "execute_result"
    }
   ],
   "source": [
    "def income(row):\n",
    "    count = 0\n",
    "    if row['tariff'] == 'ultra': \n",
    "        df_loc = data_tariffs.loc[1]\n",
    "        \n",
    "        count += df_loc['rub_monthly_fee']\n",
    "        call = int(row['duration_call'] - df_loc['minutes_included'])\n",
    "        mb = int(row['mb_sum'] - df_loc['mb_per_month_included'])\n",
    "        msg = int(row['masseges_sum'] - df_loc['messages_included'])\n",
    "        \n",
    "        if call > 0: count += call\n",
    "        if mb > 0: count += mb * df_loc['rub_per_gb']\n",
    "        if msg > 0: count += msg\n",
    "    else:\n",
    "        df_loc = data_tariffs.loc[0]\n",
    "        \n",
    "        count += df_loc['rub_monthly_fee']\n",
    "        call = int(row['duration_call'] - df_loc['minutes_included'])\n",
    "        mb = int(row['mb_sum'] - df_loc['mb_per_month_included'])\n",
    "        msg = int(row['masseges_sum'] - df_loc['messages_included'])\n",
    "\n",
    "        if call > 0: count += call * df_loc['rub_per_message']\n",
    "        if mb > 0: count += mb * df_loc['rub_per_gb']\n",
    "        if msg > 0: count += msg * df_loc['rub_per_minute']\n",
    "    \n",
    "    return count\n",
    "        \n",
    "data['income'] = data.apply(income, axis=1)\n",
    "\n",
    "data.head()"
   ]
  },
  {
   "cell_type": "code",
   "execution_count": 28,
   "metadata": {},
   "outputs": [],
   "source": [
    "data_smart = data.query('tariff == \"smart\"')"
   ]
  },
  {
   "cell_type": "code",
   "execution_count": 29,
   "metadata": {},
   "outputs": [],
   "source": [
    "data_ultra = data.query('tariff == \"ultra\"')"
   ]
  },
  {
   "cell_type": "code",
   "execution_count": 30,
   "metadata": {},
   "outputs": [
    {
     "name": "stdout",
     "output_type": "stream",
     "text": [
      "<class 'pandas.core.frame.DataFrame'>\n",
      "Int64Index: 2223 entries, 8 to 3173\n",
      "Data columns (total 8 columns):\n",
      "user_id          2223 non-null int64\n",
      "month            2223 non-null int64\n",
      "duration_call    2223 non-null int64\n",
      "mb_sum           2223 non-null int64\n",
      "masseges_sum     2223 non-null int64\n",
      "tariff           2223 non-null object\n",
      "city             2223 non-null object\n",
      "income           2223 non-null int64\n",
      "dtypes: int64(6), object(2)\n",
      "memory usage: 156.3+ KB\n"
     ]
    }
   ],
   "source": [
    "data_smart.info()"
   ]
  },
  {
   "cell_type": "code",
   "execution_count": 31,
   "metadata": {},
   "outputs": [
    {
     "name": "stdout",
     "output_type": "stream",
     "text": [
      "<class 'pandas.core.frame.DataFrame'>\n",
      "Int64Index: 951 entries, 0 to 3150\n",
      "Data columns (total 8 columns):\n",
      "user_id          951 non-null int64\n",
      "month            951 non-null int64\n",
      "duration_call    951 non-null int64\n",
      "mb_sum           951 non-null int64\n",
      "masseges_sum     951 non-null int64\n",
      "tariff           951 non-null object\n",
      "city             951 non-null object\n",
      "income           951 non-null int64\n",
      "dtypes: int64(6), object(2)\n",
      "memory usage: 66.9+ KB\n"
     ]
    }
   ],
   "source": [
    "data_ultra.info()"
   ]
  },
  {
   "cell_type": "markdown",
   "metadata": {},
   "source": [
    "Исходя из предобработки данных у нас получилась таблица по 12 месяцев у каждого пользователя количества расходованных минут, смс, интернета.А так же какой тариф использует пользователь, и с какого он города"
   ]
  },
  {
   "cell_type": "markdown",
   "metadata": {},
   "source": [
    "## Шаг Проанализируйте данные"
   ]
  },
  {
   "cell_type": "markdown",
   "metadata": {},
   "source": [
    "Построим гистограммы по количеству звонков"
   ]
  },
  {
   "cell_type": "code",
   "execution_count": 32,
   "metadata": {},
   "outputs": [
    {
     "data": {
      "image/png": "[encoded data removed]",
      "text/plain": [
       "<Figure size 432x288 with 1 Axes>"
      ]
     },
     "metadata": {
      "needs_background": "light"
     },
     "output_type": "display_data"
    }
   ],
   "source": [
    "ax = (data_smart\n",
    "     .plot(\n",
    "         kind='hist',\n",
    "         y='duration_call',\n",
    "         histtype='step',\n",
    "         linewidth=3,\n",
    "         legend=True,\n",
    "         label='Smart'))\n",
    "\n",
    "(data_ultra.plot(kind='hist', \n",
    "                 y='duration_call',\n",
    "                 ax=ax,\n",
    "                 alpha=0.5,\n",
    "                 legend=True,\n",
    "                 label='Ultra',\n",
    "                 title='Расход звонков'));"
   ]
  },
  {
   "cell_type": "markdown",
   "metadata": {},
   "source": [
    "Расчет средних значений, дисперсии и среднего отклонения в количестве звонков"
   ]
  },
  {
   "cell_type": "code",
   "execution_count": 33,
   "metadata": {},
   "outputs": [
    {
     "data": {
      "text/html": [
       "<div>\n",
       "<style scoped>\n",
       "    .dataframe tbody tr th:only-of-type {\n",
       "        vertical-align: middle;\n",
       "    }\n",
       "\n",
       "    .dataframe tbody tr th {\n",
       "        vertical-align: top;\n",
       "    }\n",
       "\n",
       "    .dataframe thead tr th {\n",
       "        text-align: left;\n",
       "    }\n",
       "\n",
       "    .dataframe thead tr:last-of-type th {\n",
       "        text-align: right;\n",
       "    }\n",
       "</style>\n",
       "<table border=\"1\" class=\"dataframe\">\n",
       "  <thead>\n",
       "    <tr>\n",
       "      <th></th>\n",
       "      <th>mean</th>\n",
       "      <th>var</th>\n",
       "      <th>std</th>\n",
       "    </tr>\n",
       "    <tr>\n",
       "      <th></th>\n",
       "      <th>duration_call</th>\n",
       "      <th>duration_call</th>\n",
       "      <th>duration_call</th>\n",
       "    </tr>\n",
       "    <tr>\n",
       "      <th>tariff</th>\n",
       "      <th></th>\n",
       "      <th></th>\n",
       "      <th></th>\n",
       "    </tr>\n",
       "  </thead>\n",
       "  <tbody>\n",
       "    <tr>\n",
       "      <td>smart</td>\n",
       "      <td>419.062978</td>\n",
       "      <td>35844.189551</td>\n",
       "      <td>189.325618</td>\n",
       "    </tr>\n",
       "    <tr>\n",
       "      <td>ultra</td>\n",
       "      <td>545.451104</td>\n",
       "      <td>94203.418396</td>\n",
       "      <td>306.925754</td>\n",
       "    </tr>\n",
       "  </tbody>\n",
       "</table>\n",
       "</div>"
      ],
      "text/plain": [
       "                mean           var           std\n",
       "       duration_call duration_call duration_call\n",
       "tariff                                          \n",
       "smart     419.062978  35844.189551    189.325618\n",
       "ultra     545.451104  94203.418396    306.925754"
      ]
     },
     "execution_count": 33,
     "metadata": {},
     "output_type": "execute_result"
    }
   ],
   "source": [
    "data.pivot_table(index='tariff',\n",
    "                 values='duration_call',\n",
    "                 aggfunc=['mean','var', 'std'])"
   ]
  },
  {
   "cell_type": "markdown",
   "metadata": {},
   "source": [
    "Судя по гистограмме данные смещенны влево у обоих тарифов, но средние значения у них конечно же разнятся, что видно по таблице. Что касается дисперсии то тут так же очень большая разница, и я бы отсек значения больше 1000 минут в месяц так как они могут повлиять на проверку гипотез. В целом проверю потом и так и так"
   ]
  },
  {
   "cell_type": "markdown",
   "metadata": {},
   "source": [
    "Гистограмма по расходу интернета"
   ]
  },
  {
   "cell_type": "code",
   "execution_count": 34,
   "metadata": {},
   "outputs": [
    {
     "data": {
      "image/png": "[encoded data removed]",
      "text/plain": [
       "<Figure size 432x288 with 1 Axes>"
      ]
     },
     "metadata": {
      "needs_background": "light"
     },
     "output_type": "display_data"
    }
   ],
   "source": [
    "ax = (data_smart\n",
    "     .plot(\n",
    "         kind='hist',\n",
    "         y='mb_sum',\n",
    "         histtype='step',\n",
    "         linewidth=3,\n",
    "         legend=True,\n",
    "         label='Smart'))\n",
    "\n",
    "(data_ultra.plot(kind='hist', \n",
    "                 y='mb_sum',\n",
    "                 ax=ax,\n",
    "                 alpha=0.5,\n",
    "                 legend=True,\n",
    "                 label='Ultra',\n",
    "                 title='Расход интернета'));"
   ]
  },
  {
   "cell_type": "markdown",
   "metadata": {},
   "source": [
    "Расчет средних значений, дисперсии и среднего отклонения в расходованного интернета"
   ]
  },
  {
   "cell_type": "code",
   "execution_count": 35,
   "metadata": {},
   "outputs": [
    {
     "data": {
      "text/html": [
       "<div>\n",
       "<style scoped>\n",
       "    .dataframe tbody tr th:only-of-type {\n",
       "        vertical-align: middle;\n",
       "    }\n",
       "\n",
       "    .dataframe tbody tr th {\n",
       "        vertical-align: top;\n",
       "    }\n",
       "\n",
       "    .dataframe thead tr th {\n",
       "        text-align: left;\n",
       "    }\n",
       "\n",
       "    .dataframe thead tr:last-of-type th {\n",
       "        text-align: right;\n",
       "    }\n",
       "</style>\n",
       "<table border=\"1\" class=\"dataframe\">\n",
       "  <thead>\n",
       "    <tr>\n",
       "      <th></th>\n",
       "      <th>mean</th>\n",
       "      <th>var</th>\n",
       "      <th>std</th>\n",
       "    </tr>\n",
       "    <tr>\n",
       "      <th></th>\n",
       "      <th>mb_sum</th>\n",
       "      <th>mb_sum</th>\n",
       "      <th>mb_sum</th>\n",
       "    </tr>\n",
       "    <tr>\n",
       "      <th>tariff</th>\n",
       "      <th></th>\n",
       "      <th></th>\n",
       "      <th></th>\n",
       "    </tr>\n",
       "  </thead>\n",
       "  <tbody>\n",
       "    <tr>\n",
       "      <td>smart</td>\n",
       "      <td>42.417904</td>\n",
       "      <td>223.697915</td>\n",
       "      <td>14.956534</td>\n",
       "    </tr>\n",
       "    <tr>\n",
       "      <td>ultra</td>\n",
       "      <td>38.135647</td>\n",
       "      <td>383.923686</td>\n",
       "      <td>19.593971</td>\n",
       "    </tr>\n",
       "  </tbody>\n",
       "</table>\n",
       "</div>"
      ],
      "text/plain": [
       "             mean         var        std\n",
       "           mb_sum      mb_sum     mb_sum\n",
       "tariff                                  \n",
       "smart   42.417904  223.697915  14.956534\n",
       "ultra   38.135647  383.923686  19.593971"
      ]
     },
     "execution_count": 35,
     "metadata": {},
     "output_type": "execute_result"
    }
   ],
   "source": [
    "data.pivot_table(index='tariff',\n",
    "                 values='mb_sum',\n",
    "                 aggfunc=['mean','var', 'std'])"
   ]
  },
  {
   "cell_type": "markdown",
   "metadata": {},
   "source": [
    "Что касается количества используемого интернета я бы так и оставил, потому что не вижу какого-то сильного отклонения. Возможно есть в правую сторону у тарифа ultra, но для проверки гипотезы так всё оставил бы."
   ]
  },
  {
   "cell_type": "markdown",
   "metadata": {},
   "source": [
    "Гистограмма по расходу смс"
   ]
  },
  {
   "cell_type": "code",
   "execution_count": 36,
   "metadata": {},
   "outputs": [
    {
     "data": {
      "image/png": "[encoded data removed]",
      "text/plain": [
       "<Figure size 432x288 with 1 Axes>"
      ]
     },
     "metadata": {
      "needs_background": "light"
     },
     "output_type": "display_data"
    }
   ],
   "source": [
    "ax = (data_smart\n",
    "     .plot(\n",
    "         kind='hist',\n",
    "         y='masseges_sum',\n",
    "         histtype='step',\n",
    "         linewidth=3,\n",
    "         legend=True,\n",
    "         label='Smart'))\n",
    "\n",
    "(data_ultra.plot(kind='hist', \n",
    "                 y='masseges_sum',\n",
    "                 ax=ax,\n",
    "                 alpha=0.5,\n",
    "                 legend=True,\n",
    "                 label='Ultra',\n",
    "                 title='Расход смс'));"
   ]
  },
  {
   "cell_type": "markdown",
   "metadata": {},
   "source": [
    "Расчет средних значений, дисперсии и среднего отклонения в отправленных сообщениях"
   ]
  },
  {
   "cell_type": "code",
   "execution_count": 37,
   "metadata": {},
   "outputs": [
    {
     "data": {
      "text/html": [
       "<div>\n",
       "<style scoped>\n",
       "    .dataframe tbody tr th:only-of-type {\n",
       "        vertical-align: middle;\n",
       "    }\n",
       "\n",
       "    .dataframe tbody tr th {\n",
       "        vertical-align: top;\n",
       "    }\n",
       "\n",
       "    .dataframe thead tr th {\n",
       "        text-align: left;\n",
       "    }\n",
       "\n",
       "    .dataframe thead tr:last-of-type th {\n",
       "        text-align: right;\n",
       "    }\n",
       "</style>\n",
       "<table border=\"1\" class=\"dataframe\">\n",
       "  <thead>\n",
       "    <tr>\n",
       "      <th></th>\n",
       "      <th>mean</th>\n",
       "      <th>var</th>\n",
       "      <th>std</th>\n",
       "    </tr>\n",
       "    <tr>\n",
       "      <th></th>\n",
       "      <th>masseges_sum</th>\n",
       "      <th>masseges_sum</th>\n",
       "      <th>masseges_sum</th>\n",
       "    </tr>\n",
       "    <tr>\n",
       "      <th>tariff</th>\n",
       "      <th></th>\n",
       "      <th></th>\n",
       "      <th></th>\n",
       "    </tr>\n",
       "  </thead>\n",
       "  <tbody>\n",
       "    <tr>\n",
       "      <td>smart</td>\n",
       "      <td>33.396311</td>\n",
       "      <td>798.595792</td>\n",
       "      <td>28.259437</td>\n",
       "    </tr>\n",
       "    <tr>\n",
       "      <td>ultra</td>\n",
       "      <td>49.033649</td>\n",
       "      <td>2198.733603</td>\n",
       "      <td>46.890656</td>\n",
       "    </tr>\n",
       "  </tbody>\n",
       "</table>\n",
       "</div>"
      ],
      "text/plain": [
       "               mean          var          std\n",
       "       masseges_sum masseges_sum masseges_sum\n",
       "tariff                                       \n",
       "smart     33.396311   798.595792    28.259437\n",
       "ultra     49.033649  2198.733603    46.890656"
      ]
     },
     "execution_count": 37,
     "metadata": {},
     "output_type": "execute_result"
    }
   ],
   "source": [
    "data.pivot_table(index='tariff',\n",
    "                 values='masseges_sum',\n",
    "                 aggfunc=['mean','var', 'std'])"
   ]
  },
  {
   "cell_type": "markdown",
   "metadata": {},
   "source": [
    "Что касается смс то тут распределение отклонено вправо, и видна большая дисперсия у тарифа ultra, но оно всё не выходит за рамки бесплатной части."
   ]
  },
  {
   "cell_type": "markdown",
   "metadata": {},
   "source": []
  },
  {
   "cell_type": "code",
   "execution_count": 38,
   "metadata": {},
   "outputs": [
    {
     "data": {
      "image/png": "[encoded data removed]",
      "text/plain": [
       "<Figure size 432x288 with 1 Axes>"
      ]
     },
     "metadata": {
      "needs_background": "light"
     },
     "output_type": "display_data"
    }
   ],
   "source": [
    "ax = (data_smart\n",
    "     .plot(\n",
    "         kind='hist',\n",
    "         y='income',\n",
    "         histtype='step',\n",
    "         linewidth=3,\n",
    "         legend=True,\n",
    "         label='Smart'))\n",
    "\n",
    "(data_ultra.plot(kind='hist', \n",
    "                 y='income',\n",
    "                 ax=ax,\n",
    "                 alpha=0.5,\n",
    "                 legend=True,\n",
    "                 label='Ultra',\n",
    "                 title='Доход от пользователей'));"
   ]
  },
  {
   "cell_type": "code",
   "execution_count": 39,
   "metadata": {},
   "outputs": [
    {
     "data": {
      "text/html": [
       "<div>\n",
       "<style scoped>\n",
       "    .dataframe tbody tr th:only-of-type {\n",
       "        vertical-align: middle;\n",
       "    }\n",
       "\n",
       "    .dataframe tbody tr th {\n",
       "        vertical-align: top;\n",
       "    }\n",
       "\n",
       "    .dataframe thead tr th {\n",
       "        text-align: left;\n",
       "    }\n",
       "\n",
       "    .dataframe thead tr:last-of-type th {\n",
       "        text-align: right;\n",
       "    }\n",
       "</style>\n",
       "<table border=\"1\" class=\"dataframe\">\n",
       "  <thead>\n",
       "    <tr>\n",
       "      <th></th>\n",
       "      <th>mean</th>\n",
       "      <th>var</th>\n",
       "      <th>std</th>\n",
       "    </tr>\n",
       "    <tr>\n",
       "      <th></th>\n",
       "      <th>income</th>\n",
       "      <th>income</th>\n",
       "      <th>income</th>\n",
       "    </tr>\n",
       "    <tr>\n",
       "      <th>tariff</th>\n",
       "      <th></th>\n",
       "      <th></th>\n",
       "      <th></th>\n",
       "    </tr>\n",
       "  </thead>\n",
       "  <tbody>\n",
       "    <tr>\n",
       "      <td>smart</td>\n",
       "      <td>6247.616284</td>\n",
       "      <td>8.388051e+06</td>\n",
       "      <td>2896.213239</td>\n",
       "    </tr>\n",
       "    <tr>\n",
       "      <td>ultra</td>\n",
       "      <td>3847.318612</td>\n",
       "      <td>4.673811e+06</td>\n",
       "      <td>2161.899911</td>\n",
       "    </tr>\n",
       "  </tbody>\n",
       "</table>\n",
       "</div>"
      ],
      "text/plain": [
       "               mean           var          std\n",
       "             income        income       income\n",
       "tariff                                        \n",
       "smart   6247.616284  8.388051e+06  2896.213239\n",
       "ultra   3847.318612  4.673811e+06  2161.899911"
      ]
     },
     "execution_count": 39,
     "metadata": {},
     "output_type": "execute_result"
    }
   ],
   "source": [
    "data.pivot_table(index='tariff',\n",
    "                 values='income',\n",
    "                 aggfunc=['mean','var', 'std'])"
   ]
  },
  {
   "cell_type": "markdown",
   "metadata": {},
   "source": [
    "Перед тем как делать проверку гипотез я бы сделал выборку где отсек в data_smart значения больше 10000. Но сделаю проверку и по такой выборке"
   ]
  },
  {
   "cell_type": "code",
   "execution_count": 40,
   "metadata": {},
   "outputs": [],
   "source": [
    "data_smart_fill = data_smart.query('income < 10000')\n",
    "data_ultra_fill = data_ultra.query('income < 10000')"
   ]
  },
  {
   "cell_type": "code",
   "execution_count": 41,
   "metadata": {},
   "outputs": [
    {
     "data": {
      "image/png": "[encoded data removed]",
      "text/plain": [
       "<Figure size 432x288 with 1 Axes>"
      ]
     },
     "metadata": {
      "needs_background": "light"
     },
     "output_type": "display_data"
    }
   ],
   "source": [
    "ax = (data_smart_fill\n",
    "     .plot(\n",
    "         kind='hist',\n",
    "         y='income',\n",
    "         histtype='step',\n",
    "         linewidth=3,\n",
    "         legend=True,\n",
    "         label='Smart'))\n",
    "\n",
    "(data_ultra_fill.plot(kind='hist', \n",
    "                 y='income',\n",
    "                 ax=ax,\n",
    "                 alpha=0.5,\n",
    "                 legend=True,\n",
    "                 label='Ultra',\n",
    "                 title='Доход от пользователей'));"
   ]
  },
  {
   "cell_type": "code",
   "execution_count": 42,
   "metadata": {},
   "outputs": [
    {
     "data": {
      "text/html": [
       "<div>\n",
       "<style scoped>\n",
       "    .dataframe tbody tr th:only-of-type {\n",
       "        vertical-align: middle;\n",
       "    }\n",
       "\n",
       "    .dataframe tbody tr th {\n",
       "        vertical-align: top;\n",
       "    }\n",
       "\n",
       "    .dataframe thead tr th {\n",
       "        text-align: left;\n",
       "    }\n",
       "\n",
       "    .dataframe thead tr:last-of-type th {\n",
       "        text-align: right;\n",
       "    }\n",
       "</style>\n",
       "<table border=\"1\" class=\"dataframe\">\n",
       "  <thead>\n",
       "    <tr>\n",
       "      <th></th>\n",
       "      <th>mean</th>\n",
       "      <th>var</th>\n",
       "      <th>std</th>\n",
       "    </tr>\n",
       "    <tr>\n",
       "      <th></th>\n",
       "      <th>income</th>\n",
       "      <th>income</th>\n",
       "      <th>income</th>\n",
       "    </tr>\n",
       "    <tr>\n",
       "      <th>tariff</th>\n",
       "      <th></th>\n",
       "      <th></th>\n",
       "      <th></th>\n",
       "    </tr>\n",
       "  </thead>\n",
       "  <tbody>\n",
       "    <tr>\n",
       "      <td>smart</td>\n",
       "      <td>5777.347358</td>\n",
       "      <td>6.130618e+06</td>\n",
       "      <td>2476.008537</td>\n",
       "    </tr>\n",
       "    <tr>\n",
       "      <td>ultra</td>\n",
       "      <td>3787.698834</td>\n",
       "      <td>4.286117e+06</td>\n",
       "      <td>2070.293964</td>\n",
       "    </tr>\n",
       "  </tbody>\n",
       "</table>\n",
       "</div>"
      ],
      "text/plain": [
       "               mean           var          std\n",
       "             income        income       income\n",
       "tariff                                        \n",
       "smart   5777.347358  6.130618e+06  2476.008537\n",
       "ultra   3787.698834  4.286117e+06  2070.293964"
      ]
     },
     "execution_count": 42,
     "metadata": {},
     "output_type": "execute_result"
    }
   ],
   "source": [
    "data_fill = data.query('income < 10000')\n",
    "\n",
    "data_fill.pivot_table(index='tariff',\n",
    "                 values='income',\n",
    "                 aggfunc=['mean','var', 'std'])"
   ]
  },
  {
   "cell_type": "markdown",
   "metadata": {},
   "source": [
    "## Шаг. Проверьте гипотезы"
   ]
  },
  {
   "cell_type": "markdown",
   "metadata": {},
   "source": [
    "Сформулируем нулевую гипотезу *средняя выручка пользователей тарифов «Ультра» и «Смарт» различаются*. В качестве альтернативной гипотезы я двухстороннюю гипотезу: *Средняя выручка пользователей тарифов \"Ультра\" и \"Смарт\" равна*. Будем сравнивать по t-тесту двух независимых выборок. Так же установим, что дисперсии различаются."
   ]
  },
  {
   "cell_type": "code",
   "execution_count": 43,
   "metadata": {},
   "outputs": [
    {
     "name": "stdout",
     "output_type": "stream",
     "text": [
      "p-значение: 3.705541542357394e-129\n",
      "Отвергаем нулевую гипотезу\n"
     ]
    }
   ],
   "source": [
    "alpha = .05\n",
    "\n",
    "results = st.ttest_ind(\n",
    "    data_smart['income'], \n",
    "    data_ultra['income'],\n",
    "    equal_var=False\n",
    "    )\n",
    "\n",
    "print('p-значение:', results.pvalue ) \n",
    "\n",
    "if results.pvalue < alpha: \n",
    "    print(\"Отвергаем нулевую гипотезу\")\n",
    "else:\n",
    "    print(\"Не получилось отвергнуть нулевую гипотезу\")"
   ]
  },
  {
   "cell_type": "code",
   "execution_count": 44,
   "metadata": {},
   "outputs": [
    {
     "name": "stdout",
     "output_type": "stream",
     "text": [
      "p-значение: 3.818091772178626e-104\n",
      "Отвергаем нулевую гипотезу\n"
     ]
    }
   ],
   "source": [
    "alpha = .05\n",
    "\n",
    "results = st.ttest_ind(\n",
    "    data_smart_fill['income'], \n",
    "    data_ultra_fill['income'],\n",
    "    equal_var=False\n",
    "    )\n",
    "\n",
    "print('p-значение:', results.pvalue ) \n",
    "\n",
    "if results.pvalue < alpha: \n",
    "    print(\"Отвергаем нулевую гипотезу\")\n",
    "else:\n",
    "    print(\"Не получилось отвергнуть нулевую гипотезу\")"
   ]
  },
  {
   "cell_type": "markdown",
   "metadata": {},
   "source": [
    "Что по всей выборке, что по обрезанной видно, что нулевая гипотеза отвергается, значит не смотря на разное среднее значение выручки тарифов по таблице t-тест нам показывает, что тарифы по среднему значению не различаются."
   ]
  },
  {
   "cell_type": "markdown",
   "metadata": {},
   "source": [
    "Перед формулированием вторых гипотез сделаем выборки."
   ]
  },
  {
   "cell_type": "code",
   "execution_count": 45,
   "metadata": {},
   "outputs": [],
   "source": [
    "data_msc = data.query('city == \"Москва\"')\n",
    "data_other = data.query('city != \"Москва\"')"
   ]
  },
  {
   "cell_type": "markdown",
   "metadata": {},
   "source": [
    "Сформулируем нулевую гипотезу : *средняя выручка пользователей из Москвы отличается от выручки пользователей из других регионов*. Тогда альтернативная гипотеза будет *средняя выручка пользователей из Москвы равна выручке пользователей из других регионов*."
   ]
  },
  {
   "cell_type": "code",
   "execution_count": 46,
   "metadata": {},
   "outputs": [
    {
     "name": "stdout",
     "output_type": "stream",
     "text": [
      "p-значение: 0.207311045729509\n",
      "Не получилось отвергнуть нулевую гипотезу\n"
     ]
    }
   ],
   "source": [
    "alpha = .05\n",
    "\n",
    "results = st.ttest_ind(\n",
    "    data_msc['income'], \n",
    "    data_other['income'],\n",
    "    equal_var=False\n",
    "    )\n",
    "\n",
    "print('p-значение:', results.pvalue ) \n",
    "\n",
    "if results.pvalue < alpha: \n",
    "    print(\"Отвергаем нулевую гипотезу\")\n",
    "else:\n",
    "    print(\"Не получилось отвергнуть нулевую гипотезу\")"
   ]
  },
  {
   "cell_type": "markdown",
   "metadata": {},
   "source": [
    "Тут же у нас получается, что средняя выручка из Москвы всё таки различается от средней выручки из других регионов."
   ]
  },
  {
   "cell_type": "code",
   "execution_count": 64,
   "metadata": {},
   "outputs": [
    {
     "data": {
      "text/html": [
       "<div>\n",
       "<style scoped>\n",
       "    .dataframe tbody tr th:only-of-type {\n",
       "        vertical-align: middle;\n",
       "    }\n",
       "\n",
       "    .dataframe tbody tr th {\n",
       "        vertical-align: top;\n",
       "    }\n",
       "\n",
       "    .dataframe thead tr th {\n",
       "        text-align: left;\n",
       "    }\n",
       "\n",
       "    .dataframe thead tr:last-of-type th {\n",
       "        text-align: right;\n",
       "    }\n",
       "</style>\n",
       "<table border=\"1\" class=\"dataframe\">\n",
       "  <thead>\n",
       "    <tr>\n",
       "      <th></th>\n",
       "      <th>mean</th>\n",
       "      <th>var</th>\n",
       "      <th>std</th>\n",
       "    </tr>\n",
       "    <tr>\n",
       "      <th></th>\n",
       "      <th>income</th>\n",
       "      <th>income</th>\n",
       "      <th>income</th>\n",
       "    </tr>\n",
       "    <tr>\n",
       "      <th>month</th>\n",
       "      <th></th>\n",
       "      <th></th>\n",
       "      <th></th>\n",
       "    </tr>\n",
       "  </thead>\n",
       "  <tbody>\n",
       "    <tr>\n",
       "      <td>1</td>\n",
       "      <td>2526.162791</td>\n",
       "      <td>4.944335e+06</td>\n",
       "      <td>2223.586013</td>\n",
       "    </tr>\n",
       "    <tr>\n",
       "      <td>2</td>\n",
       "      <td>3501.469136</td>\n",
       "      <td>5.369964e+06</td>\n",
       "      <td>2317.318327</td>\n",
       "    </tr>\n",
       "    <tr>\n",
       "      <td>3</td>\n",
       "      <td>4748.768519</td>\n",
       "      <td>6.865456e+06</td>\n",
       "      <td>2620.201450</td>\n",
       "    </tr>\n",
       "    <tr>\n",
       "      <td>4</td>\n",
       "      <td>4339.969325</td>\n",
       "      <td>6.291273e+06</td>\n",
       "      <td>2508.241016</td>\n",
       "    </tr>\n",
       "    <tr>\n",
       "      <td>5</td>\n",
       "      <td>5005.757732</td>\n",
       "      <td>6.122010e+06</td>\n",
       "      <td>2474.269492</td>\n",
       "    </tr>\n",
       "    <tr>\n",
       "      <td>6</td>\n",
       "      <td>4931.489270</td>\n",
       "      <td>6.132545e+06</td>\n",
       "      <td>2476.397531</td>\n",
       "    </tr>\n",
       "    <tr>\n",
       "      <td>7</td>\n",
       "      <td>5088.551471</td>\n",
       "      <td>6.588261e+06</td>\n",
       "      <td>2566.760742</td>\n",
       "    </tr>\n",
       "    <tr>\n",
       "      <td>8</td>\n",
       "      <td>5321.140625</td>\n",
       "      <td>6.520971e+06</td>\n",
       "      <td>2553.619111</td>\n",
       "    </tr>\n",
       "    <tr>\n",
       "      <td>9</td>\n",
       "      <td>5343.684358</td>\n",
       "      <td>6.103148e+06</td>\n",
       "      <td>2470.454929</td>\n",
       "    </tr>\n",
       "    <tr>\n",
       "      <td>10</td>\n",
       "      <td>5311.834646</td>\n",
       "      <td>6.258410e+06</td>\n",
       "      <td>2501.681513</td>\n",
       "    </tr>\n",
       "    <tr>\n",
       "      <td>11</td>\n",
       "      <td>5362.591241</td>\n",
       "      <td>6.276303e+06</td>\n",
       "      <td>2505.254985</td>\n",
       "    </tr>\n",
       "    <tr>\n",
       "      <td>12</td>\n",
       "      <td>5721.735225</td>\n",
       "      <td>5.401242e+06</td>\n",
       "      <td>2324.057129</td>\n",
       "    </tr>\n",
       "  </tbody>\n",
       "</table>\n",
       "</div>"
      ],
      "text/plain": [
       "              mean           var          std\n",
       "            income        income       income\n",
       "month                                        \n",
       "1      2526.162791  4.944335e+06  2223.586013\n",
       "2      3501.469136  5.369964e+06  2317.318327\n",
       "3      4748.768519  6.865456e+06  2620.201450\n",
       "4      4339.969325  6.291273e+06  2508.241016\n",
       "5      5005.757732  6.122010e+06  2474.269492\n",
       "6      4931.489270  6.132545e+06  2476.397531\n",
       "7      5088.551471  6.588261e+06  2566.760742\n",
       "8      5321.140625  6.520971e+06  2553.619111\n",
       "9      5343.684358  6.103148e+06  2470.454929\n",
       "10     5311.834646  6.258410e+06  2501.681513\n",
       "11     5362.591241  6.276303e+06  2505.254985\n",
       "12     5721.735225  5.401242e+06  2324.057129"
      ]
     },
     "execution_count": 64,
     "metadata": {},
     "output_type": "execute_result"
    }
   ],
   "source": [
    "df_month = data_fill.pivot_table(index='month',\n",
    "                 values='income',\n",
    "                 aggfunc=['mean','var', 'std'])\n",
    "\n",
    "df_month"
   ]
  },
  {
   "cell_type": "markdown",
   "metadata": {},
   "source": [
    "## Шаг. Напишите общий вывод"
   ]
  },
  {
   "cell_type": "markdown",
   "metadata": {},
   "source": [
    "- как можно объяснить разницу дисперсий при оценке услуг? В моем понимании разница в дисперсии объясняется в том, что в тарифе смарт меньший порог бесплатных услуг, по сравнению с тарифом ультра, и поэтому большинство людей выходит за рамки бесплатной части тарифа, что тем самым делает более сильную дисперсию.\n",
    "- как влияет разница кол-ва пользователей на результаты? Мне кажется с большим количеством пользователей можно было бы увидеть более плавное расспределение данных.\n",
    "- какие можно обнаружить зависимости при оценке усредненных по месяцам показателей? Я вижу только одну зависимость, что в первые два месяца года выручка от тарифов меньше, мне кажется это связанно с тем что люди могу отдыхать после нового года и меньше всего использовать связь\n",
    "- какой тариф по твоему мнению лучше и почему? С точки зрения дохода то тариф смарт конечно лучше, потому что бесплатная часть тарифа не такая большая, и можно заработать огромную сумму на доп услугах. Но как покупать я бы выбрал тариф ультра, так как он более выгоден для пользователей, так как они в среднем используют больше интернета, связи, но не смс."
   ]
  }
 ],
 "metadata": {
  "ExecuteTimeLog": [
   {
    "duration": 834,
    "start_time": "2022-01-25T08:37:39.634Z"
   },
   {
    "duration": 366,
    "start_time": "2022-01-25T08:57:36.291Z"
   },
   {
    "duration": 383,
    "start_time": "2022-01-25T08:57:47.371Z"
   },
   {
    "duration": 379,
    "start_time": "2022-01-25T08:58:19.388Z"
   },
   {
    "duration": 1108,
    "start_time": "2022-01-25T13:47:18.001Z"
   },
   {
    "duration": 24,
    "start_time": "2022-01-25T13:50:32.763Z"
   },
   {
    "duration": 38,
    "start_time": "2022-01-25T13:51:08.157Z"
   },
   {
    "duration": 24,
    "start_time": "2022-01-25T13:53:51.884Z"
   },
   {
    "duration": 19,
    "start_time": "2022-01-25T13:54:29.390Z"
   },
   {
    "duration": 12,
    "start_time": "2022-01-25T13:54:49.841Z"
   },
   {
    "duration": 14,
    "start_time": "2022-01-25T13:55:14.967Z"
   },
   {
    "duration": 244,
    "start_time": "2022-01-26T06:53:21.153Z"
   },
   {
    "duration": 901,
    "start_time": "2022-01-26T06:53:25.172Z"
   },
   {
    "duration": 102,
    "start_time": "2022-01-26T06:53:28.982Z"
   },
   {
    "duration": 90,
    "start_time": "2022-01-26T06:53:48.800Z"
   },
   {
    "duration": 9,
    "start_time": "2022-01-26T07:01:19.626Z"
   },
   {
    "duration": 20,
    "start_time": "2022-01-26T07:06:11.255Z"
   },
   {
    "duration": 239,
    "start_time": "2022-01-26T08:49:52.942Z"
   },
   {
    "duration": 980,
    "start_time": "2022-01-26T08:49:56.765Z"
   },
   {
    "duration": 12,
    "start_time": "2022-01-26T08:50:00.259Z"
   },
   {
    "duration": 7,
    "start_time": "2022-01-26T08:50:23.729Z"
   },
   {
    "duration": 8,
    "start_time": "2022-01-26T08:50:46.822Z"
   },
   {
    "duration": 1040,
    "start_time": "2022-01-26T10:54:14.364Z"
   },
   {
    "duration": 413,
    "start_time": "2022-01-26T10:56:05.575Z"
   },
   {
    "duration": 19,
    "start_time": "2022-01-26T10:56:27.814Z"
   },
   {
    "duration": 1091,
    "start_time": "2022-01-30T14:36:26.797Z"
   },
   {
    "duration": 456,
    "start_time": "2022-01-30T14:38:35.118Z"
   },
   {
    "duration": 457,
    "start_time": "2022-01-30T14:44:33.590Z"
   },
   {
    "duration": 327,
    "start_time": "2022-01-30T14:45:54.117Z"
   },
   {
    "duration": 456,
    "start_time": "2022-01-30T14:46:03.208Z"
   },
   {
    "duration": 425,
    "start_time": "2022-01-30T15:21:40.842Z"
   },
   {
    "duration": 425,
    "start_time": "2022-01-30T15:21:57.637Z"
   },
   {
    "duration": 103,
    "start_time": "2022-01-30T15:23:45.544Z"
   },
   {
    "duration": 22,
    "start_time": "2022-01-30T15:23:56.048Z"
   },
   {
    "duration": 24,
    "start_time": "2022-01-30T15:24:03.543Z"
   },
   {
    "duration": 17,
    "start_time": "2022-01-30T16:41:10.986Z"
   },
   {
    "duration": 15,
    "start_time": "2022-01-30T16:41:27.095Z"
   },
   {
    "duration": 449,
    "start_time": "2022-01-30T16:47:41.063Z"
   },
   {
    "duration": 65,
    "start_time": "2022-01-30T16:47:49.362Z"
   },
   {
    "duration": 9597,
    "start_time": "2022-01-30T16:49:35.774Z"
   },
   {
    "duration": 2309,
    "start_time": "2022-01-30T16:50:15.389Z"
   },
   {
    "duration": 86,
    "start_time": "2022-01-30T16:50:44.834Z"
   },
   {
    "duration": 7,
    "start_time": "2022-01-30T16:50:51.578Z"
   },
   {
    "duration": 430,
    "start_time": "2022-01-30T16:51:16.661Z"
   },
   {
    "duration": 25,
    "start_time": "2022-01-30T16:51:21.858Z"
   },
   {
    "duration": 1783,
    "start_time": "2022-01-30T17:13:05.972Z"
   },
   {
    "duration": 8,
    "start_time": "2022-01-30T17:13:09.298Z"
   },
   {
    "duration": 2014,
    "start_time": "2022-01-30T17:17:30.490Z"
   },
   {
    "duration": 1046,
    "start_time": "2022-01-30T17:23:33.643Z"
   },
   {
    "duration": 100,
    "start_time": "2022-01-30T17:24:18.815Z"
   },
   {
    "duration": 28,
    "start_time": "2022-01-30T17:24:51.520Z"
   },
   {
    "duration": 1050,
    "start_time": "2022-01-30T17:30:24.327Z"
   },
   {
    "duration": 37,
    "start_time": "2022-01-30T17:30:25.379Z"
   },
   {
    "duration": 75,
    "start_time": "2022-01-30T17:31:16.855Z"
   },
   {
    "duration": 2286,
    "start_time": "2022-01-30T17:31:18.566Z"
   },
   {
    "duration": 21,
    "start_time": "2022-01-30T17:31:26.329Z"
   },
   {
    "duration": 371,
    "start_time": "2022-01-30T17:36:37.469Z"
   },
   {
    "duration": 247,
    "start_time": "2022-01-30T17:37:04.226Z"
   },
   {
    "duration": 407,
    "start_time": "2022-01-30T17:37:31.756Z"
   },
   {
    "duration": 25,
    "start_time": "2022-01-30T17:38:34.043Z"
   },
   {
    "duration": 28,
    "start_time": "2022-01-30T17:38:51.587Z"
   },
   {
    "duration": 28,
    "start_time": "2022-01-30T17:39:00.557Z"
   },
   {
    "duration": 294,
    "start_time": "2022-01-30T17:39:14.825Z"
   },
   {
    "duration": 26,
    "start_time": "2022-01-30T17:39:36.203Z"
   },
   {
    "duration": 47,
    "start_time": "2022-01-30T17:39:47.654Z"
   },
   {
    "duration": 1290,
    "start_time": "2022-01-31T14:19:30.377Z"
   },
   {
    "duration": 107,
    "start_time": "2022-01-31T14:19:40.663Z"
   },
   {
    "duration": 4506,
    "start_time": "2022-01-31T14:19:43.213Z"
   },
   {
    "duration": 56,
    "start_time": "2022-01-31T14:19:47.725Z"
   },
   {
    "duration": 467,
    "start_time": "2022-01-31T14:20:12.615Z"
   },
   {
    "duration": 58,
    "start_time": "2022-01-31T14:26:20.856Z"
   },
   {
    "duration": 321,
    "start_time": "2022-01-31T14:30:54.166Z"
   },
   {
    "duration": 65,
    "start_time": "2022-01-31T14:32:26.847Z"
   },
   {
    "duration": 19,
    "start_time": "2022-01-31T14:33:22.645Z"
   },
   {
    "duration": 7,
    "start_time": "2022-01-31T14:33:34.087Z"
   },
   {
    "duration": 27,
    "start_time": "2022-01-31T14:33:40.973Z"
   },
   {
    "duration": 73,
    "start_time": "2022-01-31T14:38:38.397Z"
   },
   {
    "duration": 1374,
    "start_time": "2022-01-31T14:49:51.321Z"
   },
   {
    "duration": 181,
    "start_time": "2022-01-31T14:50:06.280Z"
   },
   {
    "duration": 24,
    "start_time": "2022-01-31T14:50:15.268Z"
   },
   {
    "duration": 30,
    "start_time": "2022-01-31T14:50:35.124Z"
   },
   {
    "duration": 12,
    "start_time": "2022-01-31T14:50:52.625Z"
   },
   {
    "duration": 10,
    "start_time": "2022-01-31T14:51:04.841Z"
   },
   {
    "duration": 13,
    "start_time": "2022-01-31T14:51:21.620Z"
   },
   {
    "duration": 111,
    "start_time": "2022-01-31T15:18:55.168Z"
   },
   {
    "duration": 3965,
    "start_time": "2022-01-31T15:19:26.944Z"
   },
   {
    "duration": 13,
    "start_time": "2022-01-31T15:20:30.720Z"
   },
   {
    "duration": 32,
    "start_time": "2022-01-31T15:20:36.595Z"
   },
   {
    "duration": 13,
    "start_time": "2022-01-31T15:23:14.817Z"
   },
   {
    "duration": 9,
    "start_time": "2022-01-31T15:24:33.984Z"
   },
   {
    "duration": 37,
    "start_time": "2022-01-31T15:24:43.804Z"
   },
   {
    "duration": 49,
    "start_time": "2022-01-31T15:28:06.719Z"
   },
   {
    "duration": 56,
    "start_time": "2022-01-31T15:28:33.740Z"
   },
   {
    "duration": 54,
    "start_time": "2022-01-31T15:29:12.826Z"
   },
   {
    "duration": 72,
    "start_time": "2022-01-31T15:42:53.638Z"
   },
   {
    "duration": 49,
    "start_time": "2022-01-31T15:47:37.079Z"
   },
   {
    "duration": 39,
    "start_time": "2022-01-31T15:47:43.249Z"
   },
   {
    "duration": 639,
    "start_time": "2022-01-31T15:51:42.195Z"
   },
   {
    "duration": 469,
    "start_time": "2022-01-31T16:00:06.517Z"
   },
   {
    "duration": 51,
    "start_time": "2022-01-31T16:02:18.999Z"
   },
   {
    "duration": 297,
    "start_time": "2022-01-31T16:17:59.395Z"
   },
   {
    "duration": 305,
    "start_time": "2022-01-31T16:18:10.794Z"
   },
   {
    "duration": 16,
    "start_time": "2022-01-31T16:18:59.327Z"
   },
   {
    "duration": 12,
    "start_time": "2022-01-31T16:19:10.688Z"
   },
   {
    "duration": 15,
    "start_time": "2022-01-31T16:19:18.191Z"
   },
   {
    "duration": 486,
    "start_time": "2022-01-31T16:20:30.317Z"
   },
   {
    "duration": 20,
    "start_time": "2022-01-31T16:20:36.569Z"
   },
   {
    "duration": 21,
    "start_time": "2022-01-31T16:25:32.400Z"
   },
   {
    "duration": 78,
    "start_time": "2022-01-31T16:59:58.140Z"
   },
   {
    "duration": 44,
    "start_time": "2022-01-31T17:00:22.877Z"
   },
   {
    "duration": 47,
    "start_time": "2022-01-31T17:01:00.489Z"
   },
   {
    "duration": 11,
    "start_time": "2022-01-31T17:01:22.707Z"
   },
   {
    "duration": 62,
    "start_time": "2022-01-31T17:02:26.149Z"
   },
   {
    "duration": 11610,
    "start_time": "2022-01-31T17:13:47.681Z"
   },
   {
    "duration": 126,
    "start_time": "2022-01-31T17:14:22.068Z"
   },
   {
    "duration": 380,
    "start_time": "2022-01-31T17:14:30.099Z"
   },
   {
    "duration": 569,
    "start_time": "2022-01-31T17:19:44.684Z"
   },
   {
    "duration": 31,
    "start_time": "2022-01-31T17:25:20.562Z"
   },
   {
    "duration": 9155,
    "start_time": "2022-01-31T17:29:49.550Z"
   },
   {
    "duration": 10571,
    "start_time": "2022-01-31T17:30:53.896Z"
   },
   {
    "duration": 369,
    "start_time": "2022-01-31T17:31:46.414Z"
   },
   {
    "duration": 52,
    "start_time": "2022-01-31T17:31:59.833Z"
   },
   {
    "duration": 57,
    "start_time": "2022-01-31T17:38:44.389Z"
   },
   {
    "duration": 76,
    "start_time": "2022-01-31T17:38:59.714Z"
   },
   {
    "duration": 21,
    "start_time": "2022-01-31T17:39:11.481Z"
   },
   {
    "duration": 24,
    "start_time": "2022-01-31T17:39:32.718Z"
   },
   {
    "duration": 930,
    "start_time": "2022-02-01T16:18:58.897Z"
   },
   {
    "duration": 115,
    "start_time": "2022-02-01T16:19:06.652Z"
   },
   {
    "duration": 2123,
    "start_time": "2022-02-01T16:19:09.960Z"
   },
   {
    "duration": 24,
    "start_time": "2022-02-01T16:19:12.085Z"
   },
   {
    "duration": 34,
    "start_time": "2022-02-01T16:19:14.765Z"
   },
   {
    "duration": 21,
    "start_time": "2022-02-01T16:19:17.891Z"
   },
   {
    "duration": 21,
    "start_time": "2022-02-01T16:19:20.700Z"
   },
   {
    "duration": 6,
    "start_time": "2022-02-01T16:19:21.899Z"
   },
   {
    "duration": 56,
    "start_time": "2022-02-01T16:19:25.370Z"
   },
   {
    "duration": 6,
    "start_time": "2022-02-01T16:27:01.303Z"
   },
   {
    "duration": 5,
    "start_time": "2022-02-01T16:29:22.459Z"
   },
   {
    "duration": 4,
    "start_time": "2022-02-01T16:30:41.638Z"
   },
   {
    "duration": 16,
    "start_time": "2022-02-01T16:31:20.788Z"
   },
   {
    "duration": 14,
    "start_time": "2022-02-01T16:32:27.575Z"
   },
   {
    "duration": 5,
    "start_time": "2022-02-01T16:48:57.264Z"
   },
   {
    "duration": 5,
    "start_time": "2022-02-01T16:52:09.842Z"
   },
   {
    "duration": 7,
    "start_time": "2022-02-01T16:52:24.889Z"
   },
   {
    "duration": 3,
    "start_time": "2022-02-01T17:57:14.012Z"
   },
   {
    "duration": 6,
    "start_time": "2022-02-01T17:57:14.773Z"
   },
   {
    "duration": 6,
    "start_time": "2022-02-01T18:08:58.596Z"
   },
   {
    "duration": 102,
    "start_time": "2022-02-01T18:10:38.173Z"
   },
   {
    "duration": 4,
    "start_time": "2022-02-01T18:11:04.549Z"
   },
   {
    "duration": 4,
    "start_time": "2022-02-01T18:11:11.366Z"
   },
   {
    "duration": 348,
    "start_time": "2022-02-01T18:11:54.011Z"
   },
   {
    "duration": 8,
    "start_time": "2022-02-01T18:12:09.185Z"
   },
   {
    "duration": 7,
    "start_time": "2022-02-01T18:12:21.450Z"
   },
   {
    "duration": 10,
    "start_time": "2022-02-01T18:12:47.435Z"
   },
   {
    "duration": 23,
    "start_time": "2022-02-01T18:13:48.950Z"
   },
   {
    "duration": 19,
    "start_time": "2022-02-01T18:14:16.148Z"
   },
   {
    "duration": 11,
    "start_time": "2022-02-01T18:14:23.385Z"
   },
   {
    "duration": 10,
    "start_time": "2022-02-01T18:14:39.427Z"
   },
   {
    "duration": 33,
    "start_time": "2022-02-01T18:21:20.875Z"
   },
   {
    "duration": 28,
    "start_time": "2022-02-01T18:21:49.444Z"
   },
   {
    "duration": 303,
    "start_time": "2022-02-01T18:22:54.598Z"
   },
   {
    "duration": 216,
    "start_time": "2022-02-01T18:23:39.814Z"
   },
   {
    "duration": 1752,
    "start_time": "2022-02-03T17:07:07.091Z"
   },
   {
    "duration": 130,
    "start_time": "2022-02-03T17:07:20.544Z"
   },
   {
    "duration": 2208,
    "start_time": "2022-02-03T17:07:21.621Z"
   },
   {
    "duration": 36,
    "start_time": "2022-02-03T17:07:27.131Z"
   },
   {
    "duration": 28,
    "start_time": "2022-02-03T17:07:31.168Z"
   },
   {
    "duration": 28,
    "start_time": "2022-02-03T17:07:37.149Z"
   },
   {
    "duration": 26,
    "start_time": "2022-02-03T17:07:41.304Z"
   },
   {
    "duration": 5,
    "start_time": "2022-02-03T17:07:49.108Z"
   },
   {
    "duration": 5,
    "start_time": "2022-02-03T17:07:55.533Z"
   },
   {
    "duration": 114,
    "start_time": "2022-02-03T17:08:00.601Z"
   },
   {
    "duration": 11,
    "start_time": "2022-02-03T17:08:31.801Z"
   },
   {
    "duration": 7,
    "start_time": "2022-02-03T17:08:32.548Z"
   },
   {
    "duration": 615,
    "start_time": "2022-02-03T17:18:45.705Z"
   },
   {
    "duration": 260,
    "start_time": "2022-02-03T17:19:16.924Z"
   },
   {
    "duration": 234,
    "start_time": "2022-02-03T17:19:46.262Z"
   },
   {
    "duration": 224,
    "start_time": "2022-02-03T17:21:35.965Z"
   },
   {
    "duration": 8,
    "start_time": "2022-02-03T17:22:17.973Z"
   },
   {
    "duration": 7,
    "start_time": "2022-02-03T17:22:19.157Z"
   },
   {
    "duration": 226,
    "start_time": "2022-02-03T17:23:11.820Z"
   },
   {
    "duration": 236,
    "start_time": "2022-02-03T17:23:21.353Z"
   },
   {
    "duration": 268,
    "start_time": "2022-02-03T17:23:57.282Z"
   },
   {
    "duration": 1745,
    "start_time": "2022-02-03T17:26:21.280Z"
   },
   {
    "duration": 32,
    "start_time": "2022-02-03T17:26:23.027Z"
   },
   {
    "duration": 25,
    "start_time": "2022-02-03T17:26:23.062Z"
   },
   {
    "duration": 33,
    "start_time": "2022-02-03T17:26:23.089Z"
   },
   {
    "duration": 18,
    "start_time": "2022-02-03T17:26:23.124Z"
   },
   {
    "duration": 25,
    "start_time": "2022-02-03T17:26:23.144Z"
   },
   {
    "duration": 15,
    "start_time": "2022-02-03T17:26:23.171Z"
   },
   {
    "duration": 29,
    "start_time": "2022-02-03T17:26:23.189Z"
   },
   {
    "duration": 7,
    "start_time": "2022-02-03T17:26:23.222Z"
   },
   {
    "duration": 138,
    "start_time": "2022-02-03T17:26:23.231Z"
   },
   {
    "duration": 2360,
    "start_time": "2022-02-03T17:26:23.371Z"
   },
   {
    "duration": 24,
    "start_time": "2022-02-03T17:26:25.733Z"
   },
   {
    "duration": 53,
    "start_time": "2022-02-03T17:26:25.759Z"
   },
   {
    "duration": 30,
    "start_time": "2022-02-03T17:26:25.814Z"
   },
   {
    "duration": 26,
    "start_time": "2022-02-03T17:26:25.846Z"
   },
   {
    "duration": 41,
    "start_time": "2022-02-03T17:26:25.874Z"
   },
   {
    "duration": 32,
    "start_time": "2022-02-03T17:26:25.917Z"
   },
   {
    "duration": 8,
    "start_time": "2022-02-03T17:26:25.952Z"
   },
   {
    "duration": 14,
    "start_time": "2022-02-03T17:26:25.963Z"
   },
   {
    "duration": 42,
    "start_time": "2022-02-03T17:26:25.979Z"
   },
   {
    "duration": 6,
    "start_time": "2022-02-03T17:26:26.024Z"
   },
   {
    "duration": 19,
    "start_time": "2022-02-03T17:26:26.032Z"
   },
   {
    "duration": 15,
    "start_time": "2022-02-03T17:26:26.055Z"
   },
   {
    "duration": 130,
    "start_time": "2022-02-03T17:26:26.072Z"
   },
   {
    "duration": 12,
    "start_time": "2022-02-03T17:26:26.204Z"
   },
   {
    "duration": 16,
    "start_time": "2022-02-03T17:26:26.218Z"
   },
   {
    "duration": 9,
    "start_time": "2022-02-03T17:26:26.236Z"
   },
   {
    "duration": 9,
    "start_time": "2022-02-03T17:26:26.247Z"
   },
   {
    "duration": 312,
    "start_time": "2022-02-03T17:26:26.258Z"
   },
   {
    "duration": 250,
    "start_time": "2022-02-03T17:26:26.572Z"
   },
   {
    "duration": 234,
    "start_time": "2022-02-03T17:26:26.825Z"
   },
   {
    "duration": 244,
    "start_time": "2022-02-03T17:27:16.148Z"
   },
   {
    "duration": 35,
    "start_time": "2022-02-03T17:34:11.973Z"
   },
   {
    "duration": 35,
    "start_time": "2022-02-03T17:34:30.489Z"
   },
   {
    "duration": 31,
    "start_time": "2022-02-03T17:37:40.786Z"
   },
   {
    "duration": 33,
    "start_time": "2022-02-03T17:38:02.062Z"
   },
   {
    "duration": 29,
    "start_time": "2022-02-03T17:54:23.705Z"
   },
   {
    "duration": 29,
    "start_time": "2022-02-03T17:54:59.631Z"
   },
   {
    "duration": 41,
    "start_time": "2022-02-03T17:58:12.780Z"
   },
   {
    "duration": 28,
    "start_time": "2022-02-03T18:00:19.573Z"
   },
   {
    "duration": 29,
    "start_time": "2022-02-03T18:03:18.247Z"
   },
   {
    "duration": 1628,
    "start_time": "2022-02-04T07:44:51.686Z"
   },
   {
    "duration": 125,
    "start_time": "2022-02-04T07:44:58.910Z"
   },
   {
    "duration": 2283,
    "start_time": "2022-02-04T07:44:59.914Z"
   },
   {
    "duration": 30,
    "start_time": "2022-02-04T07:45:02.199Z"
   },
   {
    "duration": 33,
    "start_time": "2022-02-04T07:45:02.969Z"
   },
   {
    "duration": 29,
    "start_time": "2022-02-04T07:45:03.918Z"
   },
   {
    "duration": 27,
    "start_time": "2022-02-04T07:45:04.271Z"
   },
   {
    "duration": 8,
    "start_time": "2022-02-04T07:45:04.470Z"
   },
   {
    "duration": 27,
    "start_time": "2022-02-04T07:45:04.633Z"
   },
   {
    "duration": 8,
    "start_time": "2022-02-04T07:45:04.790Z"
   },
   {
    "duration": 8,
    "start_time": "2022-02-04T07:45:05.000Z"
   },
   {
    "duration": 18,
    "start_time": "2022-02-04T07:45:05.140Z"
   },
   {
    "duration": 5,
    "start_time": "2022-02-04T07:45:05.499Z"
   },
   {
    "duration": 5,
    "start_time": "2022-02-04T07:45:05.849Z"
   },
   {
    "duration": 8,
    "start_time": "2022-02-04T07:45:06.037Z"
   },
   {
    "duration": 113,
    "start_time": "2022-02-04T07:45:06.414Z"
   },
   {
    "duration": 7,
    "start_time": "2022-02-04T07:45:06.625Z"
   },
   {
    "duration": 6,
    "start_time": "2022-02-04T07:45:06.809Z"
   },
   {
    "duration": 8,
    "start_time": "2022-02-04T07:45:06.980Z"
   },
   {
    "duration": 8,
    "start_time": "2022-02-04T07:45:07.335Z"
   },
   {
    "duration": 285,
    "start_time": "2022-02-04T07:45:09.322Z"
   },
   {
    "duration": 28,
    "start_time": "2022-02-04T07:46:29.691Z"
   },
   {
    "duration": 420,
    "start_time": "2022-02-04T08:06:51.820Z"
   },
   {
    "duration": 2025,
    "start_time": "2022-02-04T08:07:02.083Z"
   },
   {
    "duration": 48,
    "start_time": "2022-02-04T08:07:04.110Z"
   },
   {
    "duration": 25,
    "start_time": "2022-02-04T08:07:04.160Z"
   },
   {
    "duration": 39,
    "start_time": "2022-02-04T08:07:04.187Z"
   },
   {
    "duration": 16,
    "start_time": "2022-02-04T08:07:04.228Z"
   },
   {
    "duration": 31,
    "start_time": "2022-02-04T08:07:04.245Z"
   },
   {
    "duration": 31,
    "start_time": "2022-02-04T08:07:04.278Z"
   },
   {
    "duration": 17,
    "start_time": "2022-02-04T08:07:04.314Z"
   },
   {
    "duration": 27,
    "start_time": "2022-02-04T08:07:04.334Z"
   },
   {
    "duration": 147,
    "start_time": "2022-02-04T08:07:04.362Z"
   },
   {
    "duration": 2239,
    "start_time": "2022-02-04T08:07:04.511Z"
   },
   {
    "duration": 23,
    "start_time": "2022-02-04T08:07:06.752Z"
   },
   {
    "duration": 52,
    "start_time": "2022-02-04T08:07:06.777Z"
   },
   {
    "duration": 25,
    "start_time": "2022-02-04T08:07:06.832Z"
   },
   {
    "duration": 33,
    "start_time": "2022-02-04T08:07:06.859Z"
   },
   {
    "duration": 19,
    "start_time": "2022-02-04T08:07:06.894Z"
   },
   {
    "duration": 42,
    "start_time": "2022-02-04T08:07:06.916Z"
   },
   {
    "duration": 6,
    "start_time": "2022-02-04T08:07:06.960Z"
   },
   {
    "duration": 19,
    "start_time": "2022-02-04T08:07:06.968Z"
   },
   {
    "duration": 27,
    "start_time": "2022-02-04T08:07:06.989Z"
   },
   {
    "duration": 4,
    "start_time": "2022-02-04T08:07:07.018Z"
   },
   {
    "duration": 11,
    "start_time": "2022-02-04T08:07:07.024Z"
   },
   {
    "duration": 12,
    "start_time": "2022-02-04T08:07:07.038Z"
   },
   {
    "duration": 123,
    "start_time": "2022-02-04T08:07:07.052Z"
   },
   {
    "duration": 6,
    "start_time": "2022-02-04T08:07:07.177Z"
   },
   {
    "duration": 7,
    "start_time": "2022-02-04T08:07:07.185Z"
   },
   {
    "duration": 19,
    "start_time": "2022-02-04T08:07:07.194Z"
   },
   {
    "duration": 15,
    "start_time": "2022-02-04T08:07:07.214Z"
   },
   {
    "duration": 291,
    "start_time": "2022-02-04T08:07:07.231Z"
   },
   {
    "duration": 30,
    "start_time": "2022-02-04T08:07:07.524Z"
   },
   {
    "duration": 251,
    "start_time": "2022-02-04T08:07:07.556Z"
   },
   {
    "duration": 31,
    "start_time": "2022-02-04T08:07:07.809Z"
   },
   {
    "duration": 233,
    "start_time": "2022-02-04T08:07:07.842Z"
   },
   {
    "duration": 38,
    "start_time": "2022-02-04T08:07:08.076Z"
   },
   {
    "duration": 238,
    "start_time": "2022-02-04T08:07:08.115Z"
   },
   {
    "duration": 29,
    "start_time": "2022-02-04T08:07:08.355Z"
   },
   {
    "duration": 377,
    "start_time": "2022-02-04T08:13:34.655Z"
   },
   {
    "duration": 6,
    "start_time": "2022-02-04T08:21:34.273Z"
   },
   {
    "duration": 6,
    "start_time": "2022-02-04T08:21:44.496Z"
   },
   {
    "duration": 6,
    "start_time": "2022-02-04T08:31:21.482Z"
   },
   {
    "duration": 5,
    "start_time": "2022-02-04T08:31:34.152Z"
   },
   {
    "duration": 6,
    "start_time": "2022-02-04T08:31:40.610Z"
   },
   {
    "duration": 8,
    "start_time": "2022-02-04T08:34:41.448Z"
   },
   {
    "duration": 33,
    "start_time": "2022-02-04T08:35:06.737Z"
   },
   {
    "duration": 224,
    "start_time": "2022-02-04T08:35:44.712Z"
   },
   {
    "duration": 7,
    "start_time": "2022-02-04T08:36:15.026Z"
   },
   {
    "duration": 8,
    "start_time": "2022-02-04T08:48:53.046Z"
   },
   {
    "duration": 9,
    "start_time": "2022-02-04T08:51:37.011Z"
   },
   {
    "duration": 6,
    "start_time": "2022-02-04T08:51:37.844Z"
   },
   {
    "duration": 6,
    "start_time": "2022-02-04T08:52:35.030Z"
   },
   {
    "duration": 1674,
    "start_time": "2022-02-12T11:52:17.910Z"
   },
   {
    "duration": 33,
    "start_time": "2022-02-12T11:52:19.586Z"
   },
   {
    "duration": 25,
    "start_time": "2022-02-12T11:52:19.622Z"
   },
   {
    "duration": 20,
    "start_time": "2022-02-12T11:52:19.649Z"
   },
   {
    "duration": 38,
    "start_time": "2022-02-12T11:52:19.671Z"
   },
   {
    "duration": 15,
    "start_time": "2022-02-12T11:52:19.711Z"
   },
   {
    "duration": 7,
    "start_time": "2022-02-12T11:52:19.727Z"
   },
   {
    "duration": 12,
    "start_time": "2022-02-12T11:52:19.736Z"
   },
   {
    "duration": 7,
    "start_time": "2022-02-12T11:52:19.751Z"
   },
   {
    "duration": 167,
    "start_time": "2022-02-12T11:52:19.760Z"
   },
   {
    "duration": 2272,
    "start_time": "2022-02-12T11:52:19.929Z"
   },
   {
    "duration": 21,
    "start_time": "2022-02-12T11:52:22.203Z"
   },
   {
    "duration": 30,
    "start_time": "2022-02-12T11:52:22.226Z"
   },
   {
    "duration": 54,
    "start_time": "2022-02-12T11:52:22.258Z"
   },
   {
    "duration": 23,
    "start_time": "2022-02-12T11:52:22.314Z"
   },
   {
    "duration": 5,
    "start_time": "2022-02-12T11:52:22.339Z"
   },
   {
    "duration": 24,
    "start_time": "2022-02-12T11:52:22.346Z"
   },
   {
    "duration": 32,
    "start_time": "2022-02-12T11:52:22.371Z"
   },
   {
    "duration": 12,
    "start_time": "2022-02-12T11:52:22.405Z"
   },
   {
    "duration": 13,
    "start_time": "2022-02-12T11:52:22.419Z"
   },
   {
    "duration": 4,
    "start_time": "2022-02-12T11:52:22.434Z"
   },
   {
    "duration": 11,
    "start_time": "2022-02-12T11:52:22.440Z"
   },
   {
    "duration": 12,
    "start_time": "2022-02-12T11:52:22.453Z"
   },
   {
    "duration": 127,
    "start_time": "2022-02-12T11:52:22.467Z"
   },
   {
    "duration": 6,
    "start_time": "2022-02-12T11:52:22.598Z"
   },
   {
    "duration": 8,
    "start_time": "2022-02-12T11:52:22.605Z"
   },
   {
    "duration": 7,
    "start_time": "2022-02-12T11:52:22.616Z"
   },
   {
    "duration": 11,
    "start_time": "2022-02-12T11:52:22.625Z"
   },
   {
    "duration": 332,
    "start_time": "2022-02-12T11:52:22.638Z"
   },
   {
    "duration": 39,
    "start_time": "2022-02-12T11:52:22.972Z"
   },
   {
    "duration": 256,
    "start_time": "2022-02-12T11:52:23.013Z"
   },
   {
    "duration": 38,
    "start_time": "2022-02-12T11:52:23.271Z"
   },
   {
    "duration": 256,
    "start_time": "2022-02-12T11:52:23.311Z"
   },
   {
    "duration": 39,
    "start_time": "2022-02-12T11:52:23.569Z"
   },
   {
    "duration": 276,
    "start_time": "2022-02-12T11:52:23.610Z"
   },
   {
    "duration": 35,
    "start_time": "2022-02-12T11:52:23.888Z"
   },
   {
    "duration": 7,
    "start_time": "2022-02-12T11:52:23.925Z"
   },
   {
    "duration": 252,
    "start_time": "2022-02-12T11:52:23.934Z"
   },
   {
    "duration": 39,
    "start_time": "2022-02-12T11:52:24.188Z"
   },
   {
    "duration": 6,
    "start_time": "2022-02-12T11:52:24.228Z"
   },
   {
    "duration": 11,
    "start_time": "2022-02-12T11:52:24.235Z"
   },
   {
    "duration": 11,
    "start_time": "2022-02-12T11:52:24.248Z"
   },
   {
    "duration": 10,
    "start_time": "2022-02-12T11:52:24.261Z"
   },
   {
    "duration": 263,
    "start_time": "2022-02-12T11:53:35.193Z"
   },
   {
    "duration": 5,
    "start_time": "2022-02-12T11:53:39.094Z"
   },
   {
    "duration": 1960,
    "start_time": "2022-02-12T13:04:21.682Z"
   },
   {
    "duration": 160,
    "start_time": "2022-02-12T13:04:27.708Z"
   },
   {
    "duration": 3726,
    "start_time": "2022-02-12T13:04:29.755Z"
   },
   {
    "duration": 45,
    "start_time": "2022-02-12T13:04:33.828Z"
   },
   {
    "duration": 34,
    "start_time": "2022-02-12T13:04:42.528Z"
   },
   {
    "duration": 507,
    "start_time": "2022-02-12T13:05:10.398Z"
   },
   {
    "duration": 32,
    "start_time": "2022-02-12T13:05:14.681Z"
   },
   {
    "duration": 38,
    "start_time": "2022-02-12T13:05:16.899Z"
   },
   {
    "duration": 13,
    "start_time": "2022-02-12T13:06:42.036Z"
   },
   {
    "duration": 242,
    "start_time": "2022-02-12T13:07:55.596Z"
   },
   {
    "duration": 281,
    "start_time": "2022-02-12T13:08:02.107Z"
   },
   {
    "duration": 292,
    "start_time": "2022-02-12T13:08:10.937Z"
   },
   {
    "duration": 7,
    "start_time": "2022-02-12T13:08:31.974Z"
   },
   {
    "duration": 7,
    "start_time": "2022-02-12T13:08:37.552Z"
   },
   {
    "duration": 17,
    "start_time": "2022-02-12T13:11:45.248Z"
   },
   {
    "duration": 15,
    "start_time": "2022-02-12T13:12:22.973Z"
   },
   {
    "duration": 16,
    "start_time": "2022-02-12T13:12:32.686Z"
   },
   {
    "duration": 13,
    "start_time": "2022-02-12T13:12:37.138Z"
   },
   {
    "duration": 485,
    "start_time": "2022-02-12T13:12:47.183Z"
   },
   {
    "duration": 157,
    "start_time": "2022-02-12T13:12:53.736Z"
   },
   {
    "duration": 3615,
    "start_time": "2022-02-12T13:12:56.538Z"
   },
   {
    "duration": 31,
    "start_time": "2022-02-12T13:13:00.155Z"
   },
   {
    "duration": 62,
    "start_time": "2022-02-12T13:13:00.189Z"
   },
   {
    "duration": 34,
    "start_time": "2022-02-12T13:13:03.216Z"
   },
   {
    "duration": 36,
    "start_time": "2022-02-12T13:13:04.894Z"
   },
   {
    "duration": 40,
    "start_time": "2022-02-12T13:13:07.203Z"
   },
   {
    "duration": 6,
    "start_time": "2022-02-12T13:13:10.922Z"
   },
   {
    "duration": 6,
    "start_time": "2022-02-12T13:13:16.879Z"
   },
   {
    "duration": 13,
    "start_time": "2022-02-12T13:13:23.256Z"
   },
   {
    "duration": 13,
    "start_time": "2022-02-12T13:13:39.111Z"
   },
   {
    "duration": 521,
    "start_time": "2022-02-12T13:15:44.319Z"
   },
   {
    "duration": 487,
    "start_time": "2022-02-12T13:17:04.913Z"
   },
   {
    "duration": 487,
    "start_time": "2022-02-12T13:17:28.602Z"
   },
   {
    "duration": 537,
    "start_time": "2022-02-12T13:17:44.501Z"
   },
   {
    "duration": 418,
    "start_time": "2022-02-12T13:18:10.084Z"
   },
   {
    "duration": 515,
    "start_time": "2022-02-12T13:18:33.934Z"
   },
   {
    "duration": 456,
    "start_time": "2022-02-12T13:21:21.756Z"
   },
   {
    "duration": 435,
    "start_time": "2022-02-12T13:22:15.202Z"
   },
   {
    "duration": 10133,
    "start_time": "2022-02-12T13:22:43.826Z"
   },
   {
    "duration": 22653,
    "start_time": "2022-02-12T13:23:02.872Z"
   },
   {
    "duration": 1307,
    "start_time": "2022-02-12T13:24:16.872Z"
   },
   {
    "duration": 1967,
    "start_time": "2022-02-12T13:39:38.106Z"
   },
   {
    "duration": 40,
    "start_time": "2022-02-12T13:39:40.076Z"
   },
   {
    "duration": 31,
    "start_time": "2022-02-12T13:39:40.118Z"
   },
   {
    "duration": 29,
    "start_time": "2022-02-12T13:39:40.152Z"
   },
   {
    "duration": 48,
    "start_time": "2022-02-12T13:39:40.184Z"
   },
   {
    "duration": 20,
    "start_time": "2022-02-12T13:39:40.234Z"
   },
   {
    "duration": 14,
    "start_time": "2022-02-12T13:39:40.256Z"
   },
   {
    "duration": 17,
    "start_time": "2022-02-12T13:39:40.275Z"
   },
   {
    "duration": 40,
    "start_time": "2022-02-12T13:39:40.296Z"
   },
   {
    "duration": 181,
    "start_time": "2022-02-12T13:39:40.339Z"
   },
   {
    "duration": 3558,
    "start_time": "2022-02-12T13:39:40.523Z"
   },
   {
    "duration": 30,
    "start_time": "2022-02-12T13:39:44.083Z"
   },
   {
    "duration": 44,
    "start_time": "2022-02-12T13:39:44.133Z"
   },
   {
    "duration": 58,
    "start_time": "2022-02-12T13:39:44.180Z"
   },
   {
    "duration": 32,
    "start_time": "2022-02-12T13:39:44.241Z"
   },
   {
    "duration": 7,
    "start_time": "2022-02-12T13:39:44.276Z"
   },
   {
    "duration": 62,
    "start_time": "2022-02-12T13:39:44.286Z"
   },
   {
    "duration": 8,
    "start_time": "2022-02-12T13:39:44.350Z"
   },
   {
    "duration": 13,
    "start_time": "2022-02-12T13:39:44.360Z"
   },
   {
    "duration": 21,
    "start_time": "2022-02-12T13:39:44.375Z"
   },
   {
    "duration": 5,
    "start_time": "2022-02-12T13:39:44.399Z"
   },
   {
    "duration": 6,
    "start_time": "2022-02-12T13:39:44.433Z"
   },
   {
    "duration": 10,
    "start_time": "2022-02-12T13:39:44.444Z"
   },
   {
    "duration": 13,
    "start_time": "2022-02-12T13:39:44.457Z"
   },
   {
    "duration": 16,
    "start_time": "2022-02-12T13:39:44.473Z"
   },
   {
    "duration": 44,
    "start_time": "2022-02-12T13:39:44.491Z"
   },
   {
    "duration": 1300,
    "start_time": "2022-02-12T13:39:44.537Z"
   },
   {
    "duration": 8,
    "start_time": "2022-02-12T13:39:45.839Z"
   },
   {
    "duration": 10,
    "start_time": "2022-02-12T13:39:45.849Z"
   },
   {
    "duration": 11,
    "start_time": "2022-02-12T13:39:45.861Z"
   },
   {
    "duration": 11,
    "start_time": "2022-02-12T13:39:45.874Z"
   },
   {
    "duration": 436,
    "start_time": "2022-02-12T13:39:45.887Z"
   },
   {
    "duration": 43,
    "start_time": "2022-02-12T13:39:46.332Z"
   },
   {
    "duration": 354,
    "start_time": "2022-02-12T13:39:46.378Z"
   },
   {
    "duration": 44,
    "start_time": "2022-02-12T13:39:46.735Z"
   },
   {
    "duration": 357,
    "start_time": "2022-02-12T13:39:46.782Z"
   },
   {
    "duration": 41,
    "start_time": "2022-02-12T13:39:47.141Z"
   },
   {
    "duration": 370,
    "start_time": "2022-02-12T13:39:47.185Z"
   },
   {
    "duration": 40,
    "start_time": "2022-02-12T13:39:47.558Z"
   },
   {
    "duration": 32,
    "start_time": "2022-02-12T13:39:47.600Z"
   },
   {
    "duration": 330,
    "start_time": "2022-02-12T13:39:47.635Z"
   },
   {
    "duration": 41,
    "start_time": "2022-02-12T13:39:47.967Z"
   },
   {
    "duration": 24,
    "start_time": "2022-02-12T13:39:48.011Z"
   },
   {
    "duration": 12,
    "start_time": "2022-02-12T13:39:48.038Z"
   },
   {
    "duration": 14,
    "start_time": "2022-02-12T13:39:48.053Z"
   },
   {
    "duration": 14,
    "start_time": "2022-02-12T13:39:48.070Z"
   },
   {
    "duration": 45,
    "start_time": "2022-02-12T13:40:32.626Z"
   },
   {
    "duration": 3,
    "start_time": "2022-02-12T13:42:10.756Z"
   },
   {
    "duration": 1178,
    "start_time": "2022-02-12T13:43:05.833Z"
   },
   {
    "duration": 1186,
    "start_time": "2022-02-12T13:43:10.254Z"
   },
   {
    "duration": 1448,
    "start_time": "2022-02-12T13:43:50.823Z"
   },
   {
    "duration": 877,
    "start_time": "2022-02-12T13:44:38.075Z"
   },
   {
    "duration": 2123,
    "start_time": "2022-02-12T13:44:56.914Z"
   },
   {
    "duration": 669,
    "start_time": "2022-02-12T13:45:46.346Z"
   },
   {
    "duration": 660,
    "start_time": "2022-02-12T13:45:49.566Z"
   },
   {
    "duration": 909,
    "start_time": "2022-02-12T13:46:04.431Z"
   },
   {
    "duration": 450,
    "start_time": "2022-02-12T13:47:06.627Z"
   },
   {
    "duration": 6741,
    "start_time": "2022-02-12T13:47:26.944Z"
   },
   {
    "duration": 3,
    "start_time": "2022-02-12T13:47:57.530Z"
   },
   {
    "duration": 295,
    "start_time": "2022-02-12T13:48:12.731Z"
   },
   {
    "duration": 35,
    "start_time": "2022-02-12T13:48:38.693Z"
   },
   {
    "duration": 47,
    "start_time": "2022-02-12T13:48:42.181Z"
   },
   {
    "duration": 277,
    "start_time": "2022-02-12T13:49:07.016Z"
   },
   {
    "duration": 46,
    "start_time": "2022-02-12T13:49:16.379Z"
   },
   {
    "duration": 263,
    "start_time": "2022-02-12T13:50:35.937Z"
   },
   {
    "duration": 261,
    "start_time": "2022-02-12T13:50:46.231Z"
   },
   {
    "duration": 634,
    "start_time": "2022-02-12T13:51:08.952Z"
   },
   {
    "duration": 459,
    "start_time": "2022-02-12T13:51:14.912Z"
   }
  ],
  "kernelspec": {
   "display_name": "Python 3 (ipykernel)",
   "language": "python",
   "name": "python3"
  },
  "language_info": {
   "codemirror_mode": {
    "name": "ipython",
    "version": 3
   },
   "file_extension": ".py",
   "mimetype": "text/x-python",
   "name": "python",
   "nbconvert_exporter": "python",
   "pygments_lexer": "ipython3",
   "version": "3.9.5"
  },
  "toc": {
   "base_numbering": 1,
   "nav_menu": {},
   "number_sections": true,
   "sideBar": true,
   "skip_h1_title": true,
   "title_cell": "Table of Contents",
   "title_sidebar": "Contents",
   "toc_cell": false,
   "toc_position": {},
   "toc_section_display": true,
   "toc_window_display": false
  }
 },
 "nbformat": 4,
 "nbformat_minor": 2
}
