{
 "cells": [
  {
   "cell_type": "markdown",
   "metadata": {},
   "source": [
    "# Отток клиентов"
   ]
  },
  {
   "cell_type": "markdown",
   "metadata": {},
   "source": [
    "Из «Бета-Банка» стали уходить клиенты. Каждый месяц. Немного, но заметно. Банковские маркетологи посчитали: сохранять текущих клиентов дешевле, чем привлекать новых.\n",
    "\n",
    "Нужно спрогнозировать, уйдёт клиент из банка в ближайшее время или нет. Вам предоставлены исторические данные о поведении клиентов и расторжении договоров с банком. \n",
    "\n",
    "Постройте модель с предельно большим значением *F1*-меры. Чтобы сдать проект успешно, нужно довести метрику до 0.59. Проверьте *F1*-меру на тестовой выборке самостоятельно.\n",
    "\n",
    "Дополнительно измеряйте *AUC-ROC*, сравнивайте её значение с *F1*-мерой.\n",
    "\n",
    "Источник данных: [https://www.kaggle.com/barelydedicated/bank-customer-churn-modeling](https://www.kaggle.com/barelydedicated/bank-customer-churn-modeling)"
   ]
  },
  {
   "cell_type": "markdown",
   "metadata": {},
   "source": [
    "## Подготовка данных"
   ]
  },
  {
   "cell_type": "code",
   "execution_count": 4,
   "metadata": {},
   "outputs": [],
   "source": [
    "import pandas as pd\n",
    "import numpy as np\n",
    "from sklearn.model_selection import train_test_split\n",
    "from sklearn.linear_model import LogisticRegression\n",
    "from sklearn.preprocessing import StandardScaler\n",
    "from sklearn.tree import DecisionTreeClassifier\n",
    "from sklearn.ensemble import RandomForestClassifier\n",
    "from sklearn.metrics import accuracy_score, confusion_matrix, recall_score, precision_score, f1_score, roc_auc_score\n",
    "from sklearn.utils import shuffle\n"
   ]
  },
  {
   "cell_type": "code",
   "execution_count": 5,
   "metadata": {},
   "outputs": [],
   "source": [
    "data = pd.read_csv('database/Churn.csv')"
   ]
  },
  {
   "cell_type": "code",
   "execution_count": 6,
   "metadata": {},
   "outputs": [
    {
     "data": {
      "text/plain": [
       "(10000, 14)"
      ]
     },
     "execution_count": 6,
     "metadata": {},
     "output_type": "execute_result"
    }
   ],
   "source": [
    "data.shape"
   ]
  },
  {
   "cell_type": "code",
   "execution_count": 7,
   "metadata": {},
   "outputs": [
    {
     "name": "stdout",
     "output_type": "stream",
     "text": [
      "<class 'pandas.core.frame.DataFrame'>\n",
      "RangeIndex: 10000 entries, 0 to 9999\n",
      "Data columns (total 14 columns):\n",
      " #   Column           Non-Null Count  Dtype  \n",
      "---  ------           --------------  -----  \n",
      " 0   RowNumber        10000 non-null  int64  \n",
      " 1   CustomerId       10000 non-null  int64  \n",
      " 2   Surname          10000 non-null  object \n",
      " 3   CreditScore      10000 non-null  int64  \n",
      " 4   Geography        10000 non-null  object \n",
      " 5   Gender           10000 non-null  object \n",
      " 6   Age              10000 non-null  int64  \n",
      " 7   Tenure           9091 non-null   float64\n",
      " 8   Balance          10000 non-null  float64\n",
      " 9   NumOfProducts    10000 non-null  int64  \n",
      " 10  HasCrCard        10000 non-null  int64  \n",
      " 11  IsActiveMember   10000 non-null  int64  \n",
      " 12  EstimatedSalary  10000 non-null  float64\n",
      " 13  Exited           10000 non-null  int64  \n",
      "dtypes: float64(3), int64(8), object(3)\n",
      "memory usage: 1.1+ MB\n"
     ]
    }
   ],
   "source": [
    "data.info()"
   ]
  },
  {
   "cell_type": "markdown",
   "metadata": {},
   "source": [
    "Исходя из первого просмотра данных видны пропуски в Tenure, и заполнять их просто нулевыми значениями будет не особо правильно, поэтому попробую сначала заменить медианным значением, и посчитать score, и посмотрим какой score будет со средним значением. Так же я бы удалил RowNumber, CustomerId, Surname так как эти значения не будут играть роли в обучении."
   ]
  },
  {
   "cell_type": "code",
   "execution_count": 8,
   "metadata": {},
   "outputs": [
    {
     "data": {
      "text/html": [
       "<div>\n",
       "<style scoped>\n",
       "    .dataframe tbody tr th:only-of-type {\n",
       "        vertical-align: middle;\n",
       "    }\n",
       "\n",
       "    .dataframe tbody tr th {\n",
       "        vertical-align: top;\n",
       "    }\n",
       "\n",
       "    .dataframe thead th {\n",
       "        text-align: right;\n",
       "    }\n",
       "</style>\n",
       "<table border=\"1\" class=\"dataframe\">\n",
       "  <thead>\n",
       "    <tr style=\"text-align: right;\">\n",
       "      <th></th>\n",
       "      <th>RowNumber</th>\n",
       "      <th>CustomerId</th>\n",
       "      <th>Surname</th>\n",
       "      <th>CreditScore</th>\n",
       "      <th>Geography</th>\n",
       "      <th>Gender</th>\n",
       "      <th>Age</th>\n",
       "      <th>Tenure</th>\n",
       "      <th>Balance</th>\n",
       "      <th>NumOfProducts</th>\n",
       "      <th>HasCrCard</th>\n",
       "      <th>IsActiveMember</th>\n",
       "      <th>EstimatedSalary</th>\n",
       "      <th>Exited</th>\n",
       "    </tr>\n",
       "  </thead>\n",
       "  <tbody>\n",
       "    <tr>\n",
       "      <th>0</th>\n",
       "      <td>1</td>\n",
       "      <td>15634602</td>\n",
       "      <td>Hargrave</td>\n",
       "      <td>619</td>\n",
       "      <td>France</td>\n",
       "      <td>Female</td>\n",
       "      <td>42</td>\n",
       "      <td>2.0</td>\n",
       "      <td>0.00</td>\n",
       "      <td>1</td>\n",
       "      <td>1</td>\n",
       "      <td>1</td>\n",
       "      <td>101348.88</td>\n",
       "      <td>1</td>\n",
       "    </tr>\n",
       "    <tr>\n",
       "      <th>1</th>\n",
       "      <td>2</td>\n",
       "      <td>15647311</td>\n",
       "      <td>Hill</td>\n",
       "      <td>608</td>\n",
       "      <td>Spain</td>\n",
       "      <td>Female</td>\n",
       "      <td>41</td>\n",
       "      <td>1.0</td>\n",
       "      <td>83807.86</td>\n",
       "      <td>1</td>\n",
       "      <td>0</td>\n",
       "      <td>1</td>\n",
       "      <td>112542.58</td>\n",
       "      <td>0</td>\n",
       "    </tr>\n",
       "    <tr>\n",
       "      <th>2</th>\n",
       "      <td>3</td>\n",
       "      <td>15619304</td>\n",
       "      <td>Onio</td>\n",
       "      <td>502</td>\n",
       "      <td>France</td>\n",
       "      <td>Female</td>\n",
       "      <td>42</td>\n",
       "      <td>8.0</td>\n",
       "      <td>159660.80</td>\n",
       "      <td>3</td>\n",
       "      <td>1</td>\n",
       "      <td>0</td>\n",
       "      <td>113931.57</td>\n",
       "      <td>1</td>\n",
       "    </tr>\n",
       "    <tr>\n",
       "      <th>3</th>\n",
       "      <td>4</td>\n",
       "      <td>15701354</td>\n",
       "      <td>Boni</td>\n",
       "      <td>699</td>\n",
       "      <td>France</td>\n",
       "      <td>Female</td>\n",
       "      <td>39</td>\n",
       "      <td>1.0</td>\n",
       "      <td>0.00</td>\n",
       "      <td>2</td>\n",
       "      <td>0</td>\n",
       "      <td>0</td>\n",
       "      <td>93826.63</td>\n",
       "      <td>0</td>\n",
       "    </tr>\n",
       "    <tr>\n",
       "      <th>4</th>\n",
       "      <td>5</td>\n",
       "      <td>15737888</td>\n",
       "      <td>Mitchell</td>\n",
       "      <td>850</td>\n",
       "      <td>Spain</td>\n",
       "      <td>Female</td>\n",
       "      <td>43</td>\n",
       "      <td>2.0</td>\n",
       "      <td>125510.82</td>\n",
       "      <td>1</td>\n",
       "      <td>1</td>\n",
       "      <td>1</td>\n",
       "      <td>79084.10</td>\n",
       "      <td>0</td>\n",
       "    </tr>\n",
       "  </tbody>\n",
       "</table>\n",
       "</div>"
      ],
      "text/plain": [
       "   RowNumber  CustomerId   Surname  CreditScore Geography  Gender  Age  \\\n",
       "0          1    15634602  Hargrave          619    France  Female   42   \n",
       "1          2    15647311      Hill          608     Spain  Female   41   \n",
       "2          3    15619304      Onio          502    France  Female   42   \n",
       "3          4    15701354      Boni          699    France  Female   39   \n",
       "4          5    15737888  Mitchell          850     Spain  Female   43   \n",
       "\n",
       "   Tenure    Balance  NumOfProducts  HasCrCard  IsActiveMember  \\\n",
       "0     2.0       0.00              1          1               1   \n",
       "1     1.0   83807.86              1          0               1   \n",
       "2     8.0  159660.80              3          1               0   \n",
       "3     1.0       0.00              2          0               0   \n",
       "4     2.0  125510.82              1          1               1   \n",
       "\n",
       "   EstimatedSalary  Exited  \n",
       "0        101348.88       1  \n",
       "1        112542.58       0  \n",
       "2        113931.57       1  \n",
       "3         93826.63       0  \n",
       "4         79084.10       0  "
      ]
     },
     "execution_count": 8,
     "metadata": {},
     "output_type": "execute_result"
    }
   ],
   "source": [
    "data.head()"
   ]
  },
  {
   "cell_type": "code",
   "execution_count": 9,
   "metadata": {},
   "outputs": [
    {
     "data": {
      "text/plain": [
       "1.0     952\n",
       "2.0     950\n",
       "8.0     933\n",
       "3.0     928\n",
       "5.0     927\n",
       "7.0     925\n",
       "4.0     885\n",
       "9.0     882\n",
       "6.0     881\n",
       "10.0    446\n",
       "0.0     382\n",
       "Name: Tenure, dtype: int64"
      ]
     },
     "execution_count": 9,
     "metadata": {},
     "output_type": "execute_result"
    }
   ],
   "source": [
    "data['Tenure'].value_counts()"
   ]
  },
  {
   "cell_type": "markdown",
   "metadata": {},
   "source": [
    "Удаление ненужных столбцов"
   ]
  },
  {
   "cell_type": "code",
   "execution_count": 10,
   "metadata": {},
   "outputs": [],
   "source": [
    "data = data.drop(columns=['RowNumber', 'CustomerId', 'Surname'])"
   ]
  },
  {
   "cell_type": "markdown",
   "metadata": {},
   "source": [
    "Заполнение пропусков медианным значением"
   ]
  },
  {
   "cell_type": "code",
   "execution_count": 11,
   "metadata": {},
   "outputs": [],
   "source": [
    "data['Tenure'] = data['Tenure'].fillna(data['Tenure'].median()).astype('int64')"
   ]
  },
  {
   "cell_type": "markdown",
   "metadata": {},
   "source": [
    "Перед тем как разделять выборки я хочу закодировать категориальные признаки. Буду делать по one-hot encoding"
   ]
  },
  {
   "cell_type": "code",
   "execution_count": 12,
   "metadata": {},
   "outputs": [],
   "source": [
    "data_ohe = pd.get_dummies(data, drop_first=True)"
   ]
  },
  {
   "cell_type": "markdown",
   "metadata": {},
   "source": [
    "Разделение выборок на тренировочную, тестовую, и валидационную"
   ]
  },
  {
   "cell_type": "code",
   "execution_count": 13,
   "metadata": {},
   "outputs": [
    {
     "name": "stdout",
     "output_type": "stream",
     "text": [
      "(6000, 11) (2000, 11) (2000, 11)\n",
      "(6000,) (2000,) (2000,)\n"
     ]
    }
   ],
   "source": [
    "target = data_ohe['Exited']\n",
    "features = data_ohe.drop('Exited', axis=1)\n",
    "\n",
    "train_features, valid_features, train_target, valid_target = train_test_split(features, target, test_size=0.4, \n",
    "                                                                              random_state=345)\n",
    "valid_features, test_features, valid_target, test_target = train_test_split(valid_features, valid_target, test_size=0.5, \n",
    "                                                                              random_state=345 )\n",
    "print(train_features.shape, valid_features.shape, test_features.shape)\n",
    "print(train_target.shape, valid_target.shape, test_target.shape)"
   ]
  },
  {
   "cell_type": "markdown",
   "metadata": {},
   "source": [
    "Масштабирование параметров с помощью StandardScaler"
   ]
  },
  {
   "cell_type": "code",
   "execution_count": 14,
   "metadata": {},
   "outputs": [],
   "source": [
    "numeric = ['CreditScore', 'Age', 'Tenure', 'Balance', 'EstimatedSalary']\n",
    "\n",
    "scaler = StandardScaler()\n",
    "scaler.fit(train_features[numeric])\n",
    "train_features[numeric] = scaler.transform(train_features[numeric])\n",
    "valid_features[numeric] = scaler.transform(valid_features[numeric])\n",
    "test_features[numeric] = scaler.transform(test_features[numeric])"
   ]
  },
  {
   "cell_type": "code",
   "execution_count": 15,
   "metadata": {},
   "outputs": [
    {
     "data": {
      "text/html": [
       "<div>\n",
       "<style scoped>\n",
       "    .dataframe tbody tr th:only-of-type {\n",
       "        vertical-align: middle;\n",
       "    }\n",
       "\n",
       "    .dataframe tbody tr th {\n",
       "        vertical-align: top;\n",
       "    }\n",
       "\n",
       "    .dataframe thead th {\n",
       "        text-align: right;\n",
       "    }\n",
       "</style>\n",
       "<table border=\"1\" class=\"dataframe\">\n",
       "  <thead>\n",
       "    <tr style=\"text-align: right;\">\n",
       "      <th></th>\n",
       "      <th>CreditScore</th>\n",
       "      <th>Age</th>\n",
       "      <th>Tenure</th>\n",
       "      <th>Balance</th>\n",
       "      <th>NumOfProducts</th>\n",
       "      <th>HasCrCard</th>\n",
       "      <th>IsActiveMember</th>\n",
       "      <th>EstimatedSalary</th>\n",
       "      <th>Geography_Germany</th>\n",
       "      <th>Geography_Spain</th>\n",
       "      <th>Gender_Male</th>\n",
       "    </tr>\n",
       "  </thead>\n",
       "  <tbody>\n",
       "    <tr>\n",
       "      <th>7692</th>\n",
       "      <td>-0.170629</td>\n",
       "      <td>3.323092</td>\n",
       "      <td>-0.005976</td>\n",
       "      <td>0.527990</td>\n",
       "      <td>1</td>\n",
       "      <td>1</td>\n",
       "      <td>0</td>\n",
       "      <td>-1.577718</td>\n",
       "      <td>1</td>\n",
       "      <td>0</td>\n",
       "      <td>1</td>\n",
       "    </tr>\n",
       "    <tr>\n",
       "      <th>4924</th>\n",
       "      <td>1.462115</td>\n",
       "      <td>-0.283033</td>\n",
       "      <td>-0.005976</td>\n",
       "      <td>0.637921</td>\n",
       "      <td>2</td>\n",
       "      <td>0</td>\n",
       "      <td>0</td>\n",
       "      <td>-1.720455</td>\n",
       "      <td>1</td>\n",
       "      <td>0</td>\n",
       "      <td>1</td>\n",
       "    </tr>\n",
       "    <tr>\n",
       "      <th>4808</th>\n",
       "      <td>-0.077624</td>\n",
       "      <td>-0.567728</td>\n",
       "      <td>-0.005976</td>\n",
       "      <td>0.993225</td>\n",
       "      <td>1</td>\n",
       "      <td>1</td>\n",
       "      <td>1</td>\n",
       "      <td>1.462136</td>\n",
       "      <td>0</td>\n",
       "      <td>0</td>\n",
       "      <td>0</td>\n",
       "    </tr>\n",
       "    <tr>\n",
       "      <th>6863</th>\n",
       "      <td>-0.893996</td>\n",
       "      <td>-1.421810</td>\n",
       "      <td>0.356186</td>\n",
       "      <td>1.182735</td>\n",
       "      <td>1</td>\n",
       "      <td>1</td>\n",
       "      <td>1</td>\n",
       "      <td>0.921486</td>\n",
       "      <td>0</td>\n",
       "      <td>1</td>\n",
       "      <td>0</td>\n",
       "    </tr>\n",
       "    <tr>\n",
       "      <th>539</th>\n",
       "      <td>0.976426</td>\n",
       "      <td>-1.042218</td>\n",
       "      <td>-1.454621</td>\n",
       "      <td>0.563054</td>\n",
       "      <td>1</td>\n",
       "      <td>1</td>\n",
       "      <td>0</td>\n",
       "      <td>-0.478543</td>\n",
       "      <td>1</td>\n",
       "      <td>0</td>\n",
       "      <td>0</td>\n",
       "    </tr>\n",
       "  </tbody>\n",
       "</table>\n",
       "</div>"
      ],
      "text/plain": [
       "      CreditScore       Age    Tenure   Balance  NumOfProducts  HasCrCard  \\\n",
       "7692    -0.170629  3.323092 -0.005976  0.527990              1          1   \n",
       "4924     1.462115 -0.283033 -0.005976  0.637921              2          0   \n",
       "4808    -0.077624 -0.567728 -0.005976  0.993225              1          1   \n",
       "6863    -0.893996 -1.421810  0.356186  1.182735              1          1   \n",
       "539      0.976426 -1.042218 -1.454621  0.563054              1          1   \n",
       "\n",
       "      IsActiveMember  EstimatedSalary  Geography_Germany  Geography_Spain  \\\n",
       "7692               0        -1.577718                  1                0   \n",
       "4924               0        -1.720455                  1                0   \n",
       "4808               1         1.462136                  0                0   \n",
       "6863               1         0.921486                  0                1   \n",
       "539                0        -0.478543                  1                0   \n",
       "\n",
       "      Gender_Male  \n",
       "7692            1  \n",
       "4924            1  \n",
       "4808            0  \n",
       "6863            0  \n",
       "539             0  "
      ]
     },
     "execution_count": 15,
     "metadata": {},
     "output_type": "execute_result"
    }
   ],
   "source": [
    "test_features.head()"
   ]
  },
  {
   "cell_type": "markdown",
   "metadata": {},
   "source": [
    "## Исследование задачи"
   ]
  },
  {
   "cell_type": "code",
   "execution_count": 16,
   "metadata": {
    "scrolled": false
   },
   "outputs": [
    {
     "data": {
      "text/plain": [
       "0    7963\n",
       "1    2037\n",
       "Name: Exited, dtype: int64"
      ]
     },
     "execution_count": 16,
     "metadata": {},
     "output_type": "execute_result"
    },
    {
     "data": {
      "image/png": "[encoded data removed]",
      "text/plain": [
       "<Figure size 720x432 with 1 Axes>"
      ]
     },
     "metadata": {
      "needs_background": "light"
     },
     "output_type": "display_data"
    }
   ],
   "source": [
    "data['Exited'].value_counts().plot(kind='bar', grid=True,figsize=(10,6),title='Соотношение ушедших к оставшимся клиентам')\n",
    "data['Exited'].value_counts()"
   ]
  },
  {
   "cell_type": "markdown",
   "metadata": {},
   "source": [
    "Исходя из данных имеется дисбаланс классов. 1:4 в пользу оставшихся клиентов. Это может привести модель к склонению в распространённый вариант ответа."
   ]
  },
  {
   "cell_type": "markdown",
   "metadata": {},
   "source": [
    "Тестирование на дереве решений"
   ]
  },
  {
   "cell_type": "code",
   "execution_count": 17,
   "metadata": {},
   "outputs": [
    {
     "data": {
      "text/plain": [
       "0.7885"
      ]
     },
     "execution_count": 17,
     "metadata": {},
     "output_type": "execute_result"
    }
   ],
   "source": [
    "model = DecisionTreeClassifier(random_state=345)\n",
    "model.fit(train_features, train_target)\n",
    "predicted_valid = model.predict(valid_features)\n",
    "\n",
    "accuracy_valid = accuracy_score(predicted_valid, valid_target)\n",
    "\n",
    "accuracy_valid "
   ]
  },
  {
   "cell_type": "markdown",
   "metadata": {},
   "source": [
    "Проверка на адекватность модели"
   ]
  },
  {
   "cell_type": "code",
   "execution_count": 18,
   "metadata": {},
   "outputs": [
    {
     "name": "stdout",
     "output_type": "stream",
     "text": [
      "0.795\n"
     ]
    }
   ],
   "source": [
    "target_pred_constant = pd.Series([0]*len(valid_target))\n",
    "\n",
    "print(accuracy_score(predicted_valid, target_pred_constant)) "
   ]
  },
  {
   "cell_type": "markdown",
   "metadata": {},
   "source": [
    "Матрица ошибок, плотность, точность, F1 score, roc_auc"
   ]
  },
  {
   "cell_type": "code",
   "execution_count": 19,
   "metadata": {},
   "outputs": [
    {
     "name": "stdout",
     "output_type": "stream",
     "text": [
      "матрица ошибок: [[1384  206]\n",
      " [ 217  193]]\n",
      "Плотность: 0.48370927318295737\n",
      "Точность: 0.47073170731707314\n",
      "F1: 0.47713226205191595\n",
      "ROC-AUC 0.6740844929312663\n"
     ]
    }
   ],
   "source": [
    "print('матрица ошибок:', confusion_matrix(predicted_valid, valid_target))\n",
    "print('Плотность:', recall_score(valid_target, predicted_valid))\n",
    "print('Точность:',precision_score(valid_target, predicted_valid))\n",
    "print('F1:', f1_score(valid_target, predicted_valid))\n",
    "probabilities_valid = model.predict_proba(valid_features)[:, 1]\n",
    "print(\"ROC-AUC\", roc_auc_score(valid_target, probabilities_valid))"
   ]
  },
  {
   "cell_type": "markdown",
   "metadata": {},
   "source": [
    "Подбор гипперпараметров для дерева решений"
   ]
  },
  {
   "cell_type": "code",
   "execution_count": 20,
   "metadata": {},
   "outputs": [
    {
     "name": "stdout",
     "output_type": "stream",
     "text": [
      "Max depth 6 F1-score 0.5448613376835236\n"
     ]
    }
   ],
   "source": [
    "f1_best = 0\n",
    "depth_best = 0\n",
    "for depth in range(1, 11):\n",
    "    model = DecisionTreeClassifier(random_state=345, max_depth=depth)\n",
    "    model.fit(train_features, train_target)\n",
    "    prediction = model.predict(valid_features)\n",
    "    f1 = f1_score(valid_target, prediction)\n",
    "    if f1>f1_best:\n",
    "            f1_best=f1\n",
    "            depth_best=depth\n",
    "print('Max depth', depth_best,'F1-score', f1_best)"
   ]
  },
  {
   "cell_type": "markdown",
   "metadata": {},
   "source": [
    "Посмотрим на оценку accuracy, precision, recall, F1, AUC-ROC на полученных гиперпараметрах"
   ]
  },
  {
   "cell_type": "code",
   "execution_count": 21,
   "metadata": {},
   "outputs": [
    {
     "name": "stdout",
     "output_type": "stream",
     "text": [
      "Accuracy 0.8595\n",
      "Precision 0.8511904761904762\n",
      "Recall 0.3583959899749373\n",
      "F1 0.5044091710758377\n",
      "ROC_AUC 0.8321655168527189\n"
     ]
    }
   ],
   "source": [
    "model = DecisionTreeClassifier(random_state=345, max_depth=5)\n",
    "model.fit(train_features, train_target)\n",
    "prediction = model.predict(valid_features)\n",
    "print('Accuracy', accuracy_score(valid_target, prediction))\n",
    "print('Precision', precision_score(valid_target, prediction))\n",
    "print('Recall', recall_score(valid_target, prediction))\n",
    "print('F1', f1_score(valid_target, prediction))\n",
    "probabilities_valid = model.predict_proba(valid_features)[:, 1]\n",
    "print(\"ROC_AUC\", roc_auc_score(valid_target, probabilities_valid))"
   ]
  },
  {
   "cell_type": "markdown",
   "metadata": {},
   "source": [
    "## Борьба с дисбалансом"
   ]
  },
  {
   "cell_type": "markdown",
   "metadata": {},
   "source": [
    "Попробуем несколько способов борьбы с дисбалансом, а точнее взвешивание классов, уменьшение и увелечение выборки."
   ]
  },
  {
   "cell_type": "markdown",
   "metadata": {},
   "source": [
    "**Баланс классов для логистической регрессии**"
   ]
  },
  {
   "cell_type": "code",
   "execution_count": 22,
   "metadata": {},
   "outputs": [
    {
     "name": "stdout",
     "output_type": "stream",
     "text": [
      "F1: 0.48220640569395024\n",
      "ROC_AUC 0.7634232364170888\n"
     ]
    }
   ],
   "source": [
    "model = LogisticRegression(random_state=345, solver='liblinear', class_weight='balanced')\n",
    "model.fit(train_features, train_target)\n",
    "predicted_valid = model.predict(valid_features)\n",
    "print('F1:',f1_score(valid_target, predicted_valid))\n",
    "probabilities_valid = model.predict_proba(valid_features)[:, 1]\n",
    "print(\"ROC_AUC\", roc_auc_score(valid_target, probabilities_valid))"
   ]
  },
  {
   "cell_type": "markdown",
   "metadata": {},
   "source": [
    "**Баланс классов для дерева решений**"
   ]
  },
  {
   "cell_type": "code",
   "execution_count": 23,
   "metadata": {},
   "outputs": [
    {
     "name": "stdout",
     "output_type": "stream",
     "text": [
      "F1: 0.5038560411311054\n",
      "ROC_AUC 0.6884622549503051\n"
     ]
    }
   ],
   "source": [
    "model = DecisionTreeClassifier(random_state=345, class_weight='balanced')\n",
    "model.fit(train_features, train_target)\n",
    "predicted_valid = model.predict(valid_features)\n",
    "print('F1:',f1_score(valid_target, predicted_valid))\n",
    "probabilities_valid = model.predict_proba(valid_features)[:, 1]\n",
    "print(\"ROC_AUC\", roc_auc_score(valid_target, probabilities_valid))"
   ]
  },
  {
   "cell_type": "markdown",
   "metadata": {},
   "source": [
    "**Баланс классов с случайным лесом**"
   ]
  },
  {
   "cell_type": "code",
   "execution_count": 24,
   "metadata": {},
   "outputs": [
    {
     "name": "stdout",
     "output_type": "stream",
     "text": [
      "F1: 0.5602503912363066\n",
      "ROC_AUC 0.8483223987514069\n"
     ]
    }
   ],
   "source": [
    "model = RandomForestClassifier(random_state=345, class_weight='balanced')\n",
    "model.fit(train_features, train_target)\n",
    "predicted_valid = model.predict(valid_features)\n",
    "print('F1:',f1_score(valid_target, predicted_valid))\n",
    "probabilities_valid = model.predict_proba(valid_features)[:, 1]\n",
    "print(\"ROC_AUC\", roc_auc_score(valid_target, probabilities_valid))"
   ]
  },
  {
   "cell_type": "markdown",
   "metadata": {},
   "source": [
    "**Увеличение выборки**"
   ]
  },
  {
   "cell_type": "markdown",
   "metadata": {},
   "source": [
    "Функция для увеличения выборки"
   ]
  },
  {
   "cell_type": "code",
   "execution_count": 25,
   "metadata": {},
   "outputs": [],
   "source": [
    "def upsample(features, target, repeat):\n",
    "    features_zeros = features[target == 0]\n",
    "    features_ones = features[target == 1]\n",
    "    target_zeros = target[target == 0]\n",
    "    target_ones = target[target == 1]\n",
    "\n",
    "    features_upsampled = pd.concat([features_zeros] + [features_ones] * repeat)\n",
    "    target_upsampled = pd.concat([target_zeros] + [target_ones] * repeat)\n",
    "    \n",
    "    features_upsampled, target_upsampled = shuffle(\n",
    "        features_upsampled, target_upsampled, random_state=345)\n",
    "    \n",
    "    return features_upsampled, target_upsampled\n",
    "\n",
    "features_upsampled, target_upsampled = upsample(train_features, train_target, 10)"
   ]
  },
  {
   "cell_type": "code",
   "execution_count": 26,
   "metadata": {},
   "outputs": [
    {
     "data": {
      "text/plain": [
       "(16935, 11)"
      ]
     },
     "execution_count": 26,
     "metadata": {},
     "output_type": "execute_result"
    }
   ],
   "source": [
    "features_upsampled.shape"
   ]
  },
  {
   "cell_type": "markdown",
   "metadata": {},
   "source": [
    "Баланс классов"
   ]
  },
  {
   "cell_type": "code",
   "execution_count": 27,
   "metadata": {},
   "outputs": [
    {
     "data": {
      "image/png": "[encoded data removed]",
      "text/plain": [
       "<Figure size 720x432 with 1 Axes>"
      ]
     },
     "metadata": {
      "needs_background": "light"
     },
     "output_type": "display_data"
    }
   ],
   "source": [
    "target_upsampled.value_counts().plot(kind='bar', grid=True,figsize=(10,6));"
   ]
  },
  {
   "cell_type": "markdown",
   "metadata": {},
   "source": [
    "**Увеличенная выборка на дереве решений**"
   ]
  },
  {
   "cell_type": "code",
   "execution_count": 28,
   "metadata": {},
   "outputs": [
    {
     "name": "stdout",
     "output_type": "stream",
     "text": [
      "F1: 0.502577319587629\n",
      "ROC_AUC 0.6875214269277191\n"
     ]
    }
   ],
   "source": [
    "model = DecisionTreeClassifier(random_state=345)\n",
    "model.fit(features_upsampled, target_upsampled)\n",
    "predicted_valid = model.predict(valid_features)\n",
    "print('F1:',f1_score(valid_target, predicted_valid))\n",
    "probabilities_valid = model.predict_proba(valid_features)[:, 1]\n",
    "print(\"ROC_AUC\", roc_auc_score(valid_target, probabilities_valid))"
   ]
  },
  {
   "cell_type": "markdown",
   "metadata": {},
   "source": [
    "**Увеличенная выборка для случайного леса**"
   ]
  },
  {
   "cell_type": "code",
   "execution_count": 29,
   "metadata": {},
   "outputs": [
    {
     "name": "stdout",
     "output_type": "stream",
     "text": [
      "F1: 0.5926928281461434\n",
      "ROC_AUC 0.8384343118884031\n"
     ]
    }
   ],
   "source": [
    "model = RandomForestClassifier(random_state=345)\n",
    "model.fit(features_upsampled, target_upsampled)\n",
    "predicted_valid = model.predict(valid_features)\n",
    "print('F1:',f1_score(valid_target, predicted_valid))\n",
    "probabilities_valid = model.predict_proba(valid_features)[:, 1]\n",
    "print(\"ROC_AUC\", roc_auc_score(valid_target, probabilities_valid))"
   ]
  },
  {
   "cell_type": "markdown",
   "metadata": {},
   "source": [
    "**Увеличенная выборка для логистической регрессии**"
   ]
  },
  {
   "cell_type": "code",
   "execution_count": 30,
   "metadata": {},
   "outputs": [
    {
     "name": "stdout",
     "output_type": "stream",
     "text": [
      "F1: 0.40021990104453\n",
      "ROC_AUC 0.7646646284668573\n"
     ]
    }
   ],
   "source": [
    "model = LogisticRegression(random_state=345,  solver='liblinear')\n",
    "model.fit(features_upsampled, target_upsampled)\n",
    "predicted_valid = model.predict(valid_features)\n",
    "print('F1:',f1_score(valid_target, predicted_valid))\n",
    "probabilities_valid = model.predict_proba(valid_features)[:, 1]\n",
    "print(\"ROC_AUC\", roc_auc_score(valid_target, probabilities_valid))"
   ]
  },
  {
   "cell_type": "markdown",
   "metadata": {},
   "source": [
    "**Уменьшение выборки**"
   ]
  },
  {
   "cell_type": "markdown",
   "metadata": {},
   "source": [
    "Функция для уменьшении выборки"
   ]
  },
  {
   "cell_type": "code",
   "execution_count": 31,
   "metadata": {},
   "outputs": [],
   "source": [
    "def downsample(features, target, fraction):\n",
    "    features_zeros = features[target == 0]\n",
    "    features_ones = features[target == 1]\n",
    "    target_zeros = target[target == 0]\n",
    "    target_ones = target[target == 1]\n",
    "\n",
    "    features_downsampled = pd.concat(\n",
    "        [features_zeros.sample(frac=fraction, random_state=345)] + [features_ones])\n",
    "    target_downsampled = pd.concat(\n",
    "        [target_zeros.sample(frac=fraction, random_state=345)] + [target_ones])\n",
    "    \n",
    "    features_downsampled, target_downsampled = shuffle(\n",
    "        features_downsampled, target_downsampled, random_state=345)\n",
    "    \n",
    "    return features_downsampled, target_downsampled\n",
    "\n",
    "features_downsampled, target_downsampled = downsample(train_features, train_target, 0.3)"
   ]
  },
  {
   "cell_type": "code",
   "execution_count": 32,
   "metadata": {},
   "outputs": [
    {
     "name": "stdout",
     "output_type": "stream",
     "text": [
      "(2651, 11)\n"
     ]
    }
   ],
   "source": [
    "print(features_downsampled.shape)"
   ]
  },
  {
   "cell_type": "markdown",
   "metadata": {},
   "source": [
    "Визуализация распределения классов"
   ]
  },
  {
   "cell_type": "code",
   "execution_count": 33,
   "metadata": {},
   "outputs": [
    {
     "data": {
      "image/png": "[encoded data removed]",
      "text/plain": [
       "<Figure size 720x432 with 1 Axes>"
      ]
     },
     "metadata": {
      "needs_background": "light"
     },
     "output_type": "display_data"
    }
   ],
   "source": [
    "target_downsampled.value_counts().plot(kind='bar', grid=True,figsize=(10,6));"
   ]
  },
  {
   "cell_type": "markdown",
   "metadata": {},
   "source": [
    "**Уменьшенная выборка для дерева решений**"
   ]
  },
  {
   "cell_type": "code",
   "execution_count": 34,
   "metadata": {},
   "outputs": [
    {
     "name": "stdout",
     "output_type": "stream",
     "text": [
      "F1: 0.4658493870402803\n",
      "ROC_AUC 0.6843639392046637\n"
     ]
    }
   ],
   "source": [
    "model = DecisionTreeClassifier(random_state=345)\n",
    "model.fit(features_downsampled, target_downsampled)\n",
    "predicted_valid = model.predict(valid_features)\n",
    "print('F1:',f1_score(valid_target, predicted_valid))\n",
    "probabilities_valid = model.predict_proba(valid_features)[:, 1]\n",
    "print(\"ROC_AUC\", roc_auc_score(valid_target, probabilities_valid))"
   ]
  },
  {
   "cell_type": "markdown",
   "metadata": {},
   "source": [
    "**Уменьшенная выборка для случайного леса**"
   ]
  },
  {
   "cell_type": "code",
   "execution_count": 35,
   "metadata": {},
   "outputs": [
    {
     "name": "stdout",
     "output_type": "stream",
     "text": [
      "F1: 0.591002044989775\n",
      "ROC_AUC 0.8444479405885106\n"
     ]
    }
   ],
   "source": [
    "model = RandomForestClassifier(random_state=345)\n",
    "model.fit(features_downsampled, target_downsampled)\n",
    "predicted_valid = model.predict(valid_features)\n",
    "print('F1:',f1_score(valid_target, predicted_valid))\n",
    "probabilities_valid = model.predict_proba(valid_features)[:, 1]\n",
    "print(\"ROC_AUC\", roc_auc_score(valid_target, probabilities_valid))"
   ]
  },
  {
   "cell_type": "markdown",
   "metadata": {},
   "source": [
    "**Уменьшенная выборка для логистической регрессии**"
   ]
  },
  {
   "cell_type": "code",
   "execution_count": 36,
   "metadata": {},
   "outputs": [
    {
     "name": "stdout",
     "output_type": "stream",
     "text": [
      "F1: 0.49375600384245927\n",
      "ROC_AUC 0.7602344399412021\n"
     ]
    }
   ],
   "source": [
    "model = LogisticRegression(random_state=345,  solver='liblinear')\n",
    "model.fit(features_downsampled, target_downsampled)\n",
    "predicted_valid = model.predict(valid_features)\n",
    "print('F1:',f1_score(valid_target, predicted_valid))\n",
    "probabilities_valid = model.predict_proba(valid_features)[:, 1]\n",
    "print(\"ROC_AUC\", roc_auc_score(valid_target, probabilities_valid))"
   ]
  },
  {
   "cell_type": "markdown",
   "metadata": {},
   "source": [
    "По итогу лучший результат f1 получается у уменьшенной выборки, и roc_auc так же увеличивается."
   ]
  },
  {
   "cell_type": "markdown",
   "metadata": {},
   "source": [
    "## Тестирование модели"
   ]
  },
  {
   "cell_type": "markdown",
   "metadata": {},
   "source": [
    "Итак выборку получили, теперь попробую разные модели и поиск гипперпараментров"
   ]
  },
  {
   "cell_type": "markdown",
   "metadata": {},
   "source": [
    "**Подбор модели для дерева решений и результат на тестовой выборке**"
   ]
  },
  {
   "cell_type": "code",
   "execution_count": 37,
   "metadata": {},
   "outputs": [
    {
     "name": "stdout",
     "output_type": "stream",
     "text": [
      "Max depth 7 F1-score 0.5636363636363637\n"
     ]
    }
   ],
   "source": [
    "f1_best = 0\n",
    "depth_best = 0\n",
    "for depth in range(1, 11):\n",
    "    model = DecisionTreeClassifier(random_state=345, max_depth=depth)\n",
    "    model.fit(features_downsampled, target_downsampled)\n",
    "    prediction = model.predict(valid_features)\n",
    "    f1 = f1_score(valid_target , prediction)\n",
    "    if f1 > f1_best:\n",
    "            f1_best = f1\n",
    "            depth_best = depth\n",
    "print('Max depth', depth_best,'F1-score', f1_best)"
   ]
  },
  {
   "cell_type": "code",
   "execution_count": 38,
   "metadata": {},
   "outputs": [
    {
     "name": "stdout",
     "output_type": "stream",
     "text": [
      "F1: 0.5826001955034213\n",
      "ROC_AUC 0.8125536861893261\n"
     ]
    }
   ],
   "source": [
    "model = DecisionTreeClassifier(max_depth=7, random_state=345)\n",
    "model.fit(features_downsampled, target_downsampled)\n",
    "predicted_valid = model.predict(test_features)\n",
    "print('F1:',f1_score(test_target , predicted_valid))\n",
    "probabilities_valid = model.predict_proba(test_features)[:, 1]\n",
    "print(\"ROC_AUC\", roc_auc_score(test_target , probabilities_valid))"
   ]
  },
  {
   "cell_type": "markdown",
   "metadata": {},
   "source": [
    "**Подбор модели для леса и результат на тестовой выборке**"
   ]
  },
  {
   "cell_type": "code",
   "execution_count": 39,
   "metadata": {},
   "outputs": [
    {
     "name": "stdout",
     "output_type": "stream",
     "text": [
      "n_estimators = 55 Max depth 8 F1-score 0.5975359342915811\n"
     ]
    }
   ],
   "source": [
    "f1_best = 0\n",
    "estim_best = 0\n",
    "depth_best = 0\n",
    "\n",
    "for estim in range (10, 100, 5):\n",
    "    for depth in range(1, 10):\n",
    "        model = RandomForestClassifier(n_estimators=estim, max_depth=depth, random_state=345)\n",
    "        model.fit(features_downsampled, target_downsampled)\n",
    "        prediction = model.predict(valid_features)\n",
    "        f1 = f1_score(valid_target , prediction)\n",
    "        if f1>f1_best:\n",
    "            f1_best=f1\n",
    "            estim_best=estim\n",
    "            depth_best=depth      \n",
    "print('n_estimators =', estim_best, 'Max depth', depth_best, 'F1-score', f1_best)"
   ]
  },
  {
   "cell_type": "code",
   "execution_count": 40,
   "metadata": {},
   "outputs": [
    {
     "name": "stdout",
     "output_type": "stream",
     "text": [
      "F1: 0.6068548387096773\n",
      "ROC_AUC 0.8594377510040161\n"
     ]
    }
   ],
   "source": [
    "model = RandomForestClassifier(max_depth=8, n_estimators=55, random_state=345)\n",
    "model.fit(features_downsampled, target_downsampled)\n",
    "predicted_valid = model.predict(test_features)\n",
    "print('F1:',f1_score(test_target , predicted_valid))\n",
    "probabilities_valid = model.predict_proba(test_features)[:, 1]\n",
    "print(\"ROC_AUC\", roc_auc_score(test_target, probabilities_valid))"
   ]
  },
  {
   "cell_type": "markdown",
   "metadata": {},
   "source": [
    "Логистическая регрессия"
   ]
  },
  {
   "cell_type": "code",
   "execution_count": 41,
   "metadata": {},
   "outputs": [
    {
     "name": "stdout",
     "output_type": "stream",
     "text": [
      "F1: 0.5245597775718257\n",
      "ROC_AUC 0.7819812283849845\n"
     ]
    }
   ],
   "source": [
    "model = LogisticRegression(random_state=345, solver='liblinear')\n",
    "model.fit(features_downsampled, target_downsampled)\n",
    "predicted_valid = model.predict(test_features)\n",
    "print('F1:',f1_score(test_target , predicted_valid))\n",
    "probabilities_valid = model.predict_proba(test_features)[:, 1]\n",
    "print(\"ROC_AUC\", roc_auc_score(test_target , probabilities_valid))"
   ]
  },
  {
   "cell_type": "markdown",
   "metadata": {},
   "source": [
    "## Вывод"
   ]
  },
  {
   "cell_type": "markdown",
   "metadata": {},
   "source": [
    "По итогу поиска лучшей модели пришел к выводу, что случайный лес на уменьшенной выборке показывает лучший результат"
   ]
  },
  {
   "cell_type": "code",
   "execution_count": 42,
   "metadata": {},
   "outputs": [
    {
     "name": "stdout",
     "output_type": "stream",
     "text": [
      "F1: 0.6068548387096773\n",
      "ROC_AUC 0.8594377510040161\n"
     ]
    }
   ],
   "source": [
    "model = RandomForestClassifier(max_depth=8, n_estimators=55, random_state=345)\n",
    "model.fit(features_downsampled, target_downsampled)\n",
    "predicted_valid = model.predict(test_features)\n",
    "print('F1:',f1_score(test_target , predicted_valid))\n",
    "probabilities_valid = model.predict_proba(test_features)[:, 1]\n",
    "print(\"ROC_AUC\", roc_auc_score(test_target, probabilities_valid))"
   ]
  }
 ],
 "metadata": {
  "ExecuteTimeLog": [
   {
    "duration": 548,
    "start_time": "2022-03-08T19:57:05.408Z"
   },
   {
    "duration": 29,
    "start_time": "2022-03-08T19:57:22.143Z"
   },
   {
    "duration": 9,
    "start_time": "2022-03-08T19:57:29.199Z"
   },
   {
    "duration": 8,
    "start_time": "2022-03-08T19:57:41.414Z"
   },
   {
    "duration": 14,
    "start_time": "2022-03-08T19:57:51.214Z"
   },
   {
    "duration": 212,
    "start_time": "2022-03-13T06:46:59.113Z"
   },
   {
    "duration": 574,
    "start_time": "2022-03-13T06:47:02.063Z"
   },
   {
    "duration": 26,
    "start_time": "2022-03-13T06:47:03.505Z"
   },
   {
    "duration": 14,
    "start_time": "2022-03-13T06:47:06.739Z"
   },
   {
    "duration": 6,
    "start_time": "2022-03-13T06:47:42.134Z"
   },
   {
    "duration": 232,
    "start_time": "2022-03-13T06:48:20.323Z"
   },
   {
    "duration": 8,
    "start_time": "2022-03-13T09:10:19.155Z"
   },
   {
    "duration": 206,
    "start_time": "2022-03-13T09:10:57.123Z"
   },
   {
    "duration": 483,
    "start_time": "2022-03-13T09:16:27.827Z"
   },
   {
    "duration": 247,
    "start_time": "2022-03-13T09:16:55.956Z"
   },
   {
    "duration": 218,
    "start_time": "2022-03-13T09:17:11.627Z"
   },
   {
    "duration": 8,
    "start_time": "2022-03-13T09:17:34.254Z"
   },
   {
    "duration": 11,
    "start_time": "2022-03-13T09:20:45.000Z"
   },
   {
    "duration": 222,
    "start_time": "2022-03-13T09:27:22.683Z"
   },
   {
    "duration": 8,
    "start_time": "2022-03-13T09:27:45.741Z"
   },
   {
    "duration": 7,
    "start_time": "2022-03-13T09:28:38.535Z"
   },
   {
    "duration": 6,
    "start_time": "2022-03-13T09:28:50.298Z"
   },
   {
    "duration": 8,
    "start_time": "2022-03-13T09:29:03.790Z"
   },
   {
    "duration": 4,
    "start_time": "2022-03-13T09:29:19.433Z"
   },
   {
    "duration": 9,
    "start_time": "2022-03-13T09:29:20.425Z"
   },
   {
    "duration": 7,
    "start_time": "2022-03-13T09:29:27.384Z"
   },
   {
    "duration": 4,
    "start_time": "2022-03-13T09:29:34.670Z"
   },
   {
    "duration": 63,
    "start_time": "2022-03-13T09:30:03.826Z"
   },
   {
    "duration": 5,
    "start_time": "2022-03-13T09:30:34.508Z"
   },
   {
    "duration": 7,
    "start_time": "2022-03-13T09:30:40.365Z"
   },
   {
    "duration": 183,
    "start_time": "2022-03-13T09:30:46.988Z"
   },
   {
    "duration": 17,
    "start_time": "2022-03-13T09:30:51.051Z"
   },
   {
    "duration": 1756,
    "start_time": "2022-03-20T20:07:03.256Z"
   },
   {
    "duration": 47,
    "start_time": "2022-03-20T20:07:08.761Z"
   },
   {
    "duration": 14,
    "start_time": "2022-03-20T20:07:09.091Z"
   },
   {
    "duration": 20,
    "start_time": "2022-03-20T20:07:09.737Z"
   },
   {
    "duration": 15,
    "start_time": "2022-03-20T20:07:18.471Z"
   },
   {
    "duration": 8,
    "start_time": "2022-03-20T20:07:26.592Z"
   },
   {
    "duration": 922,
    "start_time": "2022-03-20T20:14:36.410Z"
   },
   {
    "duration": 217,
    "start_time": "2022-03-20T20:15:14.370Z"
   },
   {
    "duration": 307,
    "start_time": "2022-03-20T20:19:28.936Z"
   },
   {
    "duration": 252,
    "start_time": "2022-03-20T20:19:35.395Z"
   },
   {
    "duration": 25,
    "start_time": "2022-03-20T20:19:49.015Z"
   },
   {
    "duration": 42,
    "start_time": "2022-03-20T20:20:14.907Z"
   },
   {
    "duration": 1563,
    "start_time": "2022-03-20T20:23:45.485Z"
   },
   {
    "duration": 39,
    "start_time": "2022-03-20T20:23:47.122Z"
   },
   {
    "duration": 13,
    "start_time": "2022-03-20T20:23:48.216Z"
   },
   {
    "duration": 19,
    "start_time": "2022-03-20T20:23:48.607Z"
   },
   {
    "duration": 22,
    "start_time": "2022-03-20T20:23:50.090Z"
   },
   {
    "duration": 9,
    "start_time": "2022-03-20T20:23:50.566Z"
   },
   {
    "duration": 298,
    "start_time": "2022-03-20T20:24:15.798Z"
   },
   {
    "duration": 12,
    "start_time": "2022-03-20T20:24:20.518Z"
   },
   {
    "duration": 211,
    "start_time": "2022-03-20T20:24:27.202Z"
   },
   {
    "duration": 423,
    "start_time": "2022-03-20T20:24:56.435Z"
   },
   {
    "duration": 302,
    "start_time": "2022-03-20T20:25:25.241Z"
   },
   {
    "duration": 250,
    "start_time": "2022-03-20T20:25:27.929Z"
   },
   {
    "duration": 161,
    "start_time": "2022-03-20T20:25:50.461Z"
   },
   {
    "duration": 26,
    "start_time": "2022-03-20T20:25:56.926Z"
   },
   {
    "duration": 8,
    "start_time": "2022-03-20T20:26:18.212Z"
   },
   {
    "duration": 10,
    "start_time": "2022-03-20T20:26:26.297Z"
   },
   {
    "duration": 1586,
    "start_time": "2022-03-20T20:26:44.464Z"
   },
   {
    "duration": 39,
    "start_time": "2022-03-20T20:26:46.053Z"
   },
   {
    "duration": 12,
    "start_time": "2022-03-20T20:26:46.095Z"
   },
   {
    "duration": 19,
    "start_time": "2022-03-20T20:26:46.110Z"
   },
   {
    "duration": 23,
    "start_time": "2022-03-20T20:26:47.703Z"
   },
   {
    "duration": 9,
    "start_time": "2022-03-20T20:26:48.285Z"
   },
   {
    "duration": 302,
    "start_time": "2022-03-20T20:26:49.542Z"
   },
   {
    "duration": 334,
    "start_time": "2022-03-20T20:26:51.478Z"
   },
   {
    "duration": 11,
    "start_time": "2022-03-20T20:26:54.157Z"
   },
   {
    "duration": 4,
    "start_time": "2022-03-20T20:28:53.456Z"
   },
   {
    "duration": 10,
    "start_time": "2022-03-20T20:31:02.603Z"
   },
   {
    "duration": 162,
    "start_time": "2022-03-20T20:34:08.118Z"
   },
   {
    "duration": 1683,
    "start_time": "2022-03-20T20:34:18.126Z"
   },
   {
    "duration": 37,
    "start_time": "2022-03-20T20:34:19.812Z"
   },
   {
    "duration": 14,
    "start_time": "2022-03-20T20:34:19.852Z"
   },
   {
    "duration": 19,
    "start_time": "2022-03-20T20:34:20.118Z"
   },
   {
    "duration": 148,
    "start_time": "2022-03-20T20:34:26.721Z"
   },
   {
    "duration": 35,
    "start_time": "2022-03-20T20:34:44.952Z"
   },
   {
    "duration": 6,
    "start_time": "2022-03-20T20:34:57.310Z"
   },
   {
    "duration": 300,
    "start_time": "2022-03-20T20:34:59.560Z"
   },
   {
    "duration": 281,
    "start_time": "2022-03-20T20:35:01.981Z"
   },
   {
    "duration": 10,
    "start_time": "2022-03-20T20:35:03.826Z"
   },
   {
    "duration": 35,
    "start_time": "2022-03-20T20:36:39.819Z"
   },
   {
    "duration": 36,
    "start_time": "2022-03-20T20:36:46.240Z"
   },
   {
    "duration": 25,
    "start_time": "2022-03-20T20:37:16.545Z"
   },
   {
    "duration": 29,
    "start_time": "2022-03-20T20:38:47.441Z"
   },
   {
    "duration": 1187,
    "start_time": "2022-03-20T20:40:10.866Z"
   },
   {
    "duration": 7,
    "start_time": "2022-03-20T20:41:44.791Z"
   },
   {
    "duration": 4,
    "start_time": "2022-03-20T20:43:14.642Z"
   },
   {
    "duration": 10,
    "start_time": "2022-03-20T20:43:57.750Z"
   },
   {
    "duration": 4,
    "start_time": "2022-03-20T20:45:17.125Z"
   },
   {
    "duration": 12,
    "start_time": "2022-03-20T20:45:23.575Z"
   },
   {
    "duration": 9,
    "start_time": "2022-03-20T20:46:05.348Z"
   },
   {
    "duration": 9,
    "start_time": "2022-03-20T20:46:58.313Z"
   },
   {
    "duration": 8,
    "start_time": "2022-03-20T20:47:12.907Z"
   },
   {
    "duration": 9,
    "start_time": "2022-03-20T20:47:16.606Z"
   },
   {
    "duration": 9,
    "start_time": "2022-03-20T20:47:23.368Z"
   },
   {
    "duration": 10,
    "start_time": "2022-03-20T20:48:13.595Z"
   },
   {
    "duration": 8,
    "start_time": "2022-03-20T20:48:13.983Z"
   },
   {
    "duration": 4,
    "start_time": "2022-03-20T20:49:43.983Z"
   },
   {
    "duration": 9,
    "start_time": "2022-03-20T20:49:56.161Z"
   },
   {
    "duration": 6,
    "start_time": "2022-03-20T20:52:17.065Z"
   },
   {
    "duration": 35,
    "start_time": "2022-03-20T20:52:21.575Z"
   },
   {
    "duration": 1717,
    "start_time": "2022-03-20T20:52:27.882Z"
   },
   {
    "duration": 39,
    "start_time": "2022-03-20T20:52:29.602Z"
   },
   {
    "duration": 12,
    "start_time": "2022-03-20T20:52:29.643Z"
   },
   {
    "duration": 46,
    "start_time": "2022-03-20T20:52:29.658Z"
   },
   {
    "duration": 22,
    "start_time": "2022-03-20T20:52:30.526Z"
   },
   {
    "duration": 10,
    "start_time": "2022-03-20T20:52:30.997Z"
   },
   {
    "duration": 6,
    "start_time": "2022-03-20T20:52:31.670Z"
   },
   {
    "duration": 319,
    "start_time": "2022-03-20T20:52:32.938Z"
   },
   {
    "duration": 306,
    "start_time": "2022-03-20T20:52:34.237Z"
   },
   {
    "duration": 9,
    "start_time": "2022-03-20T20:52:35.936Z"
   },
   {
    "duration": 31,
    "start_time": "2022-03-20T20:52:40.244Z"
   },
   {
    "duration": 26,
    "start_time": "2022-03-20T20:52:41.066Z"
   },
   {
    "duration": 1556,
    "start_time": "2022-03-20T20:52:43.942Z"
   },
   {
    "duration": 7,
    "start_time": "2022-03-20T20:52:45.501Z"
   },
   {
    "duration": 9,
    "start_time": "2022-03-20T20:52:48.232Z"
   },
   {
    "duration": 8,
    "start_time": "2022-03-20T20:52:49.078Z"
   },
   {
    "duration": 8,
    "start_time": "2022-03-20T20:52:49.943Z"
   },
   {
    "duration": 8,
    "start_time": "2022-03-20T20:52:50.738Z"
   },
   {
    "duration": 9,
    "start_time": "2022-03-20T20:52:59.647Z"
   },
   {
    "duration": 863,
    "start_time": "2022-03-20T20:54:39.485Z"
   },
   {
    "duration": 893,
    "start_time": "2022-03-20T20:54:48.656Z"
   },
   {
    "duration": 1577,
    "start_time": "2022-03-20T20:56:41.803Z"
   },
   {
    "duration": 21,
    "start_time": "2022-03-20T21:00:20.647Z"
   },
   {
    "duration": 13697,
    "start_time": "2022-03-20T21:00:27.153Z"
   },
   {
    "duration": 1856,
    "start_time": "2022-03-21T07:41:46.839Z"
   },
   {
    "duration": 37,
    "start_time": "2022-03-21T07:41:49.670Z"
   },
   {
    "duration": 14,
    "start_time": "2022-03-21T07:41:50.017Z"
   },
   {
    "duration": 28,
    "start_time": "2022-03-21T07:41:50.478Z"
   },
   {
    "duration": 7,
    "start_time": "2022-03-21T07:41:55.038Z"
   },
   {
    "duration": 285,
    "start_time": "2022-03-21T07:41:58.590Z"
   },
   {
    "duration": 293,
    "start_time": "2022-03-21T07:42:00.707Z"
   },
   {
    "duration": 12,
    "start_time": "2022-03-21T07:42:03.075Z"
   },
   {
    "duration": 43,
    "start_time": "2022-03-21T07:42:06.958Z"
   },
   {
    "duration": 41,
    "start_time": "2022-03-21T07:42:07.652Z"
   },
   {
    "duration": 1371,
    "start_time": "2022-03-21T07:42:12.069Z"
   },
   {
    "duration": 15,
    "start_time": "2022-03-21T07:42:17.489Z"
   },
   {
    "duration": 11,
    "start_time": "2022-03-21T07:42:20.490Z"
   },
   {
    "duration": 356,
    "start_time": "2022-03-21T07:42:26.804Z"
   },
   {
    "duration": 6,
    "start_time": "2022-03-21T07:42:42.243Z"
   },
   {
    "duration": 685,
    "start_time": "2022-03-21T07:42:48.808Z"
   },
   {
    "duration": 2301,
    "start_time": "2022-03-21T07:43:19.220Z"
   },
   {
    "duration": 2651,
    "start_time": "2022-03-21T07:43:58.055Z"
   },
   {
    "duration": 2535,
    "start_time": "2022-03-21T07:44:12.106Z"
   },
   {
    "duration": 294,
    "start_time": "2022-03-21T07:47:54.363Z"
   },
   {
    "duration": 371,
    "start_time": "2022-03-21T07:48:06.860Z"
   },
   {
    "duration": 6,
    "start_time": "2022-03-21T07:48:20.101Z"
   },
   {
    "duration": 5,
    "start_time": "2022-03-21T07:48:35.174Z"
   },
   {
    "duration": 6,
    "start_time": "2022-03-21T07:48:48.244Z"
   },
   {
    "duration": 1994,
    "start_time": "2022-03-21T07:49:27.993Z"
   },
   {
    "duration": 1515,
    "start_time": "2022-03-21T07:49:44.941Z"
   },
   {
    "duration": 1348,
    "start_time": "2022-03-21T07:49:50.403Z"
   },
   {
    "duration": 2180,
    "start_time": "2022-03-21T07:49:55.472Z"
   },
   {
    "duration": 780,
    "start_time": "2022-03-21T07:52:02.209Z"
   },
   {
    "duration": 1131,
    "start_time": "2022-03-21T07:52:04.518Z"
   },
   {
    "duration": 14530,
    "start_time": "2022-03-21T07:52:07.038Z"
   },
   {
    "duration": 2256,
    "start_time": "2022-03-21T07:52:28.148Z"
   },
   {
    "duration": 384,
    "start_time": "2022-03-21T07:52:35.803Z"
   },
   {
    "duration": 1643,
    "start_time": "2022-03-21T07:53:33.546Z"
   },
   {
    "duration": 32,
    "start_time": "2022-03-21T07:53:35.193Z"
   },
   {
    "duration": 9,
    "start_time": "2022-03-21T07:53:38.384Z"
   },
   {
    "duration": 287,
    "start_time": "2022-03-21T07:53:39.759Z"
   },
   {
    "duration": 313,
    "start_time": "2022-03-21T07:53:41.736Z"
   },
   {
    "duration": 9,
    "start_time": "2022-03-21T07:53:46.372Z"
   },
   {
    "duration": 31,
    "start_time": "2022-03-21T07:53:48.942Z"
   },
   {
    "duration": 37,
    "start_time": "2022-03-21T07:53:49.729Z"
   },
   {
    "duration": 1256,
    "start_time": "2022-03-21T07:53:52.765Z"
   },
   {
    "duration": 7,
    "start_time": "2022-03-21T07:53:55.812Z"
   },
   {
    "duration": 9,
    "start_time": "2022-03-21T07:53:59.044Z"
   },
   {
    "duration": 8,
    "start_time": "2022-03-21T07:54:00.174Z"
   },
   {
    "duration": 10,
    "start_time": "2022-03-21T07:54:00.878Z"
   },
   {
    "duration": 10,
    "start_time": "2022-03-21T07:54:01.749Z"
   },
   {
    "duration": 11,
    "start_time": "2022-03-21T07:54:04.866Z"
   },
   {
    "duration": 1035,
    "start_time": "2022-03-21T07:54:08.055Z"
   },
   {
    "duration": 14377,
    "start_time": "2022-03-21T07:54:20.700Z"
   },
   {
    "duration": 671,
    "start_time": "2022-03-21T07:54:36.784Z"
   },
   {
    "duration": 6,
    "start_time": "2022-03-21T07:54:38.172Z"
   },
   {
    "duration": 2201,
    "start_time": "2022-03-21T07:54:40.336Z"
   },
   {
    "duration": 270,
    "start_time": "2022-03-21T07:54:47.981Z"
   },
   {
    "duration": 4,
    "start_time": "2022-03-21T07:54:48.977Z"
   },
   {
    "duration": 374,
    "start_time": "2022-03-21T07:54:49.812Z"
   },
   {
    "duration": 1606,
    "start_time": "2022-03-21T08:08:38.428Z"
   },
   {
    "duration": 143,
    "start_time": "2022-03-21T08:08:58.293Z"
   },
   {
    "duration": 1618,
    "start_time": "2022-03-21T08:09:13.741Z"
   },
   {
    "duration": 38,
    "start_time": "2022-03-21T08:09:15.361Z"
   },
   {
    "duration": 20,
    "start_time": "2022-03-21T08:09:15.402Z"
   },
   {
    "duration": 39,
    "start_time": "2022-03-21T08:09:15.424Z"
   },
   {
    "duration": 21,
    "start_time": "2022-03-21T08:09:15.659Z"
   },
   {
    "duration": 14,
    "start_time": "2022-03-21T08:09:16.689Z"
   },
   {
    "duration": 7,
    "start_time": "2022-03-21T08:09:19.138Z"
   },
   {
    "duration": 298,
    "start_time": "2022-03-21T08:09:19.854Z"
   },
   {
    "duration": 292,
    "start_time": "2022-03-21T08:09:22.358Z"
   },
   {
    "duration": 9,
    "start_time": "2022-03-21T08:09:24.256Z"
   },
   {
    "duration": 29,
    "start_time": "2022-03-21T08:09:26.827Z"
   },
   {
    "duration": 684,
    "start_time": "2022-03-21T08:09:41.825Z"
   },
   {
    "duration": 6,
    "start_time": "2022-03-21T08:09:44.355Z"
   },
   {
    "duration": 30458,
    "start_time": "2022-03-21T08:09:50.363Z"
   },
   {
    "duration": 71587,
    "start_time": "2022-03-21T08:10:22.511Z"
   },
   {
    "duration": 6,
    "start_time": "2022-03-21T08:11:38.551Z"
   },
   {
    "duration": 71883,
    "start_time": "2022-03-21T08:12:58.970Z"
   },
   {
    "duration": 6,
    "start_time": "2022-03-21T08:14:25.629Z"
   },
   {
    "duration": 6,
    "start_time": "2022-03-21T08:14:28.118Z"
   },
   {
    "duration": 13,
    "start_time": "2022-03-21T08:14:58.557Z"
   },
   {
    "duration": 1797,
    "start_time": "2022-03-21T08:15:09.234Z"
   },
   {
    "duration": 6,
    "start_time": "2022-03-21T08:17:32.566Z"
   },
   {
    "duration": 7,
    "start_time": "2022-03-21T08:17:33.285Z"
   },
   {
    "duration": 2368,
    "start_time": "2022-03-21T08:17:51.998Z"
   },
   {
    "duration": 2057,
    "start_time": "2022-03-21T08:18:01.699Z"
   },
   {
    "duration": 4284,
    "start_time": "2022-03-21T08:23:38.728Z"
   },
   {
    "duration": 215127,
    "start_time": "2022-03-21T08:23:45.994Z"
   },
   {
    "duration": 6,
    "start_time": "2022-03-21T08:27:54.130Z"
   },
   {
    "duration": 777,
    "start_time": "2022-03-21T08:28:19.866Z"
   },
   {
    "duration": 5267,
    "start_time": "2022-03-21T08:31:05.848Z"
   },
   {
    "duration": 27539,
    "start_time": "2022-03-21T08:39:17.065Z"
   },
   {
    "duration": 7,
    "start_time": "2022-03-21T08:39:54.578Z"
   },
   {
    "duration": 5,
    "start_time": "2022-03-21T08:39:57.241Z"
   },
   {
    "duration": 782,
    "start_time": "2022-03-21T08:39:59.812Z"
   },
   {
    "duration": 51957,
    "start_time": "2022-03-21T08:40:43.566Z"
   },
   {
    "duration": 7,
    "start_time": "2022-03-21T08:42:45.494Z"
   },
   {
    "duration": 744,
    "start_time": "2022-03-21T08:43:02.296Z"
   },
   {
    "duration": 2034,
    "start_time": "2022-03-21T08:44:26.054Z"
   },
   {
    "duration": 1994,
    "start_time": "2022-03-21T08:48:57.821Z"
   },
   {
    "duration": 34,
    "start_time": "2022-03-21T08:49:00.314Z"
   },
   {
    "duration": 14,
    "start_time": "2022-03-21T08:49:00.834Z"
   },
   {
    "duration": 19,
    "start_time": "2022-03-21T08:49:01.829Z"
   },
   {
    "duration": 25,
    "start_time": "2022-03-21T08:49:05.397Z"
   },
   {
    "duration": 6,
    "start_time": "2022-03-21T08:49:08.076Z"
   },
   {
    "duration": 17,
    "start_time": "2022-03-21T08:49:09.666Z"
   },
   {
    "duration": 12,
    "start_time": "2022-03-21T08:49:10.899Z"
   },
   {
    "duration": 9,
    "start_time": "2022-03-21T08:49:13.844Z"
   },
   {
    "duration": 38,
    "start_time": "2022-03-21T08:49:16.167Z"
   },
   {
    "duration": 18,
    "start_time": "2022-03-21T08:49:18.396Z"
   },
   {
    "duration": 68,
    "start_time": "2022-03-21T08:49:29.079Z"
   },
   {
    "duration": 6,
    "start_time": "2022-03-21T08:49:30.458Z"
   },
   {
    "duration": 10,
    "start_time": "2022-03-21T08:49:31.954Z"
   },
   {
    "duration": 8,
    "start_time": "2022-03-21T08:49:33.119Z"
   },
   {
    "duration": 9,
    "start_time": "2022-03-21T08:49:33.696Z"
   },
   {
    "duration": 9,
    "start_time": "2022-03-21T08:49:34.271Z"
   },
   {
    "duration": 9,
    "start_time": "2022-03-21T08:49:37.023Z"
   },
   {
    "duration": 79,
    "start_time": "2022-03-21T08:49:39.312Z"
   },
   {
    "duration": 62,
    "start_time": "2022-03-21T08:49:42.042Z"
   },
   {
    "duration": 1240,
    "start_time": "2022-03-21T08:49:44.316Z"
   },
   {
    "duration": 35,
    "start_time": "2022-03-21T08:50:02.616Z"
   },
   {
    "duration": 7,
    "start_time": "2022-03-21T08:50:03.505Z"
   },
   {
    "duration": 131,
    "start_time": "2022-03-21T08:50:04.850Z"
   },
   {
    "duration": 3060,
    "start_time": "2022-03-21T08:50:42.007Z"
   },
   {
    "duration": 16,
    "start_time": "2022-03-21T08:51:20.706Z"
   },
   {
    "duration": 4,
    "start_time": "2022-03-21T08:51:22.435Z"
   },
   {
    "duration": 41,
    "start_time": "2022-03-21T08:51:24.273Z"
   },
   {
    "duration": 35,
    "start_time": "2022-03-21T08:51:53.052Z"
   },
   {
    "duration": 675,
    "start_time": "2022-03-21T08:51:53.947Z"
   },
   {
    "duration": 874,
    "start_time": "2022-03-21T08:53:00.908Z"
   },
   {
    "duration": 6,
    "start_time": "2022-03-21T08:53:03.978Z"
   },
   {
    "duration": 6,
    "start_time": "2022-03-21T08:53:04.511Z"
   },
   {
    "duration": 80,
    "start_time": "2022-03-21T08:53:10.952Z"
   },
   {
    "duration": 16999,
    "start_time": "2022-03-21T08:53:21.738Z"
   },
   {
    "duration": 223,
    "start_time": "2022-03-21T08:53:38.740Z"
   },
   {
    "duration": 214,
    "start_time": "2022-03-21T08:53:44.597Z"
   },
   {
    "duration": 777,
    "start_time": "2022-03-21T08:53:50.504Z"
   },
   {
    "duration": 168,
    "start_time": "2022-03-21T08:53:54.922Z"
   },
   {
    "duration": 4,
    "start_time": "2022-03-21T08:54:07.669Z"
   },
   {
    "duration": 905,
    "start_time": "2022-03-21T08:55:57.695Z"
   },
   {
    "duration": 10,
    "start_time": "2022-03-21T08:56:55.429Z"
   },
   {
    "duration": 2910,
    "start_time": "2022-03-21T08:57:16.623Z"
   },
   {
    "duration": 1650,
    "start_time": "2022-03-21T08:58:08.997Z"
   },
   {
    "duration": 30,
    "start_time": "2022-03-21T08:58:11.338Z"
   },
   {
    "duration": 11,
    "start_time": "2022-03-21T08:58:11.949Z"
   },
   {
    "duration": 6,
    "start_time": "2022-03-21T08:59:00.665Z"
   },
   {
    "duration": 16,
    "start_time": "2022-03-21T08:59:03.665Z"
   },
   {
    "duration": 13,
    "start_time": "2022-03-21T08:59:05.119Z"
   },
   {
    "duration": 12,
    "start_time": "2022-03-21T08:59:50.617Z"
   },
   {
    "duration": 8,
    "start_time": "2022-03-21T08:59:55.481Z"
   },
   {
    "duration": 30,
    "start_time": "2022-03-21T08:59:57.227Z"
   },
   {
    "duration": 19,
    "start_time": "2022-03-21T08:59:57.850Z"
   },
   {
    "duration": 703,
    "start_time": "2022-03-21T09:00:00.140Z"
   },
   {
    "duration": 57,
    "start_time": "2022-03-21T09:00:06.287Z"
   },
   {
    "duration": 7,
    "start_time": "2022-03-21T09:00:07.590Z"
   },
   {
    "duration": 9,
    "start_time": "2022-03-21T09:00:10.771Z"
   },
   {
    "duration": 9,
    "start_time": "2022-03-21T09:00:12.662Z"
   },
   {
    "duration": 9,
    "start_time": "2022-03-21T09:00:13.148Z"
   },
   {
    "duration": 9,
    "start_time": "2022-03-21T09:00:13.774Z"
   },
   {
    "duration": 9,
    "start_time": "2022-03-21T09:00:15.860Z"
   },
   {
    "duration": 120,
    "start_time": "2022-03-21T09:00:19.063Z"
   },
   {
    "duration": 63,
    "start_time": "2022-03-21T09:00:20.165Z"
   },
   {
    "duration": 1167,
    "start_time": "2022-03-21T09:00:20.955Z"
   },
   {
    "duration": 24,
    "start_time": "2022-03-21T09:00:22.125Z"
   },
   {
    "duration": 6,
    "start_time": "2022-03-21T09:00:24.372Z"
   },
   {
    "duration": 112,
    "start_time": "2022-03-21T09:00:25.755Z"
   },
   {
    "duration": 2658,
    "start_time": "2022-03-21T09:00:27.095Z"
   },
   {
    "duration": 18,
    "start_time": "2022-03-21T09:00:31.923Z"
   },
   {
    "duration": 4,
    "start_time": "2022-03-21T09:00:32.815Z"
   },
   {
    "duration": 35,
    "start_time": "2022-03-21T09:00:33.626Z"
   },
   {
    "duration": 624,
    "start_time": "2022-03-21T09:00:34.818Z"
   },
   {
    "duration": 697,
    "start_time": "2022-03-21T09:00:38.988Z"
   },
   {
    "duration": 5,
    "start_time": "2022-03-21T09:00:39.688Z"
   },
   {
    "duration": 10,
    "start_time": "2022-03-21T09:00:39.696Z"
   },
   {
    "duration": 70,
    "start_time": "2022-03-21T09:00:39.788Z"
   },
   {
    "duration": 45,
    "start_time": "2022-03-22T06:40:04.984Z"
   },
   {
    "duration": 2862,
    "start_time": "2022-03-22T06:40:16.972Z"
   },
   {
    "duration": 30,
    "start_time": "2022-03-22T06:40:21.993Z"
   },
   {
    "duration": 21,
    "start_time": "2022-03-22T06:40:27.959Z"
   },
   {
    "duration": 4,
    "start_time": "2022-03-22T06:40:31.998Z"
   },
   {
    "duration": 11,
    "start_time": "2022-03-22T06:40:33.576Z"
   },
   {
    "duration": 9,
    "start_time": "2022-03-22T06:40:55.381Z"
   },
   {
    "duration": 6,
    "start_time": "2022-03-22T06:41:00.057Z"
   },
   {
    "duration": 53,
    "start_time": "2022-03-22T06:45:26.940Z"
   },
   {
    "duration": 42,
    "start_time": "2022-03-22T06:45:31.674Z"
   },
   {
    "duration": 5,
    "start_time": "2022-03-22T06:45:34.787Z"
   },
   {
    "duration": 6,
    "start_time": "2022-03-22T06:45:35.881Z"
   },
   {
    "duration": 6,
    "start_time": "2022-03-22T06:45:36.755Z"
   },
   {
    "duration": 5,
    "start_time": "2022-03-22T06:45:37.187Z"
   },
   {
    "duration": 5,
    "start_time": "2022-03-22T06:45:38.561Z"
   },
   {
    "duration": 5,
    "start_time": "2022-03-22T06:45:39.586Z"
   },
   {
    "duration": 5,
    "start_time": "2022-03-22T06:45:40.678Z"
   },
   {
    "duration": 8,
    "start_time": "2022-03-22T06:49:16.939Z"
   },
   {
    "duration": 9,
    "start_time": "2022-03-22T06:50:52.211Z"
   },
   {
    "duration": 7,
    "start_time": "2022-03-22T06:51:37.154Z"
   },
   {
    "duration": 114,
    "start_time": "2022-03-22T06:58:35.182Z"
   },
   {
    "duration": 187,
    "start_time": "2022-03-22T06:58:49.459Z"
   },
   {
    "duration": 495,
    "start_time": "2022-03-22T06:58:55.236Z"
   },
   {
    "duration": 183,
    "start_time": "2022-03-22T06:58:58.957Z"
   },
   {
    "duration": 32,
    "start_time": "2022-03-22T07:01:58.658Z"
   },
   {
    "duration": 8,
    "start_time": "2022-03-22T07:13:41.274Z"
   },
   {
    "duration": 23,
    "start_time": "2022-03-22T07:13:44.226Z"
   },
   {
    "duration": 4,
    "start_time": "2022-03-22T07:13:44.941Z"
   },
   {
    "duration": 658,
    "start_time": "2022-03-22T07:13:46.056Z"
   },
   {
    "duration": 105,
    "start_time": "2022-03-22T07:14:09.799Z"
   },
   {
    "duration": 11,
    "start_time": "2022-03-22T07:43:24.135Z"
   },
   {
    "duration": 76,
    "start_time": "2022-03-22T07:43:29.756Z"
   },
   {
    "duration": 5,
    "start_time": "2022-03-22T07:56:28.405Z"
   },
   {
    "duration": 19,
    "start_time": "2022-03-22T07:59:25.560Z"
   },
   {
    "duration": 4,
    "start_time": "2022-03-22T08:01:49.175Z"
   },
   {
    "duration": 462,
    "start_time": "2022-03-22T08:14:37.193Z"
   },
   {
    "duration": 4,
    "start_time": "2022-03-22T08:14:41.945Z"
   },
   {
    "duration": 4,
    "start_time": "2022-03-22T08:14:49.728Z"
   },
   {
    "duration": 441,
    "start_time": "2022-03-22T08:14:51.349Z"
   },
   {
    "duration": 4,
    "start_time": "2022-03-22T08:14:53.032Z"
   },
   {
    "duration": 4,
    "start_time": "2022-03-22T08:14:53.638Z"
   },
   {
    "duration": 45,
    "start_time": "2022-03-22T08:14:58.666Z"
   },
   {
    "duration": 10351,
    "start_time": "2022-03-22T08:15:08.184Z"
   },
   {
    "duration": 4,
    "start_time": "2022-03-22T08:15:30.594Z"
   },
   {
    "duration": 1566,
    "start_time": "2022-03-22T08:15:37.563Z"
   },
   {
    "duration": 1504,
    "start_time": "2022-03-22T08:16:15.994Z"
   },
   {
    "duration": 100,
    "start_time": "2022-03-22T08:20:24.667Z"
   },
   {
    "duration": 306,
    "start_time": "2022-03-22T08:21:10.034Z"
   },
   {
    "duration": 108,
    "start_time": "2022-03-22T08:31:49.419Z"
   },
   {
    "duration": 21108,
    "start_time": "2022-03-22T08:47:26.977Z"
   },
   {
    "duration": 523,
    "start_time": "2022-03-22T08:48:04.676Z"
   },
   {
    "duration": 22217,
    "start_time": "2022-03-22T08:48:18.475Z"
   },
   {
    "duration": 509,
    "start_time": "2022-03-22T08:48:56.816Z"
   },
   {
    "duration": 722,
    "start_time": "2022-03-22T08:49:23.219Z"
   },
   {
    "duration": 116,
    "start_time": "2022-03-22T08:51:09.172Z"
   },
   {
    "duration": 788,
    "start_time": "2022-03-22T08:54:34.148Z"
   },
   {
    "duration": 1413,
    "start_time": "2022-03-23T07:00:54.654Z"
   },
   {
    "duration": 31,
    "start_time": "2022-03-23T07:00:56.070Z"
   },
   {
    "duration": 5,
    "start_time": "2022-03-23T07:01:00.268Z"
   },
   {
    "duration": 11,
    "start_time": "2022-03-23T07:01:02.354Z"
   },
   {
    "duration": 12,
    "start_time": "2022-03-23T07:01:26.275Z"
   },
   {
    "duration": 8,
    "start_time": "2022-03-23T07:02:42.205Z"
   },
   {
    "duration": 14,
    "start_time": "2022-03-23T07:03:32.829Z"
   },
   {
    "duration": 105,
    "start_time": "2022-03-23T07:03:38.649Z"
   },
   {
    "duration": 13,
    "start_time": "2022-03-23T07:03:42.790Z"
   },
   {
    "duration": 36,
    "start_time": "2022-03-23T07:05:12.136Z"
   },
   {
    "duration": 9,
    "start_time": "2022-03-23T07:05:15.420Z"
   },
   {
    "duration": 1296,
    "start_time": "2022-03-23T07:05:41.996Z"
   },
   {
    "duration": 33,
    "start_time": "2022-03-23T07:05:44.140Z"
   },
   {
    "duration": 5,
    "start_time": "2022-03-23T07:05:47.415Z"
   },
   {
    "duration": 12,
    "start_time": "2022-03-23T07:05:48.757Z"
   },
   {
    "duration": 12,
    "start_time": "2022-03-23T07:05:54.513Z"
   },
   {
    "duration": 8,
    "start_time": "2022-03-23T07:05:57.444Z"
   },
   {
    "duration": 15,
    "start_time": "2022-03-23T07:06:15.044Z"
   },
   {
    "duration": 6,
    "start_time": "2022-03-23T07:08:02.236Z"
   },
   {
    "duration": 4,
    "start_time": "2022-03-23T07:08:06.046Z"
   },
   {
    "duration": 1237,
    "start_time": "2022-03-23T07:08:15.542Z"
   },
   {
    "duration": 30,
    "start_time": "2022-03-23T07:08:17.943Z"
   },
   {
    "duration": 4,
    "start_time": "2022-03-23T07:08:22.863Z"
   },
   {
    "duration": 12,
    "start_time": "2022-03-23T07:08:24.795Z"
   },
   {
    "duration": 6,
    "start_time": "2022-03-23T07:08:27.336Z"
   },
   {
    "duration": 13,
    "start_time": "2022-03-23T07:08:34.013Z"
   },
   {
    "duration": 14,
    "start_time": "2022-03-23T07:08:44.550Z"
   },
   {
    "duration": 32,
    "start_time": "2022-03-23T07:09:35.210Z"
   },
   {
    "duration": 20,
    "start_time": "2022-03-23T07:09:45.316Z"
   },
   {
    "duration": 1355,
    "start_time": "2022-03-23T07:10:19.397Z"
   },
   {
    "duration": 26,
    "start_time": "2022-03-23T07:10:21.008Z"
   },
   {
    "duration": 13,
    "start_time": "2022-03-23T07:10:24.427Z"
   },
   {
    "duration": 5,
    "start_time": "2022-03-23T07:10:26.291Z"
   },
   {
    "duration": 6,
    "start_time": "2022-03-23T07:10:27.453Z"
   },
   {
    "duration": 12,
    "start_time": "2022-03-23T07:10:29.519Z"
   },
   {
    "duration": 14,
    "start_time": "2022-03-23T07:10:50.267Z"
   },
   {
    "duration": 31,
    "start_time": "2022-03-23T07:10:56.082Z"
   },
   {
    "duration": 15,
    "start_time": "2022-03-23T07:10:58.850Z"
   },
   {
    "duration": 14,
    "start_time": "2022-03-23T07:11:13.129Z"
   },
   {
    "duration": 12,
    "start_time": "2022-03-23T07:11:18.354Z"
   },
   {
    "duration": 639,
    "start_time": "2022-03-23T07:11:28.113Z"
   },
   {
    "duration": 53,
    "start_time": "2022-03-23T07:13:27.375Z"
   },
   {
    "duration": 184,
    "start_time": "2022-03-23T07:13:29.926Z"
   },
   {
    "duration": 6,
    "start_time": "2022-03-23T07:13:42.267Z"
   },
   {
    "duration": 7,
    "start_time": "2022-03-23T07:13:46.912Z"
   },
   {
    "duration": 7,
    "start_time": "2022-03-23T07:13:53.761Z"
   },
   {
    "duration": 6,
    "start_time": "2022-03-23T07:13:55.405Z"
   },
   {
    "duration": 7,
    "start_time": "2022-03-23T07:13:57.225Z"
   },
   {
    "duration": 9,
    "start_time": "2022-03-23T07:14:17.707Z"
   },
   {
    "duration": 185,
    "start_time": "2022-03-23T07:15:40.991Z"
   },
   {
    "duration": 34,
    "start_time": "2022-03-23T07:16:45.221Z"
   },
   {
    "duration": 34,
    "start_time": "2022-03-23T07:18:25.742Z"
   },
   {
    "duration": 95,
    "start_time": "2022-03-23T07:18:50.814Z"
   },
   {
    "duration": 47,
    "start_time": "2022-03-23T07:19:16.420Z"
   },
   {
    "duration": 824,
    "start_time": "2022-03-23T07:19:54.015Z"
   },
   {
    "duration": 20,
    "start_time": "2022-03-23T07:20:14.156Z"
   },
   {
    "duration": 5,
    "start_time": "2022-03-23T07:20:15.727Z"
   },
   {
    "duration": 112,
    "start_time": "2022-03-23T07:20:17.662Z"
   },
   {
    "duration": 68,
    "start_time": "2022-03-23T07:21:14.067Z"
   },
   {
    "duration": 1532,
    "start_time": "2022-03-23T07:21:15.282Z"
   },
   {
    "duration": 14,
    "start_time": "2022-03-23T07:21:34.808Z"
   },
   {
    "duration": 4,
    "start_time": "2022-03-23T07:21:35.157Z"
   },
   {
    "duration": 122,
    "start_time": "2022-03-23T07:21:41.843Z"
   },
   {
    "duration": 27,
    "start_time": "2022-03-23T07:22:12.577Z"
   },
   {
    "duration": 451,
    "start_time": "2022-03-23T07:22:14.240Z"
   },
   {
    "duration": 118,
    "start_time": "2022-03-23T07:24:23.810Z"
   },
   {
    "duration": 24,
    "start_time": "2022-03-23T07:24:50.303Z"
   },
   {
    "duration": 22253,
    "start_time": "2022-03-23T07:25:35.886Z"
   },
   {
    "duration": 220,
    "start_time": "2022-03-23T07:26:08.423Z"
   },
   {
    "duration": 40,
    "start_time": "2022-03-23T07:26:48.862Z"
   },
   {
    "duration": 149,
    "start_time": "2022-03-23T07:28:19.491Z"
   },
   {
    "duration": 207,
    "start_time": "2022-03-23T07:29:39.811Z"
   },
   {
    "duration": 75,
    "start_time": "2022-03-24T06:29:49.763Z"
   },
   {
    "duration": 1487,
    "start_time": "2022-03-24T06:29:57.615Z"
   },
   {
    "duration": 29,
    "start_time": "2022-03-24T06:30:00.488Z"
   },
   {
    "duration": 10,
    "start_time": "2022-03-24T06:30:01.451Z"
   },
   {
    "duration": 5,
    "start_time": "2022-03-24T06:30:04.330Z"
   },
   {
    "duration": 8,
    "start_time": "2022-03-24T06:30:08.779Z"
   },
   {
    "duration": 15,
    "start_time": "2022-03-24T06:30:10.492Z"
   },
   {
    "duration": 14,
    "start_time": "2022-03-24T06:30:12.286Z"
   },
   {
    "duration": 29,
    "start_time": "2022-03-24T06:30:14.377Z"
   },
   {
    "duration": 14,
    "start_time": "2022-03-24T06:30:17.559Z"
   },
   {
    "duration": 51,
    "start_time": "2022-03-24T06:30:30.779Z"
   },
   {
    "duration": 3,
    "start_time": "2022-03-24T06:30:31.604Z"
   },
   {
    "duration": 588,
    "start_time": "2022-03-24T06:30:35.556Z"
   },
   {
    "duration": 21,
    "start_time": "2022-03-24T06:31:19.872Z"
   },
   {
    "duration": 21,
    "start_time": "2022-03-24T06:31:43.080Z"
   },
   {
    "duration": 185,
    "start_time": "2022-03-24T06:31:53.640Z"
   },
   {
    "duration": 33,
    "start_time": "2022-03-24T06:31:58.830Z"
   },
   {
    "duration": 185,
    "start_time": "2022-03-24T06:32:12.858Z"
   },
   {
    "duration": 172,
    "start_time": "2022-03-24T06:32:33.505Z"
   }
  ],
  "kernelspec": {
   "display_name": "Python 3 (ipykernel)",
   "language": "python",
   "name": "python3"
  },
  "language_info": {
   "codemirror_mode": {
    "name": "ipython",
    "version": 3
   },
   "file_extension": ".py",
   "mimetype": "text/x-python",
   "name": "python",
   "nbconvert_exporter": "python",
   "pygments_lexer": "ipython3",
   "version": "3.8.9"
  },
  "toc": {
   "base_numbering": 1,
   "nav_menu": {},
   "number_sections": true,
   "sideBar": true,
   "skip_h1_title": true,
   "title_cell": "Содержание",
   "title_sidebar": "Contents",
   "toc_cell": true,
   "toc_position": {},
   "toc_section_display": true,
   "toc_window_display": false
  }
 },
 "nbformat": 4,
 "nbformat_minor": 2
}
